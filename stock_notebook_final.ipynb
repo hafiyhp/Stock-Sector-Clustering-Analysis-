{
 "cells": [
  {
   "cell_type": "markdown",
   "id": "f300f775",
   "metadata": {},
   "source": [
    "# Predict which stock will provide greatest rate of return\n",
    "\n",
    "This data set has 750 rows and 16 columns.\n",
    "\n",
    "This dataset contains weekly data for the Dow Jones Industrial Index. It has been used in computational investing research.\n",
    "\n",
    "In this dataset, each record (row) is data for a week. Each record also has the percentage of return that stock has in the following week (percent_change_next_weeks_price). \n",
    "\n",
    "Ideally, this could be used to determine which stock will produce the greatest rate of return in the following week. \n",
    "\n",
    "Key metrics from each sector (primary, secondary and tertiary) to identify:\n",
    "\n",
    "1) Stock returns\n",
    "2) Volatility (standard deviation) - measures the degree of variation of a financial instrument's returns over time\n",
    "3) Range of Returns (min and max) - measure the difference between the minimum and maximum values of returns within a dataset.\n",
    "\n",
    "We must also determine or highlight each sector performance, creating a bar chart showing average returns of each sector.\n",
    "\n",
    "Key words: stock returns, volatility, range of returns, diversification, market risk, investors"
   ]
  },
  {
   "cell_type": "code",
   "execution_count": 56,
   "id": "734df62a",
   "metadata": {},
   "outputs": [],
   "source": [
    "import pandas as pd\n",
    "import numpy as np\n",
    "import matplotlib.pyplot as plt\n",
    "import seaborn as sns\n",
    "from sklearn.model_selection import train_test_split\n",
    "from sklearn.linear_model import LinearRegression # for regression\n",
    "from sklearn.cluster import KMeans # for clustering"
   ]
  },
  {
   "cell_type": "markdown",
   "id": "bb0fe60a",
   "metadata": {},
   "source": [
    "# Data Preprocessing"
   ]
  },
  {
   "cell_type": "code",
   "execution_count": 256,
   "id": "7abe6ac5",
   "metadata": {},
   "outputs": [],
   "source": [
    "# Define the data types for each column\n",
    "data_types = {\n",
    "    'quarter': int,\n",
    "    'stock': str,\n",
    "    'date': str,\n",
    "    'open': str,\n",
    "    'high': str,\n",
    "    'low': str,\n",
    "    'close': str,\n",
    "    'volume': int,\n",
    "    'percent_change_price': float,\n",
    "    'percent_change_volume_over_last_wk': float,\n",
    "    'previous_week_volume': int,\n",
    "    'next_weeks_open': str,\n",
    "    'next_weeks_close': str,\n",
    "    'percent_change_next_weeks_price': float,\n",
    "    'days_to_next_dividend': int,\n",
    "    'percent_return_next_dividend': float\n",
    "}\n",
    "\n",
    "#define missing value markers\n",
    "missing_values = ['?']\n",
    "\n",
    "stock = pd.read_csv('stock_1.csv', delimiter = ',', dtype=data_types, na_values=missing_values)"
   ]
  },
  {
   "cell_type": "code",
   "execution_count": 257,
   "id": "7b1750e6",
   "metadata": {},
   "outputs": [
    {
     "data": {
      "text/html": [
       "<div>\n",
       "<style scoped>\n",
       "    .dataframe tbody tr th:only-of-type {\n",
       "        vertical-align: middle;\n",
       "    }\n",
       "\n",
       "    .dataframe tbody tr th {\n",
       "        vertical-align: top;\n",
       "    }\n",
       "\n",
       "    .dataframe thead th {\n",
       "        text-align: right;\n",
       "    }\n",
       "</style>\n",
       "<table border=\"1\" class=\"dataframe\">\n",
       "  <thead>\n",
       "    <tr style=\"text-align: right;\">\n",
       "      <th></th>\n",
       "      <th>quarter</th>\n",
       "      <th>stock</th>\n",
       "      <th>date</th>\n",
       "      <th>open</th>\n",
       "      <th>high</th>\n",
       "      <th>low</th>\n",
       "      <th>close</th>\n",
       "      <th>volume</th>\n",
       "      <th>percent_change_price</th>\n",
       "      <th>percent_change_volume_over_last_wk</th>\n",
       "      <th>previous_weeks_volume</th>\n",
       "      <th>next_weeks_open</th>\n",
       "      <th>next_weeks_close</th>\n",
       "      <th>percent_change_next_weeks_price</th>\n",
       "      <th>days_to_next_dividend</th>\n",
       "      <th>percent_return_next_dividend</th>\n",
       "    </tr>\n",
       "  </thead>\n",
       "  <tbody>\n",
       "    <tr>\n",
       "      <th>0</th>\n",
       "      <td>1</td>\n",
       "      <td>AA</td>\n",
       "      <td>1/7/2011</td>\n",
       "      <td>$15.82</td>\n",
       "      <td>$16.72</td>\n",
       "      <td>$15.78</td>\n",
       "      <td>$16.42</td>\n",
       "      <td>239655616</td>\n",
       "      <td>3.79267</td>\n",
       "      <td>NaN</td>\n",
       "      <td>NaN</td>\n",
       "      <td>$16.71</td>\n",
       "      <td>$15.97</td>\n",
       "      <td>-4.428490</td>\n",
       "      <td>26</td>\n",
       "      <td>0.182704</td>\n",
       "    </tr>\n",
       "    <tr>\n",
       "      <th>1</th>\n",
       "      <td>1</td>\n",
       "      <td>AA</td>\n",
       "      <td>1/14/2011</td>\n",
       "      <td>$16.71</td>\n",
       "      <td>$16.71</td>\n",
       "      <td>$15.64</td>\n",
       "      <td>$15.97</td>\n",
       "      <td>242963398</td>\n",
       "      <td>-4.42849</td>\n",
       "      <td>1.380223</td>\n",
       "      <td>239655616.0</td>\n",
       "      <td>$16.19</td>\n",
       "      <td>$15.79</td>\n",
       "      <td>-2.470660</td>\n",
       "      <td>19</td>\n",
       "      <td>0.187852</td>\n",
       "    </tr>\n",
       "    <tr>\n",
       "      <th>2</th>\n",
       "      <td>1</td>\n",
       "      <td>AA</td>\n",
       "      <td>1/21/2011</td>\n",
       "      <td>$16.19</td>\n",
       "      <td>$16.38</td>\n",
       "      <td>$15.60</td>\n",
       "      <td>$15.79</td>\n",
       "      <td>138428495</td>\n",
       "      <td>-2.47066</td>\n",
       "      <td>-43.024959</td>\n",
       "      <td>242963398.0</td>\n",
       "      <td>$15.87</td>\n",
       "      <td>$16.13</td>\n",
       "      <td>1.638310</td>\n",
       "      <td>12</td>\n",
       "      <td>0.189994</td>\n",
       "    </tr>\n",
       "    <tr>\n",
       "      <th>3</th>\n",
       "      <td>1</td>\n",
       "      <td>AA</td>\n",
       "      <td>1/28/2011</td>\n",
       "      <td>$15.87</td>\n",
       "      <td>$16.63</td>\n",
       "      <td>$15.82</td>\n",
       "      <td>$16.13</td>\n",
       "      <td>151379173</td>\n",
       "      <td>1.63831</td>\n",
       "      <td>9.355500</td>\n",
       "      <td>138428495.0</td>\n",
       "      <td>$16.18</td>\n",
       "      <td>$17.14</td>\n",
       "      <td>5.933250</td>\n",
       "      <td>5</td>\n",
       "      <td>0.185989</td>\n",
       "    </tr>\n",
       "    <tr>\n",
       "      <th>4</th>\n",
       "      <td>1</td>\n",
       "      <td>AA</td>\n",
       "      <td>2/4/2011</td>\n",
       "      <td>$16.18</td>\n",
       "      <td>$17.39</td>\n",
       "      <td>$16.18</td>\n",
       "      <td>$17.14</td>\n",
       "      <td>154387761</td>\n",
       "      <td>5.93325</td>\n",
       "      <td>1.987452</td>\n",
       "      <td>151379173.0</td>\n",
       "      <td>$17.33</td>\n",
       "      <td>$17.37</td>\n",
       "      <td>0.230814</td>\n",
       "      <td>97</td>\n",
       "      <td>0.175029</td>\n",
       "    </tr>\n",
       "    <tr>\n",
       "      <th>...</th>\n",
       "      <td>...</td>\n",
       "      <td>...</td>\n",
       "      <td>...</td>\n",
       "      <td>...</td>\n",
       "      <td>...</td>\n",
       "      <td>...</td>\n",
       "      <td>...</td>\n",
       "      <td>...</td>\n",
       "      <td>...</td>\n",
       "      <td>...</td>\n",
       "      <td>...</td>\n",
       "      <td>...</td>\n",
       "      <td>...</td>\n",
       "      <td>...</td>\n",
       "      <td>...</td>\n",
       "      <td>...</td>\n",
       "    </tr>\n",
       "    <tr>\n",
       "      <th>745</th>\n",
       "      <td>2</td>\n",
       "      <td>XOM</td>\n",
       "      <td>5/27/2011</td>\n",
       "      <td>$80.22</td>\n",
       "      <td>$82.63</td>\n",
       "      <td>$80.07</td>\n",
       "      <td>$82.63</td>\n",
       "      <td>68230855</td>\n",
       "      <td>3.00424</td>\n",
       "      <td>-21.355713</td>\n",
       "      <td>86758820.0</td>\n",
       "      <td>$83.28</td>\n",
       "      <td>$81.18</td>\n",
       "      <td>-2.521610</td>\n",
       "      <td>75</td>\n",
       "      <td>0.568801</td>\n",
       "    </tr>\n",
       "    <tr>\n",
       "      <th>746</th>\n",
       "      <td>2</td>\n",
       "      <td>XOM</td>\n",
       "      <td>6/3/2011</td>\n",
       "      <td>$83.28</td>\n",
       "      <td>$83.75</td>\n",
       "      <td>$80.18</td>\n",
       "      <td>$81.18</td>\n",
       "      <td>78616295</td>\n",
       "      <td>-2.52161</td>\n",
       "      <td>15.221032</td>\n",
       "      <td>68230855.0</td>\n",
       "      <td>$80.93</td>\n",
       "      <td>$79.78</td>\n",
       "      <td>-1.420980</td>\n",
       "      <td>68</td>\n",
       "      <td>0.578960</td>\n",
       "    </tr>\n",
       "    <tr>\n",
       "      <th>747</th>\n",
       "      <td>2</td>\n",
       "      <td>XOM</td>\n",
       "      <td>6/10/2011</td>\n",
       "      <td>$80.93</td>\n",
       "      <td>$81.87</td>\n",
       "      <td>$79.72</td>\n",
       "      <td>$79.78</td>\n",
       "      <td>92380844</td>\n",
       "      <td>-1.42098</td>\n",
       "      <td>17.508519</td>\n",
       "      <td>78616295.0</td>\n",
       "      <td>$80.00</td>\n",
       "      <td>$79.02</td>\n",
       "      <td>-1.225000</td>\n",
       "      <td>61</td>\n",
       "      <td>0.589120</td>\n",
       "    </tr>\n",
       "    <tr>\n",
       "      <th>748</th>\n",
       "      <td>2</td>\n",
       "      <td>XOM</td>\n",
       "      <td>6/17/2011</td>\n",
       "      <td>$80.00</td>\n",
       "      <td>$80.82</td>\n",
       "      <td>$78.33</td>\n",
       "      <td>$79.02</td>\n",
       "      <td>100521400</td>\n",
       "      <td>-1.22500</td>\n",
       "      <td>8.811952</td>\n",
       "      <td>92380844.0</td>\n",
       "      <td>$78.65</td>\n",
       "      <td>$76.78</td>\n",
       "      <td>-2.377620</td>\n",
       "      <td>54</td>\n",
       "      <td>0.594786</td>\n",
       "    </tr>\n",
       "    <tr>\n",
       "      <th>749</th>\n",
       "      <td>2</td>\n",
       "      <td>XOM</td>\n",
       "      <td>6/24/2011</td>\n",
       "      <td>$78.65</td>\n",
       "      <td>$81.12</td>\n",
       "      <td>$76.78</td>\n",
       "      <td>$76.78</td>\n",
       "      <td>118679791</td>\n",
       "      <td>-2.37762</td>\n",
       "      <td>18.064204</td>\n",
       "      <td>100521400.0</td>\n",
       "      <td>$76.88</td>\n",
       "      <td>$82.01</td>\n",
       "      <td>6.672740</td>\n",
       "      <td>47</td>\n",
       "      <td>0.612139</td>\n",
       "    </tr>\n",
       "  </tbody>\n",
       "</table>\n",
       "<p>750 rows × 16 columns</p>\n",
       "</div>"
      ],
      "text/plain": [
       "     quarter stock       date     open     high      low    close     volume  \\\n",
       "0          1    AA   1/7/2011  $15.82   $16.72   $15.78   $16.42   239655616   \n",
       "1          1    AA  1/14/2011  $16.71   $16.71   $15.64   $15.97   242963398   \n",
       "2          1    AA  1/21/2011  $16.19   $16.38   $15.60   $15.79   138428495   \n",
       "3          1    AA  1/28/2011  $15.87   $16.63   $15.82   $16.13   151379173   \n",
       "4          1    AA   2/4/2011  $16.18   $17.39   $16.18   $17.14   154387761   \n",
       "..       ...   ...        ...      ...      ...      ...      ...        ...   \n",
       "745        2   XOM  5/27/2011  $80.22   $82.63   $80.07   $82.63    68230855   \n",
       "746        2   XOM   6/3/2011  $83.28   $83.75   $80.18   $81.18    78616295   \n",
       "747        2   XOM  6/10/2011  $80.93   $81.87   $79.72   $79.78    92380844   \n",
       "748        2   XOM  6/17/2011  $80.00   $80.82   $78.33   $79.02   100521400   \n",
       "749        2   XOM  6/24/2011  $78.65   $81.12   $76.78   $76.78   118679791   \n",
       "\n",
       "     percent_change_price  percent_change_volume_over_last_wk  \\\n",
       "0                 3.79267                                 NaN   \n",
       "1                -4.42849                            1.380223   \n",
       "2                -2.47066                          -43.024959   \n",
       "3                 1.63831                            9.355500   \n",
       "4                 5.93325                            1.987452   \n",
       "..                    ...                                 ...   \n",
       "745               3.00424                          -21.355713   \n",
       "746              -2.52161                           15.221032   \n",
       "747              -1.42098                           17.508519   \n",
       "748              -1.22500                            8.811952   \n",
       "749              -2.37762                           18.064204   \n",
       "\n",
       "     previous_weeks_volume next_weeks_open next_weeks_close  \\\n",
       "0                      NaN         $16.71           $15.97    \n",
       "1              239655616.0         $16.19           $15.79    \n",
       "2              242963398.0         $15.87           $16.13    \n",
       "3              138428495.0         $16.18           $17.14    \n",
       "4              151379173.0         $17.33           $17.37    \n",
       "..                     ...             ...              ...   \n",
       "745             86758820.0         $83.28           $81.18    \n",
       "746             68230855.0         $80.93           $79.78    \n",
       "747             78616295.0         $80.00           $79.02    \n",
       "748             92380844.0         $78.65           $76.78    \n",
       "749            100521400.0         $76.88           $82.01    \n",
       "\n",
       "     percent_change_next_weeks_price  days_to_next_dividend  \\\n",
       "0                          -4.428490                     26   \n",
       "1                          -2.470660                     19   \n",
       "2                           1.638310                     12   \n",
       "3                           5.933250                      5   \n",
       "4                           0.230814                     97   \n",
       "..                               ...                    ...   \n",
       "745                        -2.521610                     75   \n",
       "746                        -1.420980                     68   \n",
       "747                        -1.225000                     61   \n",
       "748                        -2.377620                     54   \n",
       "749                         6.672740                     47   \n",
       "\n",
       "     percent_return_next_dividend  \n",
       "0                        0.182704  \n",
       "1                        0.187852  \n",
       "2                        0.189994  \n",
       "3                        0.185989  \n",
       "4                        0.175029  \n",
       "..                            ...  \n",
       "745                      0.568801  \n",
       "746                      0.578960  \n",
       "747                      0.589120  \n",
       "748                      0.594786  \n",
       "749                      0.612139  \n",
       "\n",
       "[750 rows x 16 columns]"
      ]
     },
     "execution_count": 257,
     "metadata": {},
     "output_type": "execute_result"
    }
   ],
   "source": [
    "stock"
   ]
  },
  {
   "cell_type": "code",
   "execution_count": 258,
   "id": "93a873d0",
   "metadata": {},
   "outputs": [
    {
     "name": "stderr",
     "output_type": "stream",
     "text": [
      "C:\\Users\\digit\\AppData\\Local\\Temp\\ipykernel_20920\\3925165489.py:3: FutureWarning:\n",
      "\n",
      "The default value of regex will change from True to False in a future version. In addition, single character regular expressions will *not* be treated as literal strings when regex=True.\n",
      "\n"
     ]
    }
   ],
   "source": [
    "columns_to_clean = ['open', 'high', 'low', 'close', 'next_weeks_open','next_weeks_close']\n",
    "for column in columns_to_clean:\n",
    "    stock[column] = stock[column].str.replace('$', '').astype(float)"
   ]
  },
  {
   "cell_type": "code",
   "execution_count": 259,
   "id": "55ef2724",
   "metadata": {},
   "outputs": [
    {
     "data": {
      "text/html": [
       "<div>\n",
       "<style scoped>\n",
       "    .dataframe tbody tr th:only-of-type {\n",
       "        vertical-align: middle;\n",
       "    }\n",
       "\n",
       "    .dataframe tbody tr th {\n",
       "        vertical-align: top;\n",
       "    }\n",
       "\n",
       "    .dataframe thead th {\n",
       "        text-align: right;\n",
       "    }\n",
       "</style>\n",
       "<table border=\"1\" class=\"dataframe\">\n",
       "  <thead>\n",
       "    <tr style=\"text-align: right;\">\n",
       "      <th></th>\n",
       "      <th>quarter</th>\n",
       "      <th>stock</th>\n",
       "      <th>date</th>\n",
       "      <th>open</th>\n",
       "      <th>high</th>\n",
       "      <th>low</th>\n",
       "      <th>close</th>\n",
       "      <th>volume</th>\n",
       "      <th>percent_change_price</th>\n",
       "      <th>percent_change_volume_over_last_wk</th>\n",
       "      <th>previous_weeks_volume</th>\n",
       "      <th>next_weeks_open</th>\n",
       "      <th>next_weeks_close</th>\n",
       "      <th>percent_change_next_weeks_price</th>\n",
       "      <th>days_to_next_dividend</th>\n",
       "      <th>percent_return_next_dividend</th>\n",
       "    </tr>\n",
       "  </thead>\n",
       "  <tbody>\n",
       "    <tr>\n",
       "      <th>0</th>\n",
       "      <td>1</td>\n",
       "      <td>AA</td>\n",
       "      <td>1/7/2011</td>\n",
       "      <td>15.82</td>\n",
       "      <td>16.72</td>\n",
       "      <td>15.78</td>\n",
       "      <td>16.42</td>\n",
       "      <td>239655616</td>\n",
       "      <td>3.79267</td>\n",
       "      <td>NaN</td>\n",
       "      <td>NaN</td>\n",
       "      <td>16.71</td>\n",
       "      <td>15.97</td>\n",
       "      <td>-4.428490</td>\n",
       "      <td>26</td>\n",
       "      <td>0.182704</td>\n",
       "    </tr>\n",
       "    <tr>\n",
       "      <th>1</th>\n",
       "      <td>1</td>\n",
       "      <td>AA</td>\n",
       "      <td>1/14/2011</td>\n",
       "      <td>16.71</td>\n",
       "      <td>16.71</td>\n",
       "      <td>15.64</td>\n",
       "      <td>15.97</td>\n",
       "      <td>242963398</td>\n",
       "      <td>-4.42849</td>\n",
       "      <td>1.380223</td>\n",
       "      <td>239655616.0</td>\n",
       "      <td>16.19</td>\n",
       "      <td>15.79</td>\n",
       "      <td>-2.470660</td>\n",
       "      <td>19</td>\n",
       "      <td>0.187852</td>\n",
       "    </tr>\n",
       "    <tr>\n",
       "      <th>2</th>\n",
       "      <td>1</td>\n",
       "      <td>AA</td>\n",
       "      <td>1/21/2011</td>\n",
       "      <td>16.19</td>\n",
       "      <td>16.38</td>\n",
       "      <td>15.60</td>\n",
       "      <td>15.79</td>\n",
       "      <td>138428495</td>\n",
       "      <td>-2.47066</td>\n",
       "      <td>-43.024959</td>\n",
       "      <td>242963398.0</td>\n",
       "      <td>15.87</td>\n",
       "      <td>16.13</td>\n",
       "      <td>1.638310</td>\n",
       "      <td>12</td>\n",
       "      <td>0.189994</td>\n",
       "    </tr>\n",
       "    <tr>\n",
       "      <th>3</th>\n",
       "      <td>1</td>\n",
       "      <td>AA</td>\n",
       "      <td>1/28/2011</td>\n",
       "      <td>15.87</td>\n",
       "      <td>16.63</td>\n",
       "      <td>15.82</td>\n",
       "      <td>16.13</td>\n",
       "      <td>151379173</td>\n",
       "      <td>1.63831</td>\n",
       "      <td>9.355500</td>\n",
       "      <td>138428495.0</td>\n",
       "      <td>16.18</td>\n",
       "      <td>17.14</td>\n",
       "      <td>5.933250</td>\n",
       "      <td>5</td>\n",
       "      <td>0.185989</td>\n",
       "    </tr>\n",
       "    <tr>\n",
       "      <th>4</th>\n",
       "      <td>1</td>\n",
       "      <td>AA</td>\n",
       "      <td>2/4/2011</td>\n",
       "      <td>16.18</td>\n",
       "      <td>17.39</td>\n",
       "      <td>16.18</td>\n",
       "      <td>17.14</td>\n",
       "      <td>154387761</td>\n",
       "      <td>5.93325</td>\n",
       "      <td>1.987452</td>\n",
       "      <td>151379173.0</td>\n",
       "      <td>17.33</td>\n",
       "      <td>17.37</td>\n",
       "      <td>0.230814</td>\n",
       "      <td>97</td>\n",
       "      <td>0.175029</td>\n",
       "    </tr>\n",
       "    <tr>\n",
       "      <th>...</th>\n",
       "      <td>...</td>\n",
       "      <td>...</td>\n",
       "      <td>...</td>\n",
       "      <td>...</td>\n",
       "      <td>...</td>\n",
       "      <td>...</td>\n",
       "      <td>...</td>\n",
       "      <td>...</td>\n",
       "      <td>...</td>\n",
       "      <td>...</td>\n",
       "      <td>...</td>\n",
       "      <td>...</td>\n",
       "      <td>...</td>\n",
       "      <td>...</td>\n",
       "      <td>...</td>\n",
       "      <td>...</td>\n",
       "    </tr>\n",
       "    <tr>\n",
       "      <th>745</th>\n",
       "      <td>2</td>\n",
       "      <td>XOM</td>\n",
       "      <td>5/27/2011</td>\n",
       "      <td>80.22</td>\n",
       "      <td>82.63</td>\n",
       "      <td>80.07</td>\n",
       "      <td>82.63</td>\n",
       "      <td>68230855</td>\n",
       "      <td>3.00424</td>\n",
       "      <td>-21.355713</td>\n",
       "      <td>86758820.0</td>\n",
       "      <td>83.28</td>\n",
       "      <td>81.18</td>\n",
       "      <td>-2.521610</td>\n",
       "      <td>75</td>\n",
       "      <td>0.568801</td>\n",
       "    </tr>\n",
       "    <tr>\n",
       "      <th>746</th>\n",
       "      <td>2</td>\n",
       "      <td>XOM</td>\n",
       "      <td>6/3/2011</td>\n",
       "      <td>83.28</td>\n",
       "      <td>83.75</td>\n",
       "      <td>80.18</td>\n",
       "      <td>81.18</td>\n",
       "      <td>78616295</td>\n",
       "      <td>-2.52161</td>\n",
       "      <td>15.221032</td>\n",
       "      <td>68230855.0</td>\n",
       "      <td>80.93</td>\n",
       "      <td>79.78</td>\n",
       "      <td>-1.420980</td>\n",
       "      <td>68</td>\n",
       "      <td>0.578960</td>\n",
       "    </tr>\n",
       "    <tr>\n",
       "      <th>747</th>\n",
       "      <td>2</td>\n",
       "      <td>XOM</td>\n",
       "      <td>6/10/2011</td>\n",
       "      <td>80.93</td>\n",
       "      <td>81.87</td>\n",
       "      <td>79.72</td>\n",
       "      <td>79.78</td>\n",
       "      <td>92380844</td>\n",
       "      <td>-1.42098</td>\n",
       "      <td>17.508519</td>\n",
       "      <td>78616295.0</td>\n",
       "      <td>80.00</td>\n",
       "      <td>79.02</td>\n",
       "      <td>-1.225000</td>\n",
       "      <td>61</td>\n",
       "      <td>0.589120</td>\n",
       "    </tr>\n",
       "    <tr>\n",
       "      <th>748</th>\n",
       "      <td>2</td>\n",
       "      <td>XOM</td>\n",
       "      <td>6/17/2011</td>\n",
       "      <td>80.00</td>\n",
       "      <td>80.82</td>\n",
       "      <td>78.33</td>\n",
       "      <td>79.02</td>\n",
       "      <td>100521400</td>\n",
       "      <td>-1.22500</td>\n",
       "      <td>8.811952</td>\n",
       "      <td>92380844.0</td>\n",
       "      <td>78.65</td>\n",
       "      <td>76.78</td>\n",
       "      <td>-2.377620</td>\n",
       "      <td>54</td>\n",
       "      <td>0.594786</td>\n",
       "    </tr>\n",
       "    <tr>\n",
       "      <th>749</th>\n",
       "      <td>2</td>\n",
       "      <td>XOM</td>\n",
       "      <td>6/24/2011</td>\n",
       "      <td>78.65</td>\n",
       "      <td>81.12</td>\n",
       "      <td>76.78</td>\n",
       "      <td>76.78</td>\n",
       "      <td>118679791</td>\n",
       "      <td>-2.37762</td>\n",
       "      <td>18.064204</td>\n",
       "      <td>100521400.0</td>\n",
       "      <td>76.88</td>\n",
       "      <td>82.01</td>\n",
       "      <td>6.672740</td>\n",
       "      <td>47</td>\n",
       "      <td>0.612139</td>\n",
       "    </tr>\n",
       "  </tbody>\n",
       "</table>\n",
       "<p>750 rows × 16 columns</p>\n",
       "</div>"
      ],
      "text/plain": [
       "     quarter stock       date   open   high    low  close     volume  \\\n",
       "0          1    AA   1/7/2011  15.82  16.72  15.78  16.42  239655616   \n",
       "1          1    AA  1/14/2011  16.71  16.71  15.64  15.97  242963398   \n",
       "2          1    AA  1/21/2011  16.19  16.38  15.60  15.79  138428495   \n",
       "3          1    AA  1/28/2011  15.87  16.63  15.82  16.13  151379173   \n",
       "4          1    AA   2/4/2011  16.18  17.39  16.18  17.14  154387761   \n",
       "..       ...   ...        ...    ...    ...    ...    ...        ...   \n",
       "745        2   XOM  5/27/2011  80.22  82.63  80.07  82.63   68230855   \n",
       "746        2   XOM   6/3/2011  83.28  83.75  80.18  81.18   78616295   \n",
       "747        2   XOM  6/10/2011  80.93  81.87  79.72  79.78   92380844   \n",
       "748        2   XOM  6/17/2011  80.00  80.82  78.33  79.02  100521400   \n",
       "749        2   XOM  6/24/2011  78.65  81.12  76.78  76.78  118679791   \n",
       "\n",
       "     percent_change_price  percent_change_volume_over_last_wk  \\\n",
       "0                 3.79267                                 NaN   \n",
       "1                -4.42849                            1.380223   \n",
       "2                -2.47066                          -43.024959   \n",
       "3                 1.63831                            9.355500   \n",
       "4                 5.93325                            1.987452   \n",
       "..                    ...                                 ...   \n",
       "745               3.00424                          -21.355713   \n",
       "746              -2.52161                           15.221032   \n",
       "747              -1.42098                           17.508519   \n",
       "748              -1.22500                            8.811952   \n",
       "749              -2.37762                           18.064204   \n",
       "\n",
       "     previous_weeks_volume  next_weeks_open  next_weeks_close  \\\n",
       "0                      NaN            16.71             15.97   \n",
       "1              239655616.0            16.19             15.79   \n",
       "2              242963398.0            15.87             16.13   \n",
       "3              138428495.0            16.18             17.14   \n",
       "4              151379173.0            17.33             17.37   \n",
       "..                     ...              ...               ...   \n",
       "745             86758820.0            83.28             81.18   \n",
       "746             68230855.0            80.93             79.78   \n",
       "747             78616295.0            80.00             79.02   \n",
       "748             92380844.0            78.65             76.78   \n",
       "749            100521400.0            76.88             82.01   \n",
       "\n",
       "     percent_change_next_weeks_price  days_to_next_dividend  \\\n",
       "0                          -4.428490                     26   \n",
       "1                          -2.470660                     19   \n",
       "2                           1.638310                     12   \n",
       "3                           5.933250                      5   \n",
       "4                           0.230814                     97   \n",
       "..                               ...                    ...   \n",
       "745                        -2.521610                     75   \n",
       "746                        -1.420980                     68   \n",
       "747                        -1.225000                     61   \n",
       "748                        -2.377620                     54   \n",
       "749                         6.672740                     47   \n",
       "\n",
       "     percent_return_next_dividend  \n",
       "0                        0.182704  \n",
       "1                        0.187852  \n",
       "2                        0.189994  \n",
       "3                        0.185989  \n",
       "4                        0.175029  \n",
       "..                            ...  \n",
       "745                      0.568801  \n",
       "746                      0.578960  \n",
       "747                      0.589120  \n",
       "748                      0.594786  \n",
       "749                      0.612139  \n",
       "\n",
       "[750 rows x 16 columns]"
      ]
     },
     "execution_count": 259,
     "metadata": {},
     "output_type": "execute_result"
    }
   ],
   "source": [
    "stock"
   ]
  },
  {
   "cell_type": "code",
   "execution_count": 260,
   "id": "7cfa55ef",
   "metadata": {},
   "outputs": [],
   "source": [
    "stock[['percent_change_volume_over_last_wk', 'previous_weeks_volume']] = stock[['percent_change_volume_over_last_wk', 'previous_weeks_volume']].fillna(stock[['percent_change_volume_over_last_wk', 'previous_weeks_volume']].mean())\n"
   ]
  },
  {
   "cell_type": "code",
   "execution_count": 261,
   "id": "37369087",
   "metadata": {},
   "outputs": [
    {
     "data": {
      "text/html": [
       "<div>\n",
       "<style scoped>\n",
       "    .dataframe tbody tr th:only-of-type {\n",
       "        vertical-align: middle;\n",
       "    }\n",
       "\n",
       "    .dataframe tbody tr th {\n",
       "        vertical-align: top;\n",
       "    }\n",
       "\n",
       "    .dataframe thead th {\n",
       "        text-align: right;\n",
       "    }\n",
       "</style>\n",
       "<table border=\"1\" class=\"dataframe\">\n",
       "  <thead>\n",
       "    <tr style=\"text-align: right;\">\n",
       "      <th></th>\n",
       "      <th>quarter</th>\n",
       "      <th>stock</th>\n",
       "      <th>date</th>\n",
       "      <th>open</th>\n",
       "      <th>high</th>\n",
       "      <th>low</th>\n",
       "      <th>close</th>\n",
       "      <th>volume</th>\n",
       "      <th>percent_change_price</th>\n",
       "      <th>percent_change_volume_over_last_wk</th>\n",
       "      <th>previous_weeks_volume</th>\n",
       "      <th>next_weeks_open</th>\n",
       "      <th>next_weeks_close</th>\n",
       "      <th>percent_change_next_weeks_price</th>\n",
       "      <th>days_to_next_dividend</th>\n",
       "      <th>percent_return_next_dividend</th>\n",
       "    </tr>\n",
       "  </thead>\n",
       "  <tbody>\n",
       "    <tr>\n",
       "      <th>0</th>\n",
       "      <td>1</td>\n",
       "      <td>AA</td>\n",
       "      <td>1/7/2011</td>\n",
       "      <td>15.82</td>\n",
       "      <td>16.72</td>\n",
       "      <td>15.78</td>\n",
       "      <td>16.42</td>\n",
       "      <td>239655616</td>\n",
       "      <td>3.79267</td>\n",
       "      <td>5.593627</td>\n",
       "      <td>1.173876e+08</td>\n",
       "      <td>16.71</td>\n",
       "      <td>15.97</td>\n",
       "      <td>-4.428490</td>\n",
       "      <td>26</td>\n",
       "      <td>0.182704</td>\n",
       "    </tr>\n",
       "    <tr>\n",
       "      <th>1</th>\n",
       "      <td>1</td>\n",
       "      <td>AA</td>\n",
       "      <td>1/14/2011</td>\n",
       "      <td>16.71</td>\n",
       "      <td>16.71</td>\n",
       "      <td>15.64</td>\n",
       "      <td>15.97</td>\n",
       "      <td>242963398</td>\n",
       "      <td>-4.42849</td>\n",
       "      <td>1.380223</td>\n",
       "      <td>2.396556e+08</td>\n",
       "      <td>16.19</td>\n",
       "      <td>15.79</td>\n",
       "      <td>-2.470660</td>\n",
       "      <td>19</td>\n",
       "      <td>0.187852</td>\n",
       "    </tr>\n",
       "    <tr>\n",
       "      <th>2</th>\n",
       "      <td>1</td>\n",
       "      <td>AA</td>\n",
       "      <td>1/21/2011</td>\n",
       "      <td>16.19</td>\n",
       "      <td>16.38</td>\n",
       "      <td>15.60</td>\n",
       "      <td>15.79</td>\n",
       "      <td>138428495</td>\n",
       "      <td>-2.47066</td>\n",
       "      <td>-43.024959</td>\n",
       "      <td>2.429634e+08</td>\n",
       "      <td>15.87</td>\n",
       "      <td>16.13</td>\n",
       "      <td>1.638310</td>\n",
       "      <td>12</td>\n",
       "      <td>0.189994</td>\n",
       "    </tr>\n",
       "    <tr>\n",
       "      <th>3</th>\n",
       "      <td>1</td>\n",
       "      <td>AA</td>\n",
       "      <td>1/28/2011</td>\n",
       "      <td>15.87</td>\n",
       "      <td>16.63</td>\n",
       "      <td>15.82</td>\n",
       "      <td>16.13</td>\n",
       "      <td>151379173</td>\n",
       "      <td>1.63831</td>\n",
       "      <td>9.355500</td>\n",
       "      <td>1.384285e+08</td>\n",
       "      <td>16.18</td>\n",
       "      <td>17.14</td>\n",
       "      <td>5.933250</td>\n",
       "      <td>5</td>\n",
       "      <td>0.185989</td>\n",
       "    </tr>\n",
       "    <tr>\n",
       "      <th>4</th>\n",
       "      <td>1</td>\n",
       "      <td>AA</td>\n",
       "      <td>2/4/2011</td>\n",
       "      <td>16.18</td>\n",
       "      <td>17.39</td>\n",
       "      <td>16.18</td>\n",
       "      <td>17.14</td>\n",
       "      <td>154387761</td>\n",
       "      <td>5.93325</td>\n",
       "      <td>1.987452</td>\n",
       "      <td>1.513792e+08</td>\n",
       "      <td>17.33</td>\n",
       "      <td>17.37</td>\n",
       "      <td>0.230814</td>\n",
       "      <td>97</td>\n",
       "      <td>0.175029</td>\n",
       "    </tr>\n",
       "    <tr>\n",
       "      <th>...</th>\n",
       "      <td>...</td>\n",
       "      <td>...</td>\n",
       "      <td>...</td>\n",
       "      <td>...</td>\n",
       "      <td>...</td>\n",
       "      <td>...</td>\n",
       "      <td>...</td>\n",
       "      <td>...</td>\n",
       "      <td>...</td>\n",
       "      <td>...</td>\n",
       "      <td>...</td>\n",
       "      <td>...</td>\n",
       "      <td>...</td>\n",
       "      <td>...</td>\n",
       "      <td>...</td>\n",
       "      <td>...</td>\n",
       "    </tr>\n",
       "    <tr>\n",
       "      <th>745</th>\n",
       "      <td>2</td>\n",
       "      <td>XOM</td>\n",
       "      <td>5/27/2011</td>\n",
       "      <td>80.22</td>\n",
       "      <td>82.63</td>\n",
       "      <td>80.07</td>\n",
       "      <td>82.63</td>\n",
       "      <td>68230855</td>\n",
       "      <td>3.00424</td>\n",
       "      <td>-21.355713</td>\n",
       "      <td>8.675882e+07</td>\n",
       "      <td>83.28</td>\n",
       "      <td>81.18</td>\n",
       "      <td>-2.521610</td>\n",
       "      <td>75</td>\n",
       "      <td>0.568801</td>\n",
       "    </tr>\n",
       "    <tr>\n",
       "      <th>746</th>\n",
       "      <td>2</td>\n",
       "      <td>XOM</td>\n",
       "      <td>6/3/2011</td>\n",
       "      <td>83.28</td>\n",
       "      <td>83.75</td>\n",
       "      <td>80.18</td>\n",
       "      <td>81.18</td>\n",
       "      <td>78616295</td>\n",
       "      <td>-2.52161</td>\n",
       "      <td>15.221032</td>\n",
       "      <td>6.823086e+07</td>\n",
       "      <td>80.93</td>\n",
       "      <td>79.78</td>\n",
       "      <td>-1.420980</td>\n",
       "      <td>68</td>\n",
       "      <td>0.578960</td>\n",
       "    </tr>\n",
       "    <tr>\n",
       "      <th>747</th>\n",
       "      <td>2</td>\n",
       "      <td>XOM</td>\n",
       "      <td>6/10/2011</td>\n",
       "      <td>80.93</td>\n",
       "      <td>81.87</td>\n",
       "      <td>79.72</td>\n",
       "      <td>79.78</td>\n",
       "      <td>92380844</td>\n",
       "      <td>-1.42098</td>\n",
       "      <td>17.508519</td>\n",
       "      <td>7.861630e+07</td>\n",
       "      <td>80.00</td>\n",
       "      <td>79.02</td>\n",
       "      <td>-1.225000</td>\n",
       "      <td>61</td>\n",
       "      <td>0.589120</td>\n",
       "    </tr>\n",
       "    <tr>\n",
       "      <th>748</th>\n",
       "      <td>2</td>\n",
       "      <td>XOM</td>\n",
       "      <td>6/17/2011</td>\n",
       "      <td>80.00</td>\n",
       "      <td>80.82</td>\n",
       "      <td>78.33</td>\n",
       "      <td>79.02</td>\n",
       "      <td>100521400</td>\n",
       "      <td>-1.22500</td>\n",
       "      <td>8.811952</td>\n",
       "      <td>9.238084e+07</td>\n",
       "      <td>78.65</td>\n",
       "      <td>76.78</td>\n",
       "      <td>-2.377620</td>\n",
       "      <td>54</td>\n",
       "      <td>0.594786</td>\n",
       "    </tr>\n",
       "    <tr>\n",
       "      <th>749</th>\n",
       "      <td>2</td>\n",
       "      <td>XOM</td>\n",
       "      <td>6/24/2011</td>\n",
       "      <td>78.65</td>\n",
       "      <td>81.12</td>\n",
       "      <td>76.78</td>\n",
       "      <td>76.78</td>\n",
       "      <td>118679791</td>\n",
       "      <td>-2.37762</td>\n",
       "      <td>18.064204</td>\n",
       "      <td>1.005214e+08</td>\n",
       "      <td>76.88</td>\n",
       "      <td>82.01</td>\n",
       "      <td>6.672740</td>\n",
       "      <td>47</td>\n",
       "      <td>0.612139</td>\n",
       "    </tr>\n",
       "  </tbody>\n",
       "</table>\n",
       "<p>750 rows × 16 columns</p>\n",
       "</div>"
      ],
      "text/plain": [
       "     quarter stock       date   open   high    low  close     volume  \\\n",
       "0          1    AA   1/7/2011  15.82  16.72  15.78  16.42  239655616   \n",
       "1          1    AA  1/14/2011  16.71  16.71  15.64  15.97  242963398   \n",
       "2          1    AA  1/21/2011  16.19  16.38  15.60  15.79  138428495   \n",
       "3          1    AA  1/28/2011  15.87  16.63  15.82  16.13  151379173   \n",
       "4          1    AA   2/4/2011  16.18  17.39  16.18  17.14  154387761   \n",
       "..       ...   ...        ...    ...    ...    ...    ...        ...   \n",
       "745        2   XOM  5/27/2011  80.22  82.63  80.07  82.63   68230855   \n",
       "746        2   XOM   6/3/2011  83.28  83.75  80.18  81.18   78616295   \n",
       "747        2   XOM  6/10/2011  80.93  81.87  79.72  79.78   92380844   \n",
       "748        2   XOM  6/17/2011  80.00  80.82  78.33  79.02  100521400   \n",
       "749        2   XOM  6/24/2011  78.65  81.12  76.78  76.78  118679791   \n",
       "\n",
       "     percent_change_price  percent_change_volume_over_last_wk  \\\n",
       "0                 3.79267                            5.593627   \n",
       "1                -4.42849                            1.380223   \n",
       "2                -2.47066                          -43.024959   \n",
       "3                 1.63831                            9.355500   \n",
       "4                 5.93325                            1.987452   \n",
       "..                    ...                                 ...   \n",
       "745               3.00424                          -21.355713   \n",
       "746              -2.52161                           15.221032   \n",
       "747              -1.42098                           17.508519   \n",
       "748              -1.22500                            8.811952   \n",
       "749              -2.37762                           18.064204   \n",
       "\n",
       "     previous_weeks_volume  next_weeks_open  next_weeks_close  \\\n",
       "0             1.173876e+08            16.71             15.97   \n",
       "1             2.396556e+08            16.19             15.79   \n",
       "2             2.429634e+08            15.87             16.13   \n",
       "3             1.384285e+08            16.18             17.14   \n",
       "4             1.513792e+08            17.33             17.37   \n",
       "..                     ...              ...               ...   \n",
       "745           8.675882e+07            83.28             81.18   \n",
       "746           6.823086e+07            80.93             79.78   \n",
       "747           7.861630e+07            80.00             79.02   \n",
       "748           9.238084e+07            78.65             76.78   \n",
       "749           1.005214e+08            76.88             82.01   \n",
       "\n",
       "     percent_change_next_weeks_price  days_to_next_dividend  \\\n",
       "0                          -4.428490                     26   \n",
       "1                          -2.470660                     19   \n",
       "2                           1.638310                     12   \n",
       "3                           5.933250                      5   \n",
       "4                           0.230814                     97   \n",
       "..                               ...                    ...   \n",
       "745                        -2.521610                     75   \n",
       "746                        -1.420980                     68   \n",
       "747                        -1.225000                     61   \n",
       "748                        -2.377620                     54   \n",
       "749                         6.672740                     47   \n",
       "\n",
       "     percent_return_next_dividend  \n",
       "0                        0.182704  \n",
       "1                        0.187852  \n",
       "2                        0.189994  \n",
       "3                        0.185989  \n",
       "4                        0.175029  \n",
       "..                            ...  \n",
       "745                      0.568801  \n",
       "746                      0.578960  \n",
       "747                      0.589120  \n",
       "748                      0.594786  \n",
       "749                      0.612139  \n",
       "\n",
       "[750 rows x 16 columns]"
      ]
     },
     "execution_count": 261,
     "metadata": {},
     "output_type": "execute_result"
    }
   ],
   "source": [
    "stock"
   ]
  },
  {
   "cell_type": "code",
   "execution_count": 262,
   "id": "e114d45a",
   "metadata": {},
   "outputs": [
    {
     "data": {
      "text/html": [
       "<div>\n",
       "<style scoped>\n",
       "    .dataframe tbody tr th:only-of-type {\n",
       "        vertical-align: middle;\n",
       "    }\n",
       "\n",
       "    .dataframe tbody tr th {\n",
       "        vertical-align: top;\n",
       "    }\n",
       "\n",
       "    .dataframe thead th {\n",
       "        text-align: right;\n",
       "    }\n",
       "</style>\n",
       "<table border=\"1\" class=\"dataframe\">\n",
       "  <thead>\n",
       "    <tr style=\"text-align: right;\">\n",
       "      <th></th>\n",
       "      <th>quarter</th>\n",
       "      <th>open</th>\n",
       "      <th>high</th>\n",
       "      <th>low</th>\n",
       "      <th>close</th>\n",
       "      <th>volume</th>\n",
       "      <th>percent_change_price</th>\n",
       "      <th>percent_change_volume_over_last_wk</th>\n",
       "      <th>previous_weeks_volume</th>\n",
       "      <th>next_weeks_open</th>\n",
       "      <th>next_weeks_close</th>\n",
       "      <th>percent_change_next_weeks_price</th>\n",
       "      <th>days_to_next_dividend</th>\n",
       "      <th>percent_return_next_dividend</th>\n",
       "    </tr>\n",
       "  </thead>\n",
       "  <tbody>\n",
       "    <tr>\n",
       "      <th>count</th>\n",
       "      <td>750.000000</td>\n",
       "      <td>750.000000</td>\n",
       "      <td>750.000000</td>\n",
       "      <td>750.000000</td>\n",
       "      <td>750.000000</td>\n",
       "      <td>7.500000e+02</td>\n",
       "      <td>750.000000</td>\n",
       "      <td>750.000000</td>\n",
       "      <td>7.500000e+02</td>\n",
       "      <td>750.000000</td>\n",
       "      <td>750.000000</td>\n",
       "      <td>750.000000</td>\n",
       "      <td>750.000000</td>\n",
       "      <td>750.000000</td>\n",
       "    </tr>\n",
       "    <tr>\n",
       "      <th>mean</th>\n",
       "      <td>1.520000</td>\n",
       "      <td>53.651840</td>\n",
       "      <td>54.669987</td>\n",
       "      <td>52.640160</td>\n",
       "      <td>53.729267</td>\n",
       "      <td>1.175478e+08</td>\n",
       "      <td>0.050262</td>\n",
       "      <td>5.593627</td>\n",
       "      <td>1.173876e+08</td>\n",
       "      <td>53.702440</td>\n",
       "      <td>53.889080</td>\n",
       "      <td>0.238468</td>\n",
       "      <td>52.525333</td>\n",
       "      <td>0.691826</td>\n",
       "    </tr>\n",
       "    <tr>\n",
       "      <th>std</th>\n",
       "      <td>0.499933</td>\n",
       "      <td>32.638852</td>\n",
       "      <td>33.215994</td>\n",
       "      <td>32.119277</td>\n",
       "      <td>32.788787</td>\n",
       "      <td>1.584381e+08</td>\n",
       "      <td>2.517809</td>\n",
       "      <td>39.723229</td>\n",
       "      <td>1.560107e+08</td>\n",
       "      <td>32.778111</td>\n",
       "      <td>33.016677</td>\n",
       "      <td>2.679538</td>\n",
       "      <td>46.335098</td>\n",
       "      <td>0.305482</td>\n",
       "    </tr>\n",
       "    <tr>\n",
       "      <th>min</th>\n",
       "      <td>1.000000</td>\n",
       "      <td>10.590000</td>\n",
       "      <td>10.940000</td>\n",
       "      <td>10.400000</td>\n",
       "      <td>10.520000</td>\n",
       "      <td>9.718851e+06</td>\n",
       "      <td>-15.422900</td>\n",
       "      <td>-61.433175</td>\n",
       "      <td>9.718851e+06</td>\n",
       "      <td>10.520000</td>\n",
       "      <td>10.520000</td>\n",
       "      <td>-15.422900</td>\n",
       "      <td>0.000000</td>\n",
       "      <td>0.065574</td>\n",
       "    </tr>\n",
       "    <tr>\n",
       "      <th>25%</th>\n",
       "      <td>1.000000</td>\n",
       "      <td>29.830000</td>\n",
       "      <td>30.627500</td>\n",
       "      <td>28.720000</td>\n",
       "      <td>30.365000</td>\n",
       "      <td>3.086624e+07</td>\n",
       "      <td>-1.288053</td>\n",
       "      <td>-18.890959</td>\n",
       "      <td>3.127265e+07</td>\n",
       "      <td>30.315000</td>\n",
       "      <td>30.462500</td>\n",
       "      <td>-1.222068</td>\n",
       "      <td>24.000000</td>\n",
       "      <td>0.534549</td>\n",
       "    </tr>\n",
       "    <tr>\n",
       "      <th>50%</th>\n",
       "      <td>2.000000</td>\n",
       "      <td>45.970000</td>\n",
       "      <td>46.885000</td>\n",
       "      <td>44.800000</td>\n",
       "      <td>45.930000</td>\n",
       "      <td>5.306088e+07</td>\n",
       "      <td>0.000000</td>\n",
       "      <td>1.801868</td>\n",
       "      <td>5.512882e+07</td>\n",
       "      <td>46.015000</td>\n",
       "      <td>46.125000</td>\n",
       "      <td>0.101193</td>\n",
       "      <td>47.000000</td>\n",
       "      <td>0.681067</td>\n",
       "    </tr>\n",
       "    <tr>\n",
       "      <th>75%</th>\n",
       "      <td>2.000000</td>\n",
       "      <td>72.715000</td>\n",
       "      <td>74.287500</td>\n",
       "      <td>71.037500</td>\n",
       "      <td>72.667500</td>\n",
       "      <td>1.327218e+08</td>\n",
       "      <td>1.650888</td>\n",
       "      <td>19.984489</td>\n",
       "      <td>1.296170e+08</td>\n",
       "      <td>72.715000</td>\n",
       "      <td>72.915000</td>\n",
       "      <td>1.845562</td>\n",
       "      <td>69.000000</td>\n",
       "      <td>0.854291</td>\n",
       "    </tr>\n",
       "    <tr>\n",
       "      <th>max</th>\n",
       "      <td>2.000000</td>\n",
       "      <td>172.110000</td>\n",
       "      <td>173.540000</td>\n",
       "      <td>167.820000</td>\n",
       "      <td>170.580000</td>\n",
       "      <td>1.453439e+09</td>\n",
       "      <td>9.882230</td>\n",
       "      <td>327.408924</td>\n",
       "      <td>1.453439e+09</td>\n",
       "      <td>172.110000</td>\n",
       "      <td>174.540000</td>\n",
       "      <td>9.882230</td>\n",
       "      <td>336.000000</td>\n",
       "      <td>1.564210</td>\n",
       "    </tr>\n",
       "  </tbody>\n",
       "</table>\n",
       "</div>"
      ],
      "text/plain": [
       "          quarter        open        high         low       close  \\\n",
       "count  750.000000  750.000000  750.000000  750.000000  750.000000   \n",
       "mean     1.520000   53.651840   54.669987   52.640160   53.729267   \n",
       "std      0.499933   32.638852   33.215994   32.119277   32.788787   \n",
       "min      1.000000   10.590000   10.940000   10.400000   10.520000   \n",
       "25%      1.000000   29.830000   30.627500   28.720000   30.365000   \n",
       "50%      2.000000   45.970000   46.885000   44.800000   45.930000   \n",
       "75%      2.000000   72.715000   74.287500   71.037500   72.667500   \n",
       "max      2.000000  172.110000  173.540000  167.820000  170.580000   \n",
       "\n",
       "             volume  percent_change_price  percent_change_volume_over_last_wk  \\\n",
       "count  7.500000e+02            750.000000                          750.000000   \n",
       "mean   1.175478e+08              0.050262                            5.593627   \n",
       "std    1.584381e+08              2.517809                           39.723229   \n",
       "min    9.718851e+06            -15.422900                          -61.433175   \n",
       "25%    3.086624e+07             -1.288053                          -18.890959   \n",
       "50%    5.306088e+07              0.000000                            1.801868   \n",
       "75%    1.327218e+08              1.650888                           19.984489   \n",
       "max    1.453439e+09              9.882230                          327.408924   \n",
       "\n",
       "       previous_weeks_volume  next_weeks_open  next_weeks_close  \\\n",
       "count           7.500000e+02       750.000000        750.000000   \n",
       "mean            1.173876e+08        53.702440         53.889080   \n",
       "std             1.560107e+08        32.778111         33.016677   \n",
       "min             9.718851e+06        10.520000         10.520000   \n",
       "25%             3.127265e+07        30.315000         30.462500   \n",
       "50%             5.512882e+07        46.015000         46.125000   \n",
       "75%             1.296170e+08        72.715000         72.915000   \n",
       "max             1.453439e+09       172.110000        174.540000   \n",
       "\n",
       "       percent_change_next_weeks_price  days_to_next_dividend  \\\n",
       "count                       750.000000             750.000000   \n",
       "mean                          0.238468              52.525333   \n",
       "std                           2.679538              46.335098   \n",
       "min                         -15.422900               0.000000   \n",
       "25%                          -1.222068              24.000000   \n",
       "50%                           0.101193              47.000000   \n",
       "75%                           1.845562              69.000000   \n",
       "max                           9.882230             336.000000   \n",
       "\n",
       "       percent_return_next_dividend  \n",
       "count                    750.000000  \n",
       "mean                       0.691826  \n",
       "std                        0.305482  \n",
       "min                        0.065574  \n",
       "25%                        0.534549  \n",
       "50%                        0.681067  \n",
       "75%                        0.854291  \n",
       "max                        1.564210  "
      ]
     },
     "execution_count": 262,
     "metadata": {},
     "output_type": "execute_result"
    }
   ],
   "source": [
    "stock.describe()"
   ]
  },
  {
   "cell_type": "code",
   "execution_count": 263,
   "id": "9195949d",
   "metadata": {},
   "outputs": [],
   "source": [
    "stock['date'] = pd.to_datetime(stock['date'])"
   ]
  },
  {
   "cell_type": "code",
   "execution_count": 264,
   "id": "2a7c3527",
   "metadata": {
    "scrolled": true
   },
   "outputs": [
    {
     "data": {
      "text/html": [
       "<div>\n",
       "<style scoped>\n",
       "    .dataframe tbody tr th:only-of-type {\n",
       "        vertical-align: middle;\n",
       "    }\n",
       "\n",
       "    .dataframe tbody tr th {\n",
       "        vertical-align: top;\n",
       "    }\n",
       "\n",
       "    .dataframe thead th {\n",
       "        text-align: right;\n",
       "    }\n",
       "</style>\n",
       "<table border=\"1\" class=\"dataframe\">\n",
       "  <thead>\n",
       "    <tr style=\"text-align: right;\">\n",
       "      <th></th>\n",
       "      <th>quarter</th>\n",
       "      <th>stock</th>\n",
       "      <th>date</th>\n",
       "      <th>open</th>\n",
       "      <th>high</th>\n",
       "      <th>low</th>\n",
       "      <th>close</th>\n",
       "      <th>volume</th>\n",
       "      <th>percent_change_price</th>\n",
       "      <th>percent_change_volume_over_last_wk</th>\n",
       "      <th>previous_weeks_volume</th>\n",
       "      <th>next_weeks_open</th>\n",
       "      <th>next_weeks_close</th>\n",
       "      <th>percent_change_next_weeks_price</th>\n",
       "      <th>days_to_next_dividend</th>\n",
       "      <th>percent_return_next_dividend</th>\n",
       "    </tr>\n",
       "  </thead>\n",
       "  <tbody>\n",
       "    <tr>\n",
       "      <th>0</th>\n",
       "      <td>1</td>\n",
       "      <td>AA</td>\n",
       "      <td>2011-01-07</td>\n",
       "      <td>15.82</td>\n",
       "      <td>16.72</td>\n",
       "      <td>15.78</td>\n",
       "      <td>16.42</td>\n",
       "      <td>239655616</td>\n",
       "      <td>3.79267</td>\n",
       "      <td>5.593627</td>\n",
       "      <td>1.173876e+08</td>\n",
       "      <td>16.71</td>\n",
       "      <td>15.97</td>\n",
       "      <td>-4.428490</td>\n",
       "      <td>26</td>\n",
       "      <td>0.182704</td>\n",
       "    </tr>\n",
       "    <tr>\n",
       "      <th>1</th>\n",
       "      <td>1</td>\n",
       "      <td>AA</td>\n",
       "      <td>2011-01-14</td>\n",
       "      <td>16.71</td>\n",
       "      <td>16.71</td>\n",
       "      <td>15.64</td>\n",
       "      <td>15.97</td>\n",
       "      <td>242963398</td>\n",
       "      <td>-4.42849</td>\n",
       "      <td>1.380223</td>\n",
       "      <td>2.396556e+08</td>\n",
       "      <td>16.19</td>\n",
       "      <td>15.79</td>\n",
       "      <td>-2.470660</td>\n",
       "      <td>19</td>\n",
       "      <td>0.187852</td>\n",
       "    </tr>\n",
       "    <tr>\n",
       "      <th>2</th>\n",
       "      <td>1</td>\n",
       "      <td>AA</td>\n",
       "      <td>2011-01-21</td>\n",
       "      <td>16.19</td>\n",
       "      <td>16.38</td>\n",
       "      <td>15.60</td>\n",
       "      <td>15.79</td>\n",
       "      <td>138428495</td>\n",
       "      <td>-2.47066</td>\n",
       "      <td>-43.024959</td>\n",
       "      <td>2.429634e+08</td>\n",
       "      <td>15.87</td>\n",
       "      <td>16.13</td>\n",
       "      <td>1.638310</td>\n",
       "      <td>12</td>\n",
       "      <td>0.189994</td>\n",
       "    </tr>\n",
       "    <tr>\n",
       "      <th>3</th>\n",
       "      <td>1</td>\n",
       "      <td>AA</td>\n",
       "      <td>2011-01-28</td>\n",
       "      <td>15.87</td>\n",
       "      <td>16.63</td>\n",
       "      <td>15.82</td>\n",
       "      <td>16.13</td>\n",
       "      <td>151379173</td>\n",
       "      <td>1.63831</td>\n",
       "      <td>9.355500</td>\n",
       "      <td>1.384285e+08</td>\n",
       "      <td>16.18</td>\n",
       "      <td>17.14</td>\n",
       "      <td>5.933250</td>\n",
       "      <td>5</td>\n",
       "      <td>0.185989</td>\n",
       "    </tr>\n",
       "    <tr>\n",
       "      <th>4</th>\n",
       "      <td>1</td>\n",
       "      <td>AA</td>\n",
       "      <td>2011-02-04</td>\n",
       "      <td>16.18</td>\n",
       "      <td>17.39</td>\n",
       "      <td>16.18</td>\n",
       "      <td>17.14</td>\n",
       "      <td>154387761</td>\n",
       "      <td>5.93325</td>\n",
       "      <td>1.987452</td>\n",
       "      <td>1.513792e+08</td>\n",
       "      <td>17.33</td>\n",
       "      <td>17.37</td>\n",
       "      <td>0.230814</td>\n",
       "      <td>97</td>\n",
       "      <td>0.175029</td>\n",
       "    </tr>\n",
       "    <tr>\n",
       "      <th>...</th>\n",
       "      <td>...</td>\n",
       "      <td>...</td>\n",
       "      <td>...</td>\n",
       "      <td>...</td>\n",
       "      <td>...</td>\n",
       "      <td>...</td>\n",
       "      <td>...</td>\n",
       "      <td>...</td>\n",
       "      <td>...</td>\n",
       "      <td>...</td>\n",
       "      <td>...</td>\n",
       "      <td>...</td>\n",
       "      <td>...</td>\n",
       "      <td>...</td>\n",
       "      <td>...</td>\n",
       "      <td>...</td>\n",
       "    </tr>\n",
       "    <tr>\n",
       "      <th>745</th>\n",
       "      <td>2</td>\n",
       "      <td>XOM</td>\n",
       "      <td>2011-05-27</td>\n",
       "      <td>80.22</td>\n",
       "      <td>82.63</td>\n",
       "      <td>80.07</td>\n",
       "      <td>82.63</td>\n",
       "      <td>68230855</td>\n",
       "      <td>3.00424</td>\n",
       "      <td>-21.355713</td>\n",
       "      <td>8.675882e+07</td>\n",
       "      <td>83.28</td>\n",
       "      <td>81.18</td>\n",
       "      <td>-2.521610</td>\n",
       "      <td>75</td>\n",
       "      <td>0.568801</td>\n",
       "    </tr>\n",
       "    <tr>\n",
       "      <th>746</th>\n",
       "      <td>2</td>\n",
       "      <td>XOM</td>\n",
       "      <td>2011-06-03</td>\n",
       "      <td>83.28</td>\n",
       "      <td>83.75</td>\n",
       "      <td>80.18</td>\n",
       "      <td>81.18</td>\n",
       "      <td>78616295</td>\n",
       "      <td>-2.52161</td>\n",
       "      <td>15.221032</td>\n",
       "      <td>6.823086e+07</td>\n",
       "      <td>80.93</td>\n",
       "      <td>79.78</td>\n",
       "      <td>-1.420980</td>\n",
       "      <td>68</td>\n",
       "      <td>0.578960</td>\n",
       "    </tr>\n",
       "    <tr>\n",
       "      <th>747</th>\n",
       "      <td>2</td>\n",
       "      <td>XOM</td>\n",
       "      <td>2011-06-10</td>\n",
       "      <td>80.93</td>\n",
       "      <td>81.87</td>\n",
       "      <td>79.72</td>\n",
       "      <td>79.78</td>\n",
       "      <td>92380844</td>\n",
       "      <td>-1.42098</td>\n",
       "      <td>17.508519</td>\n",
       "      <td>7.861630e+07</td>\n",
       "      <td>80.00</td>\n",
       "      <td>79.02</td>\n",
       "      <td>-1.225000</td>\n",
       "      <td>61</td>\n",
       "      <td>0.589120</td>\n",
       "    </tr>\n",
       "    <tr>\n",
       "      <th>748</th>\n",
       "      <td>2</td>\n",
       "      <td>XOM</td>\n",
       "      <td>2011-06-17</td>\n",
       "      <td>80.00</td>\n",
       "      <td>80.82</td>\n",
       "      <td>78.33</td>\n",
       "      <td>79.02</td>\n",
       "      <td>100521400</td>\n",
       "      <td>-1.22500</td>\n",
       "      <td>8.811952</td>\n",
       "      <td>9.238084e+07</td>\n",
       "      <td>78.65</td>\n",
       "      <td>76.78</td>\n",
       "      <td>-2.377620</td>\n",
       "      <td>54</td>\n",
       "      <td>0.594786</td>\n",
       "    </tr>\n",
       "    <tr>\n",
       "      <th>749</th>\n",
       "      <td>2</td>\n",
       "      <td>XOM</td>\n",
       "      <td>2011-06-24</td>\n",
       "      <td>78.65</td>\n",
       "      <td>81.12</td>\n",
       "      <td>76.78</td>\n",
       "      <td>76.78</td>\n",
       "      <td>118679791</td>\n",
       "      <td>-2.37762</td>\n",
       "      <td>18.064204</td>\n",
       "      <td>1.005214e+08</td>\n",
       "      <td>76.88</td>\n",
       "      <td>82.01</td>\n",
       "      <td>6.672740</td>\n",
       "      <td>47</td>\n",
       "      <td>0.612139</td>\n",
       "    </tr>\n",
       "  </tbody>\n",
       "</table>\n",
       "<p>750 rows × 16 columns</p>\n",
       "</div>"
      ],
      "text/plain": [
       "     quarter stock       date   open   high    low  close     volume  \\\n",
       "0          1    AA 2011-01-07  15.82  16.72  15.78  16.42  239655616   \n",
       "1          1    AA 2011-01-14  16.71  16.71  15.64  15.97  242963398   \n",
       "2          1    AA 2011-01-21  16.19  16.38  15.60  15.79  138428495   \n",
       "3          1    AA 2011-01-28  15.87  16.63  15.82  16.13  151379173   \n",
       "4          1    AA 2011-02-04  16.18  17.39  16.18  17.14  154387761   \n",
       "..       ...   ...        ...    ...    ...    ...    ...        ...   \n",
       "745        2   XOM 2011-05-27  80.22  82.63  80.07  82.63   68230855   \n",
       "746        2   XOM 2011-06-03  83.28  83.75  80.18  81.18   78616295   \n",
       "747        2   XOM 2011-06-10  80.93  81.87  79.72  79.78   92380844   \n",
       "748        2   XOM 2011-06-17  80.00  80.82  78.33  79.02  100521400   \n",
       "749        2   XOM 2011-06-24  78.65  81.12  76.78  76.78  118679791   \n",
       "\n",
       "     percent_change_price  percent_change_volume_over_last_wk  \\\n",
       "0                 3.79267                            5.593627   \n",
       "1                -4.42849                            1.380223   \n",
       "2                -2.47066                          -43.024959   \n",
       "3                 1.63831                            9.355500   \n",
       "4                 5.93325                            1.987452   \n",
       "..                    ...                                 ...   \n",
       "745               3.00424                          -21.355713   \n",
       "746              -2.52161                           15.221032   \n",
       "747              -1.42098                           17.508519   \n",
       "748              -1.22500                            8.811952   \n",
       "749              -2.37762                           18.064204   \n",
       "\n",
       "     previous_weeks_volume  next_weeks_open  next_weeks_close  \\\n",
       "0             1.173876e+08            16.71             15.97   \n",
       "1             2.396556e+08            16.19             15.79   \n",
       "2             2.429634e+08            15.87             16.13   \n",
       "3             1.384285e+08            16.18             17.14   \n",
       "4             1.513792e+08            17.33             17.37   \n",
       "..                     ...              ...               ...   \n",
       "745           8.675882e+07            83.28             81.18   \n",
       "746           6.823086e+07            80.93             79.78   \n",
       "747           7.861630e+07            80.00             79.02   \n",
       "748           9.238084e+07            78.65             76.78   \n",
       "749           1.005214e+08            76.88             82.01   \n",
       "\n",
       "     percent_change_next_weeks_price  days_to_next_dividend  \\\n",
       "0                          -4.428490                     26   \n",
       "1                          -2.470660                     19   \n",
       "2                           1.638310                     12   \n",
       "3                           5.933250                      5   \n",
       "4                           0.230814                     97   \n",
       "..                               ...                    ...   \n",
       "745                        -2.521610                     75   \n",
       "746                        -1.420980                     68   \n",
       "747                        -1.225000                     61   \n",
       "748                        -2.377620                     54   \n",
       "749                         6.672740                     47   \n",
       "\n",
       "     percent_return_next_dividend  \n",
       "0                        0.182704  \n",
       "1                        0.187852  \n",
       "2                        0.189994  \n",
       "3                        0.185989  \n",
       "4                        0.175029  \n",
       "..                            ...  \n",
       "745                      0.568801  \n",
       "746                      0.578960  \n",
       "747                      0.589120  \n",
       "748                      0.594786  \n",
       "749                      0.612139  \n",
       "\n",
       "[750 rows x 16 columns]"
      ]
     },
     "execution_count": 264,
     "metadata": {},
     "output_type": "execute_result"
    }
   ],
   "source": [
    "stock"
   ]
  },
  {
   "cell_type": "code",
   "execution_count": 265,
   "id": "1081a15e",
   "metadata": {},
   "outputs": [],
   "source": [
    "next_week_price = stock[['quarter', 'stock', 'date','percent_change_next_weeks_price']]"
   ]
  },
  {
   "cell_type": "code",
   "execution_count": 267,
   "id": "113cf86c",
   "metadata": {},
   "outputs": [
    {
     "name": "stderr",
     "output_type": "stream",
     "text": [
      "C:\\Users\\digit\\AppData\\Local\\Temp\\ipykernel_20920\\3870099714.py:35: SettingWithCopyWarning:\n",
      "\n",
      "\n",
      "A value is trying to be set on a copy of a slice from a DataFrame.\n",
      "Try using .loc[row_indexer,col_indexer] = value instead\n",
      "\n",
      "See the caveats in the documentation: https://pandas.pydata.org/pandas-docs/stable/user_guide/indexing.html#returning-a-view-versus-a-copy\n",
      "\n"
     ]
    }
   ],
   "source": [
    "# create dictionary that maps stock symbols to industry or stock\n",
    "industry_sector_mapping = {'MMM': 'Industrial',\n",
    "    'AXP': 'Financial',\n",
    "    'AA': 'Industrial',\n",
    "    'T': 'Telecommunications',\n",
    "    'BAC': 'Financial',\n",
    "    'BA': 'Aerospace',\n",
    "    'CAT': 'Industrial',\n",
    "    'CVX': 'Energy',\n",
    "    'CSCO': 'Technology',\n",
    "    'KO': 'Beverage',\n",
    "    'DD': 'Chemical',\n",
    "    'XOM': 'Energy',\n",
    "    'GE': 'Industrial',\n",
    "    'HPQ': 'Technology',\n",
    "    'HD': 'Retail',\n",
    "    'INTC': 'Technology',\n",
    "    'IBM': 'Technology',\n",
    "    'JNJ': 'Healthcare',\n",
    "    'JPM': 'Financial',\n",
    "    'KRFT': 'Food',\n",
    "    'MCD': 'Restaurant',\n",
    "    'MRK': 'Pharmaceutical',\n",
    "    'MSFT': 'Technology',\n",
    "    'PFE': 'Pharmaceutical',\n",
    "    'PG': 'Consumer',\n",
    "    'TRV': 'Financial',\n",
    "    'UTX': 'Aerospace',\n",
    "    'VZ': 'Telecommunications',\n",
    "    'WMT': 'Retail',\n",
    "    'DIS': 'Entertainment'\n",
    "}\n",
    "\n",
    "# create industry sector column in next_week_price dataframe\n",
    "next_week_price['industry_sector'] = next_week_price['stock'].map(industry_sector_mapping)"
   ]
  },
  {
   "cell_type": "code",
   "execution_count": 268,
   "id": "7e847f3a",
   "metadata": {},
   "outputs": [
    {
     "data": {
      "text/html": [
       "<div>\n",
       "<style scoped>\n",
       "    .dataframe tbody tr th:only-of-type {\n",
       "        vertical-align: middle;\n",
       "    }\n",
       "\n",
       "    .dataframe tbody tr th {\n",
       "        vertical-align: top;\n",
       "    }\n",
       "\n",
       "    .dataframe thead th {\n",
       "        text-align: right;\n",
       "    }\n",
       "</style>\n",
       "<table border=\"1\" class=\"dataframe\">\n",
       "  <thead>\n",
       "    <tr style=\"text-align: right;\">\n",
       "      <th></th>\n",
       "      <th>quarter</th>\n",
       "      <th>stock</th>\n",
       "      <th>date</th>\n",
       "      <th>percent_change_next_weeks_price</th>\n",
       "      <th>industry_sector</th>\n",
       "    </tr>\n",
       "  </thead>\n",
       "  <tbody>\n",
       "    <tr>\n",
       "      <th>0</th>\n",
       "      <td>1</td>\n",
       "      <td>AA</td>\n",
       "      <td>2011-01-07</td>\n",
       "      <td>-4.428490</td>\n",
       "      <td>Industrial</td>\n",
       "    </tr>\n",
       "    <tr>\n",
       "      <th>1</th>\n",
       "      <td>1</td>\n",
       "      <td>AA</td>\n",
       "      <td>2011-01-14</td>\n",
       "      <td>-2.470660</td>\n",
       "      <td>Industrial</td>\n",
       "    </tr>\n",
       "    <tr>\n",
       "      <th>2</th>\n",
       "      <td>1</td>\n",
       "      <td>AA</td>\n",
       "      <td>2011-01-21</td>\n",
       "      <td>1.638310</td>\n",
       "      <td>Industrial</td>\n",
       "    </tr>\n",
       "    <tr>\n",
       "      <th>3</th>\n",
       "      <td>1</td>\n",
       "      <td>AA</td>\n",
       "      <td>2011-01-28</td>\n",
       "      <td>5.933250</td>\n",
       "      <td>Industrial</td>\n",
       "    </tr>\n",
       "    <tr>\n",
       "      <th>4</th>\n",
       "      <td>1</td>\n",
       "      <td>AA</td>\n",
       "      <td>2011-02-04</td>\n",
       "      <td>0.230814</td>\n",
       "      <td>Industrial</td>\n",
       "    </tr>\n",
       "    <tr>\n",
       "      <th>...</th>\n",
       "      <td>...</td>\n",
       "      <td>...</td>\n",
       "      <td>...</td>\n",
       "      <td>...</td>\n",
       "      <td>...</td>\n",
       "    </tr>\n",
       "    <tr>\n",
       "      <th>745</th>\n",
       "      <td>2</td>\n",
       "      <td>XOM</td>\n",
       "      <td>2011-05-27</td>\n",
       "      <td>-2.521610</td>\n",
       "      <td>Energy</td>\n",
       "    </tr>\n",
       "    <tr>\n",
       "      <th>746</th>\n",
       "      <td>2</td>\n",
       "      <td>XOM</td>\n",
       "      <td>2011-06-03</td>\n",
       "      <td>-1.420980</td>\n",
       "      <td>Energy</td>\n",
       "    </tr>\n",
       "    <tr>\n",
       "      <th>747</th>\n",
       "      <td>2</td>\n",
       "      <td>XOM</td>\n",
       "      <td>2011-06-10</td>\n",
       "      <td>-1.225000</td>\n",
       "      <td>Energy</td>\n",
       "    </tr>\n",
       "    <tr>\n",
       "      <th>748</th>\n",
       "      <td>2</td>\n",
       "      <td>XOM</td>\n",
       "      <td>2011-06-17</td>\n",
       "      <td>-2.377620</td>\n",
       "      <td>Energy</td>\n",
       "    </tr>\n",
       "    <tr>\n",
       "      <th>749</th>\n",
       "      <td>2</td>\n",
       "      <td>XOM</td>\n",
       "      <td>2011-06-24</td>\n",
       "      <td>6.672740</td>\n",
       "      <td>Energy</td>\n",
       "    </tr>\n",
       "  </tbody>\n",
       "</table>\n",
       "<p>750 rows × 5 columns</p>\n",
       "</div>"
      ],
      "text/plain": [
       "     quarter stock       date  percent_change_next_weeks_price industry_sector\n",
       "0          1    AA 2011-01-07                        -4.428490      Industrial\n",
       "1          1    AA 2011-01-14                        -2.470660      Industrial\n",
       "2          1    AA 2011-01-21                         1.638310      Industrial\n",
       "3          1    AA 2011-01-28                         5.933250      Industrial\n",
       "4          1    AA 2011-02-04                         0.230814      Industrial\n",
       "..       ...   ...        ...                              ...             ...\n",
       "745        2   XOM 2011-05-27                        -2.521610          Energy\n",
       "746        2   XOM 2011-06-03                        -1.420980          Energy\n",
       "747        2   XOM 2011-06-10                        -1.225000          Energy\n",
       "748        2   XOM 2011-06-17                        -2.377620          Energy\n",
       "749        2   XOM 2011-06-24                         6.672740          Energy\n",
       "\n",
       "[750 rows x 5 columns]"
      ]
     },
     "execution_count": 268,
     "metadata": {},
     "output_type": "execute_result"
    }
   ],
   "source": [
    "next_week_price"
   ]
  },
  {
   "cell_type": "code",
   "execution_count": 269,
   "id": "2ac30439",
   "metadata": {},
   "outputs": [
    {
     "name": "stderr",
     "output_type": "stream",
     "text": [
      "C:\\Users\\digit\\AppData\\Local\\Temp\\ipykernel_20920\\2259546547.py:3: SettingWithCopyWarning:\n",
      "\n",
      "\n",
      "A value is trying to be set on a copy of a slice from a DataFrame.\n",
      "Try using .loc[row_indexer,col_indexer] = value instead\n",
      "\n",
      "See the caveats in the documentation: https://pandas.pydata.org/pandas-docs/stable/user_guide/indexing.html#returning-a-view-versus-a-copy\n",
      "\n",
      "C:\\Users\\digit\\AppData\\Local\\Temp\\ipykernel_20920\\2259546547.py:14: SettingWithCopyWarning:\n",
      "\n",
      "\n",
      "A value is trying to be set on a copy of a slice from a DataFrame.\n",
      "Try using .loc[row_indexer,col_indexer] = value instead\n",
      "\n",
      "See the caveats in the documentation: https://pandas.pydata.org/pandas-docs/stable/user_guide/indexing.html#returning-a-view-versus-a-copy\n",
      "\n"
     ]
    }
   ],
   "source": [
    "# subsetting again\n",
    "# create 'sector' column by mapping the stock symbols to sector categories\n",
    "next_week_price['sector']=next_week_price['industry_sector'].map(industry_sector_mapping)\n",
    "def classify_sector(sector):\n",
    "    primary_sectors = ['Telecommunications', 'Beverage', 'Healthcare']\n",
    "    secondary_sectors = ['Industrial', 'Aerospace', 'Energy', 'Technology', 'Chemical']\n",
    "    if sector in primary_sectors:\n",
    "        return 'Primary Sector'\n",
    "    elif sector in secondary_sectors:\n",
    "        return 'Secondary Sector'\n",
    "    else:\n",
    "        return 'Tertiary Sector'\n",
    "    \n",
    "next_week_price['sector']=next_week_price['industry_sector'].apply(classify_sector)"
   ]
  },
  {
   "cell_type": "code",
   "execution_count": 270,
   "id": "e4a9d49e",
   "metadata": {
    "scrolled": true
   },
   "outputs": [
    {
     "data": {
      "text/html": [
       "<div>\n",
       "<style scoped>\n",
       "    .dataframe tbody tr th:only-of-type {\n",
       "        vertical-align: middle;\n",
       "    }\n",
       "\n",
       "    .dataframe tbody tr th {\n",
       "        vertical-align: top;\n",
       "    }\n",
       "\n",
       "    .dataframe thead th {\n",
       "        text-align: right;\n",
       "    }\n",
       "</style>\n",
       "<table border=\"1\" class=\"dataframe\">\n",
       "  <thead>\n",
       "    <tr style=\"text-align: right;\">\n",
       "      <th></th>\n",
       "      <th>quarter</th>\n",
       "      <th>stock</th>\n",
       "      <th>date</th>\n",
       "      <th>percent_change_next_weeks_price</th>\n",
       "      <th>industry_sector</th>\n",
       "      <th>sector</th>\n",
       "    </tr>\n",
       "  </thead>\n",
       "  <tbody>\n",
       "    <tr>\n",
       "      <th>0</th>\n",
       "      <td>1</td>\n",
       "      <td>AA</td>\n",
       "      <td>2011-01-07</td>\n",
       "      <td>-4.428490</td>\n",
       "      <td>Industrial</td>\n",
       "      <td>Secondary Sector</td>\n",
       "    </tr>\n",
       "    <tr>\n",
       "      <th>1</th>\n",
       "      <td>1</td>\n",
       "      <td>AA</td>\n",
       "      <td>2011-01-14</td>\n",
       "      <td>-2.470660</td>\n",
       "      <td>Industrial</td>\n",
       "      <td>Secondary Sector</td>\n",
       "    </tr>\n",
       "    <tr>\n",
       "      <th>2</th>\n",
       "      <td>1</td>\n",
       "      <td>AA</td>\n",
       "      <td>2011-01-21</td>\n",
       "      <td>1.638310</td>\n",
       "      <td>Industrial</td>\n",
       "      <td>Secondary Sector</td>\n",
       "    </tr>\n",
       "    <tr>\n",
       "      <th>3</th>\n",
       "      <td>1</td>\n",
       "      <td>AA</td>\n",
       "      <td>2011-01-28</td>\n",
       "      <td>5.933250</td>\n",
       "      <td>Industrial</td>\n",
       "      <td>Secondary Sector</td>\n",
       "    </tr>\n",
       "    <tr>\n",
       "      <th>4</th>\n",
       "      <td>1</td>\n",
       "      <td>AA</td>\n",
       "      <td>2011-02-04</td>\n",
       "      <td>0.230814</td>\n",
       "      <td>Industrial</td>\n",
       "      <td>Secondary Sector</td>\n",
       "    </tr>\n",
       "    <tr>\n",
       "      <th>...</th>\n",
       "      <td>...</td>\n",
       "      <td>...</td>\n",
       "      <td>...</td>\n",
       "      <td>...</td>\n",
       "      <td>...</td>\n",
       "      <td>...</td>\n",
       "    </tr>\n",
       "    <tr>\n",
       "      <th>745</th>\n",
       "      <td>2</td>\n",
       "      <td>XOM</td>\n",
       "      <td>2011-05-27</td>\n",
       "      <td>-2.521610</td>\n",
       "      <td>Energy</td>\n",
       "      <td>Secondary Sector</td>\n",
       "    </tr>\n",
       "    <tr>\n",
       "      <th>746</th>\n",
       "      <td>2</td>\n",
       "      <td>XOM</td>\n",
       "      <td>2011-06-03</td>\n",
       "      <td>-1.420980</td>\n",
       "      <td>Energy</td>\n",
       "      <td>Secondary Sector</td>\n",
       "    </tr>\n",
       "    <tr>\n",
       "      <th>747</th>\n",
       "      <td>2</td>\n",
       "      <td>XOM</td>\n",
       "      <td>2011-06-10</td>\n",
       "      <td>-1.225000</td>\n",
       "      <td>Energy</td>\n",
       "      <td>Secondary Sector</td>\n",
       "    </tr>\n",
       "    <tr>\n",
       "      <th>748</th>\n",
       "      <td>2</td>\n",
       "      <td>XOM</td>\n",
       "      <td>2011-06-17</td>\n",
       "      <td>-2.377620</td>\n",
       "      <td>Energy</td>\n",
       "      <td>Secondary Sector</td>\n",
       "    </tr>\n",
       "    <tr>\n",
       "      <th>749</th>\n",
       "      <td>2</td>\n",
       "      <td>XOM</td>\n",
       "      <td>2011-06-24</td>\n",
       "      <td>6.672740</td>\n",
       "      <td>Energy</td>\n",
       "      <td>Secondary Sector</td>\n",
       "    </tr>\n",
       "  </tbody>\n",
       "</table>\n",
       "<p>750 rows × 6 columns</p>\n",
       "</div>"
      ],
      "text/plain": [
       "     quarter stock       date  percent_change_next_weeks_price  \\\n",
       "0          1    AA 2011-01-07                        -4.428490   \n",
       "1          1    AA 2011-01-14                        -2.470660   \n",
       "2          1    AA 2011-01-21                         1.638310   \n",
       "3          1    AA 2011-01-28                         5.933250   \n",
       "4          1    AA 2011-02-04                         0.230814   \n",
       "..       ...   ...        ...                              ...   \n",
       "745        2   XOM 2011-05-27                        -2.521610   \n",
       "746        2   XOM 2011-06-03                        -1.420980   \n",
       "747        2   XOM 2011-06-10                        -1.225000   \n",
       "748        2   XOM 2011-06-17                        -2.377620   \n",
       "749        2   XOM 2011-06-24                         6.672740   \n",
       "\n",
       "    industry_sector            sector  \n",
       "0        Industrial  Secondary Sector  \n",
       "1        Industrial  Secondary Sector  \n",
       "2        Industrial  Secondary Sector  \n",
       "3        Industrial  Secondary Sector  \n",
       "4        Industrial  Secondary Sector  \n",
       "..              ...               ...  \n",
       "745          Energy  Secondary Sector  \n",
       "746          Energy  Secondary Sector  \n",
       "747          Energy  Secondary Sector  \n",
       "748          Energy  Secondary Sector  \n",
       "749          Energy  Secondary Sector  \n",
       "\n",
       "[750 rows x 6 columns]"
      ]
     },
     "execution_count": 270,
     "metadata": {},
     "output_type": "execute_result"
    }
   ],
   "source": [
    "next_week_price"
   ]
  },
  {
   "cell_type": "code",
   "execution_count": 271,
   "id": "56f20082",
   "metadata": {},
   "outputs": [],
   "source": [
    "# filter by sector\n",
    "pri_sector_next_wk = next_week_price[next_week_price['sector'] == 'Primary Sector']\n",
    "sec_sector_next_wk = next_week_price[next_week_price['sector'] == 'Secondary Sector']\n",
    "ter_sector_next_wk = next_week_price[next_week_price['sector'] == 'Tertiary Sector']"
   ]
  },
  {
   "cell_type": "code",
   "execution_count": 272,
   "id": "f34a9652",
   "metadata": {},
   "outputs": [
    {
     "data": {
      "text/html": [
       "<div>\n",
       "<style scoped>\n",
       "    .dataframe tbody tr th:only-of-type {\n",
       "        vertical-align: middle;\n",
       "    }\n",
       "\n",
       "    .dataframe tbody tr th {\n",
       "        vertical-align: top;\n",
       "    }\n",
       "\n",
       "    .dataframe thead th {\n",
       "        text-align: right;\n",
       "    }\n",
       "</style>\n",
       "<table border=\"1\" class=\"dataframe\">\n",
       "  <thead>\n",
       "    <tr style=\"text-align: right;\">\n",
       "      <th></th>\n",
       "      <th>quarter</th>\n",
       "      <th>stock</th>\n",
       "      <th>date</th>\n",
       "      <th>percent_change_next_weeks_price</th>\n",
       "      <th>industry_sector</th>\n",
       "      <th>sector</th>\n",
       "    </tr>\n",
       "  </thead>\n",
       "  <tbody>\n",
       "    <tr>\n",
       "      <th>168</th>\n",
       "      <td>1</td>\n",
       "      <td>JNJ</td>\n",
       "      <td>2011-01-07</td>\n",
       "      <td>0.417402</td>\n",
       "      <td>Healthcare</td>\n",
       "      <td>Primary Sector</td>\n",
       "    </tr>\n",
       "    <tr>\n",
       "      <th>169</th>\n",
       "      <td>1</td>\n",
       "      <td>JNJ</td>\n",
       "      <td>2011-01-14</td>\n",
       "      <td>0.723356</td>\n",
       "      <td>Healthcare</td>\n",
       "      <td>Primary Sector</td>\n",
       "    </tr>\n",
       "    <tr>\n",
       "      <th>170</th>\n",
       "      <td>1</td>\n",
       "      <td>JNJ</td>\n",
       "      <td>2011-01-21</td>\n",
       "      <td>-4.076090</td>\n",
       "      <td>Healthcare</td>\n",
       "      <td>Primary Sector</td>\n",
       "    </tr>\n",
       "    <tr>\n",
       "      <th>171</th>\n",
       "      <td>1</td>\n",
       "      <td>JNJ</td>\n",
       "      <td>2011-01-28</td>\n",
       "      <td>1.130320</td>\n",
       "      <td>Healthcare</td>\n",
       "      <td>Primary Sector</td>\n",
       "    </tr>\n",
       "    <tr>\n",
       "      <th>172</th>\n",
       "      <td>1</td>\n",
       "      <td>JNJ</td>\n",
       "      <td>2011-02-04</td>\n",
       "      <td>-0.295664</td>\n",
       "      <td>Healthcare</td>\n",
       "      <td>Primary Sector</td>\n",
       "    </tr>\n",
       "    <tr>\n",
       "      <th>...</th>\n",
       "      <td>...</td>\n",
       "      <td>...</td>\n",
       "      <td>...</td>\n",
       "      <td>...</td>\n",
       "      <td>...</td>\n",
       "      <td>...</td>\n",
       "    </tr>\n",
       "    <tr>\n",
       "      <th>719</th>\n",
       "      <td>2</td>\n",
       "      <td>VZ</td>\n",
       "      <td>2011-05-27</td>\n",
       "      <td>-3.467890</td>\n",
       "      <td>Telecommunications</td>\n",
       "      <td>Primary Sector</td>\n",
       "    </tr>\n",
       "    <tr>\n",
       "      <th>720</th>\n",
       "      <td>2</td>\n",
       "      <td>VZ</td>\n",
       "      <td>2011-06-03</td>\n",
       "      <td>-1.068320</td>\n",
       "      <td>Telecommunications</td>\n",
       "      <td>Primary Sector</td>\n",
       "    </tr>\n",
       "    <tr>\n",
       "      <th>721</th>\n",
       "      <td>2</td>\n",
       "      <td>VZ</td>\n",
       "      <td>2011-06-10</td>\n",
       "      <td>0.794777</td>\n",
       "      <td>Telecommunications</td>\n",
       "      <td>Primary Sector</td>\n",
       "    </tr>\n",
       "    <tr>\n",
       "      <th>722</th>\n",
       "      <td>2</td>\n",
       "      <td>VZ</td>\n",
       "      <td>2011-06-17</td>\n",
       "      <td>1.838760</td>\n",
       "      <td>Telecommunications</td>\n",
       "      <td>Primary Sector</td>\n",
       "    </tr>\n",
       "    <tr>\n",
       "      <th>723</th>\n",
       "      <td>2</td>\n",
       "      <td>VZ</td>\n",
       "      <td>2011-06-24</td>\n",
       "      <td>5.000000</td>\n",
       "      <td>Telecommunications</td>\n",
       "      <td>Primary Sector</td>\n",
       "    </tr>\n",
       "  </tbody>\n",
       "</table>\n",
       "<p>100 rows × 6 columns</p>\n",
       "</div>"
      ],
      "text/plain": [
       "     quarter stock       date  percent_change_next_weeks_price  \\\n",
       "168        1   JNJ 2011-01-07                         0.417402   \n",
       "169        1   JNJ 2011-01-14                         0.723356   \n",
       "170        1   JNJ 2011-01-21                        -4.076090   \n",
       "171        1   JNJ 2011-01-28                         1.130320   \n",
       "172        1   JNJ 2011-02-04                        -0.295664   \n",
       "..       ...   ...        ...                              ...   \n",
       "719        2    VZ 2011-05-27                        -3.467890   \n",
       "720        2    VZ 2011-06-03                        -1.068320   \n",
       "721        2    VZ 2011-06-10                         0.794777   \n",
       "722        2    VZ 2011-06-17                         1.838760   \n",
       "723        2    VZ 2011-06-24                         5.000000   \n",
       "\n",
       "        industry_sector          sector  \n",
       "168          Healthcare  Primary Sector  \n",
       "169          Healthcare  Primary Sector  \n",
       "170          Healthcare  Primary Sector  \n",
       "171          Healthcare  Primary Sector  \n",
       "172          Healthcare  Primary Sector  \n",
       "..                  ...             ...  \n",
       "719  Telecommunications  Primary Sector  \n",
       "720  Telecommunications  Primary Sector  \n",
       "721  Telecommunications  Primary Sector  \n",
       "722  Telecommunications  Primary Sector  \n",
       "723  Telecommunications  Primary Sector  \n",
       "\n",
       "[100 rows x 6 columns]"
      ]
     },
     "execution_count": 272,
     "metadata": {},
     "output_type": "execute_result"
    }
   ],
   "source": [
    "pri_sector_next_wk"
   ]
  },
  {
   "cell_type": "code",
   "execution_count": 152,
   "id": "741f56f2",
   "metadata": {},
   "outputs": [
    {
     "data": {
      "text/html": [
       "<div>\n",
       "<style scoped>\n",
       "    .dataframe tbody tr th:only-of-type {\n",
       "        vertical-align: middle;\n",
       "    }\n",
       "\n",
       "    .dataframe tbody tr th {\n",
       "        vertical-align: top;\n",
       "    }\n",
       "\n",
       "    .dataframe thead th {\n",
       "        text-align: right;\n",
       "    }\n",
       "</style>\n",
       "<table border=\"1\" class=\"dataframe\">\n",
       "  <thead>\n",
       "    <tr style=\"text-align: right;\">\n",
       "      <th></th>\n",
       "      <th>quarter</th>\n",
       "      <th>stock</th>\n",
       "      <th>date</th>\n",
       "      <th>percent_change_next_weeks_price</th>\n",
       "      <th>industry_sector</th>\n",
       "      <th>sector</th>\n",
       "    </tr>\n",
       "  </thead>\n",
       "  <tbody>\n",
       "    <tr>\n",
       "      <th>0</th>\n",
       "      <td>1</td>\n",
       "      <td>AA</td>\n",
       "      <td>2011-01-07</td>\n",
       "      <td>-4.428490</td>\n",
       "      <td>Industrial</td>\n",
       "      <td>Secondary Sector</td>\n",
       "    </tr>\n",
       "    <tr>\n",
       "      <th>1</th>\n",
       "      <td>1</td>\n",
       "      <td>AA</td>\n",
       "      <td>2011-01-14</td>\n",
       "      <td>-2.470660</td>\n",
       "      <td>Industrial</td>\n",
       "      <td>Secondary Sector</td>\n",
       "    </tr>\n",
       "    <tr>\n",
       "      <th>2</th>\n",
       "      <td>1</td>\n",
       "      <td>AA</td>\n",
       "      <td>2011-01-21</td>\n",
       "      <td>1.638310</td>\n",
       "      <td>Industrial</td>\n",
       "      <td>Secondary Sector</td>\n",
       "    </tr>\n",
       "    <tr>\n",
       "      <th>3</th>\n",
       "      <td>1</td>\n",
       "      <td>AA</td>\n",
       "      <td>2011-01-28</td>\n",
       "      <td>5.933250</td>\n",
       "      <td>Industrial</td>\n",
       "      <td>Secondary Sector</td>\n",
       "    </tr>\n",
       "    <tr>\n",
       "      <th>4</th>\n",
       "      <td>1</td>\n",
       "      <td>AA</td>\n",
       "      <td>2011-02-04</td>\n",
       "      <td>0.230814</td>\n",
       "      <td>Industrial</td>\n",
       "      <td>Secondary Sector</td>\n",
       "    </tr>\n",
       "    <tr>\n",
       "      <th>...</th>\n",
       "      <td>...</td>\n",
       "      <td>...</td>\n",
       "      <td>...</td>\n",
       "      <td>...</td>\n",
       "      <td>...</td>\n",
       "      <td>...</td>\n",
       "    </tr>\n",
       "    <tr>\n",
       "      <th>745</th>\n",
       "      <td>2</td>\n",
       "      <td>XOM</td>\n",
       "      <td>2011-05-27</td>\n",
       "      <td>-2.521610</td>\n",
       "      <td>Energy</td>\n",
       "      <td>Secondary Sector</td>\n",
       "    </tr>\n",
       "    <tr>\n",
       "      <th>746</th>\n",
       "      <td>2</td>\n",
       "      <td>XOM</td>\n",
       "      <td>2011-06-03</td>\n",
       "      <td>-1.420980</td>\n",
       "      <td>Energy</td>\n",
       "      <td>Secondary Sector</td>\n",
       "    </tr>\n",
       "    <tr>\n",
       "      <th>747</th>\n",
       "      <td>2</td>\n",
       "      <td>XOM</td>\n",
       "      <td>2011-06-10</td>\n",
       "      <td>-1.225000</td>\n",
       "      <td>Energy</td>\n",
       "      <td>Secondary Sector</td>\n",
       "    </tr>\n",
       "    <tr>\n",
       "      <th>748</th>\n",
       "      <td>2</td>\n",
       "      <td>XOM</td>\n",
       "      <td>2011-06-17</td>\n",
       "      <td>-2.377620</td>\n",
       "      <td>Energy</td>\n",
       "      <td>Secondary Sector</td>\n",
       "    </tr>\n",
       "    <tr>\n",
       "      <th>749</th>\n",
       "      <td>2</td>\n",
       "      <td>XOM</td>\n",
       "      <td>2011-06-24</td>\n",
       "      <td>6.672740</td>\n",
       "      <td>Energy</td>\n",
       "      <td>Secondary Sector</td>\n",
       "    </tr>\n",
       "  </tbody>\n",
       "</table>\n",
       "<p>350 rows × 6 columns</p>\n",
       "</div>"
      ],
      "text/plain": [
       "     quarter stock       date  percent_change_next_weeks_price  \\\n",
       "0          1    AA 2011-01-07                        -4.428490   \n",
       "1          1    AA 2011-01-14                        -2.470660   \n",
       "2          1    AA 2011-01-21                         1.638310   \n",
       "3          1    AA 2011-01-28                         5.933250   \n",
       "4          1    AA 2011-02-04                         0.230814   \n",
       "..       ...   ...        ...                              ...   \n",
       "745        2   XOM 2011-05-27                        -2.521610   \n",
       "746        2   XOM 2011-06-03                        -1.420980   \n",
       "747        2   XOM 2011-06-10                        -1.225000   \n",
       "748        2   XOM 2011-06-17                        -2.377620   \n",
       "749        2   XOM 2011-06-24                         6.672740   \n",
       "\n",
       "    industry_sector            sector  \n",
       "0        Industrial  Secondary Sector  \n",
       "1        Industrial  Secondary Sector  \n",
       "2        Industrial  Secondary Sector  \n",
       "3        Industrial  Secondary Sector  \n",
       "4        Industrial  Secondary Sector  \n",
       "..              ...               ...  \n",
       "745          Energy  Secondary Sector  \n",
       "746          Energy  Secondary Sector  \n",
       "747          Energy  Secondary Sector  \n",
       "748          Energy  Secondary Sector  \n",
       "749          Energy  Secondary Sector  \n",
       "\n",
       "[350 rows x 6 columns]"
      ]
     },
     "execution_count": 152,
     "metadata": {},
     "output_type": "execute_result"
    }
   ],
   "source": [
    "sec_sector_next_wk"
   ]
  },
  {
   "cell_type": "code",
   "execution_count": 153,
   "id": "75f3fb5b",
   "metadata": {},
   "outputs": [
    {
     "data": {
      "text/html": [
       "<div>\n",
       "<style scoped>\n",
       "    .dataframe tbody tr th:only-of-type {\n",
       "        vertical-align: middle;\n",
       "    }\n",
       "\n",
       "    .dataframe tbody tr th {\n",
       "        vertical-align: top;\n",
       "    }\n",
       "\n",
       "    .dataframe thead th {\n",
       "        text-align: right;\n",
       "    }\n",
       "</style>\n",
       "<table border=\"1\" class=\"dataframe\">\n",
       "  <thead>\n",
       "    <tr style=\"text-align: right;\">\n",
       "      <th></th>\n",
       "      <th>quarter</th>\n",
       "      <th>stock</th>\n",
       "      <th>date</th>\n",
       "      <th>percent_change_next_weeks_price</th>\n",
       "      <th>industry_sector</th>\n",
       "      <th>sector</th>\n",
       "    </tr>\n",
       "  </thead>\n",
       "  <tbody>\n",
       "    <tr>\n",
       "      <th>12</th>\n",
       "      <td>1</td>\n",
       "      <td>AXP</td>\n",
       "      <td>2011-01-07</td>\n",
       "      <td>4.638010</td>\n",
       "      <td>Financial</td>\n",
       "      <td>Tertiary Sector</td>\n",
       "    </tr>\n",
       "    <tr>\n",
       "      <th>13</th>\n",
       "      <td>1</td>\n",
       "      <td>AXP</td>\n",
       "      <td>2011-01-14</td>\n",
       "      <td>-0.065175</td>\n",
       "      <td>Financial</td>\n",
       "      <td>Tertiary Sector</td>\n",
       "    </tr>\n",
       "    <tr>\n",
       "      <th>14</th>\n",
       "      <td>1</td>\n",
       "      <td>AXP</td>\n",
       "      <td>2011-01-21</td>\n",
       "      <td>-4.755700</td>\n",
       "      <td>Financial</td>\n",
       "      <td>Tertiary Sector</td>\n",
       "    </tr>\n",
       "    <tr>\n",
       "      <th>15</th>\n",
       "      <td>1</td>\n",
       "      <td>AXP</td>\n",
       "      <td>2011-01-28</td>\n",
       "      <td>-0.702470</td>\n",
       "      <td>Financial</td>\n",
       "      <td>Tertiary Sector</td>\n",
       "    </tr>\n",
       "    <tr>\n",
       "      <th>16</th>\n",
       "      <td>1</td>\n",
       "      <td>AXP</td>\n",
       "      <td>2011-02-04</td>\n",
       "      <td>6.346680</td>\n",
       "      <td>Financial</td>\n",
       "      <td>Tertiary Sector</td>\n",
       "    </tr>\n",
       "    <tr>\n",
       "      <th>...</th>\n",
       "      <td>...</td>\n",
       "      <td>...</td>\n",
       "      <td>...</td>\n",
       "      <td>...</td>\n",
       "      <td>...</td>\n",
       "      <td>...</td>\n",
       "    </tr>\n",
       "    <tr>\n",
       "      <th>732</th>\n",
       "      <td>2</td>\n",
       "      <td>WMT</td>\n",
       "      <td>2011-05-27</td>\n",
       "      <td>-2.223030</td>\n",
       "      <td>Retail</td>\n",
       "      <td>Tertiary Sector</td>\n",
       "    </tr>\n",
       "    <tr>\n",
       "      <th>733</th>\n",
       "      <td>2</td>\n",
       "      <td>WMT</td>\n",
       "      <td>2011-06-03</td>\n",
       "      <td>-2.116600</td>\n",
       "      <td>Retail</td>\n",
       "      <td>Tertiary Sector</td>\n",
       "    </tr>\n",
       "    <tr>\n",
       "      <th>734</th>\n",
       "      <td>2</td>\n",
       "      <td>WMT</td>\n",
       "      <td>2011-06-10</td>\n",
       "      <td>-0.170100</td>\n",
       "      <td>Retail</td>\n",
       "      <td>Tertiary Sector</td>\n",
       "    </tr>\n",
       "    <tr>\n",
       "      <th>735</th>\n",
       "      <td>2</td>\n",
       "      <td>WMT</td>\n",
       "      <td>2011-06-17</td>\n",
       "      <td>-0.550285</td>\n",
       "      <td>Retail</td>\n",
       "      <td>Tertiary Sector</td>\n",
       "    </tr>\n",
       "    <tr>\n",
       "      <th>736</th>\n",
       "      <td>2</td>\n",
       "      <td>WMT</td>\n",
       "      <td>2011-06-24</td>\n",
       "      <td>2.274460</td>\n",
       "      <td>Retail</td>\n",
       "      <td>Tertiary Sector</td>\n",
       "    </tr>\n",
       "  </tbody>\n",
       "</table>\n",
       "<p>300 rows × 6 columns</p>\n",
       "</div>"
      ],
      "text/plain": [
       "     quarter stock       date  percent_change_next_weeks_price  \\\n",
       "12         1   AXP 2011-01-07                         4.638010   \n",
       "13         1   AXP 2011-01-14                        -0.065175   \n",
       "14         1   AXP 2011-01-21                        -4.755700   \n",
       "15         1   AXP 2011-01-28                        -0.702470   \n",
       "16         1   AXP 2011-02-04                         6.346680   \n",
       "..       ...   ...        ...                              ...   \n",
       "732        2   WMT 2011-05-27                        -2.223030   \n",
       "733        2   WMT 2011-06-03                        -2.116600   \n",
       "734        2   WMT 2011-06-10                        -0.170100   \n",
       "735        2   WMT 2011-06-17                        -0.550285   \n",
       "736        2   WMT 2011-06-24                         2.274460   \n",
       "\n",
       "    industry_sector           sector  \n",
       "12        Financial  Tertiary Sector  \n",
       "13        Financial  Tertiary Sector  \n",
       "14        Financial  Tertiary Sector  \n",
       "15        Financial  Tertiary Sector  \n",
       "16        Financial  Tertiary Sector  \n",
       "..              ...              ...  \n",
       "732          Retail  Tertiary Sector  \n",
       "733          Retail  Tertiary Sector  \n",
       "734          Retail  Tertiary Sector  \n",
       "735          Retail  Tertiary Sector  \n",
       "736          Retail  Tertiary Sector  \n",
       "\n",
       "[300 rows x 6 columns]"
      ]
     },
     "execution_count": 153,
     "metadata": {},
     "output_type": "execute_result"
    }
   ],
   "source": [
    "ter_sector_next_wk"
   ]
  },
  {
   "cell_type": "markdown",
   "id": "d5afee56",
   "metadata": {},
   "source": [
    "# Exploratory Data Analysis"
   ]
  },
  {
   "cell_type": "code",
   "execution_count": 225,
   "id": "ea771792",
   "metadata": {},
   "outputs": [
    {
     "data": {
      "application/vnd.plotly.v1+json": {
       "config": {
        "plotlyServerURL": "https://plot.ly"
       },
       "data": [
        {
         "hovertemplate": "stock=JNJ<br>Date=%{x}<br>% Change=%{y}<extra></extra>",
         "legendgroup": "JNJ",
         "line": {
          "color": "#636efa",
          "dash": "solid"
         },
         "marker": {
          "symbol": "circle"
         },
         "mode": "lines+markers",
         "name": "JNJ",
         "orientation": "v",
         "showlegend": true,
         "type": "scatter",
         "x": [
          "2011-01-07T00:00:00",
          "2011-01-14T00:00:00",
          "2011-01-21T00:00:00",
          "2011-01-28T00:00:00",
          "2011-02-04T00:00:00",
          "2011-02-11T00:00:00",
          "2011-02-18T00:00:00",
          "2011-02-25T00:00:00",
          "2011-03-04T00:00:00",
          "2011-03-11T00:00:00",
          "2011-03-18T00:00:00",
          "2011-03-25T00:00:00",
          "2011-04-01T00:00:00",
          "2011-04-08T00:00:00",
          "2011-04-15T00:00:00",
          "2011-04-21T00:00:00",
          "2011-04-29T00:00:00",
          "2011-05-06T00:00:00",
          "2011-05-13T00:00:00",
          "2011-05-20T00:00:00",
          "2011-05-27T00:00:00",
          "2011-06-03T00:00:00",
          "2011-06-10T00:00:00",
          "2011-06-17T00:00:00",
          "2011-06-24T00:00:00"
         ],
         "xaxis": "x",
         "y": [
          0.417402,
          0.723356,
          -4.07609,
          1.13032,
          -0.295664,
          0.692042,
          -1.71391,
          1.88553,
          -2.2917,
          -1.54648,
          0.528379,
          0.8647,
          -0.0672269,
          1.71313,
          5.98842,
          3.25216,
          -0.986044,
          2.31915,
          -1.08417,
          2.42368,
          -1.81251,
          0.333991,
          -0.0452352,
          -1.54358,
          3.22086
         ],
         "yaxis": "y"
        },
        {
         "hovertemplate": "stock=KO<br>Date=%{x}<br>% Change=%{y}<extra></extra>",
         "legendgroup": "KO",
         "line": {
          "color": "#EF553B",
          "dash": "solid"
         },
         "marker": {
          "symbol": "circle"
         },
         "mode": "lines+markers",
         "name": "KO",
         "orientation": "v",
         "showlegend": true,
         "type": "scatter",
         "x": [
          "2011-01-07T00:00:00",
          "2011-01-14T00:00:00",
          "2011-01-21T00:00:00",
          "2011-01-28T00:00:00",
          "2011-02-04T00:00:00",
          "2011-02-11T00:00:00",
          "2011-02-18T00:00:00",
          "2011-02-25T00:00:00",
          "2011-03-04T00:00:00",
          "2011-03-11T00:00:00",
          "2011-03-18T00:00:00",
          "2011-03-25T00:00:00",
          "2011-04-01T00:00:00",
          "2011-04-08T00:00:00",
          "2011-04-15T00:00:00",
          "2011-04-21T00:00:00",
          "2011-04-29T00:00:00",
          "2011-05-06T00:00:00",
          "2011-05-13T00:00:00",
          "2011-05-20T00:00:00",
          "2011-05-27T00:00:00",
          "2011-06-03T00:00:00",
          "2011-06-10T00:00:00",
          "2011-06-17T00:00:00",
          "2011-06-24T00:00:00"
         ],
         "xaxis": "x",
         "y": [
          0.685805,
          -0.696092,
          -1.04979,
          0.385109,
          1.43609,
          1.38213,
          1.49937,
          1.62069,
          -0.780772,
          -2.54896,
          3.31063,
          3.09816,
          0.0743826,
          1.13011,
          0.458783,
          -0.721118,
          -1.26919,
          1.97427,
          0.293686,
          -1.59787,
          -2.10636,
          -0.183178,
          0.798771,
          -0.673092,
          4.99614
         ],
         "yaxis": "y"
        },
        {
         "hovertemplate": "stock=T<br>Date=%{x}<br>% Change=%{y}<extra></extra>",
         "legendgroup": "T",
         "line": {
          "color": "#00cc96",
          "dash": "solid"
         },
         "marker": {
          "symbol": "circle"
         },
         "mode": "lines+markers",
         "name": "T",
         "orientation": "v",
         "showlegend": true,
         "type": "scatter",
         "x": [
          "2011-01-07T00:00:00",
          "2011-01-14T00:00:00",
          "2011-01-21T00:00:00",
          "2011-01-28T00:00:00",
          "2011-02-04T00:00:00",
          "2011-02-11T00:00:00",
          "2011-02-18T00:00:00",
          "2011-02-25T00:00:00",
          "2011-03-04T00:00:00",
          "2011-03-11T00:00:00",
          "2011-03-18T00:00:00",
          "2011-03-25T00:00:00",
          "2011-04-01T00:00:00",
          "2011-04-08T00:00:00",
          "2011-04-15T00:00:00",
          "2011-04-21T00:00:00",
          "2011-04-29T00:00:00",
          "2011-05-06T00:00:00",
          "2011-05-13T00:00:00",
          "2011-05-20T00:00:00",
          "2011-05-27T00:00:00",
          "2011-06-03T00:00:00",
          "2011-06-10T00:00:00",
          "2011-06-17T00:00:00",
          "2011-06-24T00:00:00"
         ],
         "xaxis": "x",
         "y": [
          -0.385424,
          -0.770578,
          -3.40829,
          2.00584,
          1.78763,
          0.598592,
          -0.670904,
          -1.16814,
          1.82469,
          -1.34181,
          0.278067,
          5.51344,
          -0.0975927,
          -0.325203,
          0.854701,
          1.46723,
          -1.07595,
          0.673077,
          0,
          0.935484,
          -2.63659,
          -0.687398,
          1.61823,
          -0.717547,
          3.36052
         ],
         "yaxis": "y"
        },
        {
         "hovertemplate": "stock=VZ<br>Date=%{x}<br>% Change=%{y}<extra></extra>",
         "legendgroup": "VZ",
         "line": {
          "color": "#ab63fa",
          "dash": "solid"
         },
         "marker": {
          "symbol": "circle"
         },
         "mode": "lines+markers",
         "name": "VZ",
         "orientation": "v",
         "showlegend": true,
         "type": "scatter",
         "x": [
          "2011-01-07T00:00:00",
          "2011-01-14T00:00:00",
          "2011-01-21T00:00:00",
          "2011-01-28T00:00:00",
          "2011-02-04T00:00:00",
          "2011-02-11T00:00:00",
          "2011-02-18T00:00:00",
          "2011-02-25T00:00:00",
          "2011-03-04T00:00:00",
          "2011-03-11T00:00:00",
          "2011-03-18T00:00:00",
          "2011-03-25T00:00:00",
          "2011-04-01T00:00:00",
          "2011-04-08T00:00:00",
          "2011-04-15T00:00:00",
          "2011-04-21T00:00:00",
          "2011-04-29T00:00:00",
          "2011-05-06T00:00:00",
          "2011-05-13T00:00:00",
          "2011-05-20T00:00:00",
          "2011-05-27T00:00:00",
          "2011-06-03T00:00:00",
          "2011-06-10T00:00:00",
          "2011-06-17T00:00:00",
          "2011-06-24T00:00:00"
         ],
         "xaxis": "x",
         "y": [
          -2.98222,
          -1.21538,
          2.15023,
          1.87991,
          0.247934,
          0.853759,
          -0.745033,
          0.0554631,
          -0.774979,
          0.279799,
          1.71849,
          2.75107,
          -2.10226,
          0.264901,
          -1.83511,
          1.9153,
          -2.73937,
          -0.0536481,
          -0.295223,
          -0.217687,
          -3.46789,
          -1.06832,
          0.794777,
          1.83876,
          5
         ],
         "yaxis": "y"
        }
       ],
       "layout": {
        "height": 400,
        "legend": {
         "title": {
          "text": "Stocks"
         },
         "tracegroupgap": 0
        },
        "plot_bgcolor": "lightgray",
        "template": {
         "data": {
          "bar": [
           {
            "error_x": {
             "color": "#2a3f5f"
            },
            "error_y": {
             "color": "#2a3f5f"
            },
            "marker": {
             "line": {
              "color": "#E5ECF6",
              "width": 0.5
             },
             "pattern": {
              "fillmode": "overlay",
              "size": 10,
              "solidity": 0.2
             }
            },
            "type": "bar"
           }
          ],
          "barpolar": [
           {
            "marker": {
             "line": {
              "color": "#E5ECF6",
              "width": 0.5
             },
             "pattern": {
              "fillmode": "overlay",
              "size": 10,
              "solidity": 0.2
             }
            },
            "type": "barpolar"
           }
          ],
          "carpet": [
           {
            "aaxis": {
             "endlinecolor": "#2a3f5f",
             "gridcolor": "white",
             "linecolor": "white",
             "minorgridcolor": "white",
             "startlinecolor": "#2a3f5f"
            },
            "baxis": {
             "endlinecolor": "#2a3f5f",
             "gridcolor": "white",
             "linecolor": "white",
             "minorgridcolor": "white",
             "startlinecolor": "#2a3f5f"
            },
            "type": "carpet"
           }
          ],
          "choropleth": [
           {
            "colorbar": {
             "outlinewidth": 0,
             "ticks": ""
            },
            "type": "choropleth"
           }
          ],
          "contour": [
           {
            "colorbar": {
             "outlinewidth": 0,
             "ticks": ""
            },
            "colorscale": [
             [
              0,
              "#0d0887"
             ],
             [
              0.1111111111111111,
              "#46039f"
             ],
             [
              0.2222222222222222,
              "#7201a8"
             ],
             [
              0.3333333333333333,
              "#9c179e"
             ],
             [
              0.4444444444444444,
              "#bd3786"
             ],
             [
              0.5555555555555556,
              "#d8576b"
             ],
             [
              0.6666666666666666,
              "#ed7953"
             ],
             [
              0.7777777777777778,
              "#fb9f3a"
             ],
             [
              0.8888888888888888,
              "#fdca26"
             ],
             [
              1,
              "#f0f921"
             ]
            ],
            "type": "contour"
           }
          ],
          "contourcarpet": [
           {
            "colorbar": {
             "outlinewidth": 0,
             "ticks": ""
            },
            "type": "contourcarpet"
           }
          ],
          "heatmap": [
           {
            "colorbar": {
             "outlinewidth": 0,
             "ticks": ""
            },
            "colorscale": [
             [
              0,
              "#0d0887"
             ],
             [
              0.1111111111111111,
              "#46039f"
             ],
             [
              0.2222222222222222,
              "#7201a8"
             ],
             [
              0.3333333333333333,
              "#9c179e"
             ],
             [
              0.4444444444444444,
              "#bd3786"
             ],
             [
              0.5555555555555556,
              "#d8576b"
             ],
             [
              0.6666666666666666,
              "#ed7953"
             ],
             [
              0.7777777777777778,
              "#fb9f3a"
             ],
             [
              0.8888888888888888,
              "#fdca26"
             ],
             [
              1,
              "#f0f921"
             ]
            ],
            "type": "heatmap"
           }
          ],
          "heatmapgl": [
           {
            "colorbar": {
             "outlinewidth": 0,
             "ticks": ""
            },
            "colorscale": [
             [
              0,
              "#0d0887"
             ],
             [
              0.1111111111111111,
              "#46039f"
             ],
             [
              0.2222222222222222,
              "#7201a8"
             ],
             [
              0.3333333333333333,
              "#9c179e"
             ],
             [
              0.4444444444444444,
              "#bd3786"
             ],
             [
              0.5555555555555556,
              "#d8576b"
             ],
             [
              0.6666666666666666,
              "#ed7953"
             ],
             [
              0.7777777777777778,
              "#fb9f3a"
             ],
             [
              0.8888888888888888,
              "#fdca26"
             ],
             [
              1,
              "#f0f921"
             ]
            ],
            "type": "heatmapgl"
           }
          ],
          "histogram": [
           {
            "marker": {
             "pattern": {
              "fillmode": "overlay",
              "size": 10,
              "solidity": 0.2
             }
            },
            "type": "histogram"
           }
          ],
          "histogram2d": [
           {
            "colorbar": {
             "outlinewidth": 0,
             "ticks": ""
            },
            "colorscale": [
             [
              0,
              "#0d0887"
             ],
             [
              0.1111111111111111,
              "#46039f"
             ],
             [
              0.2222222222222222,
              "#7201a8"
             ],
             [
              0.3333333333333333,
              "#9c179e"
             ],
             [
              0.4444444444444444,
              "#bd3786"
             ],
             [
              0.5555555555555556,
              "#d8576b"
             ],
             [
              0.6666666666666666,
              "#ed7953"
             ],
             [
              0.7777777777777778,
              "#fb9f3a"
             ],
             [
              0.8888888888888888,
              "#fdca26"
             ],
             [
              1,
              "#f0f921"
             ]
            ],
            "type": "histogram2d"
           }
          ],
          "histogram2dcontour": [
           {
            "colorbar": {
             "outlinewidth": 0,
             "ticks": ""
            },
            "colorscale": [
             [
              0,
              "#0d0887"
             ],
             [
              0.1111111111111111,
              "#46039f"
             ],
             [
              0.2222222222222222,
              "#7201a8"
             ],
             [
              0.3333333333333333,
              "#9c179e"
             ],
             [
              0.4444444444444444,
              "#bd3786"
             ],
             [
              0.5555555555555556,
              "#d8576b"
             ],
             [
              0.6666666666666666,
              "#ed7953"
             ],
             [
              0.7777777777777778,
              "#fb9f3a"
             ],
             [
              0.8888888888888888,
              "#fdca26"
             ],
             [
              1,
              "#f0f921"
             ]
            ],
            "type": "histogram2dcontour"
           }
          ],
          "mesh3d": [
           {
            "colorbar": {
             "outlinewidth": 0,
             "ticks": ""
            },
            "type": "mesh3d"
           }
          ],
          "parcoords": [
           {
            "line": {
             "colorbar": {
              "outlinewidth": 0,
              "ticks": ""
             }
            },
            "type": "parcoords"
           }
          ],
          "pie": [
           {
            "automargin": true,
            "type": "pie"
           }
          ],
          "scatter": [
           {
            "fillpattern": {
             "fillmode": "overlay",
             "size": 10,
             "solidity": 0.2
            },
            "type": "scatter"
           }
          ],
          "scatter3d": [
           {
            "line": {
             "colorbar": {
              "outlinewidth": 0,
              "ticks": ""
             }
            },
            "marker": {
             "colorbar": {
              "outlinewidth": 0,
              "ticks": ""
             }
            },
            "type": "scatter3d"
           }
          ],
          "scattercarpet": [
           {
            "marker": {
             "colorbar": {
              "outlinewidth": 0,
              "ticks": ""
             }
            },
            "type": "scattercarpet"
           }
          ],
          "scattergeo": [
           {
            "marker": {
             "colorbar": {
              "outlinewidth": 0,
              "ticks": ""
             }
            },
            "type": "scattergeo"
           }
          ],
          "scattergl": [
           {
            "marker": {
             "colorbar": {
              "outlinewidth": 0,
              "ticks": ""
             }
            },
            "type": "scattergl"
           }
          ],
          "scattermapbox": [
           {
            "marker": {
             "colorbar": {
              "outlinewidth": 0,
              "ticks": ""
             }
            },
            "type": "scattermapbox"
           }
          ],
          "scatterpolar": [
           {
            "marker": {
             "colorbar": {
              "outlinewidth": 0,
              "ticks": ""
             }
            },
            "type": "scatterpolar"
           }
          ],
          "scatterpolargl": [
           {
            "marker": {
             "colorbar": {
              "outlinewidth": 0,
              "ticks": ""
             }
            },
            "type": "scatterpolargl"
           }
          ],
          "scatterternary": [
           {
            "marker": {
             "colorbar": {
              "outlinewidth": 0,
              "ticks": ""
             }
            },
            "type": "scatterternary"
           }
          ],
          "surface": [
           {
            "colorbar": {
             "outlinewidth": 0,
             "ticks": ""
            },
            "colorscale": [
             [
              0,
              "#0d0887"
             ],
             [
              0.1111111111111111,
              "#46039f"
             ],
             [
              0.2222222222222222,
              "#7201a8"
             ],
             [
              0.3333333333333333,
              "#9c179e"
             ],
             [
              0.4444444444444444,
              "#bd3786"
             ],
             [
              0.5555555555555556,
              "#d8576b"
             ],
             [
              0.6666666666666666,
              "#ed7953"
             ],
             [
              0.7777777777777778,
              "#fb9f3a"
             ],
             [
              0.8888888888888888,
              "#fdca26"
             ],
             [
              1,
              "#f0f921"
             ]
            ],
            "type": "surface"
           }
          ],
          "table": [
           {
            "cells": {
             "fill": {
              "color": "#EBF0F8"
             },
             "line": {
              "color": "white"
             }
            },
            "header": {
             "fill": {
              "color": "#C8D4E3"
             },
             "line": {
              "color": "white"
             }
            },
            "type": "table"
           }
          ]
         },
         "layout": {
          "annotationdefaults": {
           "arrowcolor": "#2a3f5f",
           "arrowhead": 0,
           "arrowwidth": 1
          },
          "autotypenumbers": "strict",
          "coloraxis": {
           "colorbar": {
            "outlinewidth": 0,
            "ticks": ""
           }
          },
          "colorscale": {
           "diverging": [
            [
             0,
             "#8e0152"
            ],
            [
             0.1,
             "#c51b7d"
            ],
            [
             0.2,
             "#de77ae"
            ],
            [
             0.3,
             "#f1b6da"
            ],
            [
             0.4,
             "#fde0ef"
            ],
            [
             0.5,
             "#f7f7f7"
            ],
            [
             0.6,
             "#e6f5d0"
            ],
            [
             0.7,
             "#b8e186"
            ],
            [
             0.8,
             "#7fbc41"
            ],
            [
             0.9,
             "#4d9221"
            ],
            [
             1,
             "#276419"
            ]
           ],
           "sequential": [
            [
             0,
             "#0d0887"
            ],
            [
             0.1111111111111111,
             "#46039f"
            ],
            [
             0.2222222222222222,
             "#7201a8"
            ],
            [
             0.3333333333333333,
             "#9c179e"
            ],
            [
             0.4444444444444444,
             "#bd3786"
            ],
            [
             0.5555555555555556,
             "#d8576b"
            ],
            [
             0.6666666666666666,
             "#ed7953"
            ],
            [
             0.7777777777777778,
             "#fb9f3a"
            ],
            [
             0.8888888888888888,
             "#fdca26"
            ],
            [
             1,
             "#f0f921"
            ]
           ],
           "sequentialminus": [
            [
             0,
             "#0d0887"
            ],
            [
             0.1111111111111111,
             "#46039f"
            ],
            [
             0.2222222222222222,
             "#7201a8"
            ],
            [
             0.3333333333333333,
             "#9c179e"
            ],
            [
             0.4444444444444444,
             "#bd3786"
            ],
            [
             0.5555555555555556,
             "#d8576b"
            ],
            [
             0.6666666666666666,
             "#ed7953"
            ],
            [
             0.7777777777777778,
             "#fb9f3a"
            ],
            [
             0.8888888888888888,
             "#fdca26"
            ],
            [
             1,
             "#f0f921"
            ]
           ]
          },
          "colorway": [
           "#636efa",
           "#EF553B",
           "#00cc96",
           "#ab63fa",
           "#FFA15A",
           "#19d3f3",
           "#FF6692",
           "#B6E880",
           "#FF97FF",
           "#FECB52"
          ],
          "font": {
           "color": "#2a3f5f"
          },
          "geo": {
           "bgcolor": "white",
           "lakecolor": "white",
           "landcolor": "#E5ECF6",
           "showlakes": true,
           "showland": true,
           "subunitcolor": "white"
          },
          "hoverlabel": {
           "align": "left"
          },
          "hovermode": "closest",
          "mapbox": {
           "style": "light"
          },
          "paper_bgcolor": "white",
          "plot_bgcolor": "#E5ECF6",
          "polar": {
           "angularaxis": {
            "gridcolor": "white",
            "linecolor": "white",
            "ticks": ""
           },
           "bgcolor": "#E5ECF6",
           "radialaxis": {
            "gridcolor": "white",
            "linecolor": "white",
            "ticks": ""
           }
          },
          "scene": {
           "xaxis": {
            "backgroundcolor": "#E5ECF6",
            "gridcolor": "white",
            "gridwidth": 2,
            "linecolor": "white",
            "showbackground": true,
            "ticks": "",
            "zerolinecolor": "white"
           },
           "yaxis": {
            "backgroundcolor": "#E5ECF6",
            "gridcolor": "white",
            "gridwidth": 2,
            "linecolor": "white",
            "showbackground": true,
            "ticks": "",
            "zerolinecolor": "white"
           },
           "zaxis": {
            "backgroundcolor": "#E5ECF6",
            "gridcolor": "white",
            "gridwidth": 2,
            "linecolor": "white",
            "showbackground": true,
            "ticks": "",
            "zerolinecolor": "white"
           }
          },
          "shapedefaults": {
           "line": {
            "color": "#2a3f5f"
           }
          },
          "ternary": {
           "aaxis": {
            "gridcolor": "white",
            "linecolor": "white",
            "ticks": ""
           },
           "baxis": {
            "gridcolor": "white",
            "linecolor": "white",
            "ticks": ""
           },
           "bgcolor": "#E5ECF6",
           "caxis": {
            "gridcolor": "white",
            "linecolor": "white",
            "ticks": ""
           }
          },
          "title": {
           "x": 0.05
          },
          "xaxis": {
           "automargin": true,
           "gridcolor": "white",
           "linecolor": "white",
           "ticks": "",
           "title": {
            "standoff": 15
           },
           "zerolinecolor": "white",
           "zerolinewidth": 2
          },
          "yaxis": {
           "automargin": true,
           "gridcolor": "white",
           "linecolor": "white",
           "ticks": "",
           "title": {
            "standoff": 15
           },
           "zerolinecolor": "white",
           "zerolinewidth": 2
          }
         }
        },
        "title": {
         "text": "Predicted Weekly Price Change from Feb to Jun 2011 in Primary Sector"
        },
        "width": 800,
        "xaxis": {
         "anchor": "y",
         "domain": [
          0,
          1
         ],
         "title": {
          "text": "Date"
         }
        },
        "yaxis": {
         "anchor": "x",
         "domain": [
          0,
          1
         ],
         "title": {
          "text": "% Change"
         }
        }
       }
      },
      "text/html": [
       "<div>                            <div id=\"e94856ce-881d-4e6a-9ab4-527751d3126c\" class=\"plotly-graph-div\" style=\"height:400px; width:800px;\"></div>            <script type=\"text/javascript\">                require([\"plotly\"], function(Plotly) {                    window.PLOTLYENV=window.PLOTLYENV || {};                                    if (document.getElementById(\"e94856ce-881d-4e6a-9ab4-527751d3126c\")) {                    Plotly.newPlot(                        \"e94856ce-881d-4e6a-9ab4-527751d3126c\",                        [{\"hovertemplate\":\"stock=JNJ<br>Date=%{x}<br>% Change=%{y}<extra></extra>\",\"legendgroup\":\"JNJ\",\"line\":{\"color\":\"#636efa\",\"dash\":\"solid\"},\"marker\":{\"symbol\":\"circle\"},\"mode\":\"lines+markers\",\"name\":\"JNJ\",\"orientation\":\"v\",\"showlegend\":true,\"x\":[\"2011-01-07T00:00:00\",\"2011-01-14T00:00:00\",\"2011-01-21T00:00:00\",\"2011-01-28T00:00:00\",\"2011-02-04T00:00:00\",\"2011-02-11T00:00:00\",\"2011-02-18T00:00:00\",\"2011-02-25T00:00:00\",\"2011-03-04T00:00:00\",\"2011-03-11T00:00:00\",\"2011-03-18T00:00:00\",\"2011-03-25T00:00:00\",\"2011-04-01T00:00:00\",\"2011-04-08T00:00:00\",\"2011-04-15T00:00:00\",\"2011-04-21T00:00:00\",\"2011-04-29T00:00:00\",\"2011-05-06T00:00:00\",\"2011-05-13T00:00:00\",\"2011-05-20T00:00:00\",\"2011-05-27T00:00:00\",\"2011-06-03T00:00:00\",\"2011-06-10T00:00:00\",\"2011-06-17T00:00:00\",\"2011-06-24T00:00:00\"],\"xaxis\":\"x\",\"y\":[0.417402,0.723356,-4.07609,1.13032,-0.295664,0.692042,-1.71391,1.88553,-2.2917,-1.54648,0.528379,0.8647,-0.0672269,1.71313,5.98842,3.25216,-0.986044,2.31915,-1.08417,2.42368,-1.81251,0.333991,-0.0452352,-1.54358,3.22086],\"yaxis\":\"y\",\"type\":\"scatter\"},{\"hovertemplate\":\"stock=KO<br>Date=%{x}<br>% Change=%{y}<extra></extra>\",\"legendgroup\":\"KO\",\"line\":{\"color\":\"#EF553B\",\"dash\":\"solid\"},\"marker\":{\"symbol\":\"circle\"},\"mode\":\"lines+markers\",\"name\":\"KO\",\"orientation\":\"v\",\"showlegend\":true,\"x\":[\"2011-01-07T00:00:00\",\"2011-01-14T00:00:00\",\"2011-01-21T00:00:00\",\"2011-01-28T00:00:00\",\"2011-02-04T00:00:00\",\"2011-02-11T00:00:00\",\"2011-02-18T00:00:00\",\"2011-02-25T00:00:00\",\"2011-03-04T00:00:00\",\"2011-03-11T00:00:00\",\"2011-03-18T00:00:00\",\"2011-03-25T00:00:00\",\"2011-04-01T00:00:00\",\"2011-04-08T00:00:00\",\"2011-04-15T00:00:00\",\"2011-04-21T00:00:00\",\"2011-04-29T00:00:00\",\"2011-05-06T00:00:00\",\"2011-05-13T00:00:00\",\"2011-05-20T00:00:00\",\"2011-05-27T00:00:00\",\"2011-06-03T00:00:00\",\"2011-06-10T00:00:00\",\"2011-06-17T00:00:00\",\"2011-06-24T00:00:00\"],\"xaxis\":\"x\",\"y\":[0.685805,-0.696092,-1.04979,0.385109,1.43609,1.38213,1.49937,1.62069,-0.780772,-2.54896,3.31063,3.09816,0.0743826,1.13011,0.458783,-0.721118,-1.26919,1.97427,0.293686,-1.59787,-2.10636,-0.183178,0.798771,-0.673092,4.99614],\"yaxis\":\"y\",\"type\":\"scatter\"},{\"hovertemplate\":\"stock=T<br>Date=%{x}<br>% Change=%{y}<extra></extra>\",\"legendgroup\":\"T\",\"line\":{\"color\":\"#00cc96\",\"dash\":\"solid\"},\"marker\":{\"symbol\":\"circle\"},\"mode\":\"lines+markers\",\"name\":\"T\",\"orientation\":\"v\",\"showlegend\":true,\"x\":[\"2011-01-07T00:00:00\",\"2011-01-14T00:00:00\",\"2011-01-21T00:00:00\",\"2011-01-28T00:00:00\",\"2011-02-04T00:00:00\",\"2011-02-11T00:00:00\",\"2011-02-18T00:00:00\",\"2011-02-25T00:00:00\",\"2011-03-04T00:00:00\",\"2011-03-11T00:00:00\",\"2011-03-18T00:00:00\",\"2011-03-25T00:00:00\",\"2011-04-01T00:00:00\",\"2011-04-08T00:00:00\",\"2011-04-15T00:00:00\",\"2011-04-21T00:00:00\",\"2011-04-29T00:00:00\",\"2011-05-06T00:00:00\",\"2011-05-13T00:00:00\",\"2011-05-20T00:00:00\",\"2011-05-27T00:00:00\",\"2011-06-03T00:00:00\",\"2011-06-10T00:00:00\",\"2011-06-17T00:00:00\",\"2011-06-24T00:00:00\"],\"xaxis\":\"x\",\"y\":[-0.385424,-0.770578,-3.40829,2.00584,1.78763,0.598592,-0.670904,-1.16814,1.82469,-1.34181,0.278067,5.51344,-0.0975927,-0.325203,0.854701,1.46723,-1.07595,0.673077,0.0,0.935484,-2.63659,-0.687398,1.61823,-0.717547,3.36052],\"yaxis\":\"y\",\"type\":\"scatter\"},{\"hovertemplate\":\"stock=VZ<br>Date=%{x}<br>% Change=%{y}<extra></extra>\",\"legendgroup\":\"VZ\",\"line\":{\"color\":\"#ab63fa\",\"dash\":\"solid\"},\"marker\":{\"symbol\":\"circle\"},\"mode\":\"lines+markers\",\"name\":\"VZ\",\"orientation\":\"v\",\"showlegend\":true,\"x\":[\"2011-01-07T00:00:00\",\"2011-01-14T00:00:00\",\"2011-01-21T00:00:00\",\"2011-01-28T00:00:00\",\"2011-02-04T00:00:00\",\"2011-02-11T00:00:00\",\"2011-02-18T00:00:00\",\"2011-02-25T00:00:00\",\"2011-03-04T00:00:00\",\"2011-03-11T00:00:00\",\"2011-03-18T00:00:00\",\"2011-03-25T00:00:00\",\"2011-04-01T00:00:00\",\"2011-04-08T00:00:00\",\"2011-04-15T00:00:00\",\"2011-04-21T00:00:00\",\"2011-04-29T00:00:00\",\"2011-05-06T00:00:00\",\"2011-05-13T00:00:00\",\"2011-05-20T00:00:00\",\"2011-05-27T00:00:00\",\"2011-06-03T00:00:00\",\"2011-06-10T00:00:00\",\"2011-06-17T00:00:00\",\"2011-06-24T00:00:00\"],\"xaxis\":\"x\",\"y\":[-2.98222,-1.21538,2.15023,1.87991,0.247934,0.853759,-0.745033,0.0554631,-0.774979,0.279799,1.71849,2.75107,-2.10226,0.264901,-1.83511,1.9153,-2.73937,-0.0536481,-0.295223,-0.217687,-3.46789,-1.06832,0.794777,1.83876,5.0],\"yaxis\":\"y\",\"type\":\"scatter\"}],                        {\"template\":{\"data\":{\"histogram2dcontour\":[{\"type\":\"histogram2dcontour\",\"colorbar\":{\"outlinewidth\":0,\"ticks\":\"\"},\"colorscale\":[[0.0,\"#0d0887\"],[0.1111111111111111,\"#46039f\"],[0.2222222222222222,\"#7201a8\"],[0.3333333333333333,\"#9c179e\"],[0.4444444444444444,\"#bd3786\"],[0.5555555555555556,\"#d8576b\"],[0.6666666666666666,\"#ed7953\"],[0.7777777777777778,\"#fb9f3a\"],[0.8888888888888888,\"#fdca26\"],[1.0,\"#f0f921\"]]}],\"choropleth\":[{\"type\":\"choropleth\",\"colorbar\":{\"outlinewidth\":0,\"ticks\":\"\"}}],\"histogram2d\":[{\"type\":\"histogram2d\",\"colorbar\":{\"outlinewidth\":0,\"ticks\":\"\"},\"colorscale\":[[0.0,\"#0d0887\"],[0.1111111111111111,\"#46039f\"],[0.2222222222222222,\"#7201a8\"],[0.3333333333333333,\"#9c179e\"],[0.4444444444444444,\"#bd3786\"],[0.5555555555555556,\"#d8576b\"],[0.6666666666666666,\"#ed7953\"],[0.7777777777777778,\"#fb9f3a\"],[0.8888888888888888,\"#fdca26\"],[1.0,\"#f0f921\"]]}],\"heatmap\":[{\"type\":\"heatmap\",\"colorbar\":{\"outlinewidth\":0,\"ticks\":\"\"},\"colorscale\":[[0.0,\"#0d0887\"],[0.1111111111111111,\"#46039f\"],[0.2222222222222222,\"#7201a8\"],[0.3333333333333333,\"#9c179e\"],[0.4444444444444444,\"#bd3786\"],[0.5555555555555556,\"#d8576b\"],[0.6666666666666666,\"#ed7953\"],[0.7777777777777778,\"#fb9f3a\"],[0.8888888888888888,\"#fdca26\"],[1.0,\"#f0f921\"]]}],\"heatmapgl\":[{\"type\":\"heatmapgl\",\"colorbar\":{\"outlinewidth\":0,\"ticks\":\"\"},\"colorscale\":[[0.0,\"#0d0887\"],[0.1111111111111111,\"#46039f\"],[0.2222222222222222,\"#7201a8\"],[0.3333333333333333,\"#9c179e\"],[0.4444444444444444,\"#bd3786\"],[0.5555555555555556,\"#d8576b\"],[0.6666666666666666,\"#ed7953\"],[0.7777777777777778,\"#fb9f3a\"],[0.8888888888888888,\"#fdca26\"],[1.0,\"#f0f921\"]]}],\"contourcarpet\":[{\"type\":\"contourcarpet\",\"colorbar\":{\"outlinewidth\":0,\"ticks\":\"\"}}],\"contour\":[{\"type\":\"contour\",\"colorbar\":{\"outlinewidth\":0,\"ticks\":\"\"},\"colorscale\":[[0.0,\"#0d0887\"],[0.1111111111111111,\"#46039f\"],[0.2222222222222222,\"#7201a8\"],[0.3333333333333333,\"#9c179e\"],[0.4444444444444444,\"#bd3786\"],[0.5555555555555556,\"#d8576b\"],[0.6666666666666666,\"#ed7953\"],[0.7777777777777778,\"#fb9f3a\"],[0.8888888888888888,\"#fdca26\"],[1.0,\"#f0f921\"]]}],\"surface\":[{\"type\":\"surface\",\"colorbar\":{\"outlinewidth\":0,\"ticks\":\"\"},\"colorscale\":[[0.0,\"#0d0887\"],[0.1111111111111111,\"#46039f\"],[0.2222222222222222,\"#7201a8\"],[0.3333333333333333,\"#9c179e\"],[0.4444444444444444,\"#bd3786\"],[0.5555555555555556,\"#d8576b\"],[0.6666666666666666,\"#ed7953\"],[0.7777777777777778,\"#fb9f3a\"],[0.8888888888888888,\"#fdca26\"],[1.0,\"#f0f921\"]]}],\"mesh3d\":[{\"type\":\"mesh3d\",\"colorbar\":{\"outlinewidth\":0,\"ticks\":\"\"}}],\"scatter\":[{\"fillpattern\":{\"fillmode\":\"overlay\",\"size\":10,\"solidity\":0.2},\"type\":\"scatter\"}],\"parcoords\":[{\"type\":\"parcoords\",\"line\":{\"colorbar\":{\"outlinewidth\":0,\"ticks\":\"\"}}}],\"scatterpolargl\":[{\"type\":\"scatterpolargl\",\"marker\":{\"colorbar\":{\"outlinewidth\":0,\"ticks\":\"\"}}}],\"bar\":[{\"error_x\":{\"color\":\"#2a3f5f\"},\"error_y\":{\"color\":\"#2a3f5f\"},\"marker\":{\"line\":{\"color\":\"#E5ECF6\",\"width\":0.5},\"pattern\":{\"fillmode\":\"overlay\",\"size\":10,\"solidity\":0.2}},\"type\":\"bar\"}],\"scattergeo\":[{\"type\":\"scattergeo\",\"marker\":{\"colorbar\":{\"outlinewidth\":0,\"ticks\":\"\"}}}],\"scatterpolar\":[{\"type\":\"scatterpolar\",\"marker\":{\"colorbar\":{\"outlinewidth\":0,\"ticks\":\"\"}}}],\"histogram\":[{\"marker\":{\"pattern\":{\"fillmode\":\"overlay\",\"size\":10,\"solidity\":0.2}},\"type\":\"histogram\"}],\"scattergl\":[{\"type\":\"scattergl\",\"marker\":{\"colorbar\":{\"outlinewidth\":0,\"ticks\":\"\"}}}],\"scatter3d\":[{\"type\":\"scatter3d\",\"line\":{\"colorbar\":{\"outlinewidth\":0,\"ticks\":\"\"}},\"marker\":{\"colorbar\":{\"outlinewidth\":0,\"ticks\":\"\"}}}],\"scattermapbox\":[{\"type\":\"scattermapbox\",\"marker\":{\"colorbar\":{\"outlinewidth\":0,\"ticks\":\"\"}}}],\"scatterternary\":[{\"type\":\"scatterternary\",\"marker\":{\"colorbar\":{\"outlinewidth\":0,\"ticks\":\"\"}}}],\"scattercarpet\":[{\"type\":\"scattercarpet\",\"marker\":{\"colorbar\":{\"outlinewidth\":0,\"ticks\":\"\"}}}],\"carpet\":[{\"aaxis\":{\"endlinecolor\":\"#2a3f5f\",\"gridcolor\":\"white\",\"linecolor\":\"white\",\"minorgridcolor\":\"white\",\"startlinecolor\":\"#2a3f5f\"},\"baxis\":{\"endlinecolor\":\"#2a3f5f\",\"gridcolor\":\"white\",\"linecolor\":\"white\",\"minorgridcolor\":\"white\",\"startlinecolor\":\"#2a3f5f\"},\"type\":\"carpet\"}],\"table\":[{\"cells\":{\"fill\":{\"color\":\"#EBF0F8\"},\"line\":{\"color\":\"white\"}},\"header\":{\"fill\":{\"color\":\"#C8D4E3\"},\"line\":{\"color\":\"white\"}},\"type\":\"table\"}],\"barpolar\":[{\"marker\":{\"line\":{\"color\":\"#E5ECF6\",\"width\":0.5},\"pattern\":{\"fillmode\":\"overlay\",\"size\":10,\"solidity\":0.2}},\"type\":\"barpolar\"}],\"pie\":[{\"automargin\":true,\"type\":\"pie\"}]},\"layout\":{\"autotypenumbers\":\"strict\",\"colorway\":[\"#636efa\",\"#EF553B\",\"#00cc96\",\"#ab63fa\",\"#FFA15A\",\"#19d3f3\",\"#FF6692\",\"#B6E880\",\"#FF97FF\",\"#FECB52\"],\"font\":{\"color\":\"#2a3f5f\"},\"hovermode\":\"closest\",\"hoverlabel\":{\"align\":\"left\"},\"paper_bgcolor\":\"white\",\"plot_bgcolor\":\"#E5ECF6\",\"polar\":{\"bgcolor\":\"#E5ECF6\",\"angularaxis\":{\"gridcolor\":\"white\",\"linecolor\":\"white\",\"ticks\":\"\"},\"radialaxis\":{\"gridcolor\":\"white\",\"linecolor\":\"white\",\"ticks\":\"\"}},\"ternary\":{\"bgcolor\":\"#E5ECF6\",\"aaxis\":{\"gridcolor\":\"white\",\"linecolor\":\"white\",\"ticks\":\"\"},\"baxis\":{\"gridcolor\":\"white\",\"linecolor\":\"white\",\"ticks\":\"\"},\"caxis\":{\"gridcolor\":\"white\",\"linecolor\":\"white\",\"ticks\":\"\"}},\"coloraxis\":{\"colorbar\":{\"outlinewidth\":0,\"ticks\":\"\"}},\"colorscale\":{\"sequential\":[[0.0,\"#0d0887\"],[0.1111111111111111,\"#46039f\"],[0.2222222222222222,\"#7201a8\"],[0.3333333333333333,\"#9c179e\"],[0.4444444444444444,\"#bd3786\"],[0.5555555555555556,\"#d8576b\"],[0.6666666666666666,\"#ed7953\"],[0.7777777777777778,\"#fb9f3a\"],[0.8888888888888888,\"#fdca26\"],[1.0,\"#f0f921\"]],\"sequentialminus\":[[0.0,\"#0d0887\"],[0.1111111111111111,\"#46039f\"],[0.2222222222222222,\"#7201a8\"],[0.3333333333333333,\"#9c179e\"],[0.4444444444444444,\"#bd3786\"],[0.5555555555555556,\"#d8576b\"],[0.6666666666666666,\"#ed7953\"],[0.7777777777777778,\"#fb9f3a\"],[0.8888888888888888,\"#fdca26\"],[1.0,\"#f0f921\"]],\"diverging\":[[0,\"#8e0152\"],[0.1,\"#c51b7d\"],[0.2,\"#de77ae\"],[0.3,\"#f1b6da\"],[0.4,\"#fde0ef\"],[0.5,\"#f7f7f7\"],[0.6,\"#e6f5d0\"],[0.7,\"#b8e186\"],[0.8,\"#7fbc41\"],[0.9,\"#4d9221\"],[1,\"#276419\"]]},\"xaxis\":{\"gridcolor\":\"white\",\"linecolor\":\"white\",\"ticks\":\"\",\"title\":{\"standoff\":15},\"zerolinecolor\":\"white\",\"automargin\":true,\"zerolinewidth\":2},\"yaxis\":{\"gridcolor\":\"white\",\"linecolor\":\"white\",\"ticks\":\"\",\"title\":{\"standoff\":15},\"zerolinecolor\":\"white\",\"automargin\":true,\"zerolinewidth\":2},\"scene\":{\"xaxis\":{\"backgroundcolor\":\"#E5ECF6\",\"gridcolor\":\"white\",\"linecolor\":\"white\",\"showbackground\":true,\"ticks\":\"\",\"zerolinecolor\":\"white\",\"gridwidth\":2},\"yaxis\":{\"backgroundcolor\":\"#E5ECF6\",\"gridcolor\":\"white\",\"linecolor\":\"white\",\"showbackground\":true,\"ticks\":\"\",\"zerolinecolor\":\"white\",\"gridwidth\":2},\"zaxis\":{\"backgroundcolor\":\"#E5ECF6\",\"gridcolor\":\"white\",\"linecolor\":\"white\",\"showbackground\":true,\"ticks\":\"\",\"zerolinecolor\":\"white\",\"gridwidth\":2}},\"shapedefaults\":{\"line\":{\"color\":\"#2a3f5f\"}},\"annotationdefaults\":{\"arrowcolor\":\"#2a3f5f\",\"arrowhead\":0,\"arrowwidth\":1},\"geo\":{\"bgcolor\":\"white\",\"landcolor\":\"#E5ECF6\",\"subunitcolor\":\"white\",\"showland\":true,\"showlakes\":true,\"lakecolor\":\"white\"},\"title\":{\"x\":0.05},\"mapbox\":{\"style\":\"light\"}}},\"xaxis\":{\"anchor\":\"y\",\"domain\":[0.0,1.0],\"title\":{\"text\":\"Date\"}},\"yaxis\":{\"anchor\":\"x\",\"domain\":[0.0,1.0],\"title\":{\"text\":\"% Change\"}},\"legend\":{\"title\":{\"text\":\"Stocks\"},\"tracegroupgap\":0},\"title\":{\"text\":\"Predicted Weekly Price Change from Feb to Jun 2011 in Primary Sector\"},\"width\":800,\"height\":400,\"plot_bgcolor\":\"lightgray\"},                        {\"responsive\": true}                    ).then(function(){\n",
       "                            \n",
       "var gd = document.getElementById('e94856ce-881d-4e6a-9ab4-527751d3126c');\n",
       "var x = new MutationObserver(function (mutations, observer) {{\n",
       "        var display = window.getComputedStyle(gd).display;\n",
       "        if (!display || display === 'none') {{\n",
       "            console.log([gd, 'removed!']);\n",
       "            Plotly.purge(gd);\n",
       "            observer.disconnect();\n",
       "        }}\n",
       "}});\n",
       "\n",
       "// Listen for the removal of the full notebook cells\n",
       "var notebookContainer = gd.closest('#notebook-container');\n",
       "if (notebookContainer) {{\n",
       "    x.observe(notebookContainer, {childList: true});\n",
       "}}\n",
       "\n",
       "// Listen for the clearing of the current output cell\n",
       "var outputEl = gd.closest('.output');\n",
       "if (outputEl) {{\n",
       "    x.observe(outputEl, {childList: true});\n",
       "}}\n",
       "\n",
       "                        })                };                });            </script>        </div>"
      ]
     },
     "metadata": {},
     "output_type": "display_data"
    }
   ],
   "source": [
    "# primary sector\n",
    "# pri_sector_next_wk\n",
    "\n",
    "\n",
    "fig = px.line(pri_sector_next_wk, \n",
    "              x='date',\n",
    "              y='percent_change_next_weeks_price',\n",
    "              title='Predicted Weekly Price Change from Jan to Jun 2011 in Primary Sector',\n",
    "              color='stock',\n",
    "              labels={'date': 'Date', 'percent_change_next_weeks_price': '% Change'},\n",
    "             markers=True)\n",
    "\n",
    "fig.update_layout(\n",
    "    width=800,\n",
    "    height=400,\n",
    "plot_bgcolor='lightgray',\n",
    "    legend_title_text='Stocks')\n",
    "\n",
    "\n",
    "\n",
    "fig.show()"
   ]
  },
  {
   "cell_type": "code",
   "execution_count": 203,
   "id": "62bedb0b",
   "metadata": {
    "scrolled": true
   },
   "outputs": [
    {
     "data": {
      "application/vnd.plotly.v1+json": {
       "config": {
        "plotlyServerURL": "https://plot.ly"
       },
       "data": [
        {
         "alignmentgroup": "True",
         "hovertemplate": "Companies in Primary Sector=%{x}<br>% Change=%{y}<extra></extra>",
         "legendgroup": "JNJ",
         "marker": {
          "color": "#636efa",
          "pattern": {
           "shape": ""
          }
         },
         "name": "JNJ",
         "offsetgroup": "JNJ",
         "orientation": "v",
         "showlegend": true,
         "textposition": "auto",
         "type": "bar",
         "x": [
          "JNJ",
          "JNJ",
          "JNJ",
          "JNJ",
          "JNJ",
          "JNJ",
          "JNJ",
          "JNJ",
          "JNJ",
          "JNJ",
          "JNJ",
          "JNJ",
          "JNJ",
          "JNJ",
          "JNJ",
          "JNJ",
          "JNJ",
          "JNJ",
          "JNJ",
          "JNJ",
          "JNJ",
          "JNJ",
          "JNJ",
          "JNJ",
          "JNJ"
         ],
         "xaxis": "x",
         "y": [
          0.417402,
          0.723356,
          -4.07609,
          1.13032,
          -0.295664,
          0.692042,
          -1.71391,
          1.88553,
          -2.2917,
          -1.54648,
          0.528379,
          0.8647,
          -0.0672269,
          1.71313,
          5.98842,
          3.25216,
          -0.986044,
          2.31915,
          -1.08417,
          2.42368,
          -1.81251,
          0.333991,
          -0.0452352,
          -1.54358,
          3.22086
         ],
         "yaxis": "y"
        },
        {
         "alignmentgroup": "True",
         "hovertemplate": "Companies in Primary Sector=%{x}<br>% Change=%{y}<extra></extra>",
         "legendgroup": "KO",
         "marker": {
          "color": "#EF553B",
          "pattern": {
           "shape": ""
          }
         },
         "name": "KO",
         "offsetgroup": "KO",
         "orientation": "v",
         "showlegend": true,
         "textposition": "auto",
         "type": "bar",
         "x": [
          "KO",
          "KO",
          "KO",
          "KO",
          "KO",
          "KO",
          "KO",
          "KO",
          "KO",
          "KO",
          "KO",
          "KO",
          "KO",
          "KO",
          "KO",
          "KO",
          "KO",
          "KO",
          "KO",
          "KO",
          "KO",
          "KO",
          "KO",
          "KO",
          "KO"
         ],
         "xaxis": "x",
         "y": [
          0.685805,
          -0.696092,
          -1.04979,
          0.385109,
          1.43609,
          1.38213,
          1.49937,
          1.62069,
          -0.780772,
          -2.54896,
          3.31063,
          3.09816,
          0.0743826,
          1.13011,
          0.458783,
          -0.721118,
          -1.26919,
          1.97427,
          0.293686,
          -1.59787,
          -2.10636,
          -0.183178,
          0.798771,
          -0.673092,
          4.99614
         ],
         "yaxis": "y"
        },
        {
         "alignmentgroup": "True",
         "hovertemplate": "Companies in Primary Sector=%{x}<br>% Change=%{y}<extra></extra>",
         "legendgroup": "T",
         "marker": {
          "color": "#00cc96",
          "pattern": {
           "shape": ""
          }
         },
         "name": "T",
         "offsetgroup": "T",
         "orientation": "v",
         "showlegend": true,
         "textposition": "auto",
         "type": "bar",
         "x": [
          "T",
          "T",
          "T",
          "T",
          "T",
          "T",
          "T",
          "T",
          "T",
          "T",
          "T",
          "T",
          "T",
          "T",
          "T",
          "T",
          "T",
          "T",
          "T",
          "T",
          "T",
          "T",
          "T",
          "T",
          "T"
         ],
         "xaxis": "x",
         "y": [
          -0.385424,
          -0.770578,
          -3.40829,
          2.00584,
          1.78763,
          0.598592,
          -0.670904,
          -1.16814,
          1.82469,
          -1.34181,
          0.278067,
          5.51344,
          -0.0975927,
          -0.325203,
          0.854701,
          1.46723,
          -1.07595,
          0.673077,
          0,
          0.935484,
          -2.63659,
          -0.687398,
          1.61823,
          -0.717547,
          3.36052
         ],
         "yaxis": "y"
        },
        {
         "alignmentgroup": "True",
         "hovertemplate": "Companies in Primary Sector=%{x}<br>% Change=%{y}<extra></extra>",
         "legendgroup": "VZ",
         "marker": {
          "color": "#ab63fa",
          "pattern": {
           "shape": ""
          }
         },
         "name": "VZ",
         "offsetgroup": "VZ",
         "orientation": "v",
         "showlegend": true,
         "textposition": "auto",
         "type": "bar",
         "x": [
          "VZ",
          "VZ",
          "VZ",
          "VZ",
          "VZ",
          "VZ",
          "VZ",
          "VZ",
          "VZ",
          "VZ",
          "VZ",
          "VZ",
          "VZ",
          "VZ",
          "VZ",
          "VZ",
          "VZ",
          "VZ",
          "VZ",
          "VZ",
          "VZ",
          "VZ",
          "VZ",
          "VZ",
          "VZ"
         ],
         "xaxis": "x",
         "y": [
          -2.98222,
          -1.21538,
          2.15023,
          1.87991,
          0.247934,
          0.853759,
          -0.745033,
          0.0554631,
          -0.774979,
          0.279799,
          1.71849,
          2.75107,
          -2.10226,
          0.264901,
          -1.83511,
          1.9153,
          -2.73937,
          -0.0536481,
          -0.295223,
          -0.217687,
          -3.46789,
          -1.06832,
          0.794777,
          1.83876,
          5
         ],
         "yaxis": "y"
        }
       ],
       "layout": {
        "barmode": "relative",
        "legend": {
         "title": {
          "text": "Stocks"
         },
         "tracegroupgap": 0
        },
        "plot_bgcolor": "lightgray",
        "template": {
         "data": {
          "bar": [
           {
            "error_x": {
             "color": "#2a3f5f"
            },
            "error_y": {
             "color": "#2a3f5f"
            },
            "marker": {
             "line": {
              "color": "#E5ECF6",
              "width": 0.5
             },
             "pattern": {
              "fillmode": "overlay",
              "size": 10,
              "solidity": 0.2
             }
            },
            "type": "bar"
           }
          ],
          "barpolar": [
           {
            "marker": {
             "line": {
              "color": "#E5ECF6",
              "width": 0.5
             },
             "pattern": {
              "fillmode": "overlay",
              "size": 10,
              "solidity": 0.2
             }
            },
            "type": "barpolar"
           }
          ],
          "carpet": [
           {
            "aaxis": {
             "endlinecolor": "#2a3f5f",
             "gridcolor": "white",
             "linecolor": "white",
             "minorgridcolor": "white",
             "startlinecolor": "#2a3f5f"
            },
            "baxis": {
             "endlinecolor": "#2a3f5f",
             "gridcolor": "white",
             "linecolor": "white",
             "minorgridcolor": "white",
             "startlinecolor": "#2a3f5f"
            },
            "type": "carpet"
           }
          ],
          "choropleth": [
           {
            "colorbar": {
             "outlinewidth": 0,
             "ticks": ""
            },
            "type": "choropleth"
           }
          ],
          "contour": [
           {
            "colorbar": {
             "outlinewidth": 0,
             "ticks": ""
            },
            "colorscale": [
             [
              0,
              "#0d0887"
             ],
             [
              0.1111111111111111,
              "#46039f"
             ],
             [
              0.2222222222222222,
              "#7201a8"
             ],
             [
              0.3333333333333333,
              "#9c179e"
             ],
             [
              0.4444444444444444,
              "#bd3786"
             ],
             [
              0.5555555555555556,
              "#d8576b"
             ],
             [
              0.6666666666666666,
              "#ed7953"
             ],
             [
              0.7777777777777778,
              "#fb9f3a"
             ],
             [
              0.8888888888888888,
              "#fdca26"
             ],
             [
              1,
              "#f0f921"
             ]
            ],
            "type": "contour"
           }
          ],
          "contourcarpet": [
           {
            "colorbar": {
             "outlinewidth": 0,
             "ticks": ""
            },
            "type": "contourcarpet"
           }
          ],
          "heatmap": [
           {
            "colorbar": {
             "outlinewidth": 0,
             "ticks": ""
            },
            "colorscale": [
             [
              0,
              "#0d0887"
             ],
             [
              0.1111111111111111,
              "#46039f"
             ],
             [
              0.2222222222222222,
              "#7201a8"
             ],
             [
              0.3333333333333333,
              "#9c179e"
             ],
             [
              0.4444444444444444,
              "#bd3786"
             ],
             [
              0.5555555555555556,
              "#d8576b"
             ],
             [
              0.6666666666666666,
              "#ed7953"
             ],
             [
              0.7777777777777778,
              "#fb9f3a"
             ],
             [
              0.8888888888888888,
              "#fdca26"
             ],
             [
              1,
              "#f0f921"
             ]
            ],
            "type": "heatmap"
           }
          ],
          "heatmapgl": [
           {
            "colorbar": {
             "outlinewidth": 0,
             "ticks": ""
            },
            "colorscale": [
             [
              0,
              "#0d0887"
             ],
             [
              0.1111111111111111,
              "#46039f"
             ],
             [
              0.2222222222222222,
              "#7201a8"
             ],
             [
              0.3333333333333333,
              "#9c179e"
             ],
             [
              0.4444444444444444,
              "#bd3786"
             ],
             [
              0.5555555555555556,
              "#d8576b"
             ],
             [
              0.6666666666666666,
              "#ed7953"
             ],
             [
              0.7777777777777778,
              "#fb9f3a"
             ],
             [
              0.8888888888888888,
              "#fdca26"
             ],
             [
              1,
              "#f0f921"
             ]
            ],
            "type": "heatmapgl"
           }
          ],
          "histogram": [
           {
            "marker": {
             "pattern": {
              "fillmode": "overlay",
              "size": 10,
              "solidity": 0.2
             }
            },
            "type": "histogram"
           }
          ],
          "histogram2d": [
           {
            "colorbar": {
             "outlinewidth": 0,
             "ticks": ""
            },
            "colorscale": [
             [
              0,
              "#0d0887"
             ],
             [
              0.1111111111111111,
              "#46039f"
             ],
             [
              0.2222222222222222,
              "#7201a8"
             ],
             [
              0.3333333333333333,
              "#9c179e"
             ],
             [
              0.4444444444444444,
              "#bd3786"
             ],
             [
              0.5555555555555556,
              "#d8576b"
             ],
             [
              0.6666666666666666,
              "#ed7953"
             ],
             [
              0.7777777777777778,
              "#fb9f3a"
             ],
             [
              0.8888888888888888,
              "#fdca26"
             ],
             [
              1,
              "#f0f921"
             ]
            ],
            "type": "histogram2d"
           }
          ],
          "histogram2dcontour": [
           {
            "colorbar": {
             "outlinewidth": 0,
             "ticks": ""
            },
            "colorscale": [
             [
              0,
              "#0d0887"
             ],
             [
              0.1111111111111111,
              "#46039f"
             ],
             [
              0.2222222222222222,
              "#7201a8"
             ],
             [
              0.3333333333333333,
              "#9c179e"
             ],
             [
              0.4444444444444444,
              "#bd3786"
             ],
             [
              0.5555555555555556,
              "#d8576b"
             ],
             [
              0.6666666666666666,
              "#ed7953"
             ],
             [
              0.7777777777777778,
              "#fb9f3a"
             ],
             [
              0.8888888888888888,
              "#fdca26"
             ],
             [
              1,
              "#f0f921"
             ]
            ],
            "type": "histogram2dcontour"
           }
          ],
          "mesh3d": [
           {
            "colorbar": {
             "outlinewidth": 0,
             "ticks": ""
            },
            "type": "mesh3d"
           }
          ],
          "parcoords": [
           {
            "line": {
             "colorbar": {
              "outlinewidth": 0,
              "ticks": ""
             }
            },
            "type": "parcoords"
           }
          ],
          "pie": [
           {
            "automargin": true,
            "type": "pie"
           }
          ],
          "scatter": [
           {
            "fillpattern": {
             "fillmode": "overlay",
             "size": 10,
             "solidity": 0.2
            },
            "type": "scatter"
           }
          ],
          "scatter3d": [
           {
            "line": {
             "colorbar": {
              "outlinewidth": 0,
              "ticks": ""
             }
            },
            "marker": {
             "colorbar": {
              "outlinewidth": 0,
              "ticks": ""
             }
            },
            "type": "scatter3d"
           }
          ],
          "scattercarpet": [
           {
            "marker": {
             "colorbar": {
              "outlinewidth": 0,
              "ticks": ""
             }
            },
            "type": "scattercarpet"
           }
          ],
          "scattergeo": [
           {
            "marker": {
             "colorbar": {
              "outlinewidth": 0,
              "ticks": ""
             }
            },
            "type": "scattergeo"
           }
          ],
          "scattergl": [
           {
            "marker": {
             "colorbar": {
              "outlinewidth": 0,
              "ticks": ""
             }
            },
            "type": "scattergl"
           }
          ],
          "scattermapbox": [
           {
            "marker": {
             "colorbar": {
              "outlinewidth": 0,
              "ticks": ""
             }
            },
            "type": "scattermapbox"
           }
          ],
          "scatterpolar": [
           {
            "marker": {
             "colorbar": {
              "outlinewidth": 0,
              "ticks": ""
             }
            },
            "type": "scatterpolar"
           }
          ],
          "scatterpolargl": [
           {
            "marker": {
             "colorbar": {
              "outlinewidth": 0,
              "ticks": ""
             }
            },
            "type": "scatterpolargl"
           }
          ],
          "scatterternary": [
           {
            "marker": {
             "colorbar": {
              "outlinewidth": 0,
              "ticks": ""
             }
            },
            "type": "scatterternary"
           }
          ],
          "surface": [
           {
            "colorbar": {
             "outlinewidth": 0,
             "ticks": ""
            },
            "colorscale": [
             [
              0,
              "#0d0887"
             ],
             [
              0.1111111111111111,
              "#46039f"
             ],
             [
              0.2222222222222222,
              "#7201a8"
             ],
             [
              0.3333333333333333,
              "#9c179e"
             ],
             [
              0.4444444444444444,
              "#bd3786"
             ],
             [
              0.5555555555555556,
              "#d8576b"
             ],
             [
              0.6666666666666666,
              "#ed7953"
             ],
             [
              0.7777777777777778,
              "#fb9f3a"
             ],
             [
              0.8888888888888888,
              "#fdca26"
             ],
             [
              1,
              "#f0f921"
             ]
            ],
            "type": "surface"
           }
          ],
          "table": [
           {
            "cells": {
             "fill": {
              "color": "#EBF0F8"
             },
             "line": {
              "color": "white"
             }
            },
            "header": {
             "fill": {
              "color": "#C8D4E3"
             },
             "line": {
              "color": "white"
             }
            },
            "type": "table"
           }
          ]
         },
         "layout": {
          "annotationdefaults": {
           "arrowcolor": "#2a3f5f",
           "arrowhead": 0,
           "arrowwidth": 1
          },
          "autotypenumbers": "strict",
          "coloraxis": {
           "colorbar": {
            "outlinewidth": 0,
            "ticks": ""
           }
          },
          "colorscale": {
           "diverging": [
            [
             0,
             "#8e0152"
            ],
            [
             0.1,
             "#c51b7d"
            ],
            [
             0.2,
             "#de77ae"
            ],
            [
             0.3,
             "#f1b6da"
            ],
            [
             0.4,
             "#fde0ef"
            ],
            [
             0.5,
             "#f7f7f7"
            ],
            [
             0.6,
             "#e6f5d0"
            ],
            [
             0.7,
             "#b8e186"
            ],
            [
             0.8,
             "#7fbc41"
            ],
            [
             0.9,
             "#4d9221"
            ],
            [
             1,
             "#276419"
            ]
           ],
           "sequential": [
            [
             0,
             "#0d0887"
            ],
            [
             0.1111111111111111,
             "#46039f"
            ],
            [
             0.2222222222222222,
             "#7201a8"
            ],
            [
             0.3333333333333333,
             "#9c179e"
            ],
            [
             0.4444444444444444,
             "#bd3786"
            ],
            [
             0.5555555555555556,
             "#d8576b"
            ],
            [
             0.6666666666666666,
             "#ed7953"
            ],
            [
             0.7777777777777778,
             "#fb9f3a"
            ],
            [
             0.8888888888888888,
             "#fdca26"
            ],
            [
             1,
             "#f0f921"
            ]
           ],
           "sequentialminus": [
            [
             0,
             "#0d0887"
            ],
            [
             0.1111111111111111,
             "#46039f"
            ],
            [
             0.2222222222222222,
             "#7201a8"
            ],
            [
             0.3333333333333333,
             "#9c179e"
            ],
            [
             0.4444444444444444,
             "#bd3786"
            ],
            [
             0.5555555555555556,
             "#d8576b"
            ],
            [
             0.6666666666666666,
             "#ed7953"
            ],
            [
             0.7777777777777778,
             "#fb9f3a"
            ],
            [
             0.8888888888888888,
             "#fdca26"
            ],
            [
             1,
             "#f0f921"
            ]
           ]
          },
          "colorway": [
           "#636efa",
           "#EF553B",
           "#00cc96",
           "#ab63fa",
           "#FFA15A",
           "#19d3f3",
           "#FF6692",
           "#B6E880",
           "#FF97FF",
           "#FECB52"
          ],
          "font": {
           "color": "#2a3f5f"
          },
          "geo": {
           "bgcolor": "white",
           "lakecolor": "white",
           "landcolor": "#E5ECF6",
           "showlakes": true,
           "showland": true,
           "subunitcolor": "white"
          },
          "hoverlabel": {
           "align": "left"
          },
          "hovermode": "closest",
          "mapbox": {
           "style": "light"
          },
          "paper_bgcolor": "white",
          "plot_bgcolor": "#E5ECF6",
          "polar": {
           "angularaxis": {
            "gridcolor": "white",
            "linecolor": "white",
            "ticks": ""
           },
           "bgcolor": "#E5ECF6",
           "radialaxis": {
            "gridcolor": "white",
            "linecolor": "white",
            "ticks": ""
           }
          },
          "scene": {
           "xaxis": {
            "backgroundcolor": "#E5ECF6",
            "gridcolor": "white",
            "gridwidth": 2,
            "linecolor": "white",
            "showbackground": true,
            "ticks": "",
            "zerolinecolor": "white"
           },
           "yaxis": {
            "backgroundcolor": "#E5ECF6",
            "gridcolor": "white",
            "gridwidth": 2,
            "linecolor": "white",
            "showbackground": true,
            "ticks": "",
            "zerolinecolor": "white"
           },
           "zaxis": {
            "backgroundcolor": "#E5ECF6",
            "gridcolor": "white",
            "gridwidth": 2,
            "linecolor": "white",
            "showbackground": true,
            "ticks": "",
            "zerolinecolor": "white"
           }
          },
          "shapedefaults": {
           "line": {
            "color": "#2a3f5f"
           }
          },
          "ternary": {
           "aaxis": {
            "gridcolor": "white",
            "linecolor": "white",
            "ticks": ""
           },
           "baxis": {
            "gridcolor": "white",
            "linecolor": "white",
            "ticks": ""
           },
           "bgcolor": "#E5ECF6",
           "caxis": {
            "gridcolor": "white",
            "linecolor": "white",
            "ticks": ""
           }
          },
          "title": {
           "x": 0.05
          },
          "xaxis": {
           "automargin": true,
           "gridcolor": "white",
           "linecolor": "white",
           "ticks": "",
           "title": {
            "standoff": 15
           },
           "zerolinecolor": "white",
           "zerolinewidth": 2
          },
          "yaxis": {
           "automargin": true,
           "gridcolor": "white",
           "linecolor": "white",
           "ticks": "",
           "title": {
            "standoff": 15
           },
           "zerolinecolor": "white",
           "zerolinewidth": 2
          }
         }
        },
        "title": {
         "text": "Percentage Change in Stock Prices in Primary Sector"
        },
        "xaxis": {
         "anchor": "y",
         "categoryarray": [
          "JNJ",
          "KO",
          "T",
          "VZ"
         ],
         "categoryorder": "array",
         "domain": [
          0,
          1
         ],
         "tickangle": 0,
         "title": {
          "text": "Companies in Primary Sector"
         }
        },
        "yaxis": {
         "anchor": "x",
         "domain": [
          0,
          1
         ],
         "title": {
          "text": "% Change"
         }
        }
       }
      },
      "text/html": [
       "<div>                            <div id=\"ed0942bb-b821-4b22-95db-469482d74d1e\" class=\"plotly-graph-div\" style=\"height:525px; width:100%;\"></div>            <script type=\"text/javascript\">                require([\"plotly\"], function(Plotly) {                    window.PLOTLYENV=window.PLOTLYENV || {};                                    if (document.getElementById(\"ed0942bb-b821-4b22-95db-469482d74d1e\")) {                    Plotly.newPlot(                        \"ed0942bb-b821-4b22-95db-469482d74d1e\",                        [{\"alignmentgroup\":\"True\",\"hovertemplate\":\"Companies in Primary Sector=%{x}<br>% Change=%{y}<extra></extra>\",\"legendgroup\":\"JNJ\",\"marker\":{\"color\":\"#636efa\",\"pattern\":{\"shape\":\"\"}},\"name\":\"JNJ\",\"offsetgroup\":\"JNJ\",\"orientation\":\"v\",\"showlegend\":true,\"textposition\":\"auto\",\"x\":[\"JNJ\",\"JNJ\",\"JNJ\",\"JNJ\",\"JNJ\",\"JNJ\",\"JNJ\",\"JNJ\",\"JNJ\",\"JNJ\",\"JNJ\",\"JNJ\",\"JNJ\",\"JNJ\",\"JNJ\",\"JNJ\",\"JNJ\",\"JNJ\",\"JNJ\",\"JNJ\",\"JNJ\",\"JNJ\",\"JNJ\",\"JNJ\",\"JNJ\"],\"xaxis\":\"x\",\"y\":[0.417402,0.723356,-4.07609,1.13032,-0.295664,0.692042,-1.71391,1.88553,-2.2917,-1.54648,0.528379,0.8647,-0.0672269,1.71313,5.98842,3.25216,-0.986044,2.31915,-1.08417,2.42368,-1.81251,0.333991,-0.0452352,-1.54358,3.22086],\"yaxis\":\"y\",\"type\":\"bar\"},{\"alignmentgroup\":\"True\",\"hovertemplate\":\"Companies in Primary Sector=%{x}<br>% Change=%{y}<extra></extra>\",\"legendgroup\":\"KO\",\"marker\":{\"color\":\"#EF553B\",\"pattern\":{\"shape\":\"\"}},\"name\":\"KO\",\"offsetgroup\":\"KO\",\"orientation\":\"v\",\"showlegend\":true,\"textposition\":\"auto\",\"x\":[\"KO\",\"KO\",\"KO\",\"KO\",\"KO\",\"KO\",\"KO\",\"KO\",\"KO\",\"KO\",\"KO\",\"KO\",\"KO\",\"KO\",\"KO\",\"KO\",\"KO\",\"KO\",\"KO\",\"KO\",\"KO\",\"KO\",\"KO\",\"KO\",\"KO\"],\"xaxis\":\"x\",\"y\":[0.685805,-0.696092,-1.04979,0.385109,1.43609,1.38213,1.49937,1.62069,-0.780772,-2.54896,3.31063,3.09816,0.0743826,1.13011,0.458783,-0.721118,-1.26919,1.97427,0.293686,-1.59787,-2.10636,-0.183178,0.798771,-0.673092,4.99614],\"yaxis\":\"y\",\"type\":\"bar\"},{\"alignmentgroup\":\"True\",\"hovertemplate\":\"Companies in Primary Sector=%{x}<br>% Change=%{y}<extra></extra>\",\"legendgroup\":\"T\",\"marker\":{\"color\":\"#00cc96\",\"pattern\":{\"shape\":\"\"}},\"name\":\"T\",\"offsetgroup\":\"T\",\"orientation\":\"v\",\"showlegend\":true,\"textposition\":\"auto\",\"x\":[\"T\",\"T\",\"T\",\"T\",\"T\",\"T\",\"T\",\"T\",\"T\",\"T\",\"T\",\"T\",\"T\",\"T\",\"T\",\"T\",\"T\",\"T\",\"T\",\"T\",\"T\",\"T\",\"T\",\"T\",\"T\"],\"xaxis\":\"x\",\"y\":[-0.385424,-0.770578,-3.40829,2.00584,1.78763,0.598592,-0.670904,-1.16814,1.82469,-1.34181,0.278067,5.51344,-0.0975927,-0.325203,0.854701,1.46723,-1.07595,0.673077,0.0,0.935484,-2.63659,-0.687398,1.61823,-0.717547,3.36052],\"yaxis\":\"y\",\"type\":\"bar\"},{\"alignmentgroup\":\"True\",\"hovertemplate\":\"Companies in Primary Sector=%{x}<br>% Change=%{y}<extra></extra>\",\"legendgroup\":\"VZ\",\"marker\":{\"color\":\"#ab63fa\",\"pattern\":{\"shape\":\"\"}},\"name\":\"VZ\",\"offsetgroup\":\"VZ\",\"orientation\":\"v\",\"showlegend\":true,\"textposition\":\"auto\",\"x\":[\"VZ\",\"VZ\",\"VZ\",\"VZ\",\"VZ\",\"VZ\",\"VZ\",\"VZ\",\"VZ\",\"VZ\",\"VZ\",\"VZ\",\"VZ\",\"VZ\",\"VZ\",\"VZ\",\"VZ\",\"VZ\",\"VZ\",\"VZ\",\"VZ\",\"VZ\",\"VZ\",\"VZ\",\"VZ\"],\"xaxis\":\"x\",\"y\":[-2.98222,-1.21538,2.15023,1.87991,0.247934,0.853759,-0.745033,0.0554631,-0.774979,0.279799,1.71849,2.75107,-2.10226,0.264901,-1.83511,1.9153,-2.73937,-0.0536481,-0.295223,-0.217687,-3.46789,-1.06832,0.794777,1.83876,5.0],\"yaxis\":\"y\",\"type\":\"bar\"}],                        {\"template\":{\"data\":{\"histogram2dcontour\":[{\"type\":\"histogram2dcontour\",\"colorbar\":{\"outlinewidth\":0,\"ticks\":\"\"},\"colorscale\":[[0.0,\"#0d0887\"],[0.1111111111111111,\"#46039f\"],[0.2222222222222222,\"#7201a8\"],[0.3333333333333333,\"#9c179e\"],[0.4444444444444444,\"#bd3786\"],[0.5555555555555556,\"#d8576b\"],[0.6666666666666666,\"#ed7953\"],[0.7777777777777778,\"#fb9f3a\"],[0.8888888888888888,\"#fdca26\"],[1.0,\"#f0f921\"]]}],\"choropleth\":[{\"type\":\"choropleth\",\"colorbar\":{\"outlinewidth\":0,\"ticks\":\"\"}}],\"histogram2d\":[{\"type\":\"histogram2d\",\"colorbar\":{\"outlinewidth\":0,\"ticks\":\"\"},\"colorscale\":[[0.0,\"#0d0887\"],[0.1111111111111111,\"#46039f\"],[0.2222222222222222,\"#7201a8\"],[0.3333333333333333,\"#9c179e\"],[0.4444444444444444,\"#bd3786\"],[0.5555555555555556,\"#d8576b\"],[0.6666666666666666,\"#ed7953\"],[0.7777777777777778,\"#fb9f3a\"],[0.8888888888888888,\"#fdca26\"],[1.0,\"#f0f921\"]]}],\"heatmap\":[{\"type\":\"heatmap\",\"colorbar\":{\"outlinewidth\":0,\"ticks\":\"\"},\"colorscale\":[[0.0,\"#0d0887\"],[0.1111111111111111,\"#46039f\"],[0.2222222222222222,\"#7201a8\"],[0.3333333333333333,\"#9c179e\"],[0.4444444444444444,\"#bd3786\"],[0.5555555555555556,\"#d8576b\"],[0.6666666666666666,\"#ed7953\"],[0.7777777777777778,\"#fb9f3a\"],[0.8888888888888888,\"#fdca26\"],[1.0,\"#f0f921\"]]}],\"heatmapgl\":[{\"type\":\"heatmapgl\",\"colorbar\":{\"outlinewidth\":0,\"ticks\":\"\"},\"colorscale\":[[0.0,\"#0d0887\"],[0.1111111111111111,\"#46039f\"],[0.2222222222222222,\"#7201a8\"],[0.3333333333333333,\"#9c179e\"],[0.4444444444444444,\"#bd3786\"],[0.5555555555555556,\"#d8576b\"],[0.6666666666666666,\"#ed7953\"],[0.7777777777777778,\"#fb9f3a\"],[0.8888888888888888,\"#fdca26\"],[1.0,\"#f0f921\"]]}],\"contourcarpet\":[{\"type\":\"contourcarpet\",\"colorbar\":{\"outlinewidth\":0,\"ticks\":\"\"}}],\"contour\":[{\"type\":\"contour\",\"colorbar\":{\"outlinewidth\":0,\"ticks\":\"\"},\"colorscale\":[[0.0,\"#0d0887\"],[0.1111111111111111,\"#46039f\"],[0.2222222222222222,\"#7201a8\"],[0.3333333333333333,\"#9c179e\"],[0.4444444444444444,\"#bd3786\"],[0.5555555555555556,\"#d8576b\"],[0.6666666666666666,\"#ed7953\"],[0.7777777777777778,\"#fb9f3a\"],[0.8888888888888888,\"#fdca26\"],[1.0,\"#f0f921\"]]}],\"surface\":[{\"type\":\"surface\",\"colorbar\":{\"outlinewidth\":0,\"ticks\":\"\"},\"colorscale\":[[0.0,\"#0d0887\"],[0.1111111111111111,\"#46039f\"],[0.2222222222222222,\"#7201a8\"],[0.3333333333333333,\"#9c179e\"],[0.4444444444444444,\"#bd3786\"],[0.5555555555555556,\"#d8576b\"],[0.6666666666666666,\"#ed7953\"],[0.7777777777777778,\"#fb9f3a\"],[0.8888888888888888,\"#fdca26\"],[1.0,\"#f0f921\"]]}],\"mesh3d\":[{\"type\":\"mesh3d\",\"colorbar\":{\"outlinewidth\":0,\"ticks\":\"\"}}],\"scatter\":[{\"fillpattern\":{\"fillmode\":\"overlay\",\"size\":10,\"solidity\":0.2},\"type\":\"scatter\"}],\"parcoords\":[{\"type\":\"parcoords\",\"line\":{\"colorbar\":{\"outlinewidth\":0,\"ticks\":\"\"}}}],\"scatterpolargl\":[{\"type\":\"scatterpolargl\",\"marker\":{\"colorbar\":{\"outlinewidth\":0,\"ticks\":\"\"}}}],\"bar\":[{\"error_x\":{\"color\":\"#2a3f5f\"},\"error_y\":{\"color\":\"#2a3f5f\"},\"marker\":{\"line\":{\"color\":\"#E5ECF6\",\"width\":0.5},\"pattern\":{\"fillmode\":\"overlay\",\"size\":10,\"solidity\":0.2}},\"type\":\"bar\"}],\"scattergeo\":[{\"type\":\"scattergeo\",\"marker\":{\"colorbar\":{\"outlinewidth\":0,\"ticks\":\"\"}}}],\"scatterpolar\":[{\"type\":\"scatterpolar\",\"marker\":{\"colorbar\":{\"outlinewidth\":0,\"ticks\":\"\"}}}],\"histogram\":[{\"marker\":{\"pattern\":{\"fillmode\":\"overlay\",\"size\":10,\"solidity\":0.2}},\"type\":\"histogram\"}],\"scattergl\":[{\"type\":\"scattergl\",\"marker\":{\"colorbar\":{\"outlinewidth\":0,\"ticks\":\"\"}}}],\"scatter3d\":[{\"type\":\"scatter3d\",\"line\":{\"colorbar\":{\"outlinewidth\":0,\"ticks\":\"\"}},\"marker\":{\"colorbar\":{\"outlinewidth\":0,\"ticks\":\"\"}}}],\"scattermapbox\":[{\"type\":\"scattermapbox\",\"marker\":{\"colorbar\":{\"outlinewidth\":0,\"ticks\":\"\"}}}],\"scatterternary\":[{\"type\":\"scatterternary\",\"marker\":{\"colorbar\":{\"outlinewidth\":0,\"ticks\":\"\"}}}],\"scattercarpet\":[{\"type\":\"scattercarpet\",\"marker\":{\"colorbar\":{\"outlinewidth\":0,\"ticks\":\"\"}}}],\"carpet\":[{\"aaxis\":{\"endlinecolor\":\"#2a3f5f\",\"gridcolor\":\"white\",\"linecolor\":\"white\",\"minorgridcolor\":\"white\",\"startlinecolor\":\"#2a3f5f\"},\"baxis\":{\"endlinecolor\":\"#2a3f5f\",\"gridcolor\":\"white\",\"linecolor\":\"white\",\"minorgridcolor\":\"white\",\"startlinecolor\":\"#2a3f5f\"},\"type\":\"carpet\"}],\"table\":[{\"cells\":{\"fill\":{\"color\":\"#EBF0F8\"},\"line\":{\"color\":\"white\"}},\"header\":{\"fill\":{\"color\":\"#C8D4E3\"},\"line\":{\"color\":\"white\"}},\"type\":\"table\"}],\"barpolar\":[{\"marker\":{\"line\":{\"color\":\"#E5ECF6\",\"width\":0.5},\"pattern\":{\"fillmode\":\"overlay\",\"size\":10,\"solidity\":0.2}},\"type\":\"barpolar\"}],\"pie\":[{\"automargin\":true,\"type\":\"pie\"}]},\"layout\":{\"autotypenumbers\":\"strict\",\"colorway\":[\"#636efa\",\"#EF553B\",\"#00cc96\",\"#ab63fa\",\"#FFA15A\",\"#19d3f3\",\"#FF6692\",\"#B6E880\",\"#FF97FF\",\"#FECB52\"],\"font\":{\"color\":\"#2a3f5f\"},\"hovermode\":\"closest\",\"hoverlabel\":{\"align\":\"left\"},\"paper_bgcolor\":\"white\",\"plot_bgcolor\":\"#E5ECF6\",\"polar\":{\"bgcolor\":\"#E5ECF6\",\"angularaxis\":{\"gridcolor\":\"white\",\"linecolor\":\"white\",\"ticks\":\"\"},\"radialaxis\":{\"gridcolor\":\"white\",\"linecolor\":\"white\",\"ticks\":\"\"}},\"ternary\":{\"bgcolor\":\"#E5ECF6\",\"aaxis\":{\"gridcolor\":\"white\",\"linecolor\":\"white\",\"ticks\":\"\"},\"baxis\":{\"gridcolor\":\"white\",\"linecolor\":\"white\",\"ticks\":\"\"},\"caxis\":{\"gridcolor\":\"white\",\"linecolor\":\"white\",\"ticks\":\"\"}},\"coloraxis\":{\"colorbar\":{\"outlinewidth\":0,\"ticks\":\"\"}},\"colorscale\":{\"sequential\":[[0.0,\"#0d0887\"],[0.1111111111111111,\"#46039f\"],[0.2222222222222222,\"#7201a8\"],[0.3333333333333333,\"#9c179e\"],[0.4444444444444444,\"#bd3786\"],[0.5555555555555556,\"#d8576b\"],[0.6666666666666666,\"#ed7953\"],[0.7777777777777778,\"#fb9f3a\"],[0.8888888888888888,\"#fdca26\"],[1.0,\"#f0f921\"]],\"sequentialminus\":[[0.0,\"#0d0887\"],[0.1111111111111111,\"#46039f\"],[0.2222222222222222,\"#7201a8\"],[0.3333333333333333,\"#9c179e\"],[0.4444444444444444,\"#bd3786\"],[0.5555555555555556,\"#d8576b\"],[0.6666666666666666,\"#ed7953\"],[0.7777777777777778,\"#fb9f3a\"],[0.8888888888888888,\"#fdca26\"],[1.0,\"#f0f921\"]],\"diverging\":[[0,\"#8e0152\"],[0.1,\"#c51b7d\"],[0.2,\"#de77ae\"],[0.3,\"#f1b6da\"],[0.4,\"#fde0ef\"],[0.5,\"#f7f7f7\"],[0.6,\"#e6f5d0\"],[0.7,\"#b8e186\"],[0.8,\"#7fbc41\"],[0.9,\"#4d9221\"],[1,\"#276419\"]]},\"xaxis\":{\"gridcolor\":\"white\",\"linecolor\":\"white\",\"ticks\":\"\",\"title\":{\"standoff\":15},\"zerolinecolor\":\"white\",\"automargin\":true,\"zerolinewidth\":2},\"yaxis\":{\"gridcolor\":\"white\",\"linecolor\":\"white\",\"ticks\":\"\",\"title\":{\"standoff\":15},\"zerolinecolor\":\"white\",\"automargin\":true,\"zerolinewidth\":2},\"scene\":{\"xaxis\":{\"backgroundcolor\":\"#E5ECF6\",\"gridcolor\":\"white\",\"linecolor\":\"white\",\"showbackground\":true,\"ticks\":\"\",\"zerolinecolor\":\"white\",\"gridwidth\":2},\"yaxis\":{\"backgroundcolor\":\"#E5ECF6\",\"gridcolor\":\"white\",\"linecolor\":\"white\",\"showbackground\":true,\"ticks\":\"\",\"zerolinecolor\":\"white\",\"gridwidth\":2},\"zaxis\":{\"backgroundcolor\":\"#E5ECF6\",\"gridcolor\":\"white\",\"linecolor\":\"white\",\"showbackground\":true,\"ticks\":\"\",\"zerolinecolor\":\"white\",\"gridwidth\":2}},\"shapedefaults\":{\"line\":{\"color\":\"#2a3f5f\"}},\"annotationdefaults\":{\"arrowcolor\":\"#2a3f5f\",\"arrowhead\":0,\"arrowwidth\":1},\"geo\":{\"bgcolor\":\"white\",\"landcolor\":\"#E5ECF6\",\"subunitcolor\":\"white\",\"showland\":true,\"showlakes\":true,\"lakecolor\":\"white\"},\"title\":{\"x\":0.05},\"mapbox\":{\"style\":\"light\"}}},\"xaxis\":{\"anchor\":\"y\",\"domain\":[0.0,1.0],\"title\":{\"text\":\"Companies in Primary Sector\"},\"categoryorder\":\"array\",\"categoryarray\":[\"JNJ\",\"KO\",\"T\",\"VZ\"],\"tickangle\":0},\"yaxis\":{\"anchor\":\"x\",\"domain\":[0.0,1.0],\"title\":{\"text\":\"% Change\"}},\"legend\":{\"title\":{\"text\":\"Stocks\"},\"tracegroupgap\":0},\"title\":{\"text\":\"Percentage Change in Stock Prices in Primary Sector\"},\"barmode\":\"relative\",\"plot_bgcolor\":\"lightgray\"},                        {\"responsive\": true}                    ).then(function(){\n",
       "                            \n",
       "var gd = document.getElementById('ed0942bb-b821-4b22-95db-469482d74d1e');\n",
       "var x = new MutationObserver(function (mutations, observer) {{\n",
       "        var display = window.getComputedStyle(gd).display;\n",
       "        if (!display || display === 'none') {{\n",
       "            console.log([gd, 'removed!']);\n",
       "            Plotly.purge(gd);\n",
       "            observer.disconnect();\n",
       "        }}\n",
       "}});\n",
       "\n",
       "// Listen for the removal of the full notebook cells\n",
       "var notebookContainer = gd.closest('#notebook-container');\n",
       "if (notebookContainer) {{\n",
       "    x.observe(notebookContainer, {childList: true});\n",
       "}}\n",
       "\n",
       "// Listen for the clearing of the current output cell\n",
       "var outputEl = gd.closest('.output');\n",
       "if (outputEl) {{\n",
       "    x.observe(outputEl, {childList: true});\n",
       "}}\n",
       "\n",
       "                        })                };                });            </script>        </div>"
      ]
     },
     "metadata": {},
     "output_type": "display_data"
    }
   ],
   "source": [
    "fig = px.bar(\n",
    "pri_sector_next_wk,\n",
    "x='stock',\n",
    "y='percent_change_next_weeks_price',\n",
    "title='Percentage Change in Stock Prices in Primary Sector',\n",
    "color='stock',\n",
    "labels={'percent_change_next_weeks_price': '% Change', \n",
    "       'stock': 'Companies in Primary Sector'})\n",
    "fig.update_layout(\n",
    "plot_bgcolor='lightgray',\n",
    "xaxis=dict(tickangle=0),\n",
    "    legend_title_text='Stocks'\n",
    ")\n",
    "\n",
    "\n",
    "fig.show()"
   ]
  },
  {
   "cell_type": "code",
   "execution_count": 226,
   "id": "3fbc4282",
   "metadata": {},
   "outputs": [
    {
     "data": {
      "text/html": [
       "<div>\n",
       "<style scoped>\n",
       "    .dataframe tbody tr th:only-of-type {\n",
       "        vertical-align: middle;\n",
       "    }\n",
       "\n",
       "    .dataframe tbody tr th {\n",
       "        vertical-align: top;\n",
       "    }\n",
       "\n",
       "    .dataframe thead th {\n",
       "        text-align: right;\n",
       "    }\n",
       "</style>\n",
       "<table border=\"1\" class=\"dataframe\">\n",
       "  <thead>\n",
       "    <tr style=\"text-align: right;\">\n",
       "      <th></th>\n",
       "      <th>quarter</th>\n",
       "      <th>percent_change_next_weeks_price</th>\n",
       "      <th>month</th>\n",
       "    </tr>\n",
       "  </thead>\n",
       "  <tbody>\n",
       "    <tr>\n",
       "      <th>count</th>\n",
       "      <td>100.000000</td>\n",
       "      <td>100.000000</td>\n",
       "      <td>100.00000</td>\n",
       "    </tr>\n",
       "    <tr>\n",
       "      <th>mean</th>\n",
       "      <td>1.520000</td>\n",
       "      <td>0.314336</td>\n",
       "      <td>3.52000</td>\n",
       "    </tr>\n",
       "    <tr>\n",
       "      <th>std</th>\n",
       "      <td>0.502117</td>\n",
       "      <td>1.906633</td>\n",
       "      <td>1.68463</td>\n",
       "    </tr>\n",
       "    <tr>\n",
       "      <th>min</th>\n",
       "      <td>1.000000</td>\n",
       "      <td>-4.076090</td>\n",
       "      <td>1.00000</td>\n",
       "    </tr>\n",
       "    <tr>\n",
       "      <th>25%</th>\n",
       "      <td>1.000000</td>\n",
       "      <td>-0.832090</td>\n",
       "      <td>2.00000</td>\n",
       "    </tr>\n",
       "    <tr>\n",
       "      <th>50%</th>\n",
       "      <td>2.000000</td>\n",
       "      <td>0.271484</td>\n",
       "      <td>4.00000</td>\n",
       "    </tr>\n",
       "    <tr>\n",
       "      <th>75%</th>\n",
       "      <td>2.000000</td>\n",
       "      <td>1.529085</td>\n",
       "      <td>5.00000</td>\n",
       "    </tr>\n",
       "    <tr>\n",
       "      <th>max</th>\n",
       "      <td>2.000000</td>\n",
       "      <td>5.988420</td>\n",
       "      <td>6.00000</td>\n",
       "    </tr>\n",
       "  </tbody>\n",
       "</table>\n",
       "</div>"
      ],
      "text/plain": [
       "          quarter  percent_change_next_weeks_price      month\n",
       "count  100.000000                       100.000000  100.00000\n",
       "mean     1.520000                         0.314336    3.52000\n",
       "std      0.502117                         1.906633    1.68463\n",
       "min      1.000000                        -4.076090    1.00000\n",
       "25%      1.000000                        -0.832090    2.00000\n",
       "50%      2.000000                         0.271484    4.00000\n",
       "75%      2.000000                         1.529085    5.00000\n",
       "max      2.000000                         5.988420    6.00000"
      ]
     },
     "execution_count": 226,
     "metadata": {},
     "output_type": "execute_result"
    }
   ],
   "source": [
    "pri_sector_next_wk.describe()"
   ]
  },
  {
   "cell_type": "markdown",
   "id": "d0d5f246",
   "metadata": {},
   "source": [
    "Volatility = In primary sector, the standard deviation is approx. 1.9066. This indicates that the weekly returns in this sector vary moderately around the mean value of 0.3143. \n",
    "\n",
    "Range of Returns using min and max values = the range is approx. 10.065"
   ]
  },
  {
   "cell_type": "code",
   "execution_count": 198,
   "id": "b88eee80",
   "metadata": {
    "scrolled": false
   },
   "outputs": [
    {
     "data": {
      "application/vnd.plotly.v1+json": {
       "config": {
        "plotlyServerURL": "https://plot.ly"
       },
       "data": [
        {
         "hovertemplate": "stock=AA<br>Date=%{x}<br>% Change=%{y}<extra></extra>",
         "legendgroup": "AA",
         "line": {
          "color": "rgb(228,26,28)",
          "dash": "solid"
         },
         "marker": {
          "symbol": "circle"
         },
         "mode": "lines+markers",
         "name": "AA",
         "orientation": "v",
         "showlegend": true,
         "type": "scatter",
         "x": [
          "2011-01-07T00:00:00",
          "2011-01-14T00:00:00",
          "2011-01-21T00:00:00",
          "2011-01-28T00:00:00",
          "2011-02-04T00:00:00",
          "2011-02-11T00:00:00",
          "2011-02-18T00:00:00",
          "2011-02-25T00:00:00",
          "2011-03-04T00:00:00",
          "2011-03-11T00:00:00",
          "2011-03-18T00:00:00",
          "2011-03-25T00:00:00",
          "2011-04-01T00:00:00",
          "2011-04-08T00:00:00",
          "2011-04-15T00:00:00",
          "2011-04-21T00:00:00",
          "2011-04-29T00:00:00",
          "2011-05-06T00:00:00",
          "2011-05-13T00:00:00",
          "2011-05-20T00:00:00",
          "2011-05-27T00:00:00",
          "2011-06-03T00:00:00",
          "2011-06-10T00:00:00",
          "2011-06-17T00:00:00",
          "2011-06-24T00:00:00"
         ],
         "xaxis": "x",
         "y": [
          -4.42849,
          -2.47066,
          1.63831,
          5.93325,
          0.230814,
          -0.632547,
          -1.76678,
          -1.36823,
          -3.31725,
          1.00313,
          4.33455,
          1.98482,
          2.87026,
          -8.52713,
          3.72861,
          0.354191,
          -0.694847,
          -0.34965,
          -4.35294,
          3.25815,
          -4.8416,
          -4.0201,
          -3.72793,
          3.81731,
          7.16163
         ],
         "yaxis": "y"
        },
        {
         "hovertemplate": "stock=BA<br>Date=%{x}<br>% Change=%{y}<extra></extra>",
         "legendgroup": "BA",
         "line": {
          "color": "rgb(55,126,184)",
          "dash": "solid"
         },
         "marker": {
          "symbol": "circle"
         },
         "mode": "lines+markers",
         "name": "BA",
         "orientation": "v",
         "showlegend": true,
         "type": "scatter",
         "x": [
          "2011-01-07T00:00:00",
          "2011-01-14T00:00:00",
          "2011-01-21T00:00:00",
          "2011-01-28T00:00:00",
          "2011-02-04T00:00:00",
          "2011-02-11T00:00:00",
          "2011-02-18T00:00:00",
          "2011-02-25T00:00:00",
          "2011-03-04T00:00:00",
          "2011-03-11T00:00:00",
          "2011-03-18T00:00:00",
          "2011-03-25T00:00:00",
          "2011-04-01T00:00:00",
          "2011-04-08T00:00:00",
          "2011-04-15T00:00:00",
          "2011-04-21T00:00:00",
          "2011-04-29T00:00:00",
          "2011-05-06T00:00:00",
          "2011-05-13T00:00:00",
          "2011-05-20T00:00:00",
          "2011-05-27T00:00:00",
          "2011-06-03T00:00:00",
          "2011-06-10T00:00:00",
          "2011-06-17T00:00:00",
          "2011-06-24T00:00:00"
         ],
         "xaxis": "x",
         "y": [
          0.93633,
          1.15721,
          -3.2019,
          3.06093,
          0.99398,
          0.467675,
          -0.0691085,
          -0.92452,
          0.0558659,
          -2.90853,
          4.33917,
          0.693878,
          0.122649,
          -1.42566,
          3.74037,
          5.65488,
          -1.29434,
          -0.353045,
          -1.44928,
          0.574788,
          -3.80463,
          -2.76886,
          1.50561,
          -3.65062,
          3.96137
         ],
         "yaxis": "y"
        },
        {
         "hovertemplate": "stock=CAT<br>Date=%{x}<br>% Change=%{y}<extra></extra>",
         "legendgroup": "CAT",
         "line": {
          "color": "rgb(77,175,74)",
          "dash": "solid"
         },
         "marker": {
          "symbol": "circle"
         },
         "mode": "lines+markers",
         "name": "CAT",
         "orientation": "v",
         "showlegend": true,
         "type": "scatter",
         "x": [
          "2011-01-07T00:00:00",
          "2011-01-14T00:00:00",
          "2011-01-21T00:00:00",
          "2011-01-28T00:00:00",
          "2011-02-04T00:00:00",
          "2011-02-11T00:00:00",
          "2011-02-18T00:00:00",
          "2011-02-25T00:00:00",
          "2011-03-04T00:00:00",
          "2011-03-11T00:00:00",
          "2011-03-18T00:00:00",
          "2011-03-25T00:00:00",
          "2011-04-01T00:00:00",
          "2011-04-08T00:00:00",
          "2011-04-15T00:00:00",
          "2011-04-21T00:00:00",
          "2011-04-29T00:00:00",
          "2011-05-06T00:00:00",
          "2011-05-13T00:00:00",
          "2011-05-20T00:00:00",
          "2011-05-27T00:00:00",
          "2011-06-03T00:00:00",
          "2011-06-10T00:00:00",
          "2011-06-17T00:00:00",
          "2011-06-24T00:00:00"
         ],
         "xaxis": "x",
         "y": [
          0.858277,
          -1.49745,
          3.20354,
          3.59929,
          3.93495,
          2.22093,
          -2.72745,
          0.311526,
          -3.28757,
          2.40764,
          2.04864,
          3.26821,
          -3.45495,
          -2.55408,
          3.63705,
          5.64811,
          -5.07571,
          -4.0343,
          -1.45461,
          3.25765,
          -4.99013,
          -3.45137,
          -1.01104,
          3.64805,
          8.66347
         ],
         "yaxis": "y"
        },
        {
         "hovertemplate": "stock=CSCO<br>Date=%{x}<br>% Change=%{y}<extra></extra>",
         "legendgroup": "CSCO",
         "line": {
          "color": "rgb(152,78,163)",
          "dash": "solid"
         },
         "marker": {
          "symbol": "circle"
         },
         "mode": "lines+markers",
         "name": "CSCO",
         "orientation": "v",
         "showlegend": true,
         "type": "scatter",
         "x": [
          "2011-01-07T00:00:00",
          "2011-01-14T00:00:00",
          "2011-01-21T00:00:00",
          "2011-01-28T00:00:00",
          "2011-02-04T00:00:00",
          "2011-02-11T00:00:00",
          "2011-02-18T00:00:00",
          "2011-02-25T00:00:00",
          "2011-03-04T00:00:00",
          "2011-03-11T00:00:00",
          "2011-03-18T00:00:00",
          "2011-03-25T00:00:00",
          "2011-04-01T00:00:00",
          "2011-04-08T00:00:00",
          "2011-04-15T00:00:00",
          "2011-04-21T00:00:00",
          "2011-04-29T00:00:00",
          "2011-05-06T00:00:00",
          "2011-05-13T00:00:00",
          "2011-05-20T00:00:00",
          "2011-05-27T00:00:00",
          "2011-06-03T00:00:00",
          "2011-06-10T00:00:00",
          "2011-06-17T00:00:00",
          "2011-06-24T00:00:00"
         ],
         "xaxis": "x",
         "y": [
          1.2894,
          -2.35627,
          0.431862,
          5.35117,
          -15.4229,
          0.0530786,
          -0.480513,
          -1.18153,
          -2.23312,
          -3.76193,
          -0.346021,
          -1.84332,
          3.76249,
          -3.83964,
          0.35545,
          3.48494,
          0.285551,
          -3.70793,
          -1.72414,
          0.304692,
          -3.49608,
          -5.73566,
          -1.12285,
          -0.0669344,
          6.15797
         ],
         "yaxis": "y"
        },
        {
         "hovertemplate": "stock=CVX<br>Date=%{x}<br>% Change=%{y}<extra></extra>",
         "legendgroup": "CVX",
         "line": {
          "color": "rgb(255,127,0)",
          "dash": "solid"
         },
         "marker": {
          "symbol": "circle"
         },
         "mode": "lines+markers",
         "name": "CVX",
         "orientation": "v",
         "showlegend": true,
         "type": "scatter",
         "x": [
          "2011-01-07T00:00:00",
          "2011-01-14T00:00:00",
          "2011-01-21T00:00:00",
          "2011-01-28T00:00:00",
          "2011-02-04T00:00:00",
          "2011-02-11T00:00:00",
          "2011-02-18T00:00:00",
          "2011-02-25T00:00:00",
          "2011-03-04T00:00:00",
          "2011-03-11T00:00:00",
          "2011-03-18T00:00:00",
          "2011-03-25T00:00:00",
          "2011-04-01T00:00:00",
          "2011-04-08T00:00:00",
          "2011-04-15T00:00:00",
          "2011-04-21T00:00:00",
          "2011-04-29T00:00:00",
          "2011-05-06T00:00:00",
          "2011-05-13T00:00:00",
          "2011-05-20T00:00:00",
          "2011-05-27T00:00:00",
          "2011-06-03T00:00:00",
          "2011-06-10T00:00:00",
          "2011-06-17T00:00:00",
          "2011-06-24T00:00:00"
         ],
         "xaxis": "x",
         "y": [
          2.06707,
          0.903809,
          -0.55384,
          3.47363,
          -0.853207,
          3.37173,
          2.89227,
          1.43723,
          -4.0242,
          3.67084,
          2.81148,
          1.80451,
          1.0505,
          -3.18936,
          3.03001,
          1.92791,
          -6.0285,
          -0.83293,
          0.529256,
          2.05676,
          -3.45091,
          -1.21903,
          -0.869652,
          -0.9911,
          6.27935
         ],
         "yaxis": "y"
        },
        {
         "hovertemplate": "stock=DD<br>Date=%{x}<br>% Change=%{y}<extra></extra>",
         "legendgroup": "DD",
         "line": {
          "color": "rgb(255,255,51)",
          "dash": "solid"
         },
         "marker": {
          "symbol": "circle"
         },
         "mode": "lines+markers",
         "name": "DD",
         "orientation": "v",
         "showlegend": true,
         "type": "scatter",
         "x": [
          "2011-01-07T00:00:00",
          "2011-01-14T00:00:00",
          "2011-01-21T00:00:00",
          "2011-01-28T00:00:00",
          "2011-02-04T00:00:00",
          "2011-02-11T00:00:00",
          "2011-02-18T00:00:00",
          "2011-02-25T00:00:00",
          "2011-03-04T00:00:00",
          "2011-03-11T00:00:00",
          "2011-03-18T00:00:00",
          "2011-03-25T00:00:00",
          "2011-04-01T00:00:00",
          "2011-04-08T00:00:00",
          "2011-04-15T00:00:00",
          "2011-04-21T00:00:00",
          "2011-04-29T00:00:00",
          "2011-05-06T00:00:00",
          "2011-05-13T00:00:00",
          "2011-05-20T00:00:00",
          "2011-05-27T00:00:00",
          "2011-06-03T00:00:00",
          "2011-06-10T00:00:00",
          "2011-06-17T00:00:00",
          "2011-06-24T00:00:00"
         ],
         "xaxis": "x",
         "y": [
          3.10559,
          -2.38239,
          3.81916,
          4.74576,
          3.72482,
          2.8288,
          -1.60146,
          -0.645518,
          -2.21811,
          -0.357277,
          0.557621,
          1.99593,
          -0.18018,
          -1.00992,
          3.00295,
          1.97522,
          -3.17263,
          -3.69494,
          0,
          1.56522,
          -5.43437,
          -1.0338,
          -0.919448,
          4.9697,
          5.05304
         ],
         "yaxis": "y"
        },
        {
         "hovertemplate": "stock=GE<br>Date=%{x}<br>% Change=%{y}<extra></extra>",
         "legendgroup": "GE",
         "line": {
          "color": "rgb(166,86,40)",
          "dash": "solid"
         },
         "marker": {
          "symbol": "circle"
         },
         "mode": "lines+markers",
         "name": "GE",
         "orientation": "v",
         "showlegend": true,
         "type": "scatter",
         "x": [
          "2011-01-07T00:00:00",
          "2011-01-14T00:00:00",
          "2011-01-21T00:00:00",
          "2011-01-28T00:00:00",
          "2011-02-04T00:00:00",
          "2011-02-11T00:00:00",
          "2011-02-18T00:00:00",
          "2011-02-25T00:00:00",
          "2011-03-04T00:00:00",
          "2011-03-11T00:00:00",
          "2011-03-18T00:00:00",
          "2011-03-25T00:00:00",
          "2011-04-01T00:00:00",
          "2011-04-08T00:00:00",
          "2011-04-15T00:00:00",
          "2011-04-21T00:00:00",
          "2011-04-29T00:00:00",
          "2011-05-06T00:00:00",
          "2011-05-13T00:00:00",
          "2011-05-20T00:00:00",
          "2011-05-27T00:00:00",
          "2011-06-03T00:00:00",
          "2011-06-10T00:00:00",
          "2011-06-17T00:00:00",
          "2011-06-24T00:00:00"
         ],
         "xaxis": "x",
         "y": [
          1.12843,
          4.00421,
          1.35474,
          2.13612,
          2.6962,
          -0.32543,
          -0.287356,
          -2.7685,
          -0.196078,
          -3.55711,
          0.355691,
          2.67542,
          -2.60492,
          -0.988142,
          0.91047,
          1.53923,
          -3.33333,
          -0.400601,
          -1.15869,
          0.621118,
          -4.36992,
          -2.08445,
          0.983069,
          -2.01745,
          6.66667
         ],
         "yaxis": "y"
        },
        {
         "hovertemplate": "stock=HPQ<br>Date=%{x}<br>% Change=%{y}<extra></extra>",
         "legendgroup": "HPQ",
         "line": {
          "color": "rgb(247,129,191)",
          "dash": "solid"
         },
         "marker": {
          "symbol": "circle"
         },
         "mode": "lines+markers",
         "name": "HPQ",
         "orientation": "v",
         "showlegend": true,
         "type": "scatter",
         "x": [
          "2011-01-07T00:00:00",
          "2011-01-14T00:00:00",
          "2011-01-21T00:00:00",
          "2011-01-28T00:00:00",
          "2011-02-04T00:00:00",
          "2011-02-11T00:00:00",
          "2011-02-18T00:00:00",
          "2011-02-25T00:00:00",
          "2011-03-04T00:00:00",
          "2011-03-11T00:00:00",
          "2011-03-18T00:00:00",
          "2011-03-25T00:00:00",
          "2011-04-01T00:00:00",
          "2011-04-08T00:00:00",
          "2011-04-15T00:00:00",
          "2011-04-21T00:00:00",
          "2011-04-29T00:00:00",
          "2011-05-06T00:00:00",
          "2011-05-13T00:00:00",
          "2011-05-20T00:00:00",
          "2011-05-27T00:00:00",
          "2011-06-03T00:00:00",
          "2011-06-10T00:00:00",
          "2011-06-17T00:00:00",
          "2011-06-24T00:00:00"
         ],
         "xaxis": "x",
         "y": [
          3.09853,
          2.36238,
          -2.52731,
          4.44836,
          1.94928,
          0.454076,
          -10.2796,
          -1.04505,
          -2.72727,
          0.0242072,
          1.62485,
          -3.39463,
          0.123001,
          -1.10538,
          2.57758,
          -1.68047,
          0.294913,
          -0.931601,
          -10.4975,
          3.87858,
          -3.13841,
          -2.05613,
          -0.370054,
          0.316183,
          5.70613
         ],
         "yaxis": "y"
        },
        {
         "hovertemplate": "stock=IBM<br>Date=%{x}<br>% Change=%{y}<extra></extra>",
         "legendgroup": "IBM",
         "line": {
          "color": "rgb(153,153,153)",
          "dash": "solid"
         },
         "marker": {
          "symbol": "circle"
         },
         "mode": "lines+markers",
         "name": "IBM",
         "orientation": "v",
         "showlegend": true,
         "type": "scatter",
         "x": [
          "2011-01-07T00:00:00",
          "2011-01-14T00:00:00",
          "2011-01-21T00:00:00",
          "2011-01-28T00:00:00",
          "2011-02-04T00:00:00",
          "2011-02-11T00:00:00",
          "2011-02-18T00:00:00",
          "2011-02-25T00:00:00",
          "2011-03-04T00:00:00",
          "2011-03-11T00:00:00",
          "2011-03-18T00:00:00",
          "2011-03-25T00:00:00",
          "2011-04-01T00:00:00",
          "2011-04-08T00:00:00",
          "2011-04-15T00:00:00",
          "2011-04-21T00:00:00",
          "2011-04-29T00:00:00",
          "2011-05-06T00:00:00",
          "2011-05-13T00:00:00",
          "2011-05-20T00:00:00",
          "2011-05-27T00:00:00",
          "2011-06-03T00:00:00",
          "2011-06-10T00:00:00",
          "2011-06-17T00:00:00",
          "2011-06-24T00:00:00"
         ],
         "xaxis": "x",
         "y": [
          2.04082,
          3.79122,
          2.43855,
          3.02802,
          -0.140176,
          0.401998,
          -0.788653,
          -0.326435,
          0.513614,
          -3.27004,
          2.87998,
          1.68998,
          -0.225033,
          1.69481,
          2.21088,
          1.74769,
          -1.8709,
          0.908605,
          0.206113,
          -0.593472,
          -2.01259,
          -0.958971,
          0,
          0.836897,
          5.30952
         ],
         "yaxis": "y"
        },
        {
         "hovertemplate": "stock=INTC<br>Date=%{x}<br>% Change=%{y}<extra></extra>",
         "legendgroup": "INTC",
         "line": {
          "color": "rgb(228,26,28)",
          "dash": "solid"
         },
         "marker": {
          "symbol": "circle"
         },
         "mode": "lines+markers",
         "name": "INTC",
         "orientation": "v",
         "showlegend": true,
         "type": "scatter",
         "x": [
          "2011-01-07T00:00:00",
          "2011-01-14T00:00:00",
          "2011-01-21T00:00:00",
          "2011-01-28T00:00:00",
          "2011-02-04T00:00:00",
          "2011-02-11T00:00:00",
          "2011-02-18T00:00:00",
          "2011-02-25T00:00:00",
          "2011-03-04T00:00:00",
          "2011-03-11T00:00:00",
          "2011-03-18T00:00:00",
          "2011-03-25T00:00:00",
          "2011-04-01T00:00:00",
          "2011-04-08T00:00:00",
          "2011-04-15T00:00:00",
          "2011-04-21T00:00:00",
          "2011-04-29T00:00:00",
          "2011-05-06T00:00:00",
          "2011-05-13T00:00:00",
          "2011-05-20T00:00:00",
          "2011-05-27T00:00:00",
          "2011-06-03T00:00:00",
          "2011-06-10T00:00:00",
          "2011-06-17T00:00:00",
          "2011-06-24T00:00:00"
         ],
         "xaxis": "x",
         "y": [
          1.78658,
          -0.998573,
          2.0447,
          0.603248,
          0.0919963,
          2.35784,
          -0.410023,
          -0.873563,
          -3.78054,
          -3.5334,
          2.36181,
          -3.5225,
          1.1622,
          -1.59442,
          9.88223,
          8.32943,
          0.999131,
          1.21055,
          -0.428816,
          -3.09773,
          -3.20713,
          -1.92661,
          -1.11993,
          0.0471921,
          6.42419
         ],
         "yaxis": "y"
        },
        {
         "hovertemplate": "stock=MMM<br>Date=%{x}<br>% Change=%{y}<extra></extra>",
         "legendgroup": "MMM",
         "line": {
          "color": "rgb(55,126,184)",
          "dash": "solid"
         },
         "marker": {
          "symbol": "circle"
         },
         "mode": "lines+markers",
         "name": "MMM",
         "orientation": "v",
         "showlegend": true,
         "type": "scatter",
         "x": [
          "2011-01-07T00:00:00",
          "2011-01-14T00:00:00",
          "2011-01-21T00:00:00",
          "2011-01-28T00:00:00",
          "2011-02-04T00:00:00",
          "2011-02-11T00:00:00",
          "2011-02-18T00:00:00",
          "2011-02-25T00:00:00",
          "2011-03-04T00:00:00",
          "2011-03-11T00:00:00",
          "2011-03-18T00:00:00",
          "2011-03-25T00:00:00",
          "2011-04-01T00:00:00",
          "2011-04-08T00:00:00",
          "2011-04-15T00:00:00",
          "2011-04-21T00:00:00",
          "2011-04-29T00:00:00",
          "2011-05-06T00:00:00",
          "2011-05-13T00:00:00",
          "2011-05-20T00:00:00",
          "2011-05-27T00:00:00",
          "2011-06-03T00:00:00",
          "2011-06-10T00:00:00",
          "2011-06-17T00:00:00",
          "2011-06-24T00:00:00"
         ],
         "xaxis": "x",
         "y": [
          2.80047,
          1.65073,
          -1.98408,
          0.409417,
          4.11705,
          1.35194,
          -2.67443,
          0.31556,
          -1.04774,
          -2.44491,
          2.21558,
          0.768232,
          0.58265,
          -0.822737,
          2.15358,
          3.514,
          -2.0291,
          0.745016,
          -2.07243,
          1.27858,
          -3.56194,
          0.387254,
          0.702216,
          -0.579742,
          6.13746
         ],
         "yaxis": "y"
        },
        {
         "hovertemplate": "stock=MSFT<br>Date=%{x}<br>% Change=%{y}<extra></extra>",
         "legendgroup": "MSFT",
         "line": {
          "color": "rgb(77,175,74)",
          "dash": "solid"
         },
         "marker": {
          "symbol": "circle"
         },
         "mode": "lines+markers",
         "name": "MSFT",
         "orientation": "v",
         "showlegend": true,
         "type": "scatter",
         "x": [
          "2011-01-07T00:00:00",
          "2011-01-14T00:00:00",
          "2011-01-21T00:00:00",
          "2011-01-28T00:00:00",
          "2011-02-04T00:00:00",
          "2011-02-11T00:00:00",
          "2011-02-18T00:00:00",
          "2011-02-25T00:00:00",
          "2011-03-04T00:00:00",
          "2011-03-11T00:00:00",
          "2011-03-18T00:00:00",
          "2011-03-25T00:00:00",
          "2011-04-01T00:00:00",
          "2011-04-08T00:00:00",
          "2011-04-15T00:00:00",
          "2011-04-21T00:00:00",
          "2011-04-29T00:00:00",
          "2011-05-06T00:00:00",
          "2011-05-13T00:00:00",
          "2011-05-20T00:00:00",
          "2011-05-27T00:00:00",
          "2011-06-03T00:00:00",
          "2011-06-10T00:00:00",
          "2011-06-17T00:00:00",
          "2011-06-24T00:00:00"
         ],
         "xaxis": "x",
         "y": [
          0.35461,
          -0.497159,
          -0.963597,
          0,
          -1.97842,
          -0.514706,
          -0.85885,
          -2.77257,
          -1.72216,
          -2.70694,
          1.74742,
          -0.701481,
          2.43615,
          -3.13097,
          1.67331,
          1.40845,
          -0.269854,
          -2.9845,
          -1.88301,
          2.27179,
          -4.24679,
          -0.83682,
          1.97562,
          0.537857,
          7.38754
         ],
         "yaxis": "y"
        },
        {
         "hovertemplate": "stock=UTX<br>Date=%{x}<br>% Change=%{y}<extra></extra>",
         "legendgroup": "UTX",
         "line": {
          "color": "rgb(152,78,163)",
          "dash": "solid"
         },
         "marker": {
          "symbol": "circle"
         },
         "mode": "lines+markers",
         "name": "UTX",
         "orientation": "v",
         "showlegend": true,
         "type": "scatter",
         "x": [
          "2011-01-07T00:00:00",
          "2011-01-14T00:00:00",
          "2011-01-21T00:00:00",
          "2011-01-28T00:00:00",
          "2011-02-04T00:00:00",
          "2011-02-11T00:00:00",
          "2011-02-18T00:00:00",
          "2011-02-25T00:00:00",
          "2011-03-04T00:00:00",
          "2011-03-11T00:00:00",
          "2011-03-18T00:00:00",
          "2011-03-25T00:00:00",
          "2011-04-01T00:00:00",
          "2011-04-08T00:00:00",
          "2011-04-15T00:00:00",
          "2011-04-21T00:00:00",
          "2011-04-29T00:00:00",
          "2011-05-06T00:00:00",
          "2011-05-13T00:00:00",
          "2011-05-20T00:00:00",
          "2011-05-27T00:00:00",
          "2011-06-03T00:00:00",
          "2011-06-10T00:00:00",
          "2011-06-17T00:00:00",
          "2011-06-24T00:00:00"
         ],
         "xaxis": "x",
         "y": [
          1.03488,
          1.16044,
          1.45776,
          0.880196,
          2.83645,
          -0.0705302,
          -1.38396,
          -0.86145,
          -2.10767,
          -0.718355,
          2.73063,
          1.87463,
          -0.992295,
          -1.82353,
          5.44794,
          2.96552,
          -0.910807,
          0.112511,
          -1.08524,
          -0.0925819,
          -4.32184,
          -0.277342,
          1.98987,
          -0.0355619,
          7.28485
         ],
         "yaxis": "y"
        },
        {
         "hovertemplate": "stock=XOM<br>Date=%{x}<br>% Change=%{y}<extra></extra>",
         "legendgroup": "XOM",
         "line": {
          "color": "rgb(255,127,0)",
          "dash": "solid"
         },
         "marker": {
          "symbol": "circle"
         },
         "mode": "lines+markers",
         "name": "XOM",
         "orientation": "v",
         "showlegend": true,
         "type": "scatter",
         "x": [
          "2011-01-07T00:00:00",
          "2011-01-14T00:00:00",
          "2011-01-21T00:00:00",
          "2011-01-28T00:00:00",
          "2011-02-04T00:00:00",
          "2011-02-11T00:00:00",
          "2011-02-18T00:00:00",
          "2011-02-25T00:00:00",
          "2011-03-04T00:00:00",
          "2011-03-11T00:00:00",
          "2011-03-18T00:00:00",
          "2011-03-25T00:00:00",
          "2011-04-01T00:00:00",
          "2011-04-08T00:00:00",
          "2011-04-15T00:00:00",
          "2011-04-21T00:00:00",
          "2011-04-29T00:00:00",
          "2011-05-06T00:00:00",
          "2011-05-13T00:00:00",
          "2011-05-20T00:00:00",
          "2011-05-27T00:00:00",
          "2011-06-03T00:00:00",
          "2011-06-10T00:00:00",
          "2011-06-17T00:00:00",
          "2011-06-24T00:00:00"
         ],
         "xaxis": "x",
         "y": [
          3.60708,
          1.52976,
          0.177552,
          4.2042,
          -0.754943,
          3.04878,
          0.435448,
          -0.919995,
          -4.33364,
          -1.00404,
          2.13754,
          0.97782,
          2.0057,
          -1.93136,
          3.91048,
          1.95851,
          -6.14075,
          -2.578,
          1.68287,
          3.00424,
          -2.52161,
          -1.42098,
          -1.225,
          -2.37762,
          6.67274
         ],
         "yaxis": "y"
        }
       ],
       "layout": {
        "height": 500,
        "legend": {
         "title": {
          "text": "Stocks"
         },
         "tracegroupgap": 0
        },
        "plot_bgcolor": "lightgray",
        "template": {
         "data": {
          "bar": [
           {
            "error_x": {
             "color": "#2a3f5f"
            },
            "error_y": {
             "color": "#2a3f5f"
            },
            "marker": {
             "line": {
              "color": "#E5ECF6",
              "width": 0.5
             },
             "pattern": {
              "fillmode": "overlay",
              "size": 10,
              "solidity": 0.2
             }
            },
            "type": "bar"
           }
          ],
          "barpolar": [
           {
            "marker": {
             "line": {
              "color": "#E5ECF6",
              "width": 0.5
             },
             "pattern": {
              "fillmode": "overlay",
              "size": 10,
              "solidity": 0.2
             }
            },
            "type": "barpolar"
           }
          ],
          "carpet": [
           {
            "aaxis": {
             "endlinecolor": "#2a3f5f",
             "gridcolor": "white",
             "linecolor": "white",
             "minorgridcolor": "white",
             "startlinecolor": "#2a3f5f"
            },
            "baxis": {
             "endlinecolor": "#2a3f5f",
             "gridcolor": "white",
             "linecolor": "white",
             "minorgridcolor": "white",
             "startlinecolor": "#2a3f5f"
            },
            "type": "carpet"
           }
          ],
          "choropleth": [
           {
            "colorbar": {
             "outlinewidth": 0,
             "ticks": ""
            },
            "type": "choropleth"
           }
          ],
          "contour": [
           {
            "colorbar": {
             "outlinewidth": 0,
             "ticks": ""
            },
            "colorscale": [
             [
              0,
              "#0d0887"
             ],
             [
              0.1111111111111111,
              "#46039f"
             ],
             [
              0.2222222222222222,
              "#7201a8"
             ],
             [
              0.3333333333333333,
              "#9c179e"
             ],
             [
              0.4444444444444444,
              "#bd3786"
             ],
             [
              0.5555555555555556,
              "#d8576b"
             ],
             [
              0.6666666666666666,
              "#ed7953"
             ],
             [
              0.7777777777777778,
              "#fb9f3a"
             ],
             [
              0.8888888888888888,
              "#fdca26"
             ],
             [
              1,
              "#f0f921"
             ]
            ],
            "type": "contour"
           }
          ],
          "contourcarpet": [
           {
            "colorbar": {
             "outlinewidth": 0,
             "ticks": ""
            },
            "type": "contourcarpet"
           }
          ],
          "heatmap": [
           {
            "colorbar": {
             "outlinewidth": 0,
             "ticks": ""
            },
            "colorscale": [
             [
              0,
              "#0d0887"
             ],
             [
              0.1111111111111111,
              "#46039f"
             ],
             [
              0.2222222222222222,
              "#7201a8"
             ],
             [
              0.3333333333333333,
              "#9c179e"
             ],
             [
              0.4444444444444444,
              "#bd3786"
             ],
             [
              0.5555555555555556,
              "#d8576b"
             ],
             [
              0.6666666666666666,
              "#ed7953"
             ],
             [
              0.7777777777777778,
              "#fb9f3a"
             ],
             [
              0.8888888888888888,
              "#fdca26"
             ],
             [
              1,
              "#f0f921"
             ]
            ],
            "type": "heatmap"
           }
          ],
          "heatmapgl": [
           {
            "colorbar": {
             "outlinewidth": 0,
             "ticks": ""
            },
            "colorscale": [
             [
              0,
              "#0d0887"
             ],
             [
              0.1111111111111111,
              "#46039f"
             ],
             [
              0.2222222222222222,
              "#7201a8"
             ],
             [
              0.3333333333333333,
              "#9c179e"
             ],
             [
              0.4444444444444444,
              "#bd3786"
             ],
             [
              0.5555555555555556,
              "#d8576b"
             ],
             [
              0.6666666666666666,
              "#ed7953"
             ],
             [
              0.7777777777777778,
              "#fb9f3a"
             ],
             [
              0.8888888888888888,
              "#fdca26"
             ],
             [
              1,
              "#f0f921"
             ]
            ],
            "type": "heatmapgl"
           }
          ],
          "histogram": [
           {
            "marker": {
             "pattern": {
              "fillmode": "overlay",
              "size": 10,
              "solidity": 0.2
             }
            },
            "type": "histogram"
           }
          ],
          "histogram2d": [
           {
            "colorbar": {
             "outlinewidth": 0,
             "ticks": ""
            },
            "colorscale": [
             [
              0,
              "#0d0887"
             ],
             [
              0.1111111111111111,
              "#46039f"
             ],
             [
              0.2222222222222222,
              "#7201a8"
             ],
             [
              0.3333333333333333,
              "#9c179e"
             ],
             [
              0.4444444444444444,
              "#bd3786"
             ],
             [
              0.5555555555555556,
              "#d8576b"
             ],
             [
              0.6666666666666666,
              "#ed7953"
             ],
             [
              0.7777777777777778,
              "#fb9f3a"
             ],
             [
              0.8888888888888888,
              "#fdca26"
             ],
             [
              1,
              "#f0f921"
             ]
            ],
            "type": "histogram2d"
           }
          ],
          "histogram2dcontour": [
           {
            "colorbar": {
             "outlinewidth": 0,
             "ticks": ""
            },
            "colorscale": [
             [
              0,
              "#0d0887"
             ],
             [
              0.1111111111111111,
              "#46039f"
             ],
             [
              0.2222222222222222,
              "#7201a8"
             ],
             [
              0.3333333333333333,
              "#9c179e"
             ],
             [
              0.4444444444444444,
              "#bd3786"
             ],
             [
              0.5555555555555556,
              "#d8576b"
             ],
             [
              0.6666666666666666,
              "#ed7953"
             ],
             [
              0.7777777777777778,
              "#fb9f3a"
             ],
             [
              0.8888888888888888,
              "#fdca26"
             ],
             [
              1,
              "#f0f921"
             ]
            ],
            "type": "histogram2dcontour"
           }
          ],
          "mesh3d": [
           {
            "colorbar": {
             "outlinewidth": 0,
             "ticks": ""
            },
            "type": "mesh3d"
           }
          ],
          "parcoords": [
           {
            "line": {
             "colorbar": {
              "outlinewidth": 0,
              "ticks": ""
             }
            },
            "type": "parcoords"
           }
          ],
          "pie": [
           {
            "automargin": true,
            "type": "pie"
           }
          ],
          "scatter": [
           {
            "fillpattern": {
             "fillmode": "overlay",
             "size": 10,
             "solidity": 0.2
            },
            "type": "scatter"
           }
          ],
          "scatter3d": [
           {
            "line": {
             "colorbar": {
              "outlinewidth": 0,
              "ticks": ""
             }
            },
            "marker": {
             "colorbar": {
              "outlinewidth": 0,
              "ticks": ""
             }
            },
            "type": "scatter3d"
           }
          ],
          "scattercarpet": [
           {
            "marker": {
             "colorbar": {
              "outlinewidth": 0,
              "ticks": ""
             }
            },
            "type": "scattercarpet"
           }
          ],
          "scattergeo": [
           {
            "marker": {
             "colorbar": {
              "outlinewidth": 0,
              "ticks": ""
             }
            },
            "type": "scattergeo"
           }
          ],
          "scattergl": [
           {
            "marker": {
             "colorbar": {
              "outlinewidth": 0,
              "ticks": ""
             }
            },
            "type": "scattergl"
           }
          ],
          "scattermapbox": [
           {
            "marker": {
             "colorbar": {
              "outlinewidth": 0,
              "ticks": ""
             }
            },
            "type": "scattermapbox"
           }
          ],
          "scatterpolar": [
           {
            "marker": {
             "colorbar": {
              "outlinewidth": 0,
              "ticks": ""
             }
            },
            "type": "scatterpolar"
           }
          ],
          "scatterpolargl": [
           {
            "marker": {
             "colorbar": {
              "outlinewidth": 0,
              "ticks": ""
             }
            },
            "type": "scatterpolargl"
           }
          ],
          "scatterternary": [
           {
            "marker": {
             "colorbar": {
              "outlinewidth": 0,
              "ticks": ""
             }
            },
            "type": "scatterternary"
           }
          ],
          "surface": [
           {
            "colorbar": {
             "outlinewidth": 0,
             "ticks": ""
            },
            "colorscale": [
             [
              0,
              "#0d0887"
             ],
             [
              0.1111111111111111,
              "#46039f"
             ],
             [
              0.2222222222222222,
              "#7201a8"
             ],
             [
              0.3333333333333333,
              "#9c179e"
             ],
             [
              0.4444444444444444,
              "#bd3786"
             ],
             [
              0.5555555555555556,
              "#d8576b"
             ],
             [
              0.6666666666666666,
              "#ed7953"
             ],
             [
              0.7777777777777778,
              "#fb9f3a"
             ],
             [
              0.8888888888888888,
              "#fdca26"
             ],
             [
              1,
              "#f0f921"
             ]
            ],
            "type": "surface"
           }
          ],
          "table": [
           {
            "cells": {
             "fill": {
              "color": "#EBF0F8"
             },
             "line": {
              "color": "white"
             }
            },
            "header": {
             "fill": {
              "color": "#C8D4E3"
             },
             "line": {
              "color": "white"
             }
            },
            "type": "table"
           }
          ]
         },
         "layout": {
          "annotationdefaults": {
           "arrowcolor": "#2a3f5f",
           "arrowhead": 0,
           "arrowwidth": 1
          },
          "autotypenumbers": "strict",
          "coloraxis": {
           "colorbar": {
            "outlinewidth": 0,
            "ticks": ""
           }
          },
          "colorscale": {
           "diverging": [
            [
             0,
             "#8e0152"
            ],
            [
             0.1,
             "#c51b7d"
            ],
            [
             0.2,
             "#de77ae"
            ],
            [
             0.3,
             "#f1b6da"
            ],
            [
             0.4,
             "#fde0ef"
            ],
            [
             0.5,
             "#f7f7f7"
            ],
            [
             0.6,
             "#e6f5d0"
            ],
            [
             0.7,
             "#b8e186"
            ],
            [
             0.8,
             "#7fbc41"
            ],
            [
             0.9,
             "#4d9221"
            ],
            [
             1,
             "#276419"
            ]
           ],
           "sequential": [
            [
             0,
             "#0d0887"
            ],
            [
             0.1111111111111111,
             "#46039f"
            ],
            [
             0.2222222222222222,
             "#7201a8"
            ],
            [
             0.3333333333333333,
             "#9c179e"
            ],
            [
             0.4444444444444444,
             "#bd3786"
            ],
            [
             0.5555555555555556,
             "#d8576b"
            ],
            [
             0.6666666666666666,
             "#ed7953"
            ],
            [
             0.7777777777777778,
             "#fb9f3a"
            ],
            [
             0.8888888888888888,
             "#fdca26"
            ],
            [
             1,
             "#f0f921"
            ]
           ],
           "sequentialminus": [
            [
             0,
             "#0d0887"
            ],
            [
             0.1111111111111111,
             "#46039f"
            ],
            [
             0.2222222222222222,
             "#7201a8"
            ],
            [
             0.3333333333333333,
             "#9c179e"
            ],
            [
             0.4444444444444444,
             "#bd3786"
            ],
            [
             0.5555555555555556,
             "#d8576b"
            ],
            [
             0.6666666666666666,
             "#ed7953"
            ],
            [
             0.7777777777777778,
             "#fb9f3a"
            ],
            [
             0.8888888888888888,
             "#fdca26"
            ],
            [
             1,
             "#f0f921"
            ]
           ]
          },
          "colorway": [
           "#636efa",
           "#EF553B",
           "#00cc96",
           "#ab63fa",
           "#FFA15A",
           "#19d3f3",
           "#FF6692",
           "#B6E880",
           "#FF97FF",
           "#FECB52"
          ],
          "font": {
           "color": "#2a3f5f"
          },
          "geo": {
           "bgcolor": "white",
           "lakecolor": "white",
           "landcolor": "#E5ECF6",
           "showlakes": true,
           "showland": true,
           "subunitcolor": "white"
          },
          "hoverlabel": {
           "align": "left"
          },
          "hovermode": "closest",
          "mapbox": {
           "style": "light"
          },
          "paper_bgcolor": "white",
          "plot_bgcolor": "#E5ECF6",
          "polar": {
           "angularaxis": {
            "gridcolor": "white",
            "linecolor": "white",
            "ticks": ""
           },
           "bgcolor": "#E5ECF6",
           "radialaxis": {
            "gridcolor": "white",
            "linecolor": "white",
            "ticks": ""
           }
          },
          "scene": {
           "xaxis": {
            "backgroundcolor": "#E5ECF6",
            "gridcolor": "white",
            "gridwidth": 2,
            "linecolor": "white",
            "showbackground": true,
            "ticks": "",
            "zerolinecolor": "white"
           },
           "yaxis": {
            "backgroundcolor": "#E5ECF6",
            "gridcolor": "white",
            "gridwidth": 2,
            "linecolor": "white",
            "showbackground": true,
            "ticks": "",
            "zerolinecolor": "white"
           },
           "zaxis": {
            "backgroundcolor": "#E5ECF6",
            "gridcolor": "white",
            "gridwidth": 2,
            "linecolor": "white",
            "showbackground": true,
            "ticks": "",
            "zerolinecolor": "white"
           }
          },
          "shapedefaults": {
           "line": {
            "color": "#2a3f5f"
           }
          },
          "ternary": {
           "aaxis": {
            "gridcolor": "white",
            "linecolor": "white",
            "ticks": ""
           },
           "baxis": {
            "gridcolor": "white",
            "linecolor": "white",
            "ticks": ""
           },
           "bgcolor": "#E5ECF6",
           "caxis": {
            "gridcolor": "white",
            "linecolor": "white",
            "ticks": ""
           }
          },
          "title": {
           "x": 0.05
          },
          "xaxis": {
           "automargin": true,
           "gridcolor": "white",
           "linecolor": "white",
           "ticks": "",
           "title": {
            "standoff": 15
           },
           "zerolinecolor": "white",
           "zerolinewidth": 2
          },
          "yaxis": {
           "automargin": true,
           "gridcolor": "white",
           "linecolor": "white",
           "ticks": "",
           "title": {
            "standoff": 15
           },
           "zerolinecolor": "white",
           "zerolinewidth": 2
          }
         }
        },
        "title": {
         "text": "Predicted Weekly Price Change from Feb to Jun 2011 in Secondary Sector"
        },
        "width": 800,
        "xaxis": {
         "anchor": "y",
         "domain": [
          0,
          1
         ],
         "title": {
          "text": "Date"
         }
        },
        "yaxis": {
         "anchor": "x",
         "domain": [
          0,
          1
         ],
         "title": {
          "text": "% Change"
         }
        }
       }
      },
      "text/html": [
       "<div>                            <div id=\"1f10cacb-4557-4a84-ba21-e81621391a1a\" class=\"plotly-graph-div\" style=\"height:500px; width:800px;\"></div>            <script type=\"text/javascript\">                require([\"plotly\"], function(Plotly) {                    window.PLOTLYENV=window.PLOTLYENV || {};                                    if (document.getElementById(\"1f10cacb-4557-4a84-ba21-e81621391a1a\")) {                    Plotly.newPlot(                        \"1f10cacb-4557-4a84-ba21-e81621391a1a\",                        [{\"hovertemplate\":\"stock=AA<br>Date=%{x}<br>% Change=%{y}<extra></extra>\",\"legendgroup\":\"AA\",\"line\":{\"color\":\"rgb(228,26,28)\",\"dash\":\"solid\"},\"marker\":{\"symbol\":\"circle\"},\"mode\":\"lines+markers\",\"name\":\"AA\",\"orientation\":\"v\",\"showlegend\":true,\"x\":[\"2011-01-07T00:00:00\",\"2011-01-14T00:00:00\",\"2011-01-21T00:00:00\",\"2011-01-28T00:00:00\",\"2011-02-04T00:00:00\",\"2011-02-11T00:00:00\",\"2011-02-18T00:00:00\",\"2011-02-25T00:00:00\",\"2011-03-04T00:00:00\",\"2011-03-11T00:00:00\",\"2011-03-18T00:00:00\",\"2011-03-25T00:00:00\",\"2011-04-01T00:00:00\",\"2011-04-08T00:00:00\",\"2011-04-15T00:00:00\",\"2011-04-21T00:00:00\",\"2011-04-29T00:00:00\",\"2011-05-06T00:00:00\",\"2011-05-13T00:00:00\",\"2011-05-20T00:00:00\",\"2011-05-27T00:00:00\",\"2011-06-03T00:00:00\",\"2011-06-10T00:00:00\",\"2011-06-17T00:00:00\",\"2011-06-24T00:00:00\"],\"xaxis\":\"x\",\"y\":[-4.42849,-2.47066,1.63831,5.93325,0.230814,-0.632547,-1.76678,-1.36823,-3.31725,1.00313,4.33455,1.98482,2.87026,-8.52713,3.72861,0.354191,-0.694847,-0.34965,-4.35294,3.25815,-4.8416,-4.0201,-3.72793,3.81731,7.16163],\"yaxis\":\"y\",\"type\":\"scatter\"},{\"hovertemplate\":\"stock=BA<br>Date=%{x}<br>% Change=%{y}<extra></extra>\",\"legendgroup\":\"BA\",\"line\":{\"color\":\"rgb(55,126,184)\",\"dash\":\"solid\"},\"marker\":{\"symbol\":\"circle\"},\"mode\":\"lines+markers\",\"name\":\"BA\",\"orientation\":\"v\",\"showlegend\":true,\"x\":[\"2011-01-07T00:00:00\",\"2011-01-14T00:00:00\",\"2011-01-21T00:00:00\",\"2011-01-28T00:00:00\",\"2011-02-04T00:00:00\",\"2011-02-11T00:00:00\",\"2011-02-18T00:00:00\",\"2011-02-25T00:00:00\",\"2011-03-04T00:00:00\",\"2011-03-11T00:00:00\",\"2011-03-18T00:00:00\",\"2011-03-25T00:00:00\",\"2011-04-01T00:00:00\",\"2011-04-08T00:00:00\",\"2011-04-15T00:00:00\",\"2011-04-21T00:00:00\",\"2011-04-29T00:00:00\",\"2011-05-06T00:00:00\",\"2011-05-13T00:00:00\",\"2011-05-20T00:00:00\",\"2011-05-27T00:00:00\",\"2011-06-03T00:00:00\",\"2011-06-10T00:00:00\",\"2011-06-17T00:00:00\",\"2011-06-24T00:00:00\"],\"xaxis\":\"x\",\"y\":[0.93633,1.15721,-3.2019,3.06093,0.99398,0.467675,-0.0691085,-0.92452,0.0558659,-2.90853,4.33917,0.693878,0.122649,-1.42566,3.74037,5.65488,-1.29434,-0.353045,-1.44928,0.574788,-3.80463,-2.76886,1.50561,-3.65062,3.96137],\"yaxis\":\"y\",\"type\":\"scatter\"},{\"hovertemplate\":\"stock=CAT<br>Date=%{x}<br>% Change=%{y}<extra></extra>\",\"legendgroup\":\"CAT\",\"line\":{\"color\":\"rgb(77,175,74)\",\"dash\":\"solid\"},\"marker\":{\"symbol\":\"circle\"},\"mode\":\"lines+markers\",\"name\":\"CAT\",\"orientation\":\"v\",\"showlegend\":true,\"x\":[\"2011-01-07T00:00:00\",\"2011-01-14T00:00:00\",\"2011-01-21T00:00:00\",\"2011-01-28T00:00:00\",\"2011-02-04T00:00:00\",\"2011-02-11T00:00:00\",\"2011-02-18T00:00:00\",\"2011-02-25T00:00:00\",\"2011-03-04T00:00:00\",\"2011-03-11T00:00:00\",\"2011-03-18T00:00:00\",\"2011-03-25T00:00:00\",\"2011-04-01T00:00:00\",\"2011-04-08T00:00:00\",\"2011-04-15T00:00:00\",\"2011-04-21T00:00:00\",\"2011-04-29T00:00:00\",\"2011-05-06T00:00:00\",\"2011-05-13T00:00:00\",\"2011-05-20T00:00:00\",\"2011-05-27T00:00:00\",\"2011-06-03T00:00:00\",\"2011-06-10T00:00:00\",\"2011-06-17T00:00:00\",\"2011-06-24T00:00:00\"],\"xaxis\":\"x\",\"y\":[0.858277,-1.49745,3.20354,3.59929,3.93495,2.22093,-2.72745,0.311526,-3.28757,2.40764,2.04864,3.26821,-3.45495,-2.55408,3.63705,5.64811,-5.07571,-4.0343,-1.45461,3.25765,-4.99013,-3.45137,-1.01104,3.64805,8.66347],\"yaxis\":\"y\",\"type\":\"scatter\"},{\"hovertemplate\":\"stock=CSCO<br>Date=%{x}<br>% Change=%{y}<extra></extra>\",\"legendgroup\":\"CSCO\",\"line\":{\"color\":\"rgb(152,78,163)\",\"dash\":\"solid\"},\"marker\":{\"symbol\":\"circle\"},\"mode\":\"lines+markers\",\"name\":\"CSCO\",\"orientation\":\"v\",\"showlegend\":true,\"x\":[\"2011-01-07T00:00:00\",\"2011-01-14T00:00:00\",\"2011-01-21T00:00:00\",\"2011-01-28T00:00:00\",\"2011-02-04T00:00:00\",\"2011-02-11T00:00:00\",\"2011-02-18T00:00:00\",\"2011-02-25T00:00:00\",\"2011-03-04T00:00:00\",\"2011-03-11T00:00:00\",\"2011-03-18T00:00:00\",\"2011-03-25T00:00:00\",\"2011-04-01T00:00:00\",\"2011-04-08T00:00:00\",\"2011-04-15T00:00:00\",\"2011-04-21T00:00:00\",\"2011-04-29T00:00:00\",\"2011-05-06T00:00:00\",\"2011-05-13T00:00:00\",\"2011-05-20T00:00:00\",\"2011-05-27T00:00:00\",\"2011-06-03T00:00:00\",\"2011-06-10T00:00:00\",\"2011-06-17T00:00:00\",\"2011-06-24T00:00:00\"],\"xaxis\":\"x\",\"y\":[1.2894,-2.35627,0.431862,5.35117,-15.4229,0.0530786,-0.480513,-1.18153,-2.23312,-3.76193,-0.346021,-1.84332,3.76249,-3.83964,0.35545,3.48494,0.285551,-3.70793,-1.72414,0.304692,-3.49608,-5.73566,-1.12285,-0.0669344,6.15797],\"yaxis\":\"y\",\"type\":\"scatter\"},{\"hovertemplate\":\"stock=CVX<br>Date=%{x}<br>% Change=%{y}<extra></extra>\",\"legendgroup\":\"CVX\",\"line\":{\"color\":\"rgb(255,127,0)\",\"dash\":\"solid\"},\"marker\":{\"symbol\":\"circle\"},\"mode\":\"lines+markers\",\"name\":\"CVX\",\"orientation\":\"v\",\"showlegend\":true,\"x\":[\"2011-01-07T00:00:00\",\"2011-01-14T00:00:00\",\"2011-01-21T00:00:00\",\"2011-01-28T00:00:00\",\"2011-02-04T00:00:00\",\"2011-02-11T00:00:00\",\"2011-02-18T00:00:00\",\"2011-02-25T00:00:00\",\"2011-03-04T00:00:00\",\"2011-03-11T00:00:00\",\"2011-03-18T00:00:00\",\"2011-03-25T00:00:00\",\"2011-04-01T00:00:00\",\"2011-04-08T00:00:00\",\"2011-04-15T00:00:00\",\"2011-04-21T00:00:00\",\"2011-04-29T00:00:00\",\"2011-05-06T00:00:00\",\"2011-05-13T00:00:00\",\"2011-05-20T00:00:00\",\"2011-05-27T00:00:00\",\"2011-06-03T00:00:00\",\"2011-06-10T00:00:00\",\"2011-06-17T00:00:00\",\"2011-06-24T00:00:00\"],\"xaxis\":\"x\",\"y\":[2.06707,0.903809,-0.55384,3.47363,-0.853207,3.37173,2.89227,1.43723,-4.0242,3.67084,2.81148,1.80451,1.0505,-3.18936,3.03001,1.92791,-6.0285,-0.83293,0.529256,2.05676,-3.45091,-1.21903,-0.869652,-0.9911,6.27935],\"yaxis\":\"y\",\"type\":\"scatter\"},{\"hovertemplate\":\"stock=DD<br>Date=%{x}<br>% Change=%{y}<extra></extra>\",\"legendgroup\":\"DD\",\"line\":{\"color\":\"rgb(255,255,51)\",\"dash\":\"solid\"},\"marker\":{\"symbol\":\"circle\"},\"mode\":\"lines+markers\",\"name\":\"DD\",\"orientation\":\"v\",\"showlegend\":true,\"x\":[\"2011-01-07T00:00:00\",\"2011-01-14T00:00:00\",\"2011-01-21T00:00:00\",\"2011-01-28T00:00:00\",\"2011-02-04T00:00:00\",\"2011-02-11T00:00:00\",\"2011-02-18T00:00:00\",\"2011-02-25T00:00:00\",\"2011-03-04T00:00:00\",\"2011-03-11T00:00:00\",\"2011-03-18T00:00:00\",\"2011-03-25T00:00:00\",\"2011-04-01T00:00:00\",\"2011-04-08T00:00:00\",\"2011-04-15T00:00:00\",\"2011-04-21T00:00:00\",\"2011-04-29T00:00:00\",\"2011-05-06T00:00:00\",\"2011-05-13T00:00:00\",\"2011-05-20T00:00:00\",\"2011-05-27T00:00:00\",\"2011-06-03T00:00:00\",\"2011-06-10T00:00:00\",\"2011-06-17T00:00:00\",\"2011-06-24T00:00:00\"],\"xaxis\":\"x\",\"y\":[3.10559,-2.38239,3.81916,4.74576,3.72482,2.8288,-1.60146,-0.645518,-2.21811,-0.357277,0.557621,1.99593,-0.18018,-1.00992,3.00295,1.97522,-3.17263,-3.69494,0.0,1.56522,-5.43437,-1.0338,-0.919448,4.9697,5.05304],\"yaxis\":\"y\",\"type\":\"scatter\"},{\"hovertemplate\":\"stock=GE<br>Date=%{x}<br>% Change=%{y}<extra></extra>\",\"legendgroup\":\"GE\",\"line\":{\"color\":\"rgb(166,86,40)\",\"dash\":\"solid\"},\"marker\":{\"symbol\":\"circle\"},\"mode\":\"lines+markers\",\"name\":\"GE\",\"orientation\":\"v\",\"showlegend\":true,\"x\":[\"2011-01-07T00:00:00\",\"2011-01-14T00:00:00\",\"2011-01-21T00:00:00\",\"2011-01-28T00:00:00\",\"2011-02-04T00:00:00\",\"2011-02-11T00:00:00\",\"2011-02-18T00:00:00\",\"2011-02-25T00:00:00\",\"2011-03-04T00:00:00\",\"2011-03-11T00:00:00\",\"2011-03-18T00:00:00\",\"2011-03-25T00:00:00\",\"2011-04-01T00:00:00\",\"2011-04-08T00:00:00\",\"2011-04-15T00:00:00\",\"2011-04-21T00:00:00\",\"2011-04-29T00:00:00\",\"2011-05-06T00:00:00\",\"2011-05-13T00:00:00\",\"2011-05-20T00:00:00\",\"2011-05-27T00:00:00\",\"2011-06-03T00:00:00\",\"2011-06-10T00:00:00\",\"2011-06-17T00:00:00\",\"2011-06-24T00:00:00\"],\"xaxis\":\"x\",\"y\":[1.12843,4.00421,1.35474,2.13612,2.6962,-0.32543,-0.287356,-2.7685,-0.196078,-3.55711,0.355691,2.67542,-2.60492,-0.988142,0.91047,1.53923,-3.33333,-0.400601,-1.15869,0.621118,-4.36992,-2.08445,0.983069,-2.01745,6.66667],\"yaxis\":\"y\",\"type\":\"scatter\"},{\"hovertemplate\":\"stock=HPQ<br>Date=%{x}<br>% Change=%{y}<extra></extra>\",\"legendgroup\":\"HPQ\",\"line\":{\"color\":\"rgb(247,129,191)\",\"dash\":\"solid\"},\"marker\":{\"symbol\":\"circle\"},\"mode\":\"lines+markers\",\"name\":\"HPQ\",\"orientation\":\"v\",\"showlegend\":true,\"x\":[\"2011-01-07T00:00:00\",\"2011-01-14T00:00:00\",\"2011-01-21T00:00:00\",\"2011-01-28T00:00:00\",\"2011-02-04T00:00:00\",\"2011-02-11T00:00:00\",\"2011-02-18T00:00:00\",\"2011-02-25T00:00:00\",\"2011-03-04T00:00:00\",\"2011-03-11T00:00:00\",\"2011-03-18T00:00:00\",\"2011-03-25T00:00:00\",\"2011-04-01T00:00:00\",\"2011-04-08T00:00:00\",\"2011-04-15T00:00:00\",\"2011-04-21T00:00:00\",\"2011-04-29T00:00:00\",\"2011-05-06T00:00:00\",\"2011-05-13T00:00:00\",\"2011-05-20T00:00:00\",\"2011-05-27T00:00:00\",\"2011-06-03T00:00:00\",\"2011-06-10T00:00:00\",\"2011-06-17T00:00:00\",\"2011-06-24T00:00:00\"],\"xaxis\":\"x\",\"y\":[3.09853,2.36238,-2.52731,4.44836,1.94928,0.454076,-10.2796,-1.04505,-2.72727,0.0242072,1.62485,-3.39463,0.123001,-1.10538,2.57758,-1.68047,0.294913,-0.931601,-10.4975,3.87858,-3.13841,-2.05613,-0.370054,0.316183,5.70613],\"yaxis\":\"y\",\"type\":\"scatter\"},{\"hovertemplate\":\"stock=IBM<br>Date=%{x}<br>% Change=%{y}<extra></extra>\",\"legendgroup\":\"IBM\",\"line\":{\"color\":\"rgb(153,153,153)\",\"dash\":\"solid\"},\"marker\":{\"symbol\":\"circle\"},\"mode\":\"lines+markers\",\"name\":\"IBM\",\"orientation\":\"v\",\"showlegend\":true,\"x\":[\"2011-01-07T00:00:00\",\"2011-01-14T00:00:00\",\"2011-01-21T00:00:00\",\"2011-01-28T00:00:00\",\"2011-02-04T00:00:00\",\"2011-02-11T00:00:00\",\"2011-02-18T00:00:00\",\"2011-02-25T00:00:00\",\"2011-03-04T00:00:00\",\"2011-03-11T00:00:00\",\"2011-03-18T00:00:00\",\"2011-03-25T00:00:00\",\"2011-04-01T00:00:00\",\"2011-04-08T00:00:00\",\"2011-04-15T00:00:00\",\"2011-04-21T00:00:00\",\"2011-04-29T00:00:00\",\"2011-05-06T00:00:00\",\"2011-05-13T00:00:00\",\"2011-05-20T00:00:00\",\"2011-05-27T00:00:00\",\"2011-06-03T00:00:00\",\"2011-06-10T00:00:00\",\"2011-06-17T00:00:00\",\"2011-06-24T00:00:00\"],\"xaxis\":\"x\",\"y\":[2.04082,3.79122,2.43855,3.02802,-0.140176,0.401998,-0.788653,-0.326435,0.513614,-3.27004,2.87998,1.68998,-0.225033,1.69481,2.21088,1.74769,-1.8709,0.908605,0.206113,-0.593472,-2.01259,-0.958971,0.0,0.836897,5.30952],\"yaxis\":\"y\",\"type\":\"scatter\"},{\"hovertemplate\":\"stock=INTC<br>Date=%{x}<br>% Change=%{y}<extra></extra>\",\"legendgroup\":\"INTC\",\"line\":{\"color\":\"rgb(228,26,28)\",\"dash\":\"solid\"},\"marker\":{\"symbol\":\"circle\"},\"mode\":\"lines+markers\",\"name\":\"INTC\",\"orientation\":\"v\",\"showlegend\":true,\"x\":[\"2011-01-07T00:00:00\",\"2011-01-14T00:00:00\",\"2011-01-21T00:00:00\",\"2011-01-28T00:00:00\",\"2011-02-04T00:00:00\",\"2011-02-11T00:00:00\",\"2011-02-18T00:00:00\",\"2011-02-25T00:00:00\",\"2011-03-04T00:00:00\",\"2011-03-11T00:00:00\",\"2011-03-18T00:00:00\",\"2011-03-25T00:00:00\",\"2011-04-01T00:00:00\",\"2011-04-08T00:00:00\",\"2011-04-15T00:00:00\",\"2011-04-21T00:00:00\",\"2011-04-29T00:00:00\",\"2011-05-06T00:00:00\",\"2011-05-13T00:00:00\",\"2011-05-20T00:00:00\",\"2011-05-27T00:00:00\",\"2011-06-03T00:00:00\",\"2011-06-10T00:00:00\",\"2011-06-17T00:00:00\",\"2011-06-24T00:00:00\"],\"xaxis\":\"x\",\"y\":[1.78658,-0.998573,2.0447,0.603248,0.0919963,2.35784,-0.410023,-0.873563,-3.78054,-3.5334,2.36181,-3.5225,1.1622,-1.59442,9.88223,8.32943,0.999131,1.21055,-0.428816,-3.09773,-3.20713,-1.92661,-1.11993,0.0471921,6.42419],\"yaxis\":\"y\",\"type\":\"scatter\"},{\"hovertemplate\":\"stock=MMM<br>Date=%{x}<br>% Change=%{y}<extra></extra>\",\"legendgroup\":\"MMM\",\"line\":{\"color\":\"rgb(55,126,184)\",\"dash\":\"solid\"},\"marker\":{\"symbol\":\"circle\"},\"mode\":\"lines+markers\",\"name\":\"MMM\",\"orientation\":\"v\",\"showlegend\":true,\"x\":[\"2011-01-07T00:00:00\",\"2011-01-14T00:00:00\",\"2011-01-21T00:00:00\",\"2011-01-28T00:00:00\",\"2011-02-04T00:00:00\",\"2011-02-11T00:00:00\",\"2011-02-18T00:00:00\",\"2011-02-25T00:00:00\",\"2011-03-04T00:00:00\",\"2011-03-11T00:00:00\",\"2011-03-18T00:00:00\",\"2011-03-25T00:00:00\",\"2011-04-01T00:00:00\",\"2011-04-08T00:00:00\",\"2011-04-15T00:00:00\",\"2011-04-21T00:00:00\",\"2011-04-29T00:00:00\",\"2011-05-06T00:00:00\",\"2011-05-13T00:00:00\",\"2011-05-20T00:00:00\",\"2011-05-27T00:00:00\",\"2011-06-03T00:00:00\",\"2011-06-10T00:00:00\",\"2011-06-17T00:00:00\",\"2011-06-24T00:00:00\"],\"xaxis\":\"x\",\"y\":[2.80047,1.65073,-1.98408,0.409417,4.11705,1.35194,-2.67443,0.31556,-1.04774,-2.44491,2.21558,0.768232,0.58265,-0.822737,2.15358,3.514,-2.0291,0.745016,-2.07243,1.27858,-3.56194,0.387254,0.702216,-0.579742,6.13746],\"yaxis\":\"y\",\"type\":\"scatter\"},{\"hovertemplate\":\"stock=MSFT<br>Date=%{x}<br>% Change=%{y}<extra></extra>\",\"legendgroup\":\"MSFT\",\"line\":{\"color\":\"rgb(77,175,74)\",\"dash\":\"solid\"},\"marker\":{\"symbol\":\"circle\"},\"mode\":\"lines+markers\",\"name\":\"MSFT\",\"orientation\":\"v\",\"showlegend\":true,\"x\":[\"2011-01-07T00:00:00\",\"2011-01-14T00:00:00\",\"2011-01-21T00:00:00\",\"2011-01-28T00:00:00\",\"2011-02-04T00:00:00\",\"2011-02-11T00:00:00\",\"2011-02-18T00:00:00\",\"2011-02-25T00:00:00\",\"2011-03-04T00:00:00\",\"2011-03-11T00:00:00\",\"2011-03-18T00:00:00\",\"2011-03-25T00:00:00\",\"2011-04-01T00:00:00\",\"2011-04-08T00:00:00\",\"2011-04-15T00:00:00\",\"2011-04-21T00:00:00\",\"2011-04-29T00:00:00\",\"2011-05-06T00:00:00\",\"2011-05-13T00:00:00\",\"2011-05-20T00:00:00\",\"2011-05-27T00:00:00\",\"2011-06-03T00:00:00\",\"2011-06-10T00:00:00\",\"2011-06-17T00:00:00\",\"2011-06-24T00:00:00\"],\"xaxis\":\"x\",\"y\":[0.35461,-0.497159,-0.963597,0.0,-1.97842,-0.514706,-0.85885,-2.77257,-1.72216,-2.70694,1.74742,-0.701481,2.43615,-3.13097,1.67331,1.40845,-0.269854,-2.9845,-1.88301,2.27179,-4.24679,-0.83682,1.97562,0.537857,7.38754],\"yaxis\":\"y\",\"type\":\"scatter\"},{\"hovertemplate\":\"stock=UTX<br>Date=%{x}<br>% Change=%{y}<extra></extra>\",\"legendgroup\":\"UTX\",\"line\":{\"color\":\"rgb(152,78,163)\",\"dash\":\"solid\"},\"marker\":{\"symbol\":\"circle\"},\"mode\":\"lines+markers\",\"name\":\"UTX\",\"orientation\":\"v\",\"showlegend\":true,\"x\":[\"2011-01-07T00:00:00\",\"2011-01-14T00:00:00\",\"2011-01-21T00:00:00\",\"2011-01-28T00:00:00\",\"2011-02-04T00:00:00\",\"2011-02-11T00:00:00\",\"2011-02-18T00:00:00\",\"2011-02-25T00:00:00\",\"2011-03-04T00:00:00\",\"2011-03-11T00:00:00\",\"2011-03-18T00:00:00\",\"2011-03-25T00:00:00\",\"2011-04-01T00:00:00\",\"2011-04-08T00:00:00\",\"2011-04-15T00:00:00\",\"2011-04-21T00:00:00\",\"2011-04-29T00:00:00\",\"2011-05-06T00:00:00\",\"2011-05-13T00:00:00\",\"2011-05-20T00:00:00\",\"2011-05-27T00:00:00\",\"2011-06-03T00:00:00\",\"2011-06-10T00:00:00\",\"2011-06-17T00:00:00\",\"2011-06-24T00:00:00\"],\"xaxis\":\"x\",\"y\":[1.03488,1.16044,1.45776,0.880196,2.83645,-0.0705302,-1.38396,-0.86145,-2.10767,-0.718355,2.73063,1.87463,-0.992295,-1.82353,5.44794,2.96552,-0.910807,0.112511,-1.08524,-0.0925819,-4.32184,-0.277342,1.98987,-0.0355619,7.28485],\"yaxis\":\"y\",\"type\":\"scatter\"},{\"hovertemplate\":\"stock=XOM<br>Date=%{x}<br>% Change=%{y}<extra></extra>\",\"legendgroup\":\"XOM\",\"line\":{\"color\":\"rgb(255,127,0)\",\"dash\":\"solid\"},\"marker\":{\"symbol\":\"circle\"},\"mode\":\"lines+markers\",\"name\":\"XOM\",\"orientation\":\"v\",\"showlegend\":true,\"x\":[\"2011-01-07T00:00:00\",\"2011-01-14T00:00:00\",\"2011-01-21T00:00:00\",\"2011-01-28T00:00:00\",\"2011-02-04T00:00:00\",\"2011-02-11T00:00:00\",\"2011-02-18T00:00:00\",\"2011-02-25T00:00:00\",\"2011-03-04T00:00:00\",\"2011-03-11T00:00:00\",\"2011-03-18T00:00:00\",\"2011-03-25T00:00:00\",\"2011-04-01T00:00:00\",\"2011-04-08T00:00:00\",\"2011-04-15T00:00:00\",\"2011-04-21T00:00:00\",\"2011-04-29T00:00:00\",\"2011-05-06T00:00:00\",\"2011-05-13T00:00:00\",\"2011-05-20T00:00:00\",\"2011-05-27T00:00:00\",\"2011-06-03T00:00:00\",\"2011-06-10T00:00:00\",\"2011-06-17T00:00:00\",\"2011-06-24T00:00:00\"],\"xaxis\":\"x\",\"y\":[3.60708,1.52976,0.177552,4.2042,-0.754943,3.04878,0.435448,-0.919995,-4.33364,-1.00404,2.13754,0.97782,2.0057,-1.93136,3.91048,1.95851,-6.14075,-2.578,1.68287,3.00424,-2.52161,-1.42098,-1.225,-2.37762,6.67274],\"yaxis\":\"y\",\"type\":\"scatter\"}],                        {\"template\":{\"data\":{\"histogram2dcontour\":[{\"type\":\"histogram2dcontour\",\"colorbar\":{\"outlinewidth\":0,\"ticks\":\"\"},\"colorscale\":[[0.0,\"#0d0887\"],[0.1111111111111111,\"#46039f\"],[0.2222222222222222,\"#7201a8\"],[0.3333333333333333,\"#9c179e\"],[0.4444444444444444,\"#bd3786\"],[0.5555555555555556,\"#d8576b\"],[0.6666666666666666,\"#ed7953\"],[0.7777777777777778,\"#fb9f3a\"],[0.8888888888888888,\"#fdca26\"],[1.0,\"#f0f921\"]]}],\"choropleth\":[{\"type\":\"choropleth\",\"colorbar\":{\"outlinewidth\":0,\"ticks\":\"\"}}],\"histogram2d\":[{\"type\":\"histogram2d\",\"colorbar\":{\"outlinewidth\":0,\"ticks\":\"\"},\"colorscale\":[[0.0,\"#0d0887\"],[0.1111111111111111,\"#46039f\"],[0.2222222222222222,\"#7201a8\"],[0.3333333333333333,\"#9c179e\"],[0.4444444444444444,\"#bd3786\"],[0.5555555555555556,\"#d8576b\"],[0.6666666666666666,\"#ed7953\"],[0.7777777777777778,\"#fb9f3a\"],[0.8888888888888888,\"#fdca26\"],[1.0,\"#f0f921\"]]}],\"heatmap\":[{\"type\":\"heatmap\",\"colorbar\":{\"outlinewidth\":0,\"ticks\":\"\"},\"colorscale\":[[0.0,\"#0d0887\"],[0.1111111111111111,\"#46039f\"],[0.2222222222222222,\"#7201a8\"],[0.3333333333333333,\"#9c179e\"],[0.4444444444444444,\"#bd3786\"],[0.5555555555555556,\"#d8576b\"],[0.6666666666666666,\"#ed7953\"],[0.7777777777777778,\"#fb9f3a\"],[0.8888888888888888,\"#fdca26\"],[1.0,\"#f0f921\"]]}],\"heatmapgl\":[{\"type\":\"heatmapgl\",\"colorbar\":{\"outlinewidth\":0,\"ticks\":\"\"},\"colorscale\":[[0.0,\"#0d0887\"],[0.1111111111111111,\"#46039f\"],[0.2222222222222222,\"#7201a8\"],[0.3333333333333333,\"#9c179e\"],[0.4444444444444444,\"#bd3786\"],[0.5555555555555556,\"#d8576b\"],[0.6666666666666666,\"#ed7953\"],[0.7777777777777778,\"#fb9f3a\"],[0.8888888888888888,\"#fdca26\"],[1.0,\"#f0f921\"]]}],\"contourcarpet\":[{\"type\":\"contourcarpet\",\"colorbar\":{\"outlinewidth\":0,\"ticks\":\"\"}}],\"contour\":[{\"type\":\"contour\",\"colorbar\":{\"outlinewidth\":0,\"ticks\":\"\"},\"colorscale\":[[0.0,\"#0d0887\"],[0.1111111111111111,\"#46039f\"],[0.2222222222222222,\"#7201a8\"],[0.3333333333333333,\"#9c179e\"],[0.4444444444444444,\"#bd3786\"],[0.5555555555555556,\"#d8576b\"],[0.6666666666666666,\"#ed7953\"],[0.7777777777777778,\"#fb9f3a\"],[0.8888888888888888,\"#fdca26\"],[1.0,\"#f0f921\"]]}],\"surface\":[{\"type\":\"surface\",\"colorbar\":{\"outlinewidth\":0,\"ticks\":\"\"},\"colorscale\":[[0.0,\"#0d0887\"],[0.1111111111111111,\"#46039f\"],[0.2222222222222222,\"#7201a8\"],[0.3333333333333333,\"#9c179e\"],[0.4444444444444444,\"#bd3786\"],[0.5555555555555556,\"#d8576b\"],[0.6666666666666666,\"#ed7953\"],[0.7777777777777778,\"#fb9f3a\"],[0.8888888888888888,\"#fdca26\"],[1.0,\"#f0f921\"]]}],\"mesh3d\":[{\"type\":\"mesh3d\",\"colorbar\":{\"outlinewidth\":0,\"ticks\":\"\"}}],\"scatter\":[{\"fillpattern\":{\"fillmode\":\"overlay\",\"size\":10,\"solidity\":0.2},\"type\":\"scatter\"}],\"parcoords\":[{\"type\":\"parcoords\",\"line\":{\"colorbar\":{\"outlinewidth\":0,\"ticks\":\"\"}}}],\"scatterpolargl\":[{\"type\":\"scatterpolargl\",\"marker\":{\"colorbar\":{\"outlinewidth\":0,\"ticks\":\"\"}}}],\"bar\":[{\"error_x\":{\"color\":\"#2a3f5f\"},\"error_y\":{\"color\":\"#2a3f5f\"},\"marker\":{\"line\":{\"color\":\"#E5ECF6\",\"width\":0.5},\"pattern\":{\"fillmode\":\"overlay\",\"size\":10,\"solidity\":0.2}},\"type\":\"bar\"}],\"scattergeo\":[{\"type\":\"scattergeo\",\"marker\":{\"colorbar\":{\"outlinewidth\":0,\"ticks\":\"\"}}}],\"scatterpolar\":[{\"type\":\"scatterpolar\",\"marker\":{\"colorbar\":{\"outlinewidth\":0,\"ticks\":\"\"}}}],\"histogram\":[{\"marker\":{\"pattern\":{\"fillmode\":\"overlay\",\"size\":10,\"solidity\":0.2}},\"type\":\"histogram\"}],\"scattergl\":[{\"type\":\"scattergl\",\"marker\":{\"colorbar\":{\"outlinewidth\":0,\"ticks\":\"\"}}}],\"scatter3d\":[{\"type\":\"scatter3d\",\"line\":{\"colorbar\":{\"outlinewidth\":0,\"ticks\":\"\"}},\"marker\":{\"colorbar\":{\"outlinewidth\":0,\"ticks\":\"\"}}}],\"scattermapbox\":[{\"type\":\"scattermapbox\",\"marker\":{\"colorbar\":{\"outlinewidth\":0,\"ticks\":\"\"}}}],\"scatterternary\":[{\"type\":\"scatterternary\",\"marker\":{\"colorbar\":{\"outlinewidth\":0,\"ticks\":\"\"}}}],\"scattercarpet\":[{\"type\":\"scattercarpet\",\"marker\":{\"colorbar\":{\"outlinewidth\":0,\"ticks\":\"\"}}}],\"carpet\":[{\"aaxis\":{\"endlinecolor\":\"#2a3f5f\",\"gridcolor\":\"white\",\"linecolor\":\"white\",\"minorgridcolor\":\"white\",\"startlinecolor\":\"#2a3f5f\"},\"baxis\":{\"endlinecolor\":\"#2a3f5f\",\"gridcolor\":\"white\",\"linecolor\":\"white\",\"minorgridcolor\":\"white\",\"startlinecolor\":\"#2a3f5f\"},\"type\":\"carpet\"}],\"table\":[{\"cells\":{\"fill\":{\"color\":\"#EBF0F8\"},\"line\":{\"color\":\"white\"}},\"header\":{\"fill\":{\"color\":\"#C8D4E3\"},\"line\":{\"color\":\"white\"}},\"type\":\"table\"}],\"barpolar\":[{\"marker\":{\"line\":{\"color\":\"#E5ECF6\",\"width\":0.5},\"pattern\":{\"fillmode\":\"overlay\",\"size\":10,\"solidity\":0.2}},\"type\":\"barpolar\"}],\"pie\":[{\"automargin\":true,\"type\":\"pie\"}]},\"layout\":{\"autotypenumbers\":\"strict\",\"colorway\":[\"#636efa\",\"#EF553B\",\"#00cc96\",\"#ab63fa\",\"#FFA15A\",\"#19d3f3\",\"#FF6692\",\"#B6E880\",\"#FF97FF\",\"#FECB52\"],\"font\":{\"color\":\"#2a3f5f\"},\"hovermode\":\"closest\",\"hoverlabel\":{\"align\":\"left\"},\"paper_bgcolor\":\"white\",\"plot_bgcolor\":\"#E5ECF6\",\"polar\":{\"bgcolor\":\"#E5ECF6\",\"angularaxis\":{\"gridcolor\":\"white\",\"linecolor\":\"white\",\"ticks\":\"\"},\"radialaxis\":{\"gridcolor\":\"white\",\"linecolor\":\"white\",\"ticks\":\"\"}},\"ternary\":{\"bgcolor\":\"#E5ECF6\",\"aaxis\":{\"gridcolor\":\"white\",\"linecolor\":\"white\",\"ticks\":\"\"},\"baxis\":{\"gridcolor\":\"white\",\"linecolor\":\"white\",\"ticks\":\"\"},\"caxis\":{\"gridcolor\":\"white\",\"linecolor\":\"white\",\"ticks\":\"\"}},\"coloraxis\":{\"colorbar\":{\"outlinewidth\":0,\"ticks\":\"\"}},\"colorscale\":{\"sequential\":[[0.0,\"#0d0887\"],[0.1111111111111111,\"#46039f\"],[0.2222222222222222,\"#7201a8\"],[0.3333333333333333,\"#9c179e\"],[0.4444444444444444,\"#bd3786\"],[0.5555555555555556,\"#d8576b\"],[0.6666666666666666,\"#ed7953\"],[0.7777777777777778,\"#fb9f3a\"],[0.8888888888888888,\"#fdca26\"],[1.0,\"#f0f921\"]],\"sequentialminus\":[[0.0,\"#0d0887\"],[0.1111111111111111,\"#46039f\"],[0.2222222222222222,\"#7201a8\"],[0.3333333333333333,\"#9c179e\"],[0.4444444444444444,\"#bd3786\"],[0.5555555555555556,\"#d8576b\"],[0.6666666666666666,\"#ed7953\"],[0.7777777777777778,\"#fb9f3a\"],[0.8888888888888888,\"#fdca26\"],[1.0,\"#f0f921\"]],\"diverging\":[[0,\"#8e0152\"],[0.1,\"#c51b7d\"],[0.2,\"#de77ae\"],[0.3,\"#f1b6da\"],[0.4,\"#fde0ef\"],[0.5,\"#f7f7f7\"],[0.6,\"#e6f5d0\"],[0.7,\"#b8e186\"],[0.8,\"#7fbc41\"],[0.9,\"#4d9221\"],[1,\"#276419\"]]},\"xaxis\":{\"gridcolor\":\"white\",\"linecolor\":\"white\",\"ticks\":\"\",\"title\":{\"standoff\":15},\"zerolinecolor\":\"white\",\"automargin\":true,\"zerolinewidth\":2},\"yaxis\":{\"gridcolor\":\"white\",\"linecolor\":\"white\",\"ticks\":\"\",\"title\":{\"standoff\":15},\"zerolinecolor\":\"white\",\"automargin\":true,\"zerolinewidth\":2},\"scene\":{\"xaxis\":{\"backgroundcolor\":\"#E5ECF6\",\"gridcolor\":\"white\",\"linecolor\":\"white\",\"showbackground\":true,\"ticks\":\"\",\"zerolinecolor\":\"white\",\"gridwidth\":2},\"yaxis\":{\"backgroundcolor\":\"#E5ECF6\",\"gridcolor\":\"white\",\"linecolor\":\"white\",\"showbackground\":true,\"ticks\":\"\",\"zerolinecolor\":\"white\",\"gridwidth\":2},\"zaxis\":{\"backgroundcolor\":\"#E5ECF6\",\"gridcolor\":\"white\",\"linecolor\":\"white\",\"showbackground\":true,\"ticks\":\"\",\"zerolinecolor\":\"white\",\"gridwidth\":2}},\"shapedefaults\":{\"line\":{\"color\":\"#2a3f5f\"}},\"annotationdefaults\":{\"arrowcolor\":\"#2a3f5f\",\"arrowhead\":0,\"arrowwidth\":1},\"geo\":{\"bgcolor\":\"white\",\"landcolor\":\"#E5ECF6\",\"subunitcolor\":\"white\",\"showland\":true,\"showlakes\":true,\"lakecolor\":\"white\"},\"title\":{\"x\":0.05},\"mapbox\":{\"style\":\"light\"}}},\"xaxis\":{\"anchor\":\"y\",\"domain\":[0.0,1.0],\"title\":{\"text\":\"Date\"}},\"yaxis\":{\"anchor\":\"x\",\"domain\":[0.0,1.0],\"title\":{\"text\":\"% Change\"}},\"legend\":{\"title\":{\"text\":\"Stocks\"},\"tracegroupgap\":0},\"title\":{\"text\":\"Predicted Weekly Price Change from Feb to Jun 2011 in Secondary Sector\"},\"width\":800,\"height\":500,\"plot_bgcolor\":\"lightgray\"},                        {\"responsive\": true}                    ).then(function(){\n",
       "                            \n",
       "var gd = document.getElementById('1f10cacb-4557-4a84-ba21-e81621391a1a');\n",
       "var x = new MutationObserver(function (mutations, observer) {{\n",
       "        var display = window.getComputedStyle(gd).display;\n",
       "        if (!display || display === 'none') {{\n",
       "            console.log([gd, 'removed!']);\n",
       "            Plotly.purge(gd);\n",
       "            observer.disconnect();\n",
       "        }}\n",
       "}});\n",
       "\n",
       "// Listen for the removal of the full notebook cells\n",
       "var notebookContainer = gd.closest('#notebook-container');\n",
       "if (notebookContainer) {{\n",
       "    x.observe(notebookContainer, {childList: true});\n",
       "}}\n",
       "\n",
       "// Listen for the clearing of the current output cell\n",
       "var outputEl = gd.closest('.output');\n",
       "if (outputEl) {{\n",
       "    x.observe(outputEl, {childList: true});\n",
       "}}\n",
       "\n",
       "                        })                };                });            </script>        </div>"
      ]
     },
     "metadata": {},
     "output_type": "display_data"
    }
   ],
   "source": [
    "color_sequence = px.colors.qualitative.Set1\n",
    "\n",
    "fig = px.line(sec_sector_next_wk, \n",
    "              x='date',\n",
    "              y='percent_change_next_weeks_price',\n",
    "              title='Predicted Weekly Price Change from Feb to Jun 2011 in Secondary Sector',\n",
    "              color='stock',\n",
    "              color_discrete_sequence=color_sequence,\n",
    "              labels={'date': 'Date', 'percent_change_next_weeks_price': '% Change'},\n",
    "             markers=True)\n",
    "fig.update_layout(\n",
    "    width=800,\n",
    "    height=500,\n",
    "plot_bgcolor='lightgray',\n",
    "    legend_title_text='Stocks'\n",
    ")\n",
    "\n",
    "fig.show()"
   ]
  },
  {
   "cell_type": "code",
   "execution_count": 202,
   "id": "6f4245f2",
   "metadata": {},
   "outputs": [
    {
     "data": {
      "application/vnd.plotly.v1+json": {
       "config": {
        "plotlyServerURL": "https://plot.ly"
       },
       "data": [
        {
         "alignmentgroup": "True",
         "hovertemplate": "Companies in Secondary Sector=%{x}<br>% Change=%{y}<extra></extra>",
         "legendgroup": "AA",
         "marker": {
          "color": "rgb(228,26,28)",
          "pattern": {
           "shape": ""
          }
         },
         "name": "AA",
         "offsetgroup": "AA",
         "orientation": "v",
         "showlegend": true,
         "textposition": "auto",
         "type": "bar",
         "x": [
          "AA",
          "AA",
          "AA",
          "AA",
          "AA",
          "AA",
          "AA",
          "AA",
          "AA",
          "AA",
          "AA",
          "AA",
          "AA",
          "AA",
          "AA",
          "AA",
          "AA",
          "AA",
          "AA",
          "AA",
          "AA",
          "AA",
          "AA",
          "AA",
          "AA"
         ],
         "xaxis": "x",
         "y": [
          -4.42849,
          -2.47066,
          1.63831,
          5.93325,
          0.230814,
          -0.632547,
          -1.76678,
          -1.36823,
          -3.31725,
          1.00313,
          4.33455,
          1.98482,
          2.87026,
          -8.52713,
          3.72861,
          0.354191,
          -0.694847,
          -0.34965,
          -4.35294,
          3.25815,
          -4.8416,
          -4.0201,
          -3.72793,
          3.81731,
          7.16163
         ],
         "yaxis": "y"
        },
        {
         "alignmentgroup": "True",
         "hovertemplate": "Companies in Secondary Sector=%{x}<br>% Change=%{y}<extra></extra>",
         "legendgroup": "BA",
         "marker": {
          "color": "rgb(55,126,184)",
          "pattern": {
           "shape": ""
          }
         },
         "name": "BA",
         "offsetgroup": "BA",
         "orientation": "v",
         "showlegend": true,
         "textposition": "auto",
         "type": "bar",
         "x": [
          "BA",
          "BA",
          "BA",
          "BA",
          "BA",
          "BA",
          "BA",
          "BA",
          "BA",
          "BA",
          "BA",
          "BA",
          "BA",
          "BA",
          "BA",
          "BA",
          "BA",
          "BA",
          "BA",
          "BA",
          "BA",
          "BA",
          "BA",
          "BA",
          "BA"
         ],
         "xaxis": "x",
         "y": [
          0.93633,
          1.15721,
          -3.2019,
          3.06093,
          0.99398,
          0.467675,
          -0.0691085,
          -0.92452,
          0.0558659,
          -2.90853,
          4.33917,
          0.693878,
          0.122649,
          -1.42566,
          3.74037,
          5.65488,
          -1.29434,
          -0.353045,
          -1.44928,
          0.574788,
          -3.80463,
          -2.76886,
          1.50561,
          -3.65062,
          3.96137
         ],
         "yaxis": "y"
        },
        {
         "alignmentgroup": "True",
         "hovertemplate": "Companies in Secondary Sector=%{x}<br>% Change=%{y}<extra></extra>",
         "legendgroup": "CAT",
         "marker": {
          "color": "rgb(77,175,74)",
          "pattern": {
           "shape": ""
          }
         },
         "name": "CAT",
         "offsetgroup": "CAT",
         "orientation": "v",
         "showlegend": true,
         "textposition": "auto",
         "type": "bar",
         "x": [
          "CAT",
          "CAT",
          "CAT",
          "CAT",
          "CAT",
          "CAT",
          "CAT",
          "CAT",
          "CAT",
          "CAT",
          "CAT",
          "CAT",
          "CAT",
          "CAT",
          "CAT",
          "CAT",
          "CAT",
          "CAT",
          "CAT",
          "CAT",
          "CAT",
          "CAT",
          "CAT",
          "CAT",
          "CAT"
         ],
         "xaxis": "x",
         "y": [
          0.858277,
          -1.49745,
          3.20354,
          3.59929,
          3.93495,
          2.22093,
          -2.72745,
          0.311526,
          -3.28757,
          2.40764,
          2.04864,
          3.26821,
          -3.45495,
          -2.55408,
          3.63705,
          5.64811,
          -5.07571,
          -4.0343,
          -1.45461,
          3.25765,
          -4.99013,
          -3.45137,
          -1.01104,
          3.64805,
          8.66347
         ],
         "yaxis": "y"
        },
        {
         "alignmentgroup": "True",
         "hovertemplate": "Companies in Secondary Sector=%{x}<br>% Change=%{y}<extra></extra>",
         "legendgroup": "CSCO",
         "marker": {
          "color": "rgb(152,78,163)",
          "pattern": {
           "shape": ""
          }
         },
         "name": "CSCO",
         "offsetgroup": "CSCO",
         "orientation": "v",
         "showlegend": true,
         "textposition": "auto",
         "type": "bar",
         "x": [
          "CSCO",
          "CSCO",
          "CSCO",
          "CSCO",
          "CSCO",
          "CSCO",
          "CSCO",
          "CSCO",
          "CSCO",
          "CSCO",
          "CSCO",
          "CSCO",
          "CSCO",
          "CSCO",
          "CSCO",
          "CSCO",
          "CSCO",
          "CSCO",
          "CSCO",
          "CSCO",
          "CSCO",
          "CSCO",
          "CSCO",
          "CSCO",
          "CSCO"
         ],
         "xaxis": "x",
         "y": [
          1.2894,
          -2.35627,
          0.431862,
          5.35117,
          -15.4229,
          0.0530786,
          -0.480513,
          -1.18153,
          -2.23312,
          -3.76193,
          -0.346021,
          -1.84332,
          3.76249,
          -3.83964,
          0.35545,
          3.48494,
          0.285551,
          -3.70793,
          -1.72414,
          0.304692,
          -3.49608,
          -5.73566,
          -1.12285,
          -0.0669344,
          6.15797
         ],
         "yaxis": "y"
        },
        {
         "alignmentgroup": "True",
         "hovertemplate": "Companies in Secondary Sector=%{x}<br>% Change=%{y}<extra></extra>",
         "legendgroup": "CVX",
         "marker": {
          "color": "rgb(255,127,0)",
          "pattern": {
           "shape": ""
          }
         },
         "name": "CVX",
         "offsetgroup": "CVX",
         "orientation": "v",
         "showlegend": true,
         "textposition": "auto",
         "type": "bar",
         "x": [
          "CVX",
          "CVX",
          "CVX",
          "CVX",
          "CVX",
          "CVX",
          "CVX",
          "CVX",
          "CVX",
          "CVX",
          "CVX",
          "CVX",
          "CVX",
          "CVX",
          "CVX",
          "CVX",
          "CVX",
          "CVX",
          "CVX",
          "CVX",
          "CVX",
          "CVX",
          "CVX",
          "CVX",
          "CVX"
         ],
         "xaxis": "x",
         "y": [
          2.06707,
          0.903809,
          -0.55384,
          3.47363,
          -0.853207,
          3.37173,
          2.89227,
          1.43723,
          -4.0242,
          3.67084,
          2.81148,
          1.80451,
          1.0505,
          -3.18936,
          3.03001,
          1.92791,
          -6.0285,
          -0.83293,
          0.529256,
          2.05676,
          -3.45091,
          -1.21903,
          -0.869652,
          -0.9911,
          6.27935
         ],
         "yaxis": "y"
        },
        {
         "alignmentgroup": "True",
         "hovertemplate": "Companies in Secondary Sector=%{x}<br>% Change=%{y}<extra></extra>",
         "legendgroup": "DD",
         "marker": {
          "color": "rgb(255,255,51)",
          "pattern": {
           "shape": ""
          }
         },
         "name": "DD",
         "offsetgroup": "DD",
         "orientation": "v",
         "showlegend": true,
         "textposition": "auto",
         "type": "bar",
         "x": [
          "DD",
          "DD",
          "DD",
          "DD",
          "DD",
          "DD",
          "DD",
          "DD",
          "DD",
          "DD",
          "DD",
          "DD",
          "DD",
          "DD",
          "DD",
          "DD",
          "DD",
          "DD",
          "DD",
          "DD",
          "DD",
          "DD",
          "DD",
          "DD",
          "DD"
         ],
         "xaxis": "x",
         "y": [
          3.10559,
          -2.38239,
          3.81916,
          4.74576,
          3.72482,
          2.8288,
          -1.60146,
          -0.645518,
          -2.21811,
          -0.357277,
          0.557621,
          1.99593,
          -0.18018,
          -1.00992,
          3.00295,
          1.97522,
          -3.17263,
          -3.69494,
          0,
          1.56522,
          -5.43437,
          -1.0338,
          -0.919448,
          4.9697,
          5.05304
         ],
         "yaxis": "y"
        },
        {
         "alignmentgroup": "True",
         "hovertemplate": "Companies in Secondary Sector=%{x}<br>% Change=%{y}<extra></extra>",
         "legendgroup": "GE",
         "marker": {
          "color": "rgb(166,86,40)",
          "pattern": {
           "shape": ""
          }
         },
         "name": "GE",
         "offsetgroup": "GE",
         "orientation": "v",
         "showlegend": true,
         "textposition": "auto",
         "type": "bar",
         "x": [
          "GE",
          "GE",
          "GE",
          "GE",
          "GE",
          "GE",
          "GE",
          "GE",
          "GE",
          "GE",
          "GE",
          "GE",
          "GE",
          "GE",
          "GE",
          "GE",
          "GE",
          "GE",
          "GE",
          "GE",
          "GE",
          "GE",
          "GE",
          "GE",
          "GE"
         ],
         "xaxis": "x",
         "y": [
          1.12843,
          4.00421,
          1.35474,
          2.13612,
          2.6962,
          -0.32543,
          -0.287356,
          -2.7685,
          -0.196078,
          -3.55711,
          0.355691,
          2.67542,
          -2.60492,
          -0.988142,
          0.91047,
          1.53923,
          -3.33333,
          -0.400601,
          -1.15869,
          0.621118,
          -4.36992,
          -2.08445,
          0.983069,
          -2.01745,
          6.66667
         ],
         "yaxis": "y"
        },
        {
         "alignmentgroup": "True",
         "hovertemplate": "Companies in Secondary Sector=%{x}<br>% Change=%{y}<extra></extra>",
         "legendgroup": "HPQ",
         "marker": {
          "color": "rgb(247,129,191)",
          "pattern": {
           "shape": ""
          }
         },
         "name": "HPQ",
         "offsetgroup": "HPQ",
         "orientation": "v",
         "showlegend": true,
         "textposition": "auto",
         "type": "bar",
         "x": [
          "HPQ",
          "HPQ",
          "HPQ",
          "HPQ",
          "HPQ",
          "HPQ",
          "HPQ",
          "HPQ",
          "HPQ",
          "HPQ",
          "HPQ",
          "HPQ",
          "HPQ",
          "HPQ",
          "HPQ",
          "HPQ",
          "HPQ",
          "HPQ",
          "HPQ",
          "HPQ",
          "HPQ",
          "HPQ",
          "HPQ",
          "HPQ",
          "HPQ"
         ],
         "xaxis": "x",
         "y": [
          3.09853,
          2.36238,
          -2.52731,
          4.44836,
          1.94928,
          0.454076,
          -10.2796,
          -1.04505,
          -2.72727,
          0.0242072,
          1.62485,
          -3.39463,
          0.123001,
          -1.10538,
          2.57758,
          -1.68047,
          0.294913,
          -0.931601,
          -10.4975,
          3.87858,
          -3.13841,
          -2.05613,
          -0.370054,
          0.316183,
          5.70613
         ],
         "yaxis": "y"
        },
        {
         "alignmentgroup": "True",
         "hovertemplate": "Companies in Secondary Sector=%{x}<br>% Change=%{y}<extra></extra>",
         "legendgroup": "IBM",
         "marker": {
          "color": "rgb(153,153,153)",
          "pattern": {
           "shape": ""
          }
         },
         "name": "IBM",
         "offsetgroup": "IBM",
         "orientation": "v",
         "showlegend": true,
         "textposition": "auto",
         "type": "bar",
         "x": [
          "IBM",
          "IBM",
          "IBM",
          "IBM",
          "IBM",
          "IBM",
          "IBM",
          "IBM",
          "IBM",
          "IBM",
          "IBM",
          "IBM",
          "IBM",
          "IBM",
          "IBM",
          "IBM",
          "IBM",
          "IBM",
          "IBM",
          "IBM",
          "IBM",
          "IBM",
          "IBM",
          "IBM",
          "IBM"
         ],
         "xaxis": "x",
         "y": [
          2.04082,
          3.79122,
          2.43855,
          3.02802,
          -0.140176,
          0.401998,
          -0.788653,
          -0.326435,
          0.513614,
          -3.27004,
          2.87998,
          1.68998,
          -0.225033,
          1.69481,
          2.21088,
          1.74769,
          -1.8709,
          0.908605,
          0.206113,
          -0.593472,
          -2.01259,
          -0.958971,
          0,
          0.836897,
          5.30952
         ],
         "yaxis": "y"
        },
        {
         "alignmentgroup": "True",
         "hovertemplate": "Companies in Secondary Sector=%{x}<br>% Change=%{y}<extra></extra>",
         "legendgroup": "INTC",
         "marker": {
          "color": "rgb(228,26,28)",
          "pattern": {
           "shape": ""
          }
         },
         "name": "INTC",
         "offsetgroup": "INTC",
         "orientation": "v",
         "showlegend": true,
         "textposition": "auto",
         "type": "bar",
         "x": [
          "INTC",
          "INTC",
          "INTC",
          "INTC",
          "INTC",
          "INTC",
          "INTC",
          "INTC",
          "INTC",
          "INTC",
          "INTC",
          "INTC",
          "INTC",
          "INTC",
          "INTC",
          "INTC",
          "INTC",
          "INTC",
          "INTC",
          "INTC",
          "INTC",
          "INTC",
          "INTC",
          "INTC",
          "INTC"
         ],
         "xaxis": "x",
         "y": [
          1.78658,
          -0.998573,
          2.0447,
          0.603248,
          0.0919963,
          2.35784,
          -0.410023,
          -0.873563,
          -3.78054,
          -3.5334,
          2.36181,
          -3.5225,
          1.1622,
          -1.59442,
          9.88223,
          8.32943,
          0.999131,
          1.21055,
          -0.428816,
          -3.09773,
          -3.20713,
          -1.92661,
          -1.11993,
          0.0471921,
          6.42419
         ],
         "yaxis": "y"
        },
        {
         "alignmentgroup": "True",
         "hovertemplate": "Companies in Secondary Sector=%{x}<br>% Change=%{y}<extra></extra>",
         "legendgroup": "MMM",
         "marker": {
          "color": "rgb(55,126,184)",
          "pattern": {
           "shape": ""
          }
         },
         "name": "MMM",
         "offsetgroup": "MMM",
         "orientation": "v",
         "showlegend": true,
         "textposition": "auto",
         "type": "bar",
         "x": [
          "MMM",
          "MMM",
          "MMM",
          "MMM",
          "MMM",
          "MMM",
          "MMM",
          "MMM",
          "MMM",
          "MMM",
          "MMM",
          "MMM",
          "MMM",
          "MMM",
          "MMM",
          "MMM",
          "MMM",
          "MMM",
          "MMM",
          "MMM",
          "MMM",
          "MMM",
          "MMM",
          "MMM",
          "MMM"
         ],
         "xaxis": "x",
         "y": [
          2.80047,
          1.65073,
          -1.98408,
          0.409417,
          4.11705,
          1.35194,
          -2.67443,
          0.31556,
          -1.04774,
          -2.44491,
          2.21558,
          0.768232,
          0.58265,
          -0.822737,
          2.15358,
          3.514,
          -2.0291,
          0.745016,
          -2.07243,
          1.27858,
          -3.56194,
          0.387254,
          0.702216,
          -0.579742,
          6.13746
         ],
         "yaxis": "y"
        },
        {
         "alignmentgroup": "True",
         "hovertemplate": "Companies in Secondary Sector=%{x}<br>% Change=%{y}<extra></extra>",
         "legendgroup": "MSFT",
         "marker": {
          "color": "rgb(77,175,74)",
          "pattern": {
           "shape": ""
          }
         },
         "name": "MSFT",
         "offsetgroup": "MSFT",
         "orientation": "v",
         "showlegend": true,
         "textposition": "auto",
         "type": "bar",
         "x": [
          "MSFT",
          "MSFT",
          "MSFT",
          "MSFT",
          "MSFT",
          "MSFT",
          "MSFT",
          "MSFT",
          "MSFT",
          "MSFT",
          "MSFT",
          "MSFT",
          "MSFT",
          "MSFT",
          "MSFT",
          "MSFT",
          "MSFT",
          "MSFT",
          "MSFT",
          "MSFT",
          "MSFT",
          "MSFT",
          "MSFT",
          "MSFT",
          "MSFT"
         ],
         "xaxis": "x",
         "y": [
          0.35461,
          -0.497159,
          -0.963597,
          0,
          -1.97842,
          -0.514706,
          -0.85885,
          -2.77257,
          -1.72216,
          -2.70694,
          1.74742,
          -0.701481,
          2.43615,
          -3.13097,
          1.67331,
          1.40845,
          -0.269854,
          -2.9845,
          -1.88301,
          2.27179,
          -4.24679,
          -0.83682,
          1.97562,
          0.537857,
          7.38754
         ],
         "yaxis": "y"
        },
        {
         "alignmentgroup": "True",
         "hovertemplate": "Companies in Secondary Sector=%{x}<br>% Change=%{y}<extra></extra>",
         "legendgroup": "UTX",
         "marker": {
          "color": "rgb(152,78,163)",
          "pattern": {
           "shape": ""
          }
         },
         "name": "UTX",
         "offsetgroup": "UTX",
         "orientation": "v",
         "showlegend": true,
         "textposition": "auto",
         "type": "bar",
         "x": [
          "UTX",
          "UTX",
          "UTX",
          "UTX",
          "UTX",
          "UTX",
          "UTX",
          "UTX",
          "UTX",
          "UTX",
          "UTX",
          "UTX",
          "UTX",
          "UTX",
          "UTX",
          "UTX",
          "UTX",
          "UTX",
          "UTX",
          "UTX",
          "UTX",
          "UTX",
          "UTX",
          "UTX",
          "UTX"
         ],
         "xaxis": "x",
         "y": [
          1.03488,
          1.16044,
          1.45776,
          0.880196,
          2.83645,
          -0.0705302,
          -1.38396,
          -0.86145,
          -2.10767,
          -0.718355,
          2.73063,
          1.87463,
          -0.992295,
          -1.82353,
          5.44794,
          2.96552,
          -0.910807,
          0.112511,
          -1.08524,
          -0.0925819,
          -4.32184,
          -0.277342,
          1.98987,
          -0.0355619,
          7.28485
         ],
         "yaxis": "y"
        },
        {
         "alignmentgroup": "True",
         "hovertemplate": "Companies in Secondary Sector=%{x}<br>% Change=%{y}<extra></extra>",
         "legendgroup": "XOM",
         "marker": {
          "color": "rgb(255,127,0)",
          "pattern": {
           "shape": ""
          }
         },
         "name": "XOM",
         "offsetgroup": "XOM",
         "orientation": "v",
         "showlegend": true,
         "textposition": "auto",
         "type": "bar",
         "x": [
          "XOM",
          "XOM",
          "XOM",
          "XOM",
          "XOM",
          "XOM",
          "XOM",
          "XOM",
          "XOM",
          "XOM",
          "XOM",
          "XOM",
          "XOM",
          "XOM",
          "XOM",
          "XOM",
          "XOM",
          "XOM",
          "XOM",
          "XOM",
          "XOM",
          "XOM",
          "XOM",
          "XOM",
          "XOM"
         ],
         "xaxis": "x",
         "y": [
          3.60708,
          1.52976,
          0.177552,
          4.2042,
          -0.754943,
          3.04878,
          0.435448,
          -0.919995,
          -4.33364,
          -1.00404,
          2.13754,
          0.97782,
          2.0057,
          -1.93136,
          3.91048,
          1.95851,
          -6.14075,
          -2.578,
          1.68287,
          3.00424,
          -2.52161,
          -1.42098,
          -1.225,
          -2.37762,
          6.67274
         ],
         "yaxis": "y"
        }
       ],
       "layout": {
        "barmode": "relative",
        "legend": {
         "title": {
          "text": "Stocks"
         },
         "tracegroupgap": 0
        },
        "plot_bgcolor": "lightgray",
        "template": {
         "data": {
          "bar": [
           {
            "error_x": {
             "color": "#2a3f5f"
            },
            "error_y": {
             "color": "#2a3f5f"
            },
            "marker": {
             "line": {
              "color": "#E5ECF6",
              "width": 0.5
             },
             "pattern": {
              "fillmode": "overlay",
              "size": 10,
              "solidity": 0.2
             }
            },
            "type": "bar"
           }
          ],
          "barpolar": [
           {
            "marker": {
             "line": {
              "color": "#E5ECF6",
              "width": 0.5
             },
             "pattern": {
              "fillmode": "overlay",
              "size": 10,
              "solidity": 0.2
             }
            },
            "type": "barpolar"
           }
          ],
          "carpet": [
           {
            "aaxis": {
             "endlinecolor": "#2a3f5f",
             "gridcolor": "white",
             "linecolor": "white",
             "minorgridcolor": "white",
             "startlinecolor": "#2a3f5f"
            },
            "baxis": {
             "endlinecolor": "#2a3f5f",
             "gridcolor": "white",
             "linecolor": "white",
             "minorgridcolor": "white",
             "startlinecolor": "#2a3f5f"
            },
            "type": "carpet"
           }
          ],
          "choropleth": [
           {
            "colorbar": {
             "outlinewidth": 0,
             "ticks": ""
            },
            "type": "choropleth"
           }
          ],
          "contour": [
           {
            "colorbar": {
             "outlinewidth": 0,
             "ticks": ""
            },
            "colorscale": [
             [
              0,
              "#0d0887"
             ],
             [
              0.1111111111111111,
              "#46039f"
             ],
             [
              0.2222222222222222,
              "#7201a8"
             ],
             [
              0.3333333333333333,
              "#9c179e"
             ],
             [
              0.4444444444444444,
              "#bd3786"
             ],
             [
              0.5555555555555556,
              "#d8576b"
             ],
             [
              0.6666666666666666,
              "#ed7953"
             ],
             [
              0.7777777777777778,
              "#fb9f3a"
             ],
             [
              0.8888888888888888,
              "#fdca26"
             ],
             [
              1,
              "#f0f921"
             ]
            ],
            "type": "contour"
           }
          ],
          "contourcarpet": [
           {
            "colorbar": {
             "outlinewidth": 0,
             "ticks": ""
            },
            "type": "contourcarpet"
           }
          ],
          "heatmap": [
           {
            "colorbar": {
             "outlinewidth": 0,
             "ticks": ""
            },
            "colorscale": [
             [
              0,
              "#0d0887"
             ],
             [
              0.1111111111111111,
              "#46039f"
             ],
             [
              0.2222222222222222,
              "#7201a8"
             ],
             [
              0.3333333333333333,
              "#9c179e"
             ],
             [
              0.4444444444444444,
              "#bd3786"
             ],
             [
              0.5555555555555556,
              "#d8576b"
             ],
             [
              0.6666666666666666,
              "#ed7953"
             ],
             [
              0.7777777777777778,
              "#fb9f3a"
             ],
             [
              0.8888888888888888,
              "#fdca26"
             ],
             [
              1,
              "#f0f921"
             ]
            ],
            "type": "heatmap"
           }
          ],
          "heatmapgl": [
           {
            "colorbar": {
             "outlinewidth": 0,
             "ticks": ""
            },
            "colorscale": [
             [
              0,
              "#0d0887"
             ],
             [
              0.1111111111111111,
              "#46039f"
             ],
             [
              0.2222222222222222,
              "#7201a8"
             ],
             [
              0.3333333333333333,
              "#9c179e"
             ],
             [
              0.4444444444444444,
              "#bd3786"
             ],
             [
              0.5555555555555556,
              "#d8576b"
             ],
             [
              0.6666666666666666,
              "#ed7953"
             ],
             [
              0.7777777777777778,
              "#fb9f3a"
             ],
             [
              0.8888888888888888,
              "#fdca26"
             ],
             [
              1,
              "#f0f921"
             ]
            ],
            "type": "heatmapgl"
           }
          ],
          "histogram": [
           {
            "marker": {
             "pattern": {
              "fillmode": "overlay",
              "size": 10,
              "solidity": 0.2
             }
            },
            "type": "histogram"
           }
          ],
          "histogram2d": [
           {
            "colorbar": {
             "outlinewidth": 0,
             "ticks": ""
            },
            "colorscale": [
             [
              0,
              "#0d0887"
             ],
             [
              0.1111111111111111,
              "#46039f"
             ],
             [
              0.2222222222222222,
              "#7201a8"
             ],
             [
              0.3333333333333333,
              "#9c179e"
             ],
             [
              0.4444444444444444,
              "#bd3786"
             ],
             [
              0.5555555555555556,
              "#d8576b"
             ],
             [
              0.6666666666666666,
              "#ed7953"
             ],
             [
              0.7777777777777778,
              "#fb9f3a"
             ],
             [
              0.8888888888888888,
              "#fdca26"
             ],
             [
              1,
              "#f0f921"
             ]
            ],
            "type": "histogram2d"
           }
          ],
          "histogram2dcontour": [
           {
            "colorbar": {
             "outlinewidth": 0,
             "ticks": ""
            },
            "colorscale": [
             [
              0,
              "#0d0887"
             ],
             [
              0.1111111111111111,
              "#46039f"
             ],
             [
              0.2222222222222222,
              "#7201a8"
             ],
             [
              0.3333333333333333,
              "#9c179e"
             ],
             [
              0.4444444444444444,
              "#bd3786"
             ],
             [
              0.5555555555555556,
              "#d8576b"
             ],
             [
              0.6666666666666666,
              "#ed7953"
             ],
             [
              0.7777777777777778,
              "#fb9f3a"
             ],
             [
              0.8888888888888888,
              "#fdca26"
             ],
             [
              1,
              "#f0f921"
             ]
            ],
            "type": "histogram2dcontour"
           }
          ],
          "mesh3d": [
           {
            "colorbar": {
             "outlinewidth": 0,
             "ticks": ""
            },
            "type": "mesh3d"
           }
          ],
          "parcoords": [
           {
            "line": {
             "colorbar": {
              "outlinewidth": 0,
              "ticks": ""
             }
            },
            "type": "parcoords"
           }
          ],
          "pie": [
           {
            "automargin": true,
            "type": "pie"
           }
          ],
          "scatter": [
           {
            "fillpattern": {
             "fillmode": "overlay",
             "size": 10,
             "solidity": 0.2
            },
            "type": "scatter"
           }
          ],
          "scatter3d": [
           {
            "line": {
             "colorbar": {
              "outlinewidth": 0,
              "ticks": ""
             }
            },
            "marker": {
             "colorbar": {
              "outlinewidth": 0,
              "ticks": ""
             }
            },
            "type": "scatter3d"
           }
          ],
          "scattercarpet": [
           {
            "marker": {
             "colorbar": {
              "outlinewidth": 0,
              "ticks": ""
             }
            },
            "type": "scattercarpet"
           }
          ],
          "scattergeo": [
           {
            "marker": {
             "colorbar": {
              "outlinewidth": 0,
              "ticks": ""
             }
            },
            "type": "scattergeo"
           }
          ],
          "scattergl": [
           {
            "marker": {
             "colorbar": {
              "outlinewidth": 0,
              "ticks": ""
             }
            },
            "type": "scattergl"
           }
          ],
          "scattermapbox": [
           {
            "marker": {
             "colorbar": {
              "outlinewidth": 0,
              "ticks": ""
             }
            },
            "type": "scattermapbox"
           }
          ],
          "scatterpolar": [
           {
            "marker": {
             "colorbar": {
              "outlinewidth": 0,
              "ticks": ""
             }
            },
            "type": "scatterpolar"
           }
          ],
          "scatterpolargl": [
           {
            "marker": {
             "colorbar": {
              "outlinewidth": 0,
              "ticks": ""
             }
            },
            "type": "scatterpolargl"
           }
          ],
          "scatterternary": [
           {
            "marker": {
             "colorbar": {
              "outlinewidth": 0,
              "ticks": ""
             }
            },
            "type": "scatterternary"
           }
          ],
          "surface": [
           {
            "colorbar": {
             "outlinewidth": 0,
             "ticks": ""
            },
            "colorscale": [
             [
              0,
              "#0d0887"
             ],
             [
              0.1111111111111111,
              "#46039f"
             ],
             [
              0.2222222222222222,
              "#7201a8"
             ],
             [
              0.3333333333333333,
              "#9c179e"
             ],
             [
              0.4444444444444444,
              "#bd3786"
             ],
             [
              0.5555555555555556,
              "#d8576b"
             ],
             [
              0.6666666666666666,
              "#ed7953"
             ],
             [
              0.7777777777777778,
              "#fb9f3a"
             ],
             [
              0.8888888888888888,
              "#fdca26"
             ],
             [
              1,
              "#f0f921"
             ]
            ],
            "type": "surface"
           }
          ],
          "table": [
           {
            "cells": {
             "fill": {
              "color": "#EBF0F8"
             },
             "line": {
              "color": "white"
             }
            },
            "header": {
             "fill": {
              "color": "#C8D4E3"
             },
             "line": {
              "color": "white"
             }
            },
            "type": "table"
           }
          ]
         },
         "layout": {
          "annotationdefaults": {
           "arrowcolor": "#2a3f5f",
           "arrowhead": 0,
           "arrowwidth": 1
          },
          "autotypenumbers": "strict",
          "coloraxis": {
           "colorbar": {
            "outlinewidth": 0,
            "ticks": ""
           }
          },
          "colorscale": {
           "diverging": [
            [
             0,
             "#8e0152"
            ],
            [
             0.1,
             "#c51b7d"
            ],
            [
             0.2,
             "#de77ae"
            ],
            [
             0.3,
             "#f1b6da"
            ],
            [
             0.4,
             "#fde0ef"
            ],
            [
             0.5,
             "#f7f7f7"
            ],
            [
             0.6,
             "#e6f5d0"
            ],
            [
             0.7,
             "#b8e186"
            ],
            [
             0.8,
             "#7fbc41"
            ],
            [
             0.9,
             "#4d9221"
            ],
            [
             1,
             "#276419"
            ]
           ],
           "sequential": [
            [
             0,
             "#0d0887"
            ],
            [
             0.1111111111111111,
             "#46039f"
            ],
            [
             0.2222222222222222,
             "#7201a8"
            ],
            [
             0.3333333333333333,
             "#9c179e"
            ],
            [
             0.4444444444444444,
             "#bd3786"
            ],
            [
             0.5555555555555556,
             "#d8576b"
            ],
            [
             0.6666666666666666,
             "#ed7953"
            ],
            [
             0.7777777777777778,
             "#fb9f3a"
            ],
            [
             0.8888888888888888,
             "#fdca26"
            ],
            [
             1,
             "#f0f921"
            ]
           ],
           "sequentialminus": [
            [
             0,
             "#0d0887"
            ],
            [
             0.1111111111111111,
             "#46039f"
            ],
            [
             0.2222222222222222,
             "#7201a8"
            ],
            [
             0.3333333333333333,
             "#9c179e"
            ],
            [
             0.4444444444444444,
             "#bd3786"
            ],
            [
             0.5555555555555556,
             "#d8576b"
            ],
            [
             0.6666666666666666,
             "#ed7953"
            ],
            [
             0.7777777777777778,
             "#fb9f3a"
            ],
            [
             0.8888888888888888,
             "#fdca26"
            ],
            [
             1,
             "#f0f921"
            ]
           ]
          },
          "colorway": [
           "#636efa",
           "#EF553B",
           "#00cc96",
           "#ab63fa",
           "#FFA15A",
           "#19d3f3",
           "#FF6692",
           "#B6E880",
           "#FF97FF",
           "#FECB52"
          ],
          "font": {
           "color": "#2a3f5f"
          },
          "geo": {
           "bgcolor": "white",
           "lakecolor": "white",
           "landcolor": "#E5ECF6",
           "showlakes": true,
           "showland": true,
           "subunitcolor": "white"
          },
          "hoverlabel": {
           "align": "left"
          },
          "hovermode": "closest",
          "mapbox": {
           "style": "light"
          },
          "paper_bgcolor": "white",
          "plot_bgcolor": "#E5ECF6",
          "polar": {
           "angularaxis": {
            "gridcolor": "white",
            "linecolor": "white",
            "ticks": ""
           },
           "bgcolor": "#E5ECF6",
           "radialaxis": {
            "gridcolor": "white",
            "linecolor": "white",
            "ticks": ""
           }
          },
          "scene": {
           "xaxis": {
            "backgroundcolor": "#E5ECF6",
            "gridcolor": "white",
            "gridwidth": 2,
            "linecolor": "white",
            "showbackground": true,
            "ticks": "",
            "zerolinecolor": "white"
           },
           "yaxis": {
            "backgroundcolor": "#E5ECF6",
            "gridcolor": "white",
            "gridwidth": 2,
            "linecolor": "white",
            "showbackground": true,
            "ticks": "",
            "zerolinecolor": "white"
           },
           "zaxis": {
            "backgroundcolor": "#E5ECF6",
            "gridcolor": "white",
            "gridwidth": 2,
            "linecolor": "white",
            "showbackground": true,
            "ticks": "",
            "zerolinecolor": "white"
           }
          },
          "shapedefaults": {
           "line": {
            "color": "#2a3f5f"
           }
          },
          "ternary": {
           "aaxis": {
            "gridcolor": "white",
            "linecolor": "white",
            "ticks": ""
           },
           "baxis": {
            "gridcolor": "white",
            "linecolor": "white",
            "ticks": ""
           },
           "bgcolor": "#E5ECF6",
           "caxis": {
            "gridcolor": "white",
            "linecolor": "white",
            "ticks": ""
           }
          },
          "title": {
           "x": 0.05
          },
          "xaxis": {
           "automargin": true,
           "gridcolor": "white",
           "linecolor": "white",
           "ticks": "",
           "title": {
            "standoff": 15
           },
           "zerolinecolor": "white",
           "zerolinewidth": 2
          },
          "yaxis": {
           "automargin": true,
           "gridcolor": "white",
           "linecolor": "white",
           "ticks": "",
           "title": {
            "standoff": 15
           },
           "zerolinecolor": "white",
           "zerolinewidth": 2
          }
         }
        },
        "title": {
         "text": "Percentage Change in Stock Prices in Secondary Sector"
        },
        "xaxis": {
         "anchor": "y",
         "categoryarray": [
          "AA",
          "BA",
          "CAT",
          "CSCO",
          "CVX",
          "DD",
          "GE",
          "HPQ",
          "IBM",
          "INTC",
          "MMM",
          "MSFT",
          "UTX",
          "XOM"
         ],
         "categoryorder": "array",
         "domain": [
          0,
          1
         ],
         "tickangle": 0,
         "title": {
          "text": "Companies in Secondary Sector"
         }
        },
        "yaxis": {
         "anchor": "x",
         "domain": [
          0,
          1
         ],
         "title": {
          "text": "% Change"
         }
        }
       }
      },
      "text/html": [
       "<div>                            <div id=\"71051de1-b264-4024-8db8-cbbcb205d8ad\" class=\"plotly-graph-div\" style=\"height:525px; width:100%;\"></div>            <script type=\"text/javascript\">                require([\"plotly\"], function(Plotly) {                    window.PLOTLYENV=window.PLOTLYENV || {};                                    if (document.getElementById(\"71051de1-b264-4024-8db8-cbbcb205d8ad\")) {                    Plotly.newPlot(                        \"71051de1-b264-4024-8db8-cbbcb205d8ad\",                        [{\"alignmentgroup\":\"True\",\"hovertemplate\":\"Companies in Secondary Sector=%{x}<br>% Change=%{y}<extra></extra>\",\"legendgroup\":\"AA\",\"marker\":{\"color\":\"rgb(228,26,28)\",\"pattern\":{\"shape\":\"\"}},\"name\":\"AA\",\"offsetgroup\":\"AA\",\"orientation\":\"v\",\"showlegend\":true,\"textposition\":\"auto\",\"x\":[\"AA\",\"AA\",\"AA\",\"AA\",\"AA\",\"AA\",\"AA\",\"AA\",\"AA\",\"AA\",\"AA\",\"AA\",\"AA\",\"AA\",\"AA\",\"AA\",\"AA\",\"AA\",\"AA\",\"AA\",\"AA\",\"AA\",\"AA\",\"AA\",\"AA\"],\"xaxis\":\"x\",\"y\":[-4.42849,-2.47066,1.63831,5.93325,0.230814,-0.632547,-1.76678,-1.36823,-3.31725,1.00313,4.33455,1.98482,2.87026,-8.52713,3.72861,0.354191,-0.694847,-0.34965,-4.35294,3.25815,-4.8416,-4.0201,-3.72793,3.81731,7.16163],\"yaxis\":\"y\",\"type\":\"bar\"},{\"alignmentgroup\":\"True\",\"hovertemplate\":\"Companies in Secondary Sector=%{x}<br>% Change=%{y}<extra></extra>\",\"legendgroup\":\"BA\",\"marker\":{\"color\":\"rgb(55,126,184)\",\"pattern\":{\"shape\":\"\"}},\"name\":\"BA\",\"offsetgroup\":\"BA\",\"orientation\":\"v\",\"showlegend\":true,\"textposition\":\"auto\",\"x\":[\"BA\",\"BA\",\"BA\",\"BA\",\"BA\",\"BA\",\"BA\",\"BA\",\"BA\",\"BA\",\"BA\",\"BA\",\"BA\",\"BA\",\"BA\",\"BA\",\"BA\",\"BA\",\"BA\",\"BA\",\"BA\",\"BA\",\"BA\",\"BA\",\"BA\"],\"xaxis\":\"x\",\"y\":[0.93633,1.15721,-3.2019,3.06093,0.99398,0.467675,-0.0691085,-0.92452,0.0558659,-2.90853,4.33917,0.693878,0.122649,-1.42566,3.74037,5.65488,-1.29434,-0.353045,-1.44928,0.574788,-3.80463,-2.76886,1.50561,-3.65062,3.96137],\"yaxis\":\"y\",\"type\":\"bar\"},{\"alignmentgroup\":\"True\",\"hovertemplate\":\"Companies in Secondary Sector=%{x}<br>% Change=%{y}<extra></extra>\",\"legendgroup\":\"CAT\",\"marker\":{\"color\":\"rgb(77,175,74)\",\"pattern\":{\"shape\":\"\"}},\"name\":\"CAT\",\"offsetgroup\":\"CAT\",\"orientation\":\"v\",\"showlegend\":true,\"textposition\":\"auto\",\"x\":[\"CAT\",\"CAT\",\"CAT\",\"CAT\",\"CAT\",\"CAT\",\"CAT\",\"CAT\",\"CAT\",\"CAT\",\"CAT\",\"CAT\",\"CAT\",\"CAT\",\"CAT\",\"CAT\",\"CAT\",\"CAT\",\"CAT\",\"CAT\",\"CAT\",\"CAT\",\"CAT\",\"CAT\",\"CAT\"],\"xaxis\":\"x\",\"y\":[0.858277,-1.49745,3.20354,3.59929,3.93495,2.22093,-2.72745,0.311526,-3.28757,2.40764,2.04864,3.26821,-3.45495,-2.55408,3.63705,5.64811,-5.07571,-4.0343,-1.45461,3.25765,-4.99013,-3.45137,-1.01104,3.64805,8.66347],\"yaxis\":\"y\",\"type\":\"bar\"},{\"alignmentgroup\":\"True\",\"hovertemplate\":\"Companies in Secondary Sector=%{x}<br>% Change=%{y}<extra></extra>\",\"legendgroup\":\"CSCO\",\"marker\":{\"color\":\"rgb(152,78,163)\",\"pattern\":{\"shape\":\"\"}},\"name\":\"CSCO\",\"offsetgroup\":\"CSCO\",\"orientation\":\"v\",\"showlegend\":true,\"textposition\":\"auto\",\"x\":[\"CSCO\",\"CSCO\",\"CSCO\",\"CSCO\",\"CSCO\",\"CSCO\",\"CSCO\",\"CSCO\",\"CSCO\",\"CSCO\",\"CSCO\",\"CSCO\",\"CSCO\",\"CSCO\",\"CSCO\",\"CSCO\",\"CSCO\",\"CSCO\",\"CSCO\",\"CSCO\",\"CSCO\",\"CSCO\",\"CSCO\",\"CSCO\",\"CSCO\"],\"xaxis\":\"x\",\"y\":[1.2894,-2.35627,0.431862,5.35117,-15.4229,0.0530786,-0.480513,-1.18153,-2.23312,-3.76193,-0.346021,-1.84332,3.76249,-3.83964,0.35545,3.48494,0.285551,-3.70793,-1.72414,0.304692,-3.49608,-5.73566,-1.12285,-0.0669344,6.15797],\"yaxis\":\"y\",\"type\":\"bar\"},{\"alignmentgroup\":\"True\",\"hovertemplate\":\"Companies in Secondary Sector=%{x}<br>% Change=%{y}<extra></extra>\",\"legendgroup\":\"CVX\",\"marker\":{\"color\":\"rgb(255,127,0)\",\"pattern\":{\"shape\":\"\"}},\"name\":\"CVX\",\"offsetgroup\":\"CVX\",\"orientation\":\"v\",\"showlegend\":true,\"textposition\":\"auto\",\"x\":[\"CVX\",\"CVX\",\"CVX\",\"CVX\",\"CVX\",\"CVX\",\"CVX\",\"CVX\",\"CVX\",\"CVX\",\"CVX\",\"CVX\",\"CVX\",\"CVX\",\"CVX\",\"CVX\",\"CVX\",\"CVX\",\"CVX\",\"CVX\",\"CVX\",\"CVX\",\"CVX\",\"CVX\",\"CVX\"],\"xaxis\":\"x\",\"y\":[2.06707,0.903809,-0.55384,3.47363,-0.853207,3.37173,2.89227,1.43723,-4.0242,3.67084,2.81148,1.80451,1.0505,-3.18936,3.03001,1.92791,-6.0285,-0.83293,0.529256,2.05676,-3.45091,-1.21903,-0.869652,-0.9911,6.27935],\"yaxis\":\"y\",\"type\":\"bar\"},{\"alignmentgroup\":\"True\",\"hovertemplate\":\"Companies in Secondary Sector=%{x}<br>% Change=%{y}<extra></extra>\",\"legendgroup\":\"DD\",\"marker\":{\"color\":\"rgb(255,255,51)\",\"pattern\":{\"shape\":\"\"}},\"name\":\"DD\",\"offsetgroup\":\"DD\",\"orientation\":\"v\",\"showlegend\":true,\"textposition\":\"auto\",\"x\":[\"DD\",\"DD\",\"DD\",\"DD\",\"DD\",\"DD\",\"DD\",\"DD\",\"DD\",\"DD\",\"DD\",\"DD\",\"DD\",\"DD\",\"DD\",\"DD\",\"DD\",\"DD\",\"DD\",\"DD\",\"DD\",\"DD\",\"DD\",\"DD\",\"DD\"],\"xaxis\":\"x\",\"y\":[3.10559,-2.38239,3.81916,4.74576,3.72482,2.8288,-1.60146,-0.645518,-2.21811,-0.357277,0.557621,1.99593,-0.18018,-1.00992,3.00295,1.97522,-3.17263,-3.69494,0.0,1.56522,-5.43437,-1.0338,-0.919448,4.9697,5.05304],\"yaxis\":\"y\",\"type\":\"bar\"},{\"alignmentgroup\":\"True\",\"hovertemplate\":\"Companies in Secondary Sector=%{x}<br>% Change=%{y}<extra></extra>\",\"legendgroup\":\"GE\",\"marker\":{\"color\":\"rgb(166,86,40)\",\"pattern\":{\"shape\":\"\"}},\"name\":\"GE\",\"offsetgroup\":\"GE\",\"orientation\":\"v\",\"showlegend\":true,\"textposition\":\"auto\",\"x\":[\"GE\",\"GE\",\"GE\",\"GE\",\"GE\",\"GE\",\"GE\",\"GE\",\"GE\",\"GE\",\"GE\",\"GE\",\"GE\",\"GE\",\"GE\",\"GE\",\"GE\",\"GE\",\"GE\",\"GE\",\"GE\",\"GE\",\"GE\",\"GE\",\"GE\"],\"xaxis\":\"x\",\"y\":[1.12843,4.00421,1.35474,2.13612,2.6962,-0.32543,-0.287356,-2.7685,-0.196078,-3.55711,0.355691,2.67542,-2.60492,-0.988142,0.91047,1.53923,-3.33333,-0.400601,-1.15869,0.621118,-4.36992,-2.08445,0.983069,-2.01745,6.66667],\"yaxis\":\"y\",\"type\":\"bar\"},{\"alignmentgroup\":\"True\",\"hovertemplate\":\"Companies in Secondary Sector=%{x}<br>% Change=%{y}<extra></extra>\",\"legendgroup\":\"HPQ\",\"marker\":{\"color\":\"rgb(247,129,191)\",\"pattern\":{\"shape\":\"\"}},\"name\":\"HPQ\",\"offsetgroup\":\"HPQ\",\"orientation\":\"v\",\"showlegend\":true,\"textposition\":\"auto\",\"x\":[\"HPQ\",\"HPQ\",\"HPQ\",\"HPQ\",\"HPQ\",\"HPQ\",\"HPQ\",\"HPQ\",\"HPQ\",\"HPQ\",\"HPQ\",\"HPQ\",\"HPQ\",\"HPQ\",\"HPQ\",\"HPQ\",\"HPQ\",\"HPQ\",\"HPQ\",\"HPQ\",\"HPQ\",\"HPQ\",\"HPQ\",\"HPQ\",\"HPQ\"],\"xaxis\":\"x\",\"y\":[3.09853,2.36238,-2.52731,4.44836,1.94928,0.454076,-10.2796,-1.04505,-2.72727,0.0242072,1.62485,-3.39463,0.123001,-1.10538,2.57758,-1.68047,0.294913,-0.931601,-10.4975,3.87858,-3.13841,-2.05613,-0.370054,0.316183,5.70613],\"yaxis\":\"y\",\"type\":\"bar\"},{\"alignmentgroup\":\"True\",\"hovertemplate\":\"Companies in Secondary Sector=%{x}<br>% Change=%{y}<extra></extra>\",\"legendgroup\":\"IBM\",\"marker\":{\"color\":\"rgb(153,153,153)\",\"pattern\":{\"shape\":\"\"}},\"name\":\"IBM\",\"offsetgroup\":\"IBM\",\"orientation\":\"v\",\"showlegend\":true,\"textposition\":\"auto\",\"x\":[\"IBM\",\"IBM\",\"IBM\",\"IBM\",\"IBM\",\"IBM\",\"IBM\",\"IBM\",\"IBM\",\"IBM\",\"IBM\",\"IBM\",\"IBM\",\"IBM\",\"IBM\",\"IBM\",\"IBM\",\"IBM\",\"IBM\",\"IBM\",\"IBM\",\"IBM\",\"IBM\",\"IBM\",\"IBM\"],\"xaxis\":\"x\",\"y\":[2.04082,3.79122,2.43855,3.02802,-0.140176,0.401998,-0.788653,-0.326435,0.513614,-3.27004,2.87998,1.68998,-0.225033,1.69481,2.21088,1.74769,-1.8709,0.908605,0.206113,-0.593472,-2.01259,-0.958971,0.0,0.836897,5.30952],\"yaxis\":\"y\",\"type\":\"bar\"},{\"alignmentgroup\":\"True\",\"hovertemplate\":\"Companies in Secondary Sector=%{x}<br>% Change=%{y}<extra></extra>\",\"legendgroup\":\"INTC\",\"marker\":{\"color\":\"rgb(228,26,28)\",\"pattern\":{\"shape\":\"\"}},\"name\":\"INTC\",\"offsetgroup\":\"INTC\",\"orientation\":\"v\",\"showlegend\":true,\"textposition\":\"auto\",\"x\":[\"INTC\",\"INTC\",\"INTC\",\"INTC\",\"INTC\",\"INTC\",\"INTC\",\"INTC\",\"INTC\",\"INTC\",\"INTC\",\"INTC\",\"INTC\",\"INTC\",\"INTC\",\"INTC\",\"INTC\",\"INTC\",\"INTC\",\"INTC\",\"INTC\",\"INTC\",\"INTC\",\"INTC\",\"INTC\"],\"xaxis\":\"x\",\"y\":[1.78658,-0.998573,2.0447,0.603248,0.0919963,2.35784,-0.410023,-0.873563,-3.78054,-3.5334,2.36181,-3.5225,1.1622,-1.59442,9.88223,8.32943,0.999131,1.21055,-0.428816,-3.09773,-3.20713,-1.92661,-1.11993,0.0471921,6.42419],\"yaxis\":\"y\",\"type\":\"bar\"},{\"alignmentgroup\":\"True\",\"hovertemplate\":\"Companies in Secondary Sector=%{x}<br>% Change=%{y}<extra></extra>\",\"legendgroup\":\"MMM\",\"marker\":{\"color\":\"rgb(55,126,184)\",\"pattern\":{\"shape\":\"\"}},\"name\":\"MMM\",\"offsetgroup\":\"MMM\",\"orientation\":\"v\",\"showlegend\":true,\"textposition\":\"auto\",\"x\":[\"MMM\",\"MMM\",\"MMM\",\"MMM\",\"MMM\",\"MMM\",\"MMM\",\"MMM\",\"MMM\",\"MMM\",\"MMM\",\"MMM\",\"MMM\",\"MMM\",\"MMM\",\"MMM\",\"MMM\",\"MMM\",\"MMM\",\"MMM\",\"MMM\",\"MMM\",\"MMM\",\"MMM\",\"MMM\"],\"xaxis\":\"x\",\"y\":[2.80047,1.65073,-1.98408,0.409417,4.11705,1.35194,-2.67443,0.31556,-1.04774,-2.44491,2.21558,0.768232,0.58265,-0.822737,2.15358,3.514,-2.0291,0.745016,-2.07243,1.27858,-3.56194,0.387254,0.702216,-0.579742,6.13746],\"yaxis\":\"y\",\"type\":\"bar\"},{\"alignmentgroup\":\"True\",\"hovertemplate\":\"Companies in Secondary Sector=%{x}<br>% Change=%{y}<extra></extra>\",\"legendgroup\":\"MSFT\",\"marker\":{\"color\":\"rgb(77,175,74)\",\"pattern\":{\"shape\":\"\"}},\"name\":\"MSFT\",\"offsetgroup\":\"MSFT\",\"orientation\":\"v\",\"showlegend\":true,\"textposition\":\"auto\",\"x\":[\"MSFT\",\"MSFT\",\"MSFT\",\"MSFT\",\"MSFT\",\"MSFT\",\"MSFT\",\"MSFT\",\"MSFT\",\"MSFT\",\"MSFT\",\"MSFT\",\"MSFT\",\"MSFT\",\"MSFT\",\"MSFT\",\"MSFT\",\"MSFT\",\"MSFT\",\"MSFT\",\"MSFT\",\"MSFT\",\"MSFT\",\"MSFT\",\"MSFT\"],\"xaxis\":\"x\",\"y\":[0.35461,-0.497159,-0.963597,0.0,-1.97842,-0.514706,-0.85885,-2.77257,-1.72216,-2.70694,1.74742,-0.701481,2.43615,-3.13097,1.67331,1.40845,-0.269854,-2.9845,-1.88301,2.27179,-4.24679,-0.83682,1.97562,0.537857,7.38754],\"yaxis\":\"y\",\"type\":\"bar\"},{\"alignmentgroup\":\"True\",\"hovertemplate\":\"Companies in Secondary Sector=%{x}<br>% Change=%{y}<extra></extra>\",\"legendgroup\":\"UTX\",\"marker\":{\"color\":\"rgb(152,78,163)\",\"pattern\":{\"shape\":\"\"}},\"name\":\"UTX\",\"offsetgroup\":\"UTX\",\"orientation\":\"v\",\"showlegend\":true,\"textposition\":\"auto\",\"x\":[\"UTX\",\"UTX\",\"UTX\",\"UTX\",\"UTX\",\"UTX\",\"UTX\",\"UTX\",\"UTX\",\"UTX\",\"UTX\",\"UTX\",\"UTX\",\"UTX\",\"UTX\",\"UTX\",\"UTX\",\"UTX\",\"UTX\",\"UTX\",\"UTX\",\"UTX\",\"UTX\",\"UTX\",\"UTX\"],\"xaxis\":\"x\",\"y\":[1.03488,1.16044,1.45776,0.880196,2.83645,-0.0705302,-1.38396,-0.86145,-2.10767,-0.718355,2.73063,1.87463,-0.992295,-1.82353,5.44794,2.96552,-0.910807,0.112511,-1.08524,-0.0925819,-4.32184,-0.277342,1.98987,-0.0355619,7.28485],\"yaxis\":\"y\",\"type\":\"bar\"},{\"alignmentgroup\":\"True\",\"hovertemplate\":\"Companies in Secondary Sector=%{x}<br>% Change=%{y}<extra></extra>\",\"legendgroup\":\"XOM\",\"marker\":{\"color\":\"rgb(255,127,0)\",\"pattern\":{\"shape\":\"\"}},\"name\":\"XOM\",\"offsetgroup\":\"XOM\",\"orientation\":\"v\",\"showlegend\":true,\"textposition\":\"auto\",\"x\":[\"XOM\",\"XOM\",\"XOM\",\"XOM\",\"XOM\",\"XOM\",\"XOM\",\"XOM\",\"XOM\",\"XOM\",\"XOM\",\"XOM\",\"XOM\",\"XOM\",\"XOM\",\"XOM\",\"XOM\",\"XOM\",\"XOM\",\"XOM\",\"XOM\",\"XOM\",\"XOM\",\"XOM\",\"XOM\"],\"xaxis\":\"x\",\"y\":[3.60708,1.52976,0.177552,4.2042,-0.754943,3.04878,0.435448,-0.919995,-4.33364,-1.00404,2.13754,0.97782,2.0057,-1.93136,3.91048,1.95851,-6.14075,-2.578,1.68287,3.00424,-2.52161,-1.42098,-1.225,-2.37762,6.67274],\"yaxis\":\"y\",\"type\":\"bar\"}],                        {\"template\":{\"data\":{\"histogram2dcontour\":[{\"type\":\"histogram2dcontour\",\"colorbar\":{\"outlinewidth\":0,\"ticks\":\"\"},\"colorscale\":[[0.0,\"#0d0887\"],[0.1111111111111111,\"#46039f\"],[0.2222222222222222,\"#7201a8\"],[0.3333333333333333,\"#9c179e\"],[0.4444444444444444,\"#bd3786\"],[0.5555555555555556,\"#d8576b\"],[0.6666666666666666,\"#ed7953\"],[0.7777777777777778,\"#fb9f3a\"],[0.8888888888888888,\"#fdca26\"],[1.0,\"#f0f921\"]]}],\"choropleth\":[{\"type\":\"choropleth\",\"colorbar\":{\"outlinewidth\":0,\"ticks\":\"\"}}],\"histogram2d\":[{\"type\":\"histogram2d\",\"colorbar\":{\"outlinewidth\":0,\"ticks\":\"\"},\"colorscale\":[[0.0,\"#0d0887\"],[0.1111111111111111,\"#46039f\"],[0.2222222222222222,\"#7201a8\"],[0.3333333333333333,\"#9c179e\"],[0.4444444444444444,\"#bd3786\"],[0.5555555555555556,\"#d8576b\"],[0.6666666666666666,\"#ed7953\"],[0.7777777777777778,\"#fb9f3a\"],[0.8888888888888888,\"#fdca26\"],[1.0,\"#f0f921\"]]}],\"heatmap\":[{\"type\":\"heatmap\",\"colorbar\":{\"outlinewidth\":0,\"ticks\":\"\"},\"colorscale\":[[0.0,\"#0d0887\"],[0.1111111111111111,\"#46039f\"],[0.2222222222222222,\"#7201a8\"],[0.3333333333333333,\"#9c179e\"],[0.4444444444444444,\"#bd3786\"],[0.5555555555555556,\"#d8576b\"],[0.6666666666666666,\"#ed7953\"],[0.7777777777777778,\"#fb9f3a\"],[0.8888888888888888,\"#fdca26\"],[1.0,\"#f0f921\"]]}],\"heatmapgl\":[{\"type\":\"heatmapgl\",\"colorbar\":{\"outlinewidth\":0,\"ticks\":\"\"},\"colorscale\":[[0.0,\"#0d0887\"],[0.1111111111111111,\"#46039f\"],[0.2222222222222222,\"#7201a8\"],[0.3333333333333333,\"#9c179e\"],[0.4444444444444444,\"#bd3786\"],[0.5555555555555556,\"#d8576b\"],[0.6666666666666666,\"#ed7953\"],[0.7777777777777778,\"#fb9f3a\"],[0.8888888888888888,\"#fdca26\"],[1.0,\"#f0f921\"]]}],\"contourcarpet\":[{\"type\":\"contourcarpet\",\"colorbar\":{\"outlinewidth\":0,\"ticks\":\"\"}}],\"contour\":[{\"type\":\"contour\",\"colorbar\":{\"outlinewidth\":0,\"ticks\":\"\"},\"colorscale\":[[0.0,\"#0d0887\"],[0.1111111111111111,\"#46039f\"],[0.2222222222222222,\"#7201a8\"],[0.3333333333333333,\"#9c179e\"],[0.4444444444444444,\"#bd3786\"],[0.5555555555555556,\"#d8576b\"],[0.6666666666666666,\"#ed7953\"],[0.7777777777777778,\"#fb9f3a\"],[0.8888888888888888,\"#fdca26\"],[1.0,\"#f0f921\"]]}],\"surface\":[{\"type\":\"surface\",\"colorbar\":{\"outlinewidth\":0,\"ticks\":\"\"},\"colorscale\":[[0.0,\"#0d0887\"],[0.1111111111111111,\"#46039f\"],[0.2222222222222222,\"#7201a8\"],[0.3333333333333333,\"#9c179e\"],[0.4444444444444444,\"#bd3786\"],[0.5555555555555556,\"#d8576b\"],[0.6666666666666666,\"#ed7953\"],[0.7777777777777778,\"#fb9f3a\"],[0.8888888888888888,\"#fdca26\"],[1.0,\"#f0f921\"]]}],\"mesh3d\":[{\"type\":\"mesh3d\",\"colorbar\":{\"outlinewidth\":0,\"ticks\":\"\"}}],\"scatter\":[{\"fillpattern\":{\"fillmode\":\"overlay\",\"size\":10,\"solidity\":0.2},\"type\":\"scatter\"}],\"parcoords\":[{\"type\":\"parcoords\",\"line\":{\"colorbar\":{\"outlinewidth\":0,\"ticks\":\"\"}}}],\"scatterpolargl\":[{\"type\":\"scatterpolargl\",\"marker\":{\"colorbar\":{\"outlinewidth\":0,\"ticks\":\"\"}}}],\"bar\":[{\"error_x\":{\"color\":\"#2a3f5f\"},\"error_y\":{\"color\":\"#2a3f5f\"},\"marker\":{\"line\":{\"color\":\"#E5ECF6\",\"width\":0.5},\"pattern\":{\"fillmode\":\"overlay\",\"size\":10,\"solidity\":0.2}},\"type\":\"bar\"}],\"scattergeo\":[{\"type\":\"scattergeo\",\"marker\":{\"colorbar\":{\"outlinewidth\":0,\"ticks\":\"\"}}}],\"scatterpolar\":[{\"type\":\"scatterpolar\",\"marker\":{\"colorbar\":{\"outlinewidth\":0,\"ticks\":\"\"}}}],\"histogram\":[{\"marker\":{\"pattern\":{\"fillmode\":\"overlay\",\"size\":10,\"solidity\":0.2}},\"type\":\"histogram\"}],\"scattergl\":[{\"type\":\"scattergl\",\"marker\":{\"colorbar\":{\"outlinewidth\":0,\"ticks\":\"\"}}}],\"scatter3d\":[{\"type\":\"scatter3d\",\"line\":{\"colorbar\":{\"outlinewidth\":0,\"ticks\":\"\"}},\"marker\":{\"colorbar\":{\"outlinewidth\":0,\"ticks\":\"\"}}}],\"scattermapbox\":[{\"type\":\"scattermapbox\",\"marker\":{\"colorbar\":{\"outlinewidth\":0,\"ticks\":\"\"}}}],\"scatterternary\":[{\"type\":\"scatterternary\",\"marker\":{\"colorbar\":{\"outlinewidth\":0,\"ticks\":\"\"}}}],\"scattercarpet\":[{\"type\":\"scattercarpet\",\"marker\":{\"colorbar\":{\"outlinewidth\":0,\"ticks\":\"\"}}}],\"carpet\":[{\"aaxis\":{\"endlinecolor\":\"#2a3f5f\",\"gridcolor\":\"white\",\"linecolor\":\"white\",\"minorgridcolor\":\"white\",\"startlinecolor\":\"#2a3f5f\"},\"baxis\":{\"endlinecolor\":\"#2a3f5f\",\"gridcolor\":\"white\",\"linecolor\":\"white\",\"minorgridcolor\":\"white\",\"startlinecolor\":\"#2a3f5f\"},\"type\":\"carpet\"}],\"table\":[{\"cells\":{\"fill\":{\"color\":\"#EBF0F8\"},\"line\":{\"color\":\"white\"}},\"header\":{\"fill\":{\"color\":\"#C8D4E3\"},\"line\":{\"color\":\"white\"}},\"type\":\"table\"}],\"barpolar\":[{\"marker\":{\"line\":{\"color\":\"#E5ECF6\",\"width\":0.5},\"pattern\":{\"fillmode\":\"overlay\",\"size\":10,\"solidity\":0.2}},\"type\":\"barpolar\"}],\"pie\":[{\"automargin\":true,\"type\":\"pie\"}]},\"layout\":{\"autotypenumbers\":\"strict\",\"colorway\":[\"#636efa\",\"#EF553B\",\"#00cc96\",\"#ab63fa\",\"#FFA15A\",\"#19d3f3\",\"#FF6692\",\"#B6E880\",\"#FF97FF\",\"#FECB52\"],\"font\":{\"color\":\"#2a3f5f\"},\"hovermode\":\"closest\",\"hoverlabel\":{\"align\":\"left\"},\"paper_bgcolor\":\"white\",\"plot_bgcolor\":\"#E5ECF6\",\"polar\":{\"bgcolor\":\"#E5ECF6\",\"angularaxis\":{\"gridcolor\":\"white\",\"linecolor\":\"white\",\"ticks\":\"\"},\"radialaxis\":{\"gridcolor\":\"white\",\"linecolor\":\"white\",\"ticks\":\"\"}},\"ternary\":{\"bgcolor\":\"#E5ECF6\",\"aaxis\":{\"gridcolor\":\"white\",\"linecolor\":\"white\",\"ticks\":\"\"},\"baxis\":{\"gridcolor\":\"white\",\"linecolor\":\"white\",\"ticks\":\"\"},\"caxis\":{\"gridcolor\":\"white\",\"linecolor\":\"white\",\"ticks\":\"\"}},\"coloraxis\":{\"colorbar\":{\"outlinewidth\":0,\"ticks\":\"\"}},\"colorscale\":{\"sequential\":[[0.0,\"#0d0887\"],[0.1111111111111111,\"#46039f\"],[0.2222222222222222,\"#7201a8\"],[0.3333333333333333,\"#9c179e\"],[0.4444444444444444,\"#bd3786\"],[0.5555555555555556,\"#d8576b\"],[0.6666666666666666,\"#ed7953\"],[0.7777777777777778,\"#fb9f3a\"],[0.8888888888888888,\"#fdca26\"],[1.0,\"#f0f921\"]],\"sequentialminus\":[[0.0,\"#0d0887\"],[0.1111111111111111,\"#46039f\"],[0.2222222222222222,\"#7201a8\"],[0.3333333333333333,\"#9c179e\"],[0.4444444444444444,\"#bd3786\"],[0.5555555555555556,\"#d8576b\"],[0.6666666666666666,\"#ed7953\"],[0.7777777777777778,\"#fb9f3a\"],[0.8888888888888888,\"#fdca26\"],[1.0,\"#f0f921\"]],\"diverging\":[[0,\"#8e0152\"],[0.1,\"#c51b7d\"],[0.2,\"#de77ae\"],[0.3,\"#f1b6da\"],[0.4,\"#fde0ef\"],[0.5,\"#f7f7f7\"],[0.6,\"#e6f5d0\"],[0.7,\"#b8e186\"],[0.8,\"#7fbc41\"],[0.9,\"#4d9221\"],[1,\"#276419\"]]},\"xaxis\":{\"gridcolor\":\"white\",\"linecolor\":\"white\",\"ticks\":\"\",\"title\":{\"standoff\":15},\"zerolinecolor\":\"white\",\"automargin\":true,\"zerolinewidth\":2},\"yaxis\":{\"gridcolor\":\"white\",\"linecolor\":\"white\",\"ticks\":\"\",\"title\":{\"standoff\":15},\"zerolinecolor\":\"white\",\"automargin\":true,\"zerolinewidth\":2},\"scene\":{\"xaxis\":{\"backgroundcolor\":\"#E5ECF6\",\"gridcolor\":\"white\",\"linecolor\":\"white\",\"showbackground\":true,\"ticks\":\"\",\"zerolinecolor\":\"white\",\"gridwidth\":2},\"yaxis\":{\"backgroundcolor\":\"#E5ECF6\",\"gridcolor\":\"white\",\"linecolor\":\"white\",\"showbackground\":true,\"ticks\":\"\",\"zerolinecolor\":\"white\",\"gridwidth\":2},\"zaxis\":{\"backgroundcolor\":\"#E5ECF6\",\"gridcolor\":\"white\",\"linecolor\":\"white\",\"showbackground\":true,\"ticks\":\"\",\"zerolinecolor\":\"white\",\"gridwidth\":2}},\"shapedefaults\":{\"line\":{\"color\":\"#2a3f5f\"}},\"annotationdefaults\":{\"arrowcolor\":\"#2a3f5f\",\"arrowhead\":0,\"arrowwidth\":1},\"geo\":{\"bgcolor\":\"white\",\"landcolor\":\"#E5ECF6\",\"subunitcolor\":\"white\",\"showland\":true,\"showlakes\":true,\"lakecolor\":\"white\"},\"title\":{\"x\":0.05},\"mapbox\":{\"style\":\"light\"}}},\"xaxis\":{\"anchor\":\"y\",\"domain\":[0.0,1.0],\"title\":{\"text\":\"Companies in Secondary Sector\"},\"categoryorder\":\"array\",\"categoryarray\":[\"AA\",\"BA\",\"CAT\",\"CSCO\",\"CVX\",\"DD\",\"GE\",\"HPQ\",\"IBM\",\"INTC\",\"MMM\",\"MSFT\",\"UTX\",\"XOM\"],\"tickangle\":0},\"yaxis\":{\"anchor\":\"x\",\"domain\":[0.0,1.0],\"title\":{\"text\":\"% Change\"}},\"legend\":{\"title\":{\"text\":\"Stocks\"},\"tracegroupgap\":0},\"title\":{\"text\":\"Percentage Change in Stock Prices in Secondary Sector\"},\"barmode\":\"relative\",\"plot_bgcolor\":\"lightgray\"},                        {\"responsive\": true}                    ).then(function(){\n",
       "                            \n",
       "var gd = document.getElementById('71051de1-b264-4024-8db8-cbbcb205d8ad');\n",
       "var x = new MutationObserver(function (mutations, observer) {{\n",
       "        var display = window.getComputedStyle(gd).display;\n",
       "        if (!display || display === 'none') {{\n",
       "            console.log([gd, 'removed!']);\n",
       "            Plotly.purge(gd);\n",
       "            observer.disconnect();\n",
       "        }}\n",
       "}});\n",
       "\n",
       "// Listen for the removal of the full notebook cells\n",
       "var notebookContainer = gd.closest('#notebook-container');\n",
       "if (notebookContainer) {{\n",
       "    x.observe(notebookContainer, {childList: true});\n",
       "}}\n",
       "\n",
       "// Listen for the clearing of the current output cell\n",
       "var outputEl = gd.closest('.output');\n",
       "if (outputEl) {{\n",
       "    x.observe(outputEl, {childList: true});\n",
       "}}\n",
       "\n",
       "                        })                };                });            </script>        </div>"
      ]
     },
     "metadata": {},
     "output_type": "display_data"
    }
   ],
   "source": [
    "color_sequence = px.colors.qualitative.Set1\n",
    "\n",
    "fig = px.bar(\n",
    "sec_sector_next_wk,\n",
    "x='stock',\n",
    "y='percent_change_next_weeks_price',\n",
    "title='Percentage Change in Stock Prices in Secondary Sector',\n",
    "color='stock',\n",
    "    color_discrete_sequence=color_sequence,\n",
    "labels={'percent_change_next_weeks_price': '% Change', \n",
    "       'stock': 'Companies in Secondary Sector'})\n",
    "fig.update_layout(\n",
    "plot_bgcolor='lightgray',\n",
    "xaxis=dict(tickangle=0),\n",
    "    legend_title_text='Stocks'\n",
    ")\n",
    "\n",
    "\n",
    "fig.show()"
   ]
  },
  {
   "cell_type": "code",
   "execution_count": 227,
   "id": "74818051",
   "metadata": {},
   "outputs": [
    {
     "data": {
      "text/html": [
       "<div>\n",
       "<style scoped>\n",
       "    .dataframe tbody tr th:only-of-type {\n",
       "        vertical-align: middle;\n",
       "    }\n",
       "\n",
       "    .dataframe tbody tr th {\n",
       "        vertical-align: top;\n",
       "    }\n",
       "\n",
       "    .dataframe thead th {\n",
       "        text-align: right;\n",
       "    }\n",
       "</style>\n",
       "<table border=\"1\" class=\"dataframe\">\n",
       "  <thead>\n",
       "    <tr style=\"text-align: right;\">\n",
       "      <th></th>\n",
       "      <th>quarter</th>\n",
       "      <th>percent_change_next_weeks_price</th>\n",
       "    </tr>\n",
       "  </thead>\n",
       "  <tbody>\n",
       "    <tr>\n",
       "      <th>count</th>\n",
       "      <td>350.000000</td>\n",
       "      <td>350.000000</td>\n",
       "    </tr>\n",
       "    <tr>\n",
       "      <th>mean</th>\n",
       "      <td>1.520000</td>\n",
       "      <td>0.199503</td>\n",
       "    </tr>\n",
       "    <tr>\n",
       "      <th>std</th>\n",
       "      <td>0.500315</td>\n",
       "      <td>3.043459</td>\n",
       "    </tr>\n",
       "    <tr>\n",
       "      <th>min</th>\n",
       "      <td>1.000000</td>\n",
       "      <td>-15.422900</td>\n",
       "    </tr>\n",
       "    <tr>\n",
       "      <th>25%</th>\n",
       "      <td>1.000000</td>\n",
       "      <td>-1.660718</td>\n",
       "    </tr>\n",
       "    <tr>\n",
       "      <th>50%</th>\n",
       "      <td>2.000000</td>\n",
       "      <td>0.117580</td>\n",
       "    </tr>\n",
       "    <tr>\n",
       "      <th>75%</th>\n",
       "      <td>2.000000</td>\n",
       "      <td>2.047655</td>\n",
       "    </tr>\n",
       "    <tr>\n",
       "      <th>max</th>\n",
       "      <td>2.000000</td>\n",
       "      <td>9.882230</td>\n",
       "    </tr>\n",
       "  </tbody>\n",
       "</table>\n",
       "</div>"
      ],
      "text/plain": [
       "          quarter  percent_change_next_weeks_price\n",
       "count  350.000000                       350.000000\n",
       "mean     1.520000                         0.199503\n",
       "std      0.500315                         3.043459\n",
       "min      1.000000                       -15.422900\n",
       "25%      1.000000                        -1.660718\n",
       "50%      2.000000                         0.117580\n",
       "75%      2.000000                         2.047655\n",
       "max      2.000000                         9.882230"
      ]
     },
     "execution_count": 227,
     "metadata": {},
     "output_type": "execute_result"
    }
   ],
   "source": [
    "sec_sector_next_wk.describe()"
   ]
  },
  {
   "cell_type": "markdown",
   "id": "3f582a7d",
   "metadata": {},
   "source": [
    "Volatility = In secondary sector, the standard deviation is approx. higher at 3.0435. This indicates that the weekly returns in this sector are more volatile or have a larger degree of variation compared to the primary sector.\n",
    "\n",
    "Range of Returns using min and max values = the range is larger approx. 25.305"
   ]
  },
  {
   "cell_type": "code",
   "execution_count": 197,
   "id": "b768408f",
   "metadata": {
    "scrolled": true
   },
   "outputs": [
    {
     "data": {
      "application/vnd.plotly.v1+json": {
       "config": {
        "plotlyServerURL": "https://plot.ly"
       },
       "data": [
        {
         "hovertemplate": "stock=AXP<br>Date=%{x}<br>% Change=%{y}<extra></extra>",
         "legendgroup": "AXP",
         "line": {
          "color": "rgb(228,26,28)",
          "dash": "solid"
         },
         "marker": {
          "symbol": "circle"
         },
         "mode": "lines+markers",
         "name": "AXP",
         "orientation": "v",
         "showlegend": true,
         "type": "scatter",
         "x": [
          "2011-01-07T00:00:00",
          "2011-01-14T00:00:00",
          "2011-01-21T00:00:00",
          "2011-01-28T00:00:00",
          "2011-02-04T00:00:00",
          "2011-02-11T00:00:00",
          "2011-02-18T00:00:00",
          "2011-02-25T00:00:00",
          "2011-03-04T00:00:00",
          "2011-03-11T00:00:00",
          "2011-03-18T00:00:00",
          "2011-03-25T00:00:00",
          "2011-04-01T00:00:00",
          "2011-04-08T00:00:00",
          "2011-04-15T00:00:00",
          "2011-04-21T00:00:00",
          "2011-04-29T00:00:00",
          "2011-05-06T00:00:00",
          "2011-05-13T00:00:00",
          "2011-05-20T00:00:00",
          "2011-05-27T00:00:00",
          "2011-06-03T00:00:00",
          "2011-06-10T00:00:00",
          "2011-06-17T00:00:00",
          "2011-06-24T00:00:00"
         ],
         "xaxis": "x",
         "y": [
          4.63801,
          -0.0651749,
          -4.7557,
          -0.70247,
          6.34668,
          -1.91728,
          -3.13752,
          -0.0228676,
          0.957592,
          0.706794,
          1.87709,
          -0.395257,
          1.46898,
          -0.237274,
          2.74809,
          4.00509,
          1.68118,
          -1.13863,
          3.58155,
          0.768624,
          -4.10586,
          -2.82923,
          1.12594,
          -0.0206825,
          7.93978
         ],
         "yaxis": "y"
        },
        {
         "hovertemplate": "stock=BAC<br>Date=%{x}<br>% Change=%{y}<extra></extra>",
         "legendgroup": "BAC",
         "line": {
          "color": "rgb(55,126,184)",
          "dash": "solid"
         },
         "marker": {
          "symbol": "circle"
         },
         "mode": "lines+markers",
         "name": "BAC",
         "orientation": "v",
         "showlegend": true,
         "type": "scatter",
         "x": [
          "2011-01-07T00:00:00",
          "2011-01-14T00:00:00",
          "2011-01-21T00:00:00",
          "2011-01-28T00:00:00",
          "2011-02-04T00:00:00",
          "2011-02-11T00:00:00",
          "2011-02-18T00:00:00",
          "2011-02-25T00:00:00",
          "2011-03-04T00:00:00",
          "2011-03-11T00:00:00",
          "2011-03-18T00:00:00",
          "2011-03-25T00:00:00",
          "2011-04-01T00:00:00",
          "2011-04-08T00:00:00",
          "2011-04-15T00:00:00",
          "2011-04-21T00:00:00",
          "2011-04-29T00:00:00",
          "2011-05-06T00:00:00",
          "2011-05-13T00:00:00",
          "2011-05-20T00:00:00",
          "2011-05-27T00:00:00",
          "2011-06-03T00:00:00",
          "2011-06-10T00:00:00",
          "2011-06-17T00:00:00",
          "2011-06-24T00:00:00"
         ],
         "xaxis": "x",
         "y": [
          7.62174,
          -5.50398,
          -4.5614,
          4.23049,
          1.79187,
          -0.13541,
          -1.25174,
          -1.05116,
          1.41044,
          -1.54278,
          -6.05634,
          -0.372578,
          0.597015,
          -5.03704,
          -2.22399,
          -0.324675,
          -0.404531,
          -2.85016,
          -2.60723,
          1.91805,
          -4.97051,
          -3.39893,
          -1.92837,
          -0.661001,
          5.41825
         ],
         "yaxis": "y"
        },
        {
         "hovertemplate": "stock=DIS<br>Date=%{x}<br>% Change=%{y}<extra></extra>",
         "legendgroup": "DIS",
         "line": {
          "color": "rgb(77,175,74)",
          "dash": "solid"
         },
         "marker": {
          "symbol": "circle"
         },
         "mode": "lines+markers",
         "name": "DIS",
         "orientation": "v",
         "showlegend": true,
         "type": "scatter",
         "x": [
          "2011-01-07T00:00:00",
          "2011-01-14T00:00:00",
          "2011-01-21T00:00:00",
          "2011-01-28T00:00:00",
          "2011-02-04T00:00:00",
          "2011-02-11T00:00:00",
          "2011-02-18T00:00:00",
          "2011-02-25T00:00:00",
          "2011-03-04T00:00:00",
          "2011-03-11T00:00:00",
          "2011-03-18T00:00:00",
          "2011-03-25T00:00:00",
          "2011-04-01T00:00:00",
          "2011-04-08T00:00:00",
          "2011-04-15T00:00:00",
          "2011-04-21T00:00:00",
          "2011-04-29T00:00:00",
          "2011-05-06T00:00:00",
          "2011-05-13T00:00:00",
          "2011-05-20T00:00:00",
          "2011-05-27T00:00:00",
          "2011-06-03T00:00:00",
          "2011-06-10T00:00:00",
          "2011-06-17T00:00:00",
          "2011-06-24T00:00:00"
         ],
         "xaxis": "x",
         "y": [
          0.717765,
          1.71487,
          -1.99294,
          4.27766,
          6.39706,
          0.85668,
          0.280177,
          1.23199,
          -1.37836,
          -3.30675,
          3.64206,
          -0.787219,
          -2.58922,
          -0.574713,
          3.17305,
          1.79499,
          -0.943179,
          -4.15512,
          0.581677,
          0.899149,
          -6.01432,
          -1.73558,
          -1.52731,
          -0.713342,
          5.58214
         ],
         "yaxis": "y"
        },
        {
         "hovertemplate": "stock=HD<br>Date=%{x}<br>% Change=%{y}<extra></extra>",
         "legendgroup": "HD",
         "line": {
          "color": "rgb(152,78,163)",
          "dash": "solid"
         },
         "marker": {
          "symbol": "circle"
         },
         "mode": "lines+markers",
         "name": "HD",
         "orientation": "v",
         "showlegend": true,
         "type": "scatter",
         "x": [
          "2011-01-07T00:00:00",
          "2011-01-14T00:00:00",
          "2011-01-21T00:00:00",
          "2011-01-28T00:00:00",
          "2011-02-04T00:00:00",
          "2011-02-11T00:00:00",
          "2011-02-18T00:00:00",
          "2011-02-25T00:00:00",
          "2011-03-04T00:00:00",
          "2011-03-11T00:00:00",
          "2011-03-18T00:00:00",
          "2011-03-25T00:00:00",
          "2011-04-01T00:00:00",
          "2011-04-08T00:00:00",
          "2011-04-15T00:00:00",
          "2011-04-21T00:00:00",
          "2011-04-29T00:00:00",
          "2011-05-06T00:00:00",
          "2011-05-13T00:00:00",
          "2011-05-20T00:00:00",
          "2011-05-27T00:00:00",
          "2011-06-03T00:00:00",
          "2011-06-10T00:00:00",
          "2011-06-17T00:00:00",
          "2011-06-24T00:00:00"
         ],
         "xaxis": "x",
         "y": [
          5.0644,
          1.50125,
          0.658256,
          -0.888769,
          1.84783,
          2.69549,
          -5.64885,
          0.188425,
          -0.322061,
          -2.49187,
          3.11381,
          0.266951,
          -0.0533618,
          1.92256,
          0.265252,
          -1.22308,
          -1.20192,
          0.216626,
          0.981194,
          0,
          -4.28413,
          -3.06979,
          3.19785,
          2.30388,
          4.85298
         ],
         "yaxis": "y"
        },
        {
         "hovertemplate": "stock=JPM<br>Date=%{x}<br>% Change=%{y}<extra></extra>",
         "legendgroup": "JPM",
         "line": {
          "color": "rgb(255,127,0)",
          "dash": "solid"
         },
         "marker": {
          "symbol": "circle"
         },
         "mode": "lines+markers",
         "name": "JPM",
         "orientation": "v",
         "showlegend": true,
         "type": "scatter",
         "x": [
          "2011-01-07T00:00:00",
          "2011-01-14T00:00:00",
          "2011-01-21T00:00:00",
          "2011-01-28T00:00:00",
          "2011-02-04T00:00:00",
          "2011-02-11T00:00:00",
          "2011-02-18T00:00:00",
          "2011-02-25T00:00:00",
          "2011-03-04T00:00:00",
          "2011-03-11T00:00:00",
          "2011-03-18T00:00:00",
          "2011-03-25T00:00:00",
          "2011-04-01T00:00:00",
          "2011-04-08T00:00:00",
          "2011-04-15T00:00:00",
          "2011-04-21T00:00:00",
          "2011-04-29T00:00:00",
          "2011-05-06T00:00:00",
          "2011-05-13T00:00:00",
          "2011-05-20T00:00:00",
          "2011-05-27T00:00:00",
          "2011-06-03T00:00:00",
          "2011-06-10T00:00:00",
          "2011-06-17T00:00:00",
          "2011-06-24T00:00:00"
         ],
         "xaxis": "x",
         "y": [
          3.79015,
          0.599733,
          -1.48197,
          0.405314,
          4.06704,
          4.34783,
          -1.10169,
          -2.75582,
          0.263043,
          0.704535,
          -0.907519,
          0.542299,
          1.56114,
          -4.48936,
          0.926135,
          2.19485,
          -1.95908,
          -3.57542,
          0.372353,
          0.919811,
          -3.86216,
          -0.121655,
          -1.18673,
          -2.49383,
          5.53299
         ],
         "yaxis": "y"
        },
        {
         "hovertemplate": "stock=KRFT<br>Date=%{x}<br>% Change=%{y}<extra></extra>",
         "legendgroup": "KRFT",
         "line": {
          "color": "rgb(255,255,51)",
          "dash": "solid"
         },
         "marker": {
          "symbol": "circle"
         },
         "mode": "lines+markers",
         "name": "KRFT",
         "orientation": "v",
         "showlegend": true,
         "type": "scatter",
         "x": [
          "2011-01-07T00:00:00",
          "2011-01-14T00:00:00",
          "2011-01-21T00:00:00",
          "2011-01-28T00:00:00",
          "2011-02-04T00:00:00",
          "2011-02-11T00:00:00",
          "2011-02-18T00:00:00",
          "2011-02-25T00:00:00",
          "2011-03-04T00:00:00",
          "2011-03-11T00:00:00",
          "2011-03-18T00:00:00",
          "2011-03-25T00:00:00",
          "2011-04-01T00:00:00",
          "2011-04-08T00:00:00",
          "2011-04-15T00:00:00",
          "2011-04-21T00:00:00",
          "2011-04-29T00:00:00",
          "2011-05-06T00:00:00",
          "2011-05-13T00:00:00",
          "2011-05-20T00:00:00",
          "2011-05-27T00:00:00",
          "2011-06-03T00:00:00",
          "2011-06-10T00:00:00",
          "2011-06-17T00:00:00",
          "2011-06-24T00:00:00"
         ],
         "xaxis": "x",
         "y": [
          1.39114,
          -0.191022,
          -2.73973,
          2.16181,
          -1.66774,
          0.782524,
          3.22266,
          -0.754243,
          0.443599,
          -1.65027,
          1.55945,
          0.829346,
          -0.126143,
          5.13709,
          2.01711,
          0.418535,
          1.42857,
          3.19432,
          1.1194,
          -0.629111,
          -1.98333,
          -0.821837,
          1.65094,
          0.610643,
          2.48483
         ],
         "yaxis": "y"
        },
        {
         "hovertemplate": "stock=MCD<br>Date=%{x}<br>% Change=%{y}<extra></extra>",
         "legendgroup": "MCD",
         "line": {
          "color": "rgb(166,86,40)",
          "dash": "solid"
         },
         "marker": {
          "symbol": "circle"
         },
         "mode": "lines+markers",
         "name": "MCD",
         "orientation": "v",
         "showlegend": true,
         "type": "scatter",
         "x": [
          "2011-01-07T00:00:00",
          "2011-01-14T00:00:00",
          "2011-01-21T00:00:00",
          "2011-01-28T00:00:00",
          "2011-02-04T00:00:00",
          "2011-02-11T00:00:00",
          "2011-02-18T00:00:00",
          "2011-02-25T00:00:00",
          "2011-03-04T00:00:00",
          "2011-03-11T00:00:00",
          "2011-03-18T00:00:00",
          "2011-03-25T00:00:00",
          "2011-04-01T00:00:00",
          "2011-04-08T00:00:00",
          "2011-04-15T00:00:00",
          "2011-04-21T00:00:00",
          "2011-04-29T00:00:00",
          "2011-05-06T00:00:00",
          "2011-05-13T00:00:00",
          "2011-05-20T00:00:00",
          "2011-05-27T00:00:00",
          "2011-06-03T00:00:00",
          "2011-06-10T00:00:00",
          "2011-06-17T00:00:00",
          "2011-06-24T00:00:00"
         ],
         "xaxis": "x",
         "y": [
          -0.255892,
          0.482251,
          -1.3064,
          0.338753,
          2.71145,
          0.0788747,
          -1.98815,
          2.03999,
          0.458235,
          -4.08673,
          2.38095,
          0.582396,
          -0.35382,
          1.61523,
          0.0260112,
          1.50356,
          0.382653,
          1.61087,
          2.34958,
          0.110389,
          -1.93596,
          -0.297767,
          2.59853,
          -0.58309,
          5.07913
         ],
         "yaxis": "y"
        },
        {
         "hovertemplate": "stock=MRK<br>Date=%{x}<br>% Change=%{y}<extra></extra>",
         "legendgroup": "MRK",
         "line": {
          "color": "rgb(247,129,191)",
          "dash": "solid"
         },
         "marker": {
          "symbol": "circle"
         },
         "mode": "lines+markers",
         "name": "MRK",
         "orientation": "v",
         "showlegend": true,
         "type": "scatter",
         "x": [
          "2011-01-07T00:00:00",
          "2011-01-14T00:00:00",
          "2011-01-21T00:00:00",
          "2011-01-28T00:00:00",
          "2011-02-04T00:00:00",
          "2011-02-11T00:00:00",
          "2011-02-18T00:00:00",
          "2011-02-25T00:00:00",
          "2011-03-04T00:00:00",
          "2011-03-11T00:00:00",
          "2011-03-18T00:00:00",
          "2011-03-25T00:00:00",
          "2011-04-01T00:00:00",
          "2011-04-08T00:00:00",
          "2011-04-15T00:00:00",
          "2011-04-21T00:00:00",
          "2011-04-29T00:00:00",
          "2011-05-06T00:00:00",
          "2011-05-13T00:00:00",
          "2011-05-20T00:00:00",
          "2011-05-27T00:00:00",
          "2011-06-03T00:00:00",
          "2011-06-10T00:00:00",
          "2011-06-17T00:00:00",
          "2011-06-24T00:00:00"
         ],
         "xaxis": "x",
         "y": [
          -8.13204,
          -0.498973,
          -2.70668,
          -1.20156,
          0.394657,
          -0.363967,
          -1.70992,
          2.67081,
          -0.818182,
          -1.81538,
          1.49579,
          1.62876,
          0.989802,
          2.46437,
          -0.467836,
          6.67656,
          -0.137212,
          2.68624,
          0,
          -1.25443,
          -1.56636,
          -0.70028,
          1.02769,
          -2.09691,
          2.89017
         ],
         "yaxis": "y"
        },
        {
         "hovertemplate": "stock=PFE<br>Date=%{x}<br>% Change=%{y}<extra></extra>",
         "legendgroup": "PFE",
         "line": {
          "color": "rgb(153,153,153)",
          "dash": "solid"
         },
         "marker": {
          "symbol": "circle"
         },
         "mode": "lines+markers",
         "name": "PFE",
         "orientation": "v",
         "showlegend": true,
         "type": "scatter",
         "x": [
          "2011-01-07T00:00:00",
          "2011-01-14T00:00:00",
          "2011-01-21T00:00:00",
          "2011-01-28T00:00:00",
          "2011-02-04T00:00:00",
          "2011-02-11T00:00:00",
          "2011-02-18T00:00:00",
          "2011-02-25T00:00:00",
          "2011-03-04T00:00:00",
          "2011-03-11T00:00:00",
          "2011-03-18T00:00:00",
          "2011-03-25T00:00:00",
          "2011-04-01T00:00:00",
          "2011-04-08T00:00:00",
          "2011-04-15T00:00:00",
          "2011-04-21T00:00:00",
          "2011-04-29T00:00:00",
          "2011-05-06T00:00:00",
          "2011-05-13T00:00:00",
          "2011-05-20T00:00:00",
          "2011-05-27T00:00:00",
          "2011-06-03T00:00:00",
          "2011-06-10T00:00:00",
          "2011-06-17T00:00:00",
          "2011-06-24T00:00:00"
         ],
         "xaxis": "x",
         "y": [
          0.658617,
          0.0544959,
          -0.981997,
          6.10225,
          -2.28334,
          1.96599,
          -0.105932,
          3.7467,
          -0.86558,
          3.75321,
          0.147638,
          -0.195886,
          -0.437956,
          -0.0973236,
          -2.60827,
          5.11278,
          -2.79092,
          1.89966,
          -0.71977,
          2.14739,
          -0.761905,
          -3.41018,
          0.896414,
          -0.049776,
          3.23383
         ],
         "yaxis": "y"
        },
        {
         "hovertemplate": "stock=PG<br>Date=%{x}<br>% Change=%{y}<extra></extra>",
         "legendgroup": "PG",
         "line": {
          "color": "rgb(228,26,28)",
          "dash": "solid"
         },
         "marker": {
          "symbol": "circle"
         },
         "mode": "lines+markers",
         "name": "PG",
         "orientation": "v",
         "showlegend": true,
         "type": "scatter",
         "x": [
          "2011-01-07T00:00:00",
          "2011-01-14T00:00:00",
          "2011-01-21T00:00:00",
          "2011-01-28T00:00:00",
          "2011-02-04T00:00:00",
          "2011-02-11T00:00:00",
          "2011-02-18T00:00:00",
          "2011-02-25T00:00:00",
          "2011-03-04T00:00:00",
          "2011-03-11T00:00:00",
          "2011-03-18T00:00:00",
          "2011-03-25T00:00:00",
          "2011-04-01T00:00:00",
          "2011-04-08T00:00:00",
          "2011-04-15T00:00:00",
          "2011-04-21T00:00:00",
          "2011-04-29T00:00:00",
          "2011-05-06T00:00:00",
          "2011-05-13T00:00:00",
          "2011-05-20T00:00:00",
          "2011-05-27T00:00:00",
          "2011-06-03T00:00:00",
          "2011-06-10T00:00:00",
          "2011-06-17T00:00:00",
          "2011-06-24T00:00:00"
         ],
         "xaxis": "x",
         "y": [
          1.75466,
          0.39604,
          -2.57967,
          -1.14996,
          1.2197,
          -0.771605,
          -1.39652,
          -1.22611,
          -0.822581,
          -0.720839,
          -0.131234,
          1.6372,
          -0.434293,
          3.48275,
          -0.628239,
          2.88523,
          0.0459841,
          2.97243,
          1.0501,
          -0.898204,
          -1.35685,
          -1.00979,
          0.0618716,
          -2.97628,
          2.40599
         ],
         "yaxis": "y"
        },
        {
         "hovertemplate": "stock=TRV<br>Date=%{x}<br>% Change=%{y}<extra></extra>",
         "legendgroup": "TRV",
         "line": {
          "color": "rgb(55,126,184)",
          "dash": "solid"
         },
         "marker": {
          "symbol": "circle"
         },
         "mode": "lines+markers",
         "name": "TRV",
         "orientation": "v",
         "showlegend": true,
         "type": "scatter",
         "x": [
          "2011-01-07T00:00:00",
          "2011-01-14T00:00:00",
          "2011-01-21T00:00:00",
          "2011-01-28T00:00:00",
          "2011-02-04T00:00:00",
          "2011-02-11T00:00:00",
          "2011-02-18T00:00:00",
          "2011-02-25T00:00:00",
          "2011-03-04T00:00:00",
          "2011-03-11T00:00:00",
          "2011-03-18T00:00:00",
          "2011-03-25T00:00:00",
          "2011-04-01T00:00:00",
          "2011-04-08T00:00:00",
          "2011-04-15T00:00:00",
          "2011-04-21T00:00:00",
          "2011-04-29T00:00:00",
          "2011-05-06T00:00:00",
          "2011-05-13T00:00:00",
          "2011-05-20T00:00:00",
          "2011-05-27T00:00:00",
          "2011-06-03T00:00:00",
          "2011-06-10T00:00:00",
          "2011-06-17T00:00:00",
          "2011-06-24T00:00:00"
         ],
         "xaxis": "x",
         "y": [
          2.84262,
          0.695716,
          1.21509,
          2.86687,
          2.91347,
          3.53501,
          -1.65016,
          -0.704698,
          -0.641242,
          -0.701214,
          0.924025,
          1.04925,
          -0.417851,
          -0.0835422,
          3.37154,
          3.19635,
          -0.204531,
          -1.42338,
          -0.431862,
          -0.356333,
          -1.24294,
          -3.48818,
          -2.02977,
          -1.54594,
          4.01197
         ],
         "yaxis": "y"
        },
        {
         "hovertemplate": "stock=WMT<br>Date=%{x}<br>% Change=%{y}<extra></extra>",
         "legendgroup": "WMT",
         "line": {
          "color": "rgb(77,175,74)",
          "dash": "solid"
         },
         "marker": {
          "symbol": "circle"
         },
         "mode": "lines+markers",
         "name": "WMT",
         "orientation": "v",
         "showlegend": true,
         "type": "scatter",
         "x": [
          "2011-01-07T00:00:00",
          "2011-01-14T00:00:00",
          "2011-01-21T00:00:00",
          "2011-01-28T00:00:00",
          "2011-02-04T00:00:00",
          "2011-02-11T00:00:00",
          "2011-02-18T00:00:00",
          "2011-02-25T00:00:00",
          "2011-03-04T00:00:00",
          "2011-03-11T00:00:00",
          "2011-03-18T00:00:00",
          "2011-03-25T00:00:00",
          "2011-04-01T00:00:00",
          "2011-04-08T00:00:00",
          "2011-04-15T00:00:00",
          "2011-04-21T00:00:00",
          "2011-04-29T00:00:00",
          "2011-05-06T00:00:00",
          "2011-05-13T00:00:00",
          "2011-05-20T00:00:00",
          "2011-05-27T00:00:00",
          "2011-06-03T00:00:00",
          "2011-06-10T00:00:00",
          "2011-06-17T00:00:00",
          "2011-06-24T00:00:00"
         ],
         "xaxis": "x",
         "y": [
          2.16216,
          1.12502,
          2.36505,
          -0.744021,
          -0.677724,
          0.217155,
          -3.82828,
          0.618357,
          0.631458,
          -1.58548,
          1.19853,
          -0.344102,
          0.439686,
          1.92234,
          0.941974,
          2.57463,
          -0.108932,
          1.36438,
          -0.575436,
          -0.364299,
          -2.22303,
          -2.1166,
          -0.1701,
          -0.550285,
          2.27446
         ],
         "yaxis": "y"
        }
       ],
       "layout": {
        "height": 800,
        "legend": {
         "title": {
          "text": "Stocks"
         },
         "tracegroupgap": 0
        },
        "plot_bgcolor": "lightgray",
        "template": {
         "data": {
          "bar": [
           {
            "error_x": {
             "color": "#2a3f5f"
            },
            "error_y": {
             "color": "#2a3f5f"
            },
            "marker": {
             "line": {
              "color": "#E5ECF6",
              "width": 0.5
             },
             "pattern": {
              "fillmode": "overlay",
              "size": 10,
              "solidity": 0.2
             }
            },
            "type": "bar"
           }
          ],
          "barpolar": [
           {
            "marker": {
             "line": {
              "color": "#E5ECF6",
              "width": 0.5
             },
             "pattern": {
              "fillmode": "overlay",
              "size": 10,
              "solidity": 0.2
             }
            },
            "type": "barpolar"
           }
          ],
          "carpet": [
           {
            "aaxis": {
             "endlinecolor": "#2a3f5f",
             "gridcolor": "white",
             "linecolor": "white",
             "minorgridcolor": "white",
             "startlinecolor": "#2a3f5f"
            },
            "baxis": {
             "endlinecolor": "#2a3f5f",
             "gridcolor": "white",
             "linecolor": "white",
             "minorgridcolor": "white",
             "startlinecolor": "#2a3f5f"
            },
            "type": "carpet"
           }
          ],
          "choropleth": [
           {
            "colorbar": {
             "outlinewidth": 0,
             "ticks": ""
            },
            "type": "choropleth"
           }
          ],
          "contour": [
           {
            "colorbar": {
             "outlinewidth": 0,
             "ticks": ""
            },
            "colorscale": [
             [
              0,
              "#0d0887"
             ],
             [
              0.1111111111111111,
              "#46039f"
             ],
             [
              0.2222222222222222,
              "#7201a8"
             ],
             [
              0.3333333333333333,
              "#9c179e"
             ],
             [
              0.4444444444444444,
              "#bd3786"
             ],
             [
              0.5555555555555556,
              "#d8576b"
             ],
             [
              0.6666666666666666,
              "#ed7953"
             ],
             [
              0.7777777777777778,
              "#fb9f3a"
             ],
             [
              0.8888888888888888,
              "#fdca26"
             ],
             [
              1,
              "#f0f921"
             ]
            ],
            "type": "contour"
           }
          ],
          "contourcarpet": [
           {
            "colorbar": {
             "outlinewidth": 0,
             "ticks": ""
            },
            "type": "contourcarpet"
           }
          ],
          "heatmap": [
           {
            "colorbar": {
             "outlinewidth": 0,
             "ticks": ""
            },
            "colorscale": [
             [
              0,
              "#0d0887"
             ],
             [
              0.1111111111111111,
              "#46039f"
             ],
             [
              0.2222222222222222,
              "#7201a8"
             ],
             [
              0.3333333333333333,
              "#9c179e"
             ],
             [
              0.4444444444444444,
              "#bd3786"
             ],
             [
              0.5555555555555556,
              "#d8576b"
             ],
             [
              0.6666666666666666,
              "#ed7953"
             ],
             [
              0.7777777777777778,
              "#fb9f3a"
             ],
             [
              0.8888888888888888,
              "#fdca26"
             ],
             [
              1,
              "#f0f921"
             ]
            ],
            "type": "heatmap"
           }
          ],
          "heatmapgl": [
           {
            "colorbar": {
             "outlinewidth": 0,
             "ticks": ""
            },
            "colorscale": [
             [
              0,
              "#0d0887"
             ],
             [
              0.1111111111111111,
              "#46039f"
             ],
             [
              0.2222222222222222,
              "#7201a8"
             ],
             [
              0.3333333333333333,
              "#9c179e"
             ],
             [
              0.4444444444444444,
              "#bd3786"
             ],
             [
              0.5555555555555556,
              "#d8576b"
             ],
             [
              0.6666666666666666,
              "#ed7953"
             ],
             [
              0.7777777777777778,
              "#fb9f3a"
             ],
             [
              0.8888888888888888,
              "#fdca26"
             ],
             [
              1,
              "#f0f921"
             ]
            ],
            "type": "heatmapgl"
           }
          ],
          "histogram": [
           {
            "marker": {
             "pattern": {
              "fillmode": "overlay",
              "size": 10,
              "solidity": 0.2
             }
            },
            "type": "histogram"
           }
          ],
          "histogram2d": [
           {
            "colorbar": {
             "outlinewidth": 0,
             "ticks": ""
            },
            "colorscale": [
             [
              0,
              "#0d0887"
             ],
             [
              0.1111111111111111,
              "#46039f"
             ],
             [
              0.2222222222222222,
              "#7201a8"
             ],
             [
              0.3333333333333333,
              "#9c179e"
             ],
             [
              0.4444444444444444,
              "#bd3786"
             ],
             [
              0.5555555555555556,
              "#d8576b"
             ],
             [
              0.6666666666666666,
              "#ed7953"
             ],
             [
              0.7777777777777778,
              "#fb9f3a"
             ],
             [
              0.8888888888888888,
              "#fdca26"
             ],
             [
              1,
              "#f0f921"
             ]
            ],
            "type": "histogram2d"
           }
          ],
          "histogram2dcontour": [
           {
            "colorbar": {
             "outlinewidth": 0,
             "ticks": ""
            },
            "colorscale": [
             [
              0,
              "#0d0887"
             ],
             [
              0.1111111111111111,
              "#46039f"
             ],
             [
              0.2222222222222222,
              "#7201a8"
             ],
             [
              0.3333333333333333,
              "#9c179e"
             ],
             [
              0.4444444444444444,
              "#bd3786"
             ],
             [
              0.5555555555555556,
              "#d8576b"
             ],
             [
              0.6666666666666666,
              "#ed7953"
             ],
             [
              0.7777777777777778,
              "#fb9f3a"
             ],
             [
              0.8888888888888888,
              "#fdca26"
             ],
             [
              1,
              "#f0f921"
             ]
            ],
            "type": "histogram2dcontour"
           }
          ],
          "mesh3d": [
           {
            "colorbar": {
             "outlinewidth": 0,
             "ticks": ""
            },
            "type": "mesh3d"
           }
          ],
          "parcoords": [
           {
            "line": {
             "colorbar": {
              "outlinewidth": 0,
              "ticks": ""
             }
            },
            "type": "parcoords"
           }
          ],
          "pie": [
           {
            "automargin": true,
            "type": "pie"
           }
          ],
          "scatter": [
           {
            "fillpattern": {
             "fillmode": "overlay",
             "size": 10,
             "solidity": 0.2
            },
            "type": "scatter"
           }
          ],
          "scatter3d": [
           {
            "line": {
             "colorbar": {
              "outlinewidth": 0,
              "ticks": ""
             }
            },
            "marker": {
             "colorbar": {
              "outlinewidth": 0,
              "ticks": ""
             }
            },
            "type": "scatter3d"
           }
          ],
          "scattercarpet": [
           {
            "marker": {
             "colorbar": {
              "outlinewidth": 0,
              "ticks": ""
             }
            },
            "type": "scattercarpet"
           }
          ],
          "scattergeo": [
           {
            "marker": {
             "colorbar": {
              "outlinewidth": 0,
              "ticks": ""
             }
            },
            "type": "scattergeo"
           }
          ],
          "scattergl": [
           {
            "marker": {
             "colorbar": {
              "outlinewidth": 0,
              "ticks": ""
             }
            },
            "type": "scattergl"
           }
          ],
          "scattermapbox": [
           {
            "marker": {
             "colorbar": {
              "outlinewidth": 0,
              "ticks": ""
             }
            },
            "type": "scattermapbox"
           }
          ],
          "scatterpolar": [
           {
            "marker": {
             "colorbar": {
              "outlinewidth": 0,
              "ticks": ""
             }
            },
            "type": "scatterpolar"
           }
          ],
          "scatterpolargl": [
           {
            "marker": {
             "colorbar": {
              "outlinewidth": 0,
              "ticks": ""
             }
            },
            "type": "scatterpolargl"
           }
          ],
          "scatterternary": [
           {
            "marker": {
             "colorbar": {
              "outlinewidth": 0,
              "ticks": ""
             }
            },
            "type": "scatterternary"
           }
          ],
          "surface": [
           {
            "colorbar": {
             "outlinewidth": 0,
             "ticks": ""
            },
            "colorscale": [
             [
              0,
              "#0d0887"
             ],
             [
              0.1111111111111111,
              "#46039f"
             ],
             [
              0.2222222222222222,
              "#7201a8"
             ],
             [
              0.3333333333333333,
              "#9c179e"
             ],
             [
              0.4444444444444444,
              "#bd3786"
             ],
             [
              0.5555555555555556,
              "#d8576b"
             ],
             [
              0.6666666666666666,
              "#ed7953"
             ],
             [
              0.7777777777777778,
              "#fb9f3a"
             ],
             [
              0.8888888888888888,
              "#fdca26"
             ],
             [
              1,
              "#f0f921"
             ]
            ],
            "type": "surface"
           }
          ],
          "table": [
           {
            "cells": {
             "fill": {
              "color": "#EBF0F8"
             },
             "line": {
              "color": "white"
             }
            },
            "header": {
             "fill": {
              "color": "#C8D4E3"
             },
             "line": {
              "color": "white"
             }
            },
            "type": "table"
           }
          ]
         },
         "layout": {
          "annotationdefaults": {
           "arrowcolor": "#2a3f5f",
           "arrowhead": 0,
           "arrowwidth": 1
          },
          "autotypenumbers": "strict",
          "coloraxis": {
           "colorbar": {
            "outlinewidth": 0,
            "ticks": ""
           }
          },
          "colorscale": {
           "diverging": [
            [
             0,
             "#8e0152"
            ],
            [
             0.1,
             "#c51b7d"
            ],
            [
             0.2,
             "#de77ae"
            ],
            [
             0.3,
             "#f1b6da"
            ],
            [
             0.4,
             "#fde0ef"
            ],
            [
             0.5,
             "#f7f7f7"
            ],
            [
             0.6,
             "#e6f5d0"
            ],
            [
             0.7,
             "#b8e186"
            ],
            [
             0.8,
             "#7fbc41"
            ],
            [
             0.9,
             "#4d9221"
            ],
            [
             1,
             "#276419"
            ]
           ],
           "sequential": [
            [
             0,
             "#0d0887"
            ],
            [
             0.1111111111111111,
             "#46039f"
            ],
            [
             0.2222222222222222,
             "#7201a8"
            ],
            [
             0.3333333333333333,
             "#9c179e"
            ],
            [
             0.4444444444444444,
             "#bd3786"
            ],
            [
             0.5555555555555556,
             "#d8576b"
            ],
            [
             0.6666666666666666,
             "#ed7953"
            ],
            [
             0.7777777777777778,
             "#fb9f3a"
            ],
            [
             0.8888888888888888,
             "#fdca26"
            ],
            [
             1,
             "#f0f921"
            ]
           ],
           "sequentialminus": [
            [
             0,
             "#0d0887"
            ],
            [
             0.1111111111111111,
             "#46039f"
            ],
            [
             0.2222222222222222,
             "#7201a8"
            ],
            [
             0.3333333333333333,
             "#9c179e"
            ],
            [
             0.4444444444444444,
             "#bd3786"
            ],
            [
             0.5555555555555556,
             "#d8576b"
            ],
            [
             0.6666666666666666,
             "#ed7953"
            ],
            [
             0.7777777777777778,
             "#fb9f3a"
            ],
            [
             0.8888888888888888,
             "#fdca26"
            ],
            [
             1,
             "#f0f921"
            ]
           ]
          },
          "colorway": [
           "#636efa",
           "#EF553B",
           "#00cc96",
           "#ab63fa",
           "#FFA15A",
           "#19d3f3",
           "#FF6692",
           "#B6E880",
           "#FF97FF",
           "#FECB52"
          ],
          "font": {
           "color": "#2a3f5f"
          },
          "geo": {
           "bgcolor": "white",
           "lakecolor": "white",
           "landcolor": "#E5ECF6",
           "showlakes": true,
           "showland": true,
           "subunitcolor": "white"
          },
          "hoverlabel": {
           "align": "left"
          },
          "hovermode": "closest",
          "mapbox": {
           "style": "light"
          },
          "paper_bgcolor": "white",
          "plot_bgcolor": "#E5ECF6",
          "polar": {
           "angularaxis": {
            "gridcolor": "white",
            "linecolor": "white",
            "ticks": ""
           },
           "bgcolor": "#E5ECF6",
           "radialaxis": {
            "gridcolor": "white",
            "linecolor": "white",
            "ticks": ""
           }
          },
          "scene": {
           "xaxis": {
            "backgroundcolor": "#E5ECF6",
            "gridcolor": "white",
            "gridwidth": 2,
            "linecolor": "white",
            "showbackground": true,
            "ticks": "",
            "zerolinecolor": "white"
           },
           "yaxis": {
            "backgroundcolor": "#E5ECF6",
            "gridcolor": "white",
            "gridwidth": 2,
            "linecolor": "white",
            "showbackground": true,
            "ticks": "",
            "zerolinecolor": "white"
           },
           "zaxis": {
            "backgroundcolor": "#E5ECF6",
            "gridcolor": "white",
            "gridwidth": 2,
            "linecolor": "white",
            "showbackground": true,
            "ticks": "",
            "zerolinecolor": "white"
           }
          },
          "shapedefaults": {
           "line": {
            "color": "#2a3f5f"
           }
          },
          "ternary": {
           "aaxis": {
            "gridcolor": "white",
            "linecolor": "white",
            "ticks": ""
           },
           "baxis": {
            "gridcolor": "white",
            "linecolor": "white",
            "ticks": ""
           },
           "bgcolor": "#E5ECF6",
           "caxis": {
            "gridcolor": "white",
            "linecolor": "white",
            "ticks": ""
           }
          },
          "title": {
           "x": 0.05
          },
          "xaxis": {
           "automargin": true,
           "gridcolor": "white",
           "linecolor": "white",
           "ticks": "",
           "title": {
            "standoff": 15
           },
           "zerolinecolor": "white",
           "zerolinewidth": 2
          },
          "yaxis": {
           "automargin": true,
           "gridcolor": "white",
           "linecolor": "white",
           "ticks": "",
           "title": {
            "standoff": 15
           },
           "zerolinecolor": "white",
           "zerolinewidth": 2
          }
         }
        },
        "title": {
         "text": "Predicted Weekly Price Change from Feb to Jun 2011 in Tertiary Sector"
        },
        "width": 900,
        "xaxis": {
         "anchor": "y",
         "domain": [
          0,
          1
         ],
         "title": {
          "text": "Date"
         }
        },
        "yaxis": {
         "anchor": "x",
         "domain": [
          0,
          1
         ],
         "title": {
          "text": "% Change"
         }
        }
       }
      },
      "text/html": [
       "<div>                            <div id=\"d8c706dc-9eb2-4b30-9fbc-b0862560e360\" class=\"plotly-graph-div\" style=\"height:800px; width:900px;\"></div>            <script type=\"text/javascript\">                require([\"plotly\"], function(Plotly) {                    window.PLOTLYENV=window.PLOTLYENV || {};                                    if (document.getElementById(\"d8c706dc-9eb2-4b30-9fbc-b0862560e360\")) {                    Plotly.newPlot(                        \"d8c706dc-9eb2-4b30-9fbc-b0862560e360\",                        [{\"hovertemplate\":\"stock=AXP<br>Date=%{x}<br>% Change=%{y}<extra></extra>\",\"legendgroup\":\"AXP\",\"line\":{\"color\":\"rgb(228,26,28)\",\"dash\":\"solid\"},\"marker\":{\"symbol\":\"circle\"},\"mode\":\"lines+markers\",\"name\":\"AXP\",\"orientation\":\"v\",\"showlegend\":true,\"x\":[\"2011-01-07T00:00:00\",\"2011-01-14T00:00:00\",\"2011-01-21T00:00:00\",\"2011-01-28T00:00:00\",\"2011-02-04T00:00:00\",\"2011-02-11T00:00:00\",\"2011-02-18T00:00:00\",\"2011-02-25T00:00:00\",\"2011-03-04T00:00:00\",\"2011-03-11T00:00:00\",\"2011-03-18T00:00:00\",\"2011-03-25T00:00:00\",\"2011-04-01T00:00:00\",\"2011-04-08T00:00:00\",\"2011-04-15T00:00:00\",\"2011-04-21T00:00:00\",\"2011-04-29T00:00:00\",\"2011-05-06T00:00:00\",\"2011-05-13T00:00:00\",\"2011-05-20T00:00:00\",\"2011-05-27T00:00:00\",\"2011-06-03T00:00:00\",\"2011-06-10T00:00:00\",\"2011-06-17T00:00:00\",\"2011-06-24T00:00:00\"],\"xaxis\":\"x\",\"y\":[4.63801,-0.0651749,-4.7557,-0.70247,6.34668,-1.91728,-3.13752,-0.0228676,0.957592,0.706794,1.87709,-0.395257,1.46898,-0.237274,2.74809,4.00509,1.68118,-1.13863,3.58155,0.768624,-4.10586,-2.82923,1.12594,-0.0206825,7.93978],\"yaxis\":\"y\",\"type\":\"scatter\"},{\"hovertemplate\":\"stock=BAC<br>Date=%{x}<br>% Change=%{y}<extra></extra>\",\"legendgroup\":\"BAC\",\"line\":{\"color\":\"rgb(55,126,184)\",\"dash\":\"solid\"},\"marker\":{\"symbol\":\"circle\"},\"mode\":\"lines+markers\",\"name\":\"BAC\",\"orientation\":\"v\",\"showlegend\":true,\"x\":[\"2011-01-07T00:00:00\",\"2011-01-14T00:00:00\",\"2011-01-21T00:00:00\",\"2011-01-28T00:00:00\",\"2011-02-04T00:00:00\",\"2011-02-11T00:00:00\",\"2011-02-18T00:00:00\",\"2011-02-25T00:00:00\",\"2011-03-04T00:00:00\",\"2011-03-11T00:00:00\",\"2011-03-18T00:00:00\",\"2011-03-25T00:00:00\",\"2011-04-01T00:00:00\",\"2011-04-08T00:00:00\",\"2011-04-15T00:00:00\",\"2011-04-21T00:00:00\",\"2011-04-29T00:00:00\",\"2011-05-06T00:00:00\",\"2011-05-13T00:00:00\",\"2011-05-20T00:00:00\",\"2011-05-27T00:00:00\",\"2011-06-03T00:00:00\",\"2011-06-10T00:00:00\",\"2011-06-17T00:00:00\",\"2011-06-24T00:00:00\"],\"xaxis\":\"x\",\"y\":[7.62174,-5.50398,-4.5614,4.23049,1.79187,-0.13541,-1.25174,-1.05116,1.41044,-1.54278,-6.05634,-0.372578,0.597015,-5.03704,-2.22399,-0.324675,-0.404531,-2.85016,-2.60723,1.91805,-4.97051,-3.39893,-1.92837,-0.661001,5.41825],\"yaxis\":\"y\",\"type\":\"scatter\"},{\"hovertemplate\":\"stock=DIS<br>Date=%{x}<br>% Change=%{y}<extra></extra>\",\"legendgroup\":\"DIS\",\"line\":{\"color\":\"rgb(77,175,74)\",\"dash\":\"solid\"},\"marker\":{\"symbol\":\"circle\"},\"mode\":\"lines+markers\",\"name\":\"DIS\",\"orientation\":\"v\",\"showlegend\":true,\"x\":[\"2011-01-07T00:00:00\",\"2011-01-14T00:00:00\",\"2011-01-21T00:00:00\",\"2011-01-28T00:00:00\",\"2011-02-04T00:00:00\",\"2011-02-11T00:00:00\",\"2011-02-18T00:00:00\",\"2011-02-25T00:00:00\",\"2011-03-04T00:00:00\",\"2011-03-11T00:00:00\",\"2011-03-18T00:00:00\",\"2011-03-25T00:00:00\",\"2011-04-01T00:00:00\",\"2011-04-08T00:00:00\",\"2011-04-15T00:00:00\",\"2011-04-21T00:00:00\",\"2011-04-29T00:00:00\",\"2011-05-06T00:00:00\",\"2011-05-13T00:00:00\",\"2011-05-20T00:00:00\",\"2011-05-27T00:00:00\",\"2011-06-03T00:00:00\",\"2011-06-10T00:00:00\",\"2011-06-17T00:00:00\",\"2011-06-24T00:00:00\"],\"xaxis\":\"x\",\"y\":[0.717765,1.71487,-1.99294,4.27766,6.39706,0.85668,0.280177,1.23199,-1.37836,-3.30675,3.64206,-0.787219,-2.58922,-0.574713,3.17305,1.79499,-0.943179,-4.15512,0.581677,0.899149,-6.01432,-1.73558,-1.52731,-0.713342,5.58214],\"yaxis\":\"y\",\"type\":\"scatter\"},{\"hovertemplate\":\"stock=HD<br>Date=%{x}<br>% Change=%{y}<extra></extra>\",\"legendgroup\":\"HD\",\"line\":{\"color\":\"rgb(152,78,163)\",\"dash\":\"solid\"},\"marker\":{\"symbol\":\"circle\"},\"mode\":\"lines+markers\",\"name\":\"HD\",\"orientation\":\"v\",\"showlegend\":true,\"x\":[\"2011-01-07T00:00:00\",\"2011-01-14T00:00:00\",\"2011-01-21T00:00:00\",\"2011-01-28T00:00:00\",\"2011-02-04T00:00:00\",\"2011-02-11T00:00:00\",\"2011-02-18T00:00:00\",\"2011-02-25T00:00:00\",\"2011-03-04T00:00:00\",\"2011-03-11T00:00:00\",\"2011-03-18T00:00:00\",\"2011-03-25T00:00:00\",\"2011-04-01T00:00:00\",\"2011-04-08T00:00:00\",\"2011-04-15T00:00:00\",\"2011-04-21T00:00:00\",\"2011-04-29T00:00:00\",\"2011-05-06T00:00:00\",\"2011-05-13T00:00:00\",\"2011-05-20T00:00:00\",\"2011-05-27T00:00:00\",\"2011-06-03T00:00:00\",\"2011-06-10T00:00:00\",\"2011-06-17T00:00:00\",\"2011-06-24T00:00:00\"],\"xaxis\":\"x\",\"y\":[5.0644,1.50125,0.658256,-0.888769,1.84783,2.69549,-5.64885,0.188425,-0.322061,-2.49187,3.11381,0.266951,-0.0533618,1.92256,0.265252,-1.22308,-1.20192,0.216626,0.981194,0.0,-4.28413,-3.06979,3.19785,2.30388,4.85298],\"yaxis\":\"y\",\"type\":\"scatter\"},{\"hovertemplate\":\"stock=JPM<br>Date=%{x}<br>% Change=%{y}<extra></extra>\",\"legendgroup\":\"JPM\",\"line\":{\"color\":\"rgb(255,127,0)\",\"dash\":\"solid\"},\"marker\":{\"symbol\":\"circle\"},\"mode\":\"lines+markers\",\"name\":\"JPM\",\"orientation\":\"v\",\"showlegend\":true,\"x\":[\"2011-01-07T00:00:00\",\"2011-01-14T00:00:00\",\"2011-01-21T00:00:00\",\"2011-01-28T00:00:00\",\"2011-02-04T00:00:00\",\"2011-02-11T00:00:00\",\"2011-02-18T00:00:00\",\"2011-02-25T00:00:00\",\"2011-03-04T00:00:00\",\"2011-03-11T00:00:00\",\"2011-03-18T00:00:00\",\"2011-03-25T00:00:00\",\"2011-04-01T00:00:00\",\"2011-04-08T00:00:00\",\"2011-04-15T00:00:00\",\"2011-04-21T00:00:00\",\"2011-04-29T00:00:00\",\"2011-05-06T00:00:00\",\"2011-05-13T00:00:00\",\"2011-05-20T00:00:00\",\"2011-05-27T00:00:00\",\"2011-06-03T00:00:00\",\"2011-06-10T00:00:00\",\"2011-06-17T00:00:00\",\"2011-06-24T00:00:00\"],\"xaxis\":\"x\",\"y\":[3.79015,0.599733,-1.48197,0.405314,4.06704,4.34783,-1.10169,-2.75582,0.263043,0.704535,-0.907519,0.542299,1.56114,-4.48936,0.926135,2.19485,-1.95908,-3.57542,0.372353,0.919811,-3.86216,-0.121655,-1.18673,-2.49383,5.53299],\"yaxis\":\"y\",\"type\":\"scatter\"},{\"hovertemplate\":\"stock=KRFT<br>Date=%{x}<br>% Change=%{y}<extra></extra>\",\"legendgroup\":\"KRFT\",\"line\":{\"color\":\"rgb(255,255,51)\",\"dash\":\"solid\"},\"marker\":{\"symbol\":\"circle\"},\"mode\":\"lines+markers\",\"name\":\"KRFT\",\"orientation\":\"v\",\"showlegend\":true,\"x\":[\"2011-01-07T00:00:00\",\"2011-01-14T00:00:00\",\"2011-01-21T00:00:00\",\"2011-01-28T00:00:00\",\"2011-02-04T00:00:00\",\"2011-02-11T00:00:00\",\"2011-02-18T00:00:00\",\"2011-02-25T00:00:00\",\"2011-03-04T00:00:00\",\"2011-03-11T00:00:00\",\"2011-03-18T00:00:00\",\"2011-03-25T00:00:00\",\"2011-04-01T00:00:00\",\"2011-04-08T00:00:00\",\"2011-04-15T00:00:00\",\"2011-04-21T00:00:00\",\"2011-04-29T00:00:00\",\"2011-05-06T00:00:00\",\"2011-05-13T00:00:00\",\"2011-05-20T00:00:00\",\"2011-05-27T00:00:00\",\"2011-06-03T00:00:00\",\"2011-06-10T00:00:00\",\"2011-06-17T00:00:00\",\"2011-06-24T00:00:00\"],\"xaxis\":\"x\",\"y\":[1.39114,-0.191022,-2.73973,2.16181,-1.66774,0.782524,3.22266,-0.754243,0.443599,-1.65027,1.55945,0.829346,-0.126143,5.13709,2.01711,0.418535,1.42857,3.19432,1.1194,-0.629111,-1.98333,-0.821837,1.65094,0.610643,2.48483],\"yaxis\":\"y\",\"type\":\"scatter\"},{\"hovertemplate\":\"stock=MCD<br>Date=%{x}<br>% Change=%{y}<extra></extra>\",\"legendgroup\":\"MCD\",\"line\":{\"color\":\"rgb(166,86,40)\",\"dash\":\"solid\"},\"marker\":{\"symbol\":\"circle\"},\"mode\":\"lines+markers\",\"name\":\"MCD\",\"orientation\":\"v\",\"showlegend\":true,\"x\":[\"2011-01-07T00:00:00\",\"2011-01-14T00:00:00\",\"2011-01-21T00:00:00\",\"2011-01-28T00:00:00\",\"2011-02-04T00:00:00\",\"2011-02-11T00:00:00\",\"2011-02-18T00:00:00\",\"2011-02-25T00:00:00\",\"2011-03-04T00:00:00\",\"2011-03-11T00:00:00\",\"2011-03-18T00:00:00\",\"2011-03-25T00:00:00\",\"2011-04-01T00:00:00\",\"2011-04-08T00:00:00\",\"2011-04-15T00:00:00\",\"2011-04-21T00:00:00\",\"2011-04-29T00:00:00\",\"2011-05-06T00:00:00\",\"2011-05-13T00:00:00\",\"2011-05-20T00:00:00\",\"2011-05-27T00:00:00\",\"2011-06-03T00:00:00\",\"2011-06-10T00:00:00\",\"2011-06-17T00:00:00\",\"2011-06-24T00:00:00\"],\"xaxis\":\"x\",\"y\":[-0.255892,0.482251,-1.3064,0.338753,2.71145,0.0788747,-1.98815,2.03999,0.458235,-4.08673,2.38095,0.582396,-0.35382,1.61523,0.0260112,1.50356,0.382653,1.61087,2.34958,0.110389,-1.93596,-0.297767,2.59853,-0.58309,5.07913],\"yaxis\":\"y\",\"type\":\"scatter\"},{\"hovertemplate\":\"stock=MRK<br>Date=%{x}<br>% Change=%{y}<extra></extra>\",\"legendgroup\":\"MRK\",\"line\":{\"color\":\"rgb(247,129,191)\",\"dash\":\"solid\"},\"marker\":{\"symbol\":\"circle\"},\"mode\":\"lines+markers\",\"name\":\"MRK\",\"orientation\":\"v\",\"showlegend\":true,\"x\":[\"2011-01-07T00:00:00\",\"2011-01-14T00:00:00\",\"2011-01-21T00:00:00\",\"2011-01-28T00:00:00\",\"2011-02-04T00:00:00\",\"2011-02-11T00:00:00\",\"2011-02-18T00:00:00\",\"2011-02-25T00:00:00\",\"2011-03-04T00:00:00\",\"2011-03-11T00:00:00\",\"2011-03-18T00:00:00\",\"2011-03-25T00:00:00\",\"2011-04-01T00:00:00\",\"2011-04-08T00:00:00\",\"2011-04-15T00:00:00\",\"2011-04-21T00:00:00\",\"2011-04-29T00:00:00\",\"2011-05-06T00:00:00\",\"2011-05-13T00:00:00\",\"2011-05-20T00:00:00\",\"2011-05-27T00:00:00\",\"2011-06-03T00:00:00\",\"2011-06-10T00:00:00\",\"2011-06-17T00:00:00\",\"2011-06-24T00:00:00\"],\"xaxis\":\"x\",\"y\":[-8.13204,-0.498973,-2.70668,-1.20156,0.394657,-0.363967,-1.70992,2.67081,-0.818182,-1.81538,1.49579,1.62876,0.989802,2.46437,-0.467836,6.67656,-0.137212,2.68624,0.0,-1.25443,-1.56636,-0.70028,1.02769,-2.09691,2.89017],\"yaxis\":\"y\",\"type\":\"scatter\"},{\"hovertemplate\":\"stock=PFE<br>Date=%{x}<br>% Change=%{y}<extra></extra>\",\"legendgroup\":\"PFE\",\"line\":{\"color\":\"rgb(153,153,153)\",\"dash\":\"solid\"},\"marker\":{\"symbol\":\"circle\"},\"mode\":\"lines+markers\",\"name\":\"PFE\",\"orientation\":\"v\",\"showlegend\":true,\"x\":[\"2011-01-07T00:00:00\",\"2011-01-14T00:00:00\",\"2011-01-21T00:00:00\",\"2011-01-28T00:00:00\",\"2011-02-04T00:00:00\",\"2011-02-11T00:00:00\",\"2011-02-18T00:00:00\",\"2011-02-25T00:00:00\",\"2011-03-04T00:00:00\",\"2011-03-11T00:00:00\",\"2011-03-18T00:00:00\",\"2011-03-25T00:00:00\",\"2011-04-01T00:00:00\",\"2011-04-08T00:00:00\",\"2011-04-15T00:00:00\",\"2011-04-21T00:00:00\",\"2011-04-29T00:00:00\",\"2011-05-06T00:00:00\",\"2011-05-13T00:00:00\",\"2011-05-20T00:00:00\",\"2011-05-27T00:00:00\",\"2011-06-03T00:00:00\",\"2011-06-10T00:00:00\",\"2011-06-17T00:00:00\",\"2011-06-24T00:00:00\"],\"xaxis\":\"x\",\"y\":[0.658617,0.0544959,-0.981997,6.10225,-2.28334,1.96599,-0.105932,3.7467,-0.86558,3.75321,0.147638,-0.195886,-0.437956,-0.0973236,-2.60827,5.11278,-2.79092,1.89966,-0.71977,2.14739,-0.761905,-3.41018,0.896414,-0.049776,3.23383],\"yaxis\":\"y\",\"type\":\"scatter\"},{\"hovertemplate\":\"stock=PG<br>Date=%{x}<br>% Change=%{y}<extra></extra>\",\"legendgroup\":\"PG\",\"line\":{\"color\":\"rgb(228,26,28)\",\"dash\":\"solid\"},\"marker\":{\"symbol\":\"circle\"},\"mode\":\"lines+markers\",\"name\":\"PG\",\"orientation\":\"v\",\"showlegend\":true,\"x\":[\"2011-01-07T00:00:00\",\"2011-01-14T00:00:00\",\"2011-01-21T00:00:00\",\"2011-01-28T00:00:00\",\"2011-02-04T00:00:00\",\"2011-02-11T00:00:00\",\"2011-02-18T00:00:00\",\"2011-02-25T00:00:00\",\"2011-03-04T00:00:00\",\"2011-03-11T00:00:00\",\"2011-03-18T00:00:00\",\"2011-03-25T00:00:00\",\"2011-04-01T00:00:00\",\"2011-04-08T00:00:00\",\"2011-04-15T00:00:00\",\"2011-04-21T00:00:00\",\"2011-04-29T00:00:00\",\"2011-05-06T00:00:00\",\"2011-05-13T00:00:00\",\"2011-05-20T00:00:00\",\"2011-05-27T00:00:00\",\"2011-06-03T00:00:00\",\"2011-06-10T00:00:00\",\"2011-06-17T00:00:00\",\"2011-06-24T00:00:00\"],\"xaxis\":\"x\",\"y\":[1.75466,0.39604,-2.57967,-1.14996,1.2197,-0.771605,-1.39652,-1.22611,-0.822581,-0.720839,-0.131234,1.6372,-0.434293,3.48275,-0.628239,2.88523,0.0459841,2.97243,1.0501,-0.898204,-1.35685,-1.00979,0.0618716,-2.97628,2.40599],\"yaxis\":\"y\",\"type\":\"scatter\"},{\"hovertemplate\":\"stock=TRV<br>Date=%{x}<br>% Change=%{y}<extra></extra>\",\"legendgroup\":\"TRV\",\"line\":{\"color\":\"rgb(55,126,184)\",\"dash\":\"solid\"},\"marker\":{\"symbol\":\"circle\"},\"mode\":\"lines+markers\",\"name\":\"TRV\",\"orientation\":\"v\",\"showlegend\":true,\"x\":[\"2011-01-07T00:00:00\",\"2011-01-14T00:00:00\",\"2011-01-21T00:00:00\",\"2011-01-28T00:00:00\",\"2011-02-04T00:00:00\",\"2011-02-11T00:00:00\",\"2011-02-18T00:00:00\",\"2011-02-25T00:00:00\",\"2011-03-04T00:00:00\",\"2011-03-11T00:00:00\",\"2011-03-18T00:00:00\",\"2011-03-25T00:00:00\",\"2011-04-01T00:00:00\",\"2011-04-08T00:00:00\",\"2011-04-15T00:00:00\",\"2011-04-21T00:00:00\",\"2011-04-29T00:00:00\",\"2011-05-06T00:00:00\",\"2011-05-13T00:00:00\",\"2011-05-20T00:00:00\",\"2011-05-27T00:00:00\",\"2011-06-03T00:00:00\",\"2011-06-10T00:00:00\",\"2011-06-17T00:00:00\",\"2011-06-24T00:00:00\"],\"xaxis\":\"x\",\"y\":[2.84262,0.695716,1.21509,2.86687,2.91347,3.53501,-1.65016,-0.704698,-0.641242,-0.701214,0.924025,1.04925,-0.417851,-0.0835422,3.37154,3.19635,-0.204531,-1.42338,-0.431862,-0.356333,-1.24294,-3.48818,-2.02977,-1.54594,4.01197],\"yaxis\":\"y\",\"type\":\"scatter\"},{\"hovertemplate\":\"stock=WMT<br>Date=%{x}<br>% Change=%{y}<extra></extra>\",\"legendgroup\":\"WMT\",\"line\":{\"color\":\"rgb(77,175,74)\",\"dash\":\"solid\"},\"marker\":{\"symbol\":\"circle\"},\"mode\":\"lines+markers\",\"name\":\"WMT\",\"orientation\":\"v\",\"showlegend\":true,\"x\":[\"2011-01-07T00:00:00\",\"2011-01-14T00:00:00\",\"2011-01-21T00:00:00\",\"2011-01-28T00:00:00\",\"2011-02-04T00:00:00\",\"2011-02-11T00:00:00\",\"2011-02-18T00:00:00\",\"2011-02-25T00:00:00\",\"2011-03-04T00:00:00\",\"2011-03-11T00:00:00\",\"2011-03-18T00:00:00\",\"2011-03-25T00:00:00\",\"2011-04-01T00:00:00\",\"2011-04-08T00:00:00\",\"2011-04-15T00:00:00\",\"2011-04-21T00:00:00\",\"2011-04-29T00:00:00\",\"2011-05-06T00:00:00\",\"2011-05-13T00:00:00\",\"2011-05-20T00:00:00\",\"2011-05-27T00:00:00\",\"2011-06-03T00:00:00\",\"2011-06-10T00:00:00\",\"2011-06-17T00:00:00\",\"2011-06-24T00:00:00\"],\"xaxis\":\"x\",\"y\":[2.16216,1.12502,2.36505,-0.744021,-0.677724,0.217155,-3.82828,0.618357,0.631458,-1.58548,1.19853,-0.344102,0.439686,1.92234,0.941974,2.57463,-0.108932,1.36438,-0.575436,-0.364299,-2.22303,-2.1166,-0.1701,-0.550285,2.27446],\"yaxis\":\"y\",\"type\":\"scatter\"}],                        {\"template\":{\"data\":{\"histogram2dcontour\":[{\"type\":\"histogram2dcontour\",\"colorbar\":{\"outlinewidth\":0,\"ticks\":\"\"},\"colorscale\":[[0.0,\"#0d0887\"],[0.1111111111111111,\"#46039f\"],[0.2222222222222222,\"#7201a8\"],[0.3333333333333333,\"#9c179e\"],[0.4444444444444444,\"#bd3786\"],[0.5555555555555556,\"#d8576b\"],[0.6666666666666666,\"#ed7953\"],[0.7777777777777778,\"#fb9f3a\"],[0.8888888888888888,\"#fdca26\"],[1.0,\"#f0f921\"]]}],\"choropleth\":[{\"type\":\"choropleth\",\"colorbar\":{\"outlinewidth\":0,\"ticks\":\"\"}}],\"histogram2d\":[{\"type\":\"histogram2d\",\"colorbar\":{\"outlinewidth\":0,\"ticks\":\"\"},\"colorscale\":[[0.0,\"#0d0887\"],[0.1111111111111111,\"#46039f\"],[0.2222222222222222,\"#7201a8\"],[0.3333333333333333,\"#9c179e\"],[0.4444444444444444,\"#bd3786\"],[0.5555555555555556,\"#d8576b\"],[0.6666666666666666,\"#ed7953\"],[0.7777777777777778,\"#fb9f3a\"],[0.8888888888888888,\"#fdca26\"],[1.0,\"#f0f921\"]]}],\"heatmap\":[{\"type\":\"heatmap\",\"colorbar\":{\"outlinewidth\":0,\"ticks\":\"\"},\"colorscale\":[[0.0,\"#0d0887\"],[0.1111111111111111,\"#46039f\"],[0.2222222222222222,\"#7201a8\"],[0.3333333333333333,\"#9c179e\"],[0.4444444444444444,\"#bd3786\"],[0.5555555555555556,\"#d8576b\"],[0.6666666666666666,\"#ed7953\"],[0.7777777777777778,\"#fb9f3a\"],[0.8888888888888888,\"#fdca26\"],[1.0,\"#f0f921\"]]}],\"heatmapgl\":[{\"type\":\"heatmapgl\",\"colorbar\":{\"outlinewidth\":0,\"ticks\":\"\"},\"colorscale\":[[0.0,\"#0d0887\"],[0.1111111111111111,\"#46039f\"],[0.2222222222222222,\"#7201a8\"],[0.3333333333333333,\"#9c179e\"],[0.4444444444444444,\"#bd3786\"],[0.5555555555555556,\"#d8576b\"],[0.6666666666666666,\"#ed7953\"],[0.7777777777777778,\"#fb9f3a\"],[0.8888888888888888,\"#fdca26\"],[1.0,\"#f0f921\"]]}],\"contourcarpet\":[{\"type\":\"contourcarpet\",\"colorbar\":{\"outlinewidth\":0,\"ticks\":\"\"}}],\"contour\":[{\"type\":\"contour\",\"colorbar\":{\"outlinewidth\":0,\"ticks\":\"\"},\"colorscale\":[[0.0,\"#0d0887\"],[0.1111111111111111,\"#46039f\"],[0.2222222222222222,\"#7201a8\"],[0.3333333333333333,\"#9c179e\"],[0.4444444444444444,\"#bd3786\"],[0.5555555555555556,\"#d8576b\"],[0.6666666666666666,\"#ed7953\"],[0.7777777777777778,\"#fb9f3a\"],[0.8888888888888888,\"#fdca26\"],[1.0,\"#f0f921\"]]}],\"surface\":[{\"type\":\"surface\",\"colorbar\":{\"outlinewidth\":0,\"ticks\":\"\"},\"colorscale\":[[0.0,\"#0d0887\"],[0.1111111111111111,\"#46039f\"],[0.2222222222222222,\"#7201a8\"],[0.3333333333333333,\"#9c179e\"],[0.4444444444444444,\"#bd3786\"],[0.5555555555555556,\"#d8576b\"],[0.6666666666666666,\"#ed7953\"],[0.7777777777777778,\"#fb9f3a\"],[0.8888888888888888,\"#fdca26\"],[1.0,\"#f0f921\"]]}],\"mesh3d\":[{\"type\":\"mesh3d\",\"colorbar\":{\"outlinewidth\":0,\"ticks\":\"\"}}],\"scatter\":[{\"fillpattern\":{\"fillmode\":\"overlay\",\"size\":10,\"solidity\":0.2},\"type\":\"scatter\"}],\"parcoords\":[{\"type\":\"parcoords\",\"line\":{\"colorbar\":{\"outlinewidth\":0,\"ticks\":\"\"}}}],\"scatterpolargl\":[{\"type\":\"scatterpolargl\",\"marker\":{\"colorbar\":{\"outlinewidth\":0,\"ticks\":\"\"}}}],\"bar\":[{\"error_x\":{\"color\":\"#2a3f5f\"},\"error_y\":{\"color\":\"#2a3f5f\"},\"marker\":{\"line\":{\"color\":\"#E5ECF6\",\"width\":0.5},\"pattern\":{\"fillmode\":\"overlay\",\"size\":10,\"solidity\":0.2}},\"type\":\"bar\"}],\"scattergeo\":[{\"type\":\"scattergeo\",\"marker\":{\"colorbar\":{\"outlinewidth\":0,\"ticks\":\"\"}}}],\"scatterpolar\":[{\"type\":\"scatterpolar\",\"marker\":{\"colorbar\":{\"outlinewidth\":0,\"ticks\":\"\"}}}],\"histogram\":[{\"marker\":{\"pattern\":{\"fillmode\":\"overlay\",\"size\":10,\"solidity\":0.2}},\"type\":\"histogram\"}],\"scattergl\":[{\"type\":\"scattergl\",\"marker\":{\"colorbar\":{\"outlinewidth\":0,\"ticks\":\"\"}}}],\"scatter3d\":[{\"type\":\"scatter3d\",\"line\":{\"colorbar\":{\"outlinewidth\":0,\"ticks\":\"\"}},\"marker\":{\"colorbar\":{\"outlinewidth\":0,\"ticks\":\"\"}}}],\"scattermapbox\":[{\"type\":\"scattermapbox\",\"marker\":{\"colorbar\":{\"outlinewidth\":0,\"ticks\":\"\"}}}],\"scatterternary\":[{\"type\":\"scatterternary\",\"marker\":{\"colorbar\":{\"outlinewidth\":0,\"ticks\":\"\"}}}],\"scattercarpet\":[{\"type\":\"scattercarpet\",\"marker\":{\"colorbar\":{\"outlinewidth\":0,\"ticks\":\"\"}}}],\"carpet\":[{\"aaxis\":{\"endlinecolor\":\"#2a3f5f\",\"gridcolor\":\"white\",\"linecolor\":\"white\",\"minorgridcolor\":\"white\",\"startlinecolor\":\"#2a3f5f\"},\"baxis\":{\"endlinecolor\":\"#2a3f5f\",\"gridcolor\":\"white\",\"linecolor\":\"white\",\"minorgridcolor\":\"white\",\"startlinecolor\":\"#2a3f5f\"},\"type\":\"carpet\"}],\"table\":[{\"cells\":{\"fill\":{\"color\":\"#EBF0F8\"},\"line\":{\"color\":\"white\"}},\"header\":{\"fill\":{\"color\":\"#C8D4E3\"},\"line\":{\"color\":\"white\"}},\"type\":\"table\"}],\"barpolar\":[{\"marker\":{\"line\":{\"color\":\"#E5ECF6\",\"width\":0.5},\"pattern\":{\"fillmode\":\"overlay\",\"size\":10,\"solidity\":0.2}},\"type\":\"barpolar\"}],\"pie\":[{\"automargin\":true,\"type\":\"pie\"}]},\"layout\":{\"autotypenumbers\":\"strict\",\"colorway\":[\"#636efa\",\"#EF553B\",\"#00cc96\",\"#ab63fa\",\"#FFA15A\",\"#19d3f3\",\"#FF6692\",\"#B6E880\",\"#FF97FF\",\"#FECB52\"],\"font\":{\"color\":\"#2a3f5f\"},\"hovermode\":\"closest\",\"hoverlabel\":{\"align\":\"left\"},\"paper_bgcolor\":\"white\",\"plot_bgcolor\":\"#E5ECF6\",\"polar\":{\"bgcolor\":\"#E5ECF6\",\"angularaxis\":{\"gridcolor\":\"white\",\"linecolor\":\"white\",\"ticks\":\"\"},\"radialaxis\":{\"gridcolor\":\"white\",\"linecolor\":\"white\",\"ticks\":\"\"}},\"ternary\":{\"bgcolor\":\"#E5ECF6\",\"aaxis\":{\"gridcolor\":\"white\",\"linecolor\":\"white\",\"ticks\":\"\"},\"baxis\":{\"gridcolor\":\"white\",\"linecolor\":\"white\",\"ticks\":\"\"},\"caxis\":{\"gridcolor\":\"white\",\"linecolor\":\"white\",\"ticks\":\"\"}},\"coloraxis\":{\"colorbar\":{\"outlinewidth\":0,\"ticks\":\"\"}},\"colorscale\":{\"sequential\":[[0.0,\"#0d0887\"],[0.1111111111111111,\"#46039f\"],[0.2222222222222222,\"#7201a8\"],[0.3333333333333333,\"#9c179e\"],[0.4444444444444444,\"#bd3786\"],[0.5555555555555556,\"#d8576b\"],[0.6666666666666666,\"#ed7953\"],[0.7777777777777778,\"#fb9f3a\"],[0.8888888888888888,\"#fdca26\"],[1.0,\"#f0f921\"]],\"sequentialminus\":[[0.0,\"#0d0887\"],[0.1111111111111111,\"#46039f\"],[0.2222222222222222,\"#7201a8\"],[0.3333333333333333,\"#9c179e\"],[0.4444444444444444,\"#bd3786\"],[0.5555555555555556,\"#d8576b\"],[0.6666666666666666,\"#ed7953\"],[0.7777777777777778,\"#fb9f3a\"],[0.8888888888888888,\"#fdca26\"],[1.0,\"#f0f921\"]],\"diverging\":[[0,\"#8e0152\"],[0.1,\"#c51b7d\"],[0.2,\"#de77ae\"],[0.3,\"#f1b6da\"],[0.4,\"#fde0ef\"],[0.5,\"#f7f7f7\"],[0.6,\"#e6f5d0\"],[0.7,\"#b8e186\"],[0.8,\"#7fbc41\"],[0.9,\"#4d9221\"],[1,\"#276419\"]]},\"xaxis\":{\"gridcolor\":\"white\",\"linecolor\":\"white\",\"ticks\":\"\",\"title\":{\"standoff\":15},\"zerolinecolor\":\"white\",\"automargin\":true,\"zerolinewidth\":2},\"yaxis\":{\"gridcolor\":\"white\",\"linecolor\":\"white\",\"ticks\":\"\",\"title\":{\"standoff\":15},\"zerolinecolor\":\"white\",\"automargin\":true,\"zerolinewidth\":2},\"scene\":{\"xaxis\":{\"backgroundcolor\":\"#E5ECF6\",\"gridcolor\":\"white\",\"linecolor\":\"white\",\"showbackground\":true,\"ticks\":\"\",\"zerolinecolor\":\"white\",\"gridwidth\":2},\"yaxis\":{\"backgroundcolor\":\"#E5ECF6\",\"gridcolor\":\"white\",\"linecolor\":\"white\",\"showbackground\":true,\"ticks\":\"\",\"zerolinecolor\":\"white\",\"gridwidth\":2},\"zaxis\":{\"backgroundcolor\":\"#E5ECF6\",\"gridcolor\":\"white\",\"linecolor\":\"white\",\"showbackground\":true,\"ticks\":\"\",\"zerolinecolor\":\"white\",\"gridwidth\":2}},\"shapedefaults\":{\"line\":{\"color\":\"#2a3f5f\"}},\"annotationdefaults\":{\"arrowcolor\":\"#2a3f5f\",\"arrowhead\":0,\"arrowwidth\":1},\"geo\":{\"bgcolor\":\"white\",\"landcolor\":\"#E5ECF6\",\"subunitcolor\":\"white\",\"showland\":true,\"showlakes\":true,\"lakecolor\":\"white\"},\"title\":{\"x\":0.05},\"mapbox\":{\"style\":\"light\"}}},\"xaxis\":{\"anchor\":\"y\",\"domain\":[0.0,1.0],\"title\":{\"text\":\"Date\"}},\"yaxis\":{\"anchor\":\"x\",\"domain\":[0.0,1.0],\"title\":{\"text\":\"% Change\"}},\"legend\":{\"title\":{\"text\":\"Stocks\"},\"tracegroupgap\":0},\"title\":{\"text\":\"Predicted Weekly Price Change from Feb to Jun 2011 in Tertiary Sector\"},\"width\":900,\"height\":800,\"plot_bgcolor\":\"lightgray\"},                        {\"responsive\": true}                    ).then(function(){\n",
       "                            \n",
       "var gd = document.getElementById('d8c706dc-9eb2-4b30-9fbc-b0862560e360');\n",
       "var x = new MutationObserver(function (mutations, observer) {{\n",
       "        var display = window.getComputedStyle(gd).display;\n",
       "        if (!display || display === 'none') {{\n",
       "            console.log([gd, 'removed!']);\n",
       "            Plotly.purge(gd);\n",
       "            observer.disconnect();\n",
       "        }}\n",
       "}});\n",
       "\n",
       "// Listen for the removal of the full notebook cells\n",
       "var notebookContainer = gd.closest('#notebook-container');\n",
       "if (notebookContainer) {{\n",
       "    x.observe(notebookContainer, {childList: true});\n",
       "}}\n",
       "\n",
       "// Listen for the clearing of the current output cell\n",
       "var outputEl = gd.closest('.output');\n",
       "if (outputEl) {{\n",
       "    x.observe(outputEl, {childList: true});\n",
       "}}\n",
       "\n",
       "                        })                };                });            </script>        </div>"
      ]
     },
     "metadata": {},
     "output_type": "display_data"
    }
   ],
   "source": [
    "color_sequence = px.colors.qualitative.Set1\n",
    "\n",
    "\n",
    "\n",
    "fig = px.line(ter_sector_next_wk, \n",
    "              x='date',\n",
    "              y='percent_change_next_weeks_price',\n",
    "              title='Predicted Weekly Price Change from Feb to Jun 2011 in Tertiary Sector',\n",
    "              color='stock',\n",
    "              color_discrete_sequence=color_sequence,\n",
    "              labels={'date': 'Date', 'percent_change_next_weeks_price': '% Change'},\n",
    "             markers=True)\n",
    "fig.update_layout(\n",
    "    width=900,\n",
    "    height=800,\n",
    "plot_bgcolor='lightgray',\n",
    "    legend_title_text='Stocks'\n",
    ")\n",
    "\n",
    "fig.show()"
   ]
  },
  {
   "cell_type": "code",
   "execution_count": 201,
   "id": "6bc106c4",
   "metadata": {},
   "outputs": [
    {
     "data": {
      "application/vnd.plotly.v1+json": {
       "config": {
        "plotlyServerURL": "https://plot.ly"
       },
       "data": [
        {
         "alignmentgroup": "True",
         "hovertemplate": "Companies in Tertiary Sector=%{x}<br>% Change=%{y}<extra></extra>",
         "legendgroup": "AXP",
         "marker": {
          "color": "rgb(228,26,28)",
          "pattern": {
           "shape": ""
          }
         },
         "name": "AXP",
         "offsetgroup": "AXP",
         "orientation": "v",
         "showlegend": true,
         "textposition": "auto",
         "type": "bar",
         "x": [
          "AXP",
          "AXP",
          "AXP",
          "AXP",
          "AXP",
          "AXP",
          "AXP",
          "AXP",
          "AXP",
          "AXP",
          "AXP",
          "AXP",
          "AXP",
          "AXP",
          "AXP",
          "AXP",
          "AXP",
          "AXP",
          "AXP",
          "AXP",
          "AXP",
          "AXP",
          "AXP",
          "AXP",
          "AXP"
         ],
         "xaxis": "x",
         "y": [
          4.63801,
          -0.0651749,
          -4.7557,
          -0.70247,
          6.34668,
          -1.91728,
          -3.13752,
          -0.0228676,
          0.957592,
          0.706794,
          1.87709,
          -0.395257,
          1.46898,
          -0.237274,
          2.74809,
          4.00509,
          1.68118,
          -1.13863,
          3.58155,
          0.768624,
          -4.10586,
          -2.82923,
          1.12594,
          -0.0206825,
          7.93978
         ],
         "yaxis": "y"
        },
        {
         "alignmentgroup": "True",
         "hovertemplate": "Companies in Tertiary Sector=%{x}<br>% Change=%{y}<extra></extra>",
         "legendgroup": "BAC",
         "marker": {
          "color": "rgb(55,126,184)",
          "pattern": {
           "shape": ""
          }
         },
         "name": "BAC",
         "offsetgroup": "BAC",
         "orientation": "v",
         "showlegend": true,
         "textposition": "auto",
         "type": "bar",
         "x": [
          "BAC",
          "BAC",
          "BAC",
          "BAC",
          "BAC",
          "BAC",
          "BAC",
          "BAC",
          "BAC",
          "BAC",
          "BAC",
          "BAC",
          "BAC",
          "BAC",
          "BAC",
          "BAC",
          "BAC",
          "BAC",
          "BAC",
          "BAC",
          "BAC",
          "BAC",
          "BAC",
          "BAC",
          "BAC"
         ],
         "xaxis": "x",
         "y": [
          7.62174,
          -5.50398,
          -4.5614,
          4.23049,
          1.79187,
          -0.13541,
          -1.25174,
          -1.05116,
          1.41044,
          -1.54278,
          -6.05634,
          -0.372578,
          0.597015,
          -5.03704,
          -2.22399,
          -0.324675,
          -0.404531,
          -2.85016,
          -2.60723,
          1.91805,
          -4.97051,
          -3.39893,
          -1.92837,
          -0.661001,
          5.41825
         ],
         "yaxis": "y"
        },
        {
         "alignmentgroup": "True",
         "hovertemplate": "Companies in Tertiary Sector=%{x}<br>% Change=%{y}<extra></extra>",
         "legendgroup": "DIS",
         "marker": {
          "color": "rgb(77,175,74)",
          "pattern": {
           "shape": ""
          }
         },
         "name": "DIS",
         "offsetgroup": "DIS",
         "orientation": "v",
         "showlegend": true,
         "textposition": "auto",
         "type": "bar",
         "x": [
          "DIS",
          "DIS",
          "DIS",
          "DIS",
          "DIS",
          "DIS",
          "DIS",
          "DIS",
          "DIS",
          "DIS",
          "DIS",
          "DIS",
          "DIS",
          "DIS",
          "DIS",
          "DIS",
          "DIS",
          "DIS",
          "DIS",
          "DIS",
          "DIS",
          "DIS",
          "DIS",
          "DIS",
          "DIS"
         ],
         "xaxis": "x",
         "y": [
          0.717765,
          1.71487,
          -1.99294,
          4.27766,
          6.39706,
          0.85668,
          0.280177,
          1.23199,
          -1.37836,
          -3.30675,
          3.64206,
          -0.787219,
          -2.58922,
          -0.574713,
          3.17305,
          1.79499,
          -0.943179,
          -4.15512,
          0.581677,
          0.899149,
          -6.01432,
          -1.73558,
          -1.52731,
          -0.713342,
          5.58214
         ],
         "yaxis": "y"
        },
        {
         "alignmentgroup": "True",
         "hovertemplate": "Companies in Tertiary Sector=%{x}<br>% Change=%{y}<extra></extra>",
         "legendgroup": "HD",
         "marker": {
          "color": "rgb(152,78,163)",
          "pattern": {
           "shape": ""
          }
         },
         "name": "HD",
         "offsetgroup": "HD",
         "orientation": "v",
         "showlegend": true,
         "textposition": "auto",
         "type": "bar",
         "x": [
          "HD",
          "HD",
          "HD",
          "HD",
          "HD",
          "HD",
          "HD",
          "HD",
          "HD",
          "HD",
          "HD",
          "HD",
          "HD",
          "HD",
          "HD",
          "HD",
          "HD",
          "HD",
          "HD",
          "HD",
          "HD",
          "HD",
          "HD",
          "HD",
          "HD"
         ],
         "xaxis": "x",
         "y": [
          5.0644,
          1.50125,
          0.658256,
          -0.888769,
          1.84783,
          2.69549,
          -5.64885,
          0.188425,
          -0.322061,
          -2.49187,
          3.11381,
          0.266951,
          -0.0533618,
          1.92256,
          0.265252,
          -1.22308,
          -1.20192,
          0.216626,
          0.981194,
          0,
          -4.28413,
          -3.06979,
          3.19785,
          2.30388,
          4.85298
         ],
         "yaxis": "y"
        },
        {
         "alignmentgroup": "True",
         "hovertemplate": "Companies in Tertiary Sector=%{x}<br>% Change=%{y}<extra></extra>",
         "legendgroup": "JPM",
         "marker": {
          "color": "rgb(255,127,0)",
          "pattern": {
           "shape": ""
          }
         },
         "name": "JPM",
         "offsetgroup": "JPM",
         "orientation": "v",
         "showlegend": true,
         "textposition": "auto",
         "type": "bar",
         "x": [
          "JPM",
          "JPM",
          "JPM",
          "JPM",
          "JPM",
          "JPM",
          "JPM",
          "JPM",
          "JPM",
          "JPM",
          "JPM",
          "JPM",
          "JPM",
          "JPM",
          "JPM",
          "JPM",
          "JPM",
          "JPM",
          "JPM",
          "JPM",
          "JPM",
          "JPM",
          "JPM",
          "JPM",
          "JPM"
         ],
         "xaxis": "x",
         "y": [
          3.79015,
          0.599733,
          -1.48197,
          0.405314,
          4.06704,
          4.34783,
          -1.10169,
          -2.75582,
          0.263043,
          0.704535,
          -0.907519,
          0.542299,
          1.56114,
          -4.48936,
          0.926135,
          2.19485,
          -1.95908,
          -3.57542,
          0.372353,
          0.919811,
          -3.86216,
          -0.121655,
          -1.18673,
          -2.49383,
          5.53299
         ],
         "yaxis": "y"
        },
        {
         "alignmentgroup": "True",
         "hovertemplate": "Companies in Tertiary Sector=%{x}<br>% Change=%{y}<extra></extra>",
         "legendgroup": "KRFT",
         "marker": {
          "color": "rgb(255,255,51)",
          "pattern": {
           "shape": ""
          }
         },
         "name": "KRFT",
         "offsetgroup": "KRFT",
         "orientation": "v",
         "showlegend": true,
         "textposition": "auto",
         "type": "bar",
         "x": [
          "KRFT",
          "KRFT",
          "KRFT",
          "KRFT",
          "KRFT",
          "KRFT",
          "KRFT",
          "KRFT",
          "KRFT",
          "KRFT",
          "KRFT",
          "KRFT",
          "KRFT",
          "KRFT",
          "KRFT",
          "KRFT",
          "KRFT",
          "KRFT",
          "KRFT",
          "KRFT",
          "KRFT",
          "KRFT",
          "KRFT",
          "KRFT",
          "KRFT"
         ],
         "xaxis": "x",
         "y": [
          1.39114,
          -0.191022,
          -2.73973,
          2.16181,
          -1.66774,
          0.782524,
          3.22266,
          -0.754243,
          0.443599,
          -1.65027,
          1.55945,
          0.829346,
          -0.126143,
          5.13709,
          2.01711,
          0.418535,
          1.42857,
          3.19432,
          1.1194,
          -0.629111,
          -1.98333,
          -0.821837,
          1.65094,
          0.610643,
          2.48483
         ],
         "yaxis": "y"
        },
        {
         "alignmentgroup": "True",
         "hovertemplate": "Companies in Tertiary Sector=%{x}<br>% Change=%{y}<extra></extra>",
         "legendgroup": "MCD",
         "marker": {
          "color": "rgb(166,86,40)",
          "pattern": {
           "shape": ""
          }
         },
         "name": "MCD",
         "offsetgroup": "MCD",
         "orientation": "v",
         "showlegend": true,
         "textposition": "auto",
         "type": "bar",
         "x": [
          "MCD",
          "MCD",
          "MCD",
          "MCD",
          "MCD",
          "MCD",
          "MCD",
          "MCD",
          "MCD",
          "MCD",
          "MCD",
          "MCD",
          "MCD",
          "MCD",
          "MCD",
          "MCD",
          "MCD",
          "MCD",
          "MCD",
          "MCD",
          "MCD",
          "MCD",
          "MCD",
          "MCD",
          "MCD"
         ],
         "xaxis": "x",
         "y": [
          -0.255892,
          0.482251,
          -1.3064,
          0.338753,
          2.71145,
          0.0788747,
          -1.98815,
          2.03999,
          0.458235,
          -4.08673,
          2.38095,
          0.582396,
          -0.35382,
          1.61523,
          0.0260112,
          1.50356,
          0.382653,
          1.61087,
          2.34958,
          0.110389,
          -1.93596,
          -0.297767,
          2.59853,
          -0.58309,
          5.07913
         ],
         "yaxis": "y"
        },
        {
         "alignmentgroup": "True",
         "hovertemplate": "Companies in Tertiary Sector=%{x}<br>% Change=%{y}<extra></extra>",
         "legendgroup": "MRK",
         "marker": {
          "color": "rgb(247,129,191)",
          "pattern": {
           "shape": ""
          }
         },
         "name": "MRK",
         "offsetgroup": "MRK",
         "orientation": "v",
         "showlegend": true,
         "textposition": "auto",
         "type": "bar",
         "x": [
          "MRK",
          "MRK",
          "MRK",
          "MRK",
          "MRK",
          "MRK",
          "MRK",
          "MRK",
          "MRK",
          "MRK",
          "MRK",
          "MRK",
          "MRK",
          "MRK",
          "MRK",
          "MRK",
          "MRK",
          "MRK",
          "MRK",
          "MRK",
          "MRK",
          "MRK",
          "MRK",
          "MRK",
          "MRK"
         ],
         "xaxis": "x",
         "y": [
          -8.13204,
          -0.498973,
          -2.70668,
          -1.20156,
          0.394657,
          -0.363967,
          -1.70992,
          2.67081,
          -0.818182,
          -1.81538,
          1.49579,
          1.62876,
          0.989802,
          2.46437,
          -0.467836,
          6.67656,
          -0.137212,
          2.68624,
          0,
          -1.25443,
          -1.56636,
          -0.70028,
          1.02769,
          -2.09691,
          2.89017
         ],
         "yaxis": "y"
        },
        {
         "alignmentgroup": "True",
         "hovertemplate": "Companies in Tertiary Sector=%{x}<br>% Change=%{y}<extra></extra>",
         "legendgroup": "PFE",
         "marker": {
          "color": "rgb(153,153,153)",
          "pattern": {
           "shape": ""
          }
         },
         "name": "PFE",
         "offsetgroup": "PFE",
         "orientation": "v",
         "showlegend": true,
         "textposition": "auto",
         "type": "bar",
         "x": [
          "PFE",
          "PFE",
          "PFE",
          "PFE",
          "PFE",
          "PFE",
          "PFE",
          "PFE",
          "PFE",
          "PFE",
          "PFE",
          "PFE",
          "PFE",
          "PFE",
          "PFE",
          "PFE",
          "PFE",
          "PFE",
          "PFE",
          "PFE",
          "PFE",
          "PFE",
          "PFE",
          "PFE",
          "PFE"
         ],
         "xaxis": "x",
         "y": [
          0.658617,
          0.0544959,
          -0.981997,
          6.10225,
          -2.28334,
          1.96599,
          -0.105932,
          3.7467,
          -0.86558,
          3.75321,
          0.147638,
          -0.195886,
          -0.437956,
          -0.0973236,
          -2.60827,
          5.11278,
          -2.79092,
          1.89966,
          -0.71977,
          2.14739,
          -0.761905,
          -3.41018,
          0.896414,
          -0.049776,
          3.23383
         ],
         "yaxis": "y"
        },
        {
         "alignmentgroup": "True",
         "hovertemplate": "Companies in Tertiary Sector=%{x}<br>% Change=%{y}<extra></extra>",
         "legendgroup": "PG",
         "marker": {
          "color": "rgb(228,26,28)",
          "pattern": {
           "shape": ""
          }
         },
         "name": "PG",
         "offsetgroup": "PG",
         "orientation": "v",
         "showlegend": true,
         "textposition": "auto",
         "type": "bar",
         "x": [
          "PG",
          "PG",
          "PG",
          "PG",
          "PG",
          "PG",
          "PG",
          "PG",
          "PG",
          "PG",
          "PG",
          "PG",
          "PG",
          "PG",
          "PG",
          "PG",
          "PG",
          "PG",
          "PG",
          "PG",
          "PG",
          "PG",
          "PG",
          "PG",
          "PG"
         ],
         "xaxis": "x",
         "y": [
          1.75466,
          0.39604,
          -2.57967,
          -1.14996,
          1.2197,
          -0.771605,
          -1.39652,
          -1.22611,
          -0.822581,
          -0.720839,
          -0.131234,
          1.6372,
          -0.434293,
          3.48275,
          -0.628239,
          2.88523,
          0.0459841,
          2.97243,
          1.0501,
          -0.898204,
          -1.35685,
          -1.00979,
          0.0618716,
          -2.97628,
          2.40599
         ],
         "yaxis": "y"
        },
        {
         "alignmentgroup": "True",
         "hovertemplate": "Companies in Tertiary Sector=%{x}<br>% Change=%{y}<extra></extra>",
         "legendgroup": "TRV",
         "marker": {
          "color": "rgb(55,126,184)",
          "pattern": {
           "shape": ""
          }
         },
         "name": "TRV",
         "offsetgroup": "TRV",
         "orientation": "v",
         "showlegend": true,
         "textposition": "auto",
         "type": "bar",
         "x": [
          "TRV",
          "TRV",
          "TRV",
          "TRV",
          "TRV",
          "TRV",
          "TRV",
          "TRV",
          "TRV",
          "TRV",
          "TRV",
          "TRV",
          "TRV",
          "TRV",
          "TRV",
          "TRV",
          "TRV",
          "TRV",
          "TRV",
          "TRV",
          "TRV",
          "TRV",
          "TRV",
          "TRV",
          "TRV"
         ],
         "xaxis": "x",
         "y": [
          2.84262,
          0.695716,
          1.21509,
          2.86687,
          2.91347,
          3.53501,
          -1.65016,
          -0.704698,
          -0.641242,
          -0.701214,
          0.924025,
          1.04925,
          -0.417851,
          -0.0835422,
          3.37154,
          3.19635,
          -0.204531,
          -1.42338,
          -0.431862,
          -0.356333,
          -1.24294,
          -3.48818,
          -2.02977,
          -1.54594,
          4.01197
         ],
         "yaxis": "y"
        },
        {
         "alignmentgroup": "True",
         "hovertemplate": "Companies in Tertiary Sector=%{x}<br>% Change=%{y}<extra></extra>",
         "legendgroup": "WMT",
         "marker": {
          "color": "rgb(77,175,74)",
          "pattern": {
           "shape": ""
          }
         },
         "name": "WMT",
         "offsetgroup": "WMT",
         "orientation": "v",
         "showlegend": true,
         "textposition": "auto",
         "type": "bar",
         "x": [
          "WMT",
          "WMT",
          "WMT",
          "WMT",
          "WMT",
          "WMT",
          "WMT",
          "WMT",
          "WMT",
          "WMT",
          "WMT",
          "WMT",
          "WMT",
          "WMT",
          "WMT",
          "WMT",
          "WMT",
          "WMT",
          "WMT",
          "WMT",
          "WMT",
          "WMT",
          "WMT",
          "WMT",
          "WMT"
         ],
         "xaxis": "x",
         "y": [
          2.16216,
          1.12502,
          2.36505,
          -0.744021,
          -0.677724,
          0.217155,
          -3.82828,
          0.618357,
          0.631458,
          -1.58548,
          1.19853,
          -0.344102,
          0.439686,
          1.92234,
          0.941974,
          2.57463,
          -0.108932,
          1.36438,
          -0.575436,
          -0.364299,
          -2.22303,
          -2.1166,
          -0.1701,
          -0.550285,
          2.27446
         ],
         "yaxis": "y"
        }
       ],
       "layout": {
        "barmode": "relative",
        "legend": {
         "title": {
          "text": "Stocks"
         },
         "tracegroupgap": 0
        },
        "plot_bgcolor": "lightgray",
        "template": {
         "data": {
          "bar": [
           {
            "error_x": {
             "color": "#2a3f5f"
            },
            "error_y": {
             "color": "#2a3f5f"
            },
            "marker": {
             "line": {
              "color": "#E5ECF6",
              "width": 0.5
             },
             "pattern": {
              "fillmode": "overlay",
              "size": 10,
              "solidity": 0.2
             }
            },
            "type": "bar"
           }
          ],
          "barpolar": [
           {
            "marker": {
             "line": {
              "color": "#E5ECF6",
              "width": 0.5
             },
             "pattern": {
              "fillmode": "overlay",
              "size": 10,
              "solidity": 0.2
             }
            },
            "type": "barpolar"
           }
          ],
          "carpet": [
           {
            "aaxis": {
             "endlinecolor": "#2a3f5f",
             "gridcolor": "white",
             "linecolor": "white",
             "minorgridcolor": "white",
             "startlinecolor": "#2a3f5f"
            },
            "baxis": {
             "endlinecolor": "#2a3f5f",
             "gridcolor": "white",
             "linecolor": "white",
             "minorgridcolor": "white",
             "startlinecolor": "#2a3f5f"
            },
            "type": "carpet"
           }
          ],
          "choropleth": [
           {
            "colorbar": {
             "outlinewidth": 0,
             "ticks": ""
            },
            "type": "choropleth"
           }
          ],
          "contour": [
           {
            "colorbar": {
             "outlinewidth": 0,
             "ticks": ""
            },
            "colorscale": [
             [
              0,
              "#0d0887"
             ],
             [
              0.1111111111111111,
              "#46039f"
             ],
             [
              0.2222222222222222,
              "#7201a8"
             ],
             [
              0.3333333333333333,
              "#9c179e"
             ],
             [
              0.4444444444444444,
              "#bd3786"
             ],
             [
              0.5555555555555556,
              "#d8576b"
             ],
             [
              0.6666666666666666,
              "#ed7953"
             ],
             [
              0.7777777777777778,
              "#fb9f3a"
             ],
             [
              0.8888888888888888,
              "#fdca26"
             ],
             [
              1,
              "#f0f921"
             ]
            ],
            "type": "contour"
           }
          ],
          "contourcarpet": [
           {
            "colorbar": {
             "outlinewidth": 0,
             "ticks": ""
            },
            "type": "contourcarpet"
           }
          ],
          "heatmap": [
           {
            "colorbar": {
             "outlinewidth": 0,
             "ticks": ""
            },
            "colorscale": [
             [
              0,
              "#0d0887"
             ],
             [
              0.1111111111111111,
              "#46039f"
             ],
             [
              0.2222222222222222,
              "#7201a8"
             ],
             [
              0.3333333333333333,
              "#9c179e"
             ],
             [
              0.4444444444444444,
              "#bd3786"
             ],
             [
              0.5555555555555556,
              "#d8576b"
             ],
             [
              0.6666666666666666,
              "#ed7953"
             ],
             [
              0.7777777777777778,
              "#fb9f3a"
             ],
             [
              0.8888888888888888,
              "#fdca26"
             ],
             [
              1,
              "#f0f921"
             ]
            ],
            "type": "heatmap"
           }
          ],
          "heatmapgl": [
           {
            "colorbar": {
             "outlinewidth": 0,
             "ticks": ""
            },
            "colorscale": [
             [
              0,
              "#0d0887"
             ],
             [
              0.1111111111111111,
              "#46039f"
             ],
             [
              0.2222222222222222,
              "#7201a8"
             ],
             [
              0.3333333333333333,
              "#9c179e"
             ],
             [
              0.4444444444444444,
              "#bd3786"
             ],
             [
              0.5555555555555556,
              "#d8576b"
             ],
             [
              0.6666666666666666,
              "#ed7953"
             ],
             [
              0.7777777777777778,
              "#fb9f3a"
             ],
             [
              0.8888888888888888,
              "#fdca26"
             ],
             [
              1,
              "#f0f921"
             ]
            ],
            "type": "heatmapgl"
           }
          ],
          "histogram": [
           {
            "marker": {
             "pattern": {
              "fillmode": "overlay",
              "size": 10,
              "solidity": 0.2
             }
            },
            "type": "histogram"
           }
          ],
          "histogram2d": [
           {
            "colorbar": {
             "outlinewidth": 0,
             "ticks": ""
            },
            "colorscale": [
             [
              0,
              "#0d0887"
             ],
             [
              0.1111111111111111,
              "#46039f"
             ],
             [
              0.2222222222222222,
              "#7201a8"
             ],
             [
              0.3333333333333333,
              "#9c179e"
             ],
             [
              0.4444444444444444,
              "#bd3786"
             ],
             [
              0.5555555555555556,
              "#d8576b"
             ],
             [
              0.6666666666666666,
              "#ed7953"
             ],
             [
              0.7777777777777778,
              "#fb9f3a"
             ],
             [
              0.8888888888888888,
              "#fdca26"
             ],
             [
              1,
              "#f0f921"
             ]
            ],
            "type": "histogram2d"
           }
          ],
          "histogram2dcontour": [
           {
            "colorbar": {
             "outlinewidth": 0,
             "ticks": ""
            },
            "colorscale": [
             [
              0,
              "#0d0887"
             ],
             [
              0.1111111111111111,
              "#46039f"
             ],
             [
              0.2222222222222222,
              "#7201a8"
             ],
             [
              0.3333333333333333,
              "#9c179e"
             ],
             [
              0.4444444444444444,
              "#bd3786"
             ],
             [
              0.5555555555555556,
              "#d8576b"
             ],
             [
              0.6666666666666666,
              "#ed7953"
             ],
             [
              0.7777777777777778,
              "#fb9f3a"
             ],
             [
              0.8888888888888888,
              "#fdca26"
             ],
             [
              1,
              "#f0f921"
             ]
            ],
            "type": "histogram2dcontour"
           }
          ],
          "mesh3d": [
           {
            "colorbar": {
             "outlinewidth": 0,
             "ticks": ""
            },
            "type": "mesh3d"
           }
          ],
          "parcoords": [
           {
            "line": {
             "colorbar": {
              "outlinewidth": 0,
              "ticks": ""
             }
            },
            "type": "parcoords"
           }
          ],
          "pie": [
           {
            "automargin": true,
            "type": "pie"
           }
          ],
          "scatter": [
           {
            "fillpattern": {
             "fillmode": "overlay",
             "size": 10,
             "solidity": 0.2
            },
            "type": "scatter"
           }
          ],
          "scatter3d": [
           {
            "line": {
             "colorbar": {
              "outlinewidth": 0,
              "ticks": ""
             }
            },
            "marker": {
             "colorbar": {
              "outlinewidth": 0,
              "ticks": ""
             }
            },
            "type": "scatter3d"
           }
          ],
          "scattercarpet": [
           {
            "marker": {
             "colorbar": {
              "outlinewidth": 0,
              "ticks": ""
             }
            },
            "type": "scattercarpet"
           }
          ],
          "scattergeo": [
           {
            "marker": {
             "colorbar": {
              "outlinewidth": 0,
              "ticks": ""
             }
            },
            "type": "scattergeo"
           }
          ],
          "scattergl": [
           {
            "marker": {
             "colorbar": {
              "outlinewidth": 0,
              "ticks": ""
             }
            },
            "type": "scattergl"
           }
          ],
          "scattermapbox": [
           {
            "marker": {
             "colorbar": {
              "outlinewidth": 0,
              "ticks": ""
             }
            },
            "type": "scattermapbox"
           }
          ],
          "scatterpolar": [
           {
            "marker": {
             "colorbar": {
              "outlinewidth": 0,
              "ticks": ""
             }
            },
            "type": "scatterpolar"
           }
          ],
          "scatterpolargl": [
           {
            "marker": {
             "colorbar": {
              "outlinewidth": 0,
              "ticks": ""
             }
            },
            "type": "scatterpolargl"
           }
          ],
          "scatterternary": [
           {
            "marker": {
             "colorbar": {
              "outlinewidth": 0,
              "ticks": ""
             }
            },
            "type": "scatterternary"
           }
          ],
          "surface": [
           {
            "colorbar": {
             "outlinewidth": 0,
             "ticks": ""
            },
            "colorscale": [
             [
              0,
              "#0d0887"
             ],
             [
              0.1111111111111111,
              "#46039f"
             ],
             [
              0.2222222222222222,
              "#7201a8"
             ],
             [
              0.3333333333333333,
              "#9c179e"
             ],
             [
              0.4444444444444444,
              "#bd3786"
             ],
             [
              0.5555555555555556,
              "#d8576b"
             ],
             [
              0.6666666666666666,
              "#ed7953"
             ],
             [
              0.7777777777777778,
              "#fb9f3a"
             ],
             [
              0.8888888888888888,
              "#fdca26"
             ],
             [
              1,
              "#f0f921"
             ]
            ],
            "type": "surface"
           }
          ],
          "table": [
           {
            "cells": {
             "fill": {
              "color": "#EBF0F8"
             },
             "line": {
              "color": "white"
             }
            },
            "header": {
             "fill": {
              "color": "#C8D4E3"
             },
             "line": {
              "color": "white"
             }
            },
            "type": "table"
           }
          ]
         },
         "layout": {
          "annotationdefaults": {
           "arrowcolor": "#2a3f5f",
           "arrowhead": 0,
           "arrowwidth": 1
          },
          "autotypenumbers": "strict",
          "coloraxis": {
           "colorbar": {
            "outlinewidth": 0,
            "ticks": ""
           }
          },
          "colorscale": {
           "diverging": [
            [
             0,
             "#8e0152"
            ],
            [
             0.1,
             "#c51b7d"
            ],
            [
             0.2,
             "#de77ae"
            ],
            [
             0.3,
             "#f1b6da"
            ],
            [
             0.4,
             "#fde0ef"
            ],
            [
             0.5,
             "#f7f7f7"
            ],
            [
             0.6,
             "#e6f5d0"
            ],
            [
             0.7,
             "#b8e186"
            ],
            [
             0.8,
             "#7fbc41"
            ],
            [
             0.9,
             "#4d9221"
            ],
            [
             1,
             "#276419"
            ]
           ],
           "sequential": [
            [
             0,
             "#0d0887"
            ],
            [
             0.1111111111111111,
             "#46039f"
            ],
            [
             0.2222222222222222,
             "#7201a8"
            ],
            [
             0.3333333333333333,
             "#9c179e"
            ],
            [
             0.4444444444444444,
             "#bd3786"
            ],
            [
             0.5555555555555556,
             "#d8576b"
            ],
            [
             0.6666666666666666,
             "#ed7953"
            ],
            [
             0.7777777777777778,
             "#fb9f3a"
            ],
            [
             0.8888888888888888,
             "#fdca26"
            ],
            [
             1,
             "#f0f921"
            ]
           ],
           "sequentialminus": [
            [
             0,
             "#0d0887"
            ],
            [
             0.1111111111111111,
             "#46039f"
            ],
            [
             0.2222222222222222,
             "#7201a8"
            ],
            [
             0.3333333333333333,
             "#9c179e"
            ],
            [
             0.4444444444444444,
             "#bd3786"
            ],
            [
             0.5555555555555556,
             "#d8576b"
            ],
            [
             0.6666666666666666,
             "#ed7953"
            ],
            [
             0.7777777777777778,
             "#fb9f3a"
            ],
            [
             0.8888888888888888,
             "#fdca26"
            ],
            [
             1,
             "#f0f921"
            ]
           ]
          },
          "colorway": [
           "#636efa",
           "#EF553B",
           "#00cc96",
           "#ab63fa",
           "#FFA15A",
           "#19d3f3",
           "#FF6692",
           "#B6E880",
           "#FF97FF",
           "#FECB52"
          ],
          "font": {
           "color": "#2a3f5f"
          },
          "geo": {
           "bgcolor": "white",
           "lakecolor": "white",
           "landcolor": "#E5ECF6",
           "showlakes": true,
           "showland": true,
           "subunitcolor": "white"
          },
          "hoverlabel": {
           "align": "left"
          },
          "hovermode": "closest",
          "mapbox": {
           "style": "light"
          },
          "paper_bgcolor": "white",
          "plot_bgcolor": "#E5ECF6",
          "polar": {
           "angularaxis": {
            "gridcolor": "white",
            "linecolor": "white",
            "ticks": ""
           },
           "bgcolor": "#E5ECF6",
           "radialaxis": {
            "gridcolor": "white",
            "linecolor": "white",
            "ticks": ""
           }
          },
          "scene": {
           "xaxis": {
            "backgroundcolor": "#E5ECF6",
            "gridcolor": "white",
            "gridwidth": 2,
            "linecolor": "white",
            "showbackground": true,
            "ticks": "",
            "zerolinecolor": "white"
           },
           "yaxis": {
            "backgroundcolor": "#E5ECF6",
            "gridcolor": "white",
            "gridwidth": 2,
            "linecolor": "white",
            "showbackground": true,
            "ticks": "",
            "zerolinecolor": "white"
           },
           "zaxis": {
            "backgroundcolor": "#E5ECF6",
            "gridcolor": "white",
            "gridwidth": 2,
            "linecolor": "white",
            "showbackground": true,
            "ticks": "",
            "zerolinecolor": "white"
           }
          },
          "shapedefaults": {
           "line": {
            "color": "#2a3f5f"
           }
          },
          "ternary": {
           "aaxis": {
            "gridcolor": "white",
            "linecolor": "white",
            "ticks": ""
           },
           "baxis": {
            "gridcolor": "white",
            "linecolor": "white",
            "ticks": ""
           },
           "bgcolor": "#E5ECF6",
           "caxis": {
            "gridcolor": "white",
            "linecolor": "white",
            "ticks": ""
           }
          },
          "title": {
           "x": 0.05
          },
          "xaxis": {
           "automargin": true,
           "gridcolor": "white",
           "linecolor": "white",
           "ticks": "",
           "title": {
            "standoff": 15
           },
           "zerolinecolor": "white",
           "zerolinewidth": 2
          },
          "yaxis": {
           "automargin": true,
           "gridcolor": "white",
           "linecolor": "white",
           "ticks": "",
           "title": {
            "standoff": 15
           },
           "zerolinecolor": "white",
           "zerolinewidth": 2
          }
         }
        },
        "title": {
         "text": "Percentage Change in Stock Prices in Tertiary Sector"
        },
        "xaxis": {
         "anchor": "y",
         "categoryarray": [
          "AXP",
          "BAC",
          "DIS",
          "HD",
          "JPM",
          "KRFT",
          "MCD",
          "MRK",
          "PFE",
          "PG",
          "TRV",
          "WMT"
         ],
         "categoryorder": "array",
         "domain": [
          0,
          1
         ],
         "tickangle": 0,
         "title": {
          "text": "Companies in Tertiary Sector"
         }
        },
        "yaxis": {
         "anchor": "x",
         "domain": [
          0,
          1
         ],
         "title": {
          "text": "% Change"
         }
        }
       }
      },
      "text/html": [
       "<div>                            <div id=\"54bc7a3e-4b16-49d1-83cf-b17efbea9b5b\" class=\"plotly-graph-div\" style=\"height:525px; width:100%;\"></div>            <script type=\"text/javascript\">                require([\"plotly\"], function(Plotly) {                    window.PLOTLYENV=window.PLOTLYENV || {};                                    if (document.getElementById(\"54bc7a3e-4b16-49d1-83cf-b17efbea9b5b\")) {                    Plotly.newPlot(                        \"54bc7a3e-4b16-49d1-83cf-b17efbea9b5b\",                        [{\"alignmentgroup\":\"True\",\"hovertemplate\":\"Companies in Tertiary Sector=%{x}<br>% Change=%{y}<extra></extra>\",\"legendgroup\":\"AXP\",\"marker\":{\"color\":\"rgb(228,26,28)\",\"pattern\":{\"shape\":\"\"}},\"name\":\"AXP\",\"offsetgroup\":\"AXP\",\"orientation\":\"v\",\"showlegend\":true,\"textposition\":\"auto\",\"x\":[\"AXP\",\"AXP\",\"AXP\",\"AXP\",\"AXP\",\"AXP\",\"AXP\",\"AXP\",\"AXP\",\"AXP\",\"AXP\",\"AXP\",\"AXP\",\"AXP\",\"AXP\",\"AXP\",\"AXP\",\"AXP\",\"AXP\",\"AXP\",\"AXP\",\"AXP\",\"AXP\",\"AXP\",\"AXP\"],\"xaxis\":\"x\",\"y\":[4.63801,-0.0651749,-4.7557,-0.70247,6.34668,-1.91728,-3.13752,-0.0228676,0.957592,0.706794,1.87709,-0.395257,1.46898,-0.237274,2.74809,4.00509,1.68118,-1.13863,3.58155,0.768624,-4.10586,-2.82923,1.12594,-0.0206825,7.93978],\"yaxis\":\"y\",\"type\":\"bar\"},{\"alignmentgroup\":\"True\",\"hovertemplate\":\"Companies in Tertiary Sector=%{x}<br>% Change=%{y}<extra></extra>\",\"legendgroup\":\"BAC\",\"marker\":{\"color\":\"rgb(55,126,184)\",\"pattern\":{\"shape\":\"\"}},\"name\":\"BAC\",\"offsetgroup\":\"BAC\",\"orientation\":\"v\",\"showlegend\":true,\"textposition\":\"auto\",\"x\":[\"BAC\",\"BAC\",\"BAC\",\"BAC\",\"BAC\",\"BAC\",\"BAC\",\"BAC\",\"BAC\",\"BAC\",\"BAC\",\"BAC\",\"BAC\",\"BAC\",\"BAC\",\"BAC\",\"BAC\",\"BAC\",\"BAC\",\"BAC\",\"BAC\",\"BAC\",\"BAC\",\"BAC\",\"BAC\"],\"xaxis\":\"x\",\"y\":[7.62174,-5.50398,-4.5614,4.23049,1.79187,-0.13541,-1.25174,-1.05116,1.41044,-1.54278,-6.05634,-0.372578,0.597015,-5.03704,-2.22399,-0.324675,-0.404531,-2.85016,-2.60723,1.91805,-4.97051,-3.39893,-1.92837,-0.661001,5.41825],\"yaxis\":\"y\",\"type\":\"bar\"},{\"alignmentgroup\":\"True\",\"hovertemplate\":\"Companies in Tertiary Sector=%{x}<br>% Change=%{y}<extra></extra>\",\"legendgroup\":\"DIS\",\"marker\":{\"color\":\"rgb(77,175,74)\",\"pattern\":{\"shape\":\"\"}},\"name\":\"DIS\",\"offsetgroup\":\"DIS\",\"orientation\":\"v\",\"showlegend\":true,\"textposition\":\"auto\",\"x\":[\"DIS\",\"DIS\",\"DIS\",\"DIS\",\"DIS\",\"DIS\",\"DIS\",\"DIS\",\"DIS\",\"DIS\",\"DIS\",\"DIS\",\"DIS\",\"DIS\",\"DIS\",\"DIS\",\"DIS\",\"DIS\",\"DIS\",\"DIS\",\"DIS\",\"DIS\",\"DIS\",\"DIS\",\"DIS\"],\"xaxis\":\"x\",\"y\":[0.717765,1.71487,-1.99294,4.27766,6.39706,0.85668,0.280177,1.23199,-1.37836,-3.30675,3.64206,-0.787219,-2.58922,-0.574713,3.17305,1.79499,-0.943179,-4.15512,0.581677,0.899149,-6.01432,-1.73558,-1.52731,-0.713342,5.58214],\"yaxis\":\"y\",\"type\":\"bar\"},{\"alignmentgroup\":\"True\",\"hovertemplate\":\"Companies in Tertiary Sector=%{x}<br>% Change=%{y}<extra></extra>\",\"legendgroup\":\"HD\",\"marker\":{\"color\":\"rgb(152,78,163)\",\"pattern\":{\"shape\":\"\"}},\"name\":\"HD\",\"offsetgroup\":\"HD\",\"orientation\":\"v\",\"showlegend\":true,\"textposition\":\"auto\",\"x\":[\"HD\",\"HD\",\"HD\",\"HD\",\"HD\",\"HD\",\"HD\",\"HD\",\"HD\",\"HD\",\"HD\",\"HD\",\"HD\",\"HD\",\"HD\",\"HD\",\"HD\",\"HD\",\"HD\",\"HD\",\"HD\",\"HD\",\"HD\",\"HD\",\"HD\"],\"xaxis\":\"x\",\"y\":[5.0644,1.50125,0.658256,-0.888769,1.84783,2.69549,-5.64885,0.188425,-0.322061,-2.49187,3.11381,0.266951,-0.0533618,1.92256,0.265252,-1.22308,-1.20192,0.216626,0.981194,0.0,-4.28413,-3.06979,3.19785,2.30388,4.85298],\"yaxis\":\"y\",\"type\":\"bar\"},{\"alignmentgroup\":\"True\",\"hovertemplate\":\"Companies in Tertiary Sector=%{x}<br>% Change=%{y}<extra></extra>\",\"legendgroup\":\"JPM\",\"marker\":{\"color\":\"rgb(255,127,0)\",\"pattern\":{\"shape\":\"\"}},\"name\":\"JPM\",\"offsetgroup\":\"JPM\",\"orientation\":\"v\",\"showlegend\":true,\"textposition\":\"auto\",\"x\":[\"JPM\",\"JPM\",\"JPM\",\"JPM\",\"JPM\",\"JPM\",\"JPM\",\"JPM\",\"JPM\",\"JPM\",\"JPM\",\"JPM\",\"JPM\",\"JPM\",\"JPM\",\"JPM\",\"JPM\",\"JPM\",\"JPM\",\"JPM\",\"JPM\",\"JPM\",\"JPM\",\"JPM\",\"JPM\"],\"xaxis\":\"x\",\"y\":[3.79015,0.599733,-1.48197,0.405314,4.06704,4.34783,-1.10169,-2.75582,0.263043,0.704535,-0.907519,0.542299,1.56114,-4.48936,0.926135,2.19485,-1.95908,-3.57542,0.372353,0.919811,-3.86216,-0.121655,-1.18673,-2.49383,5.53299],\"yaxis\":\"y\",\"type\":\"bar\"},{\"alignmentgroup\":\"True\",\"hovertemplate\":\"Companies in Tertiary Sector=%{x}<br>% Change=%{y}<extra></extra>\",\"legendgroup\":\"KRFT\",\"marker\":{\"color\":\"rgb(255,255,51)\",\"pattern\":{\"shape\":\"\"}},\"name\":\"KRFT\",\"offsetgroup\":\"KRFT\",\"orientation\":\"v\",\"showlegend\":true,\"textposition\":\"auto\",\"x\":[\"KRFT\",\"KRFT\",\"KRFT\",\"KRFT\",\"KRFT\",\"KRFT\",\"KRFT\",\"KRFT\",\"KRFT\",\"KRFT\",\"KRFT\",\"KRFT\",\"KRFT\",\"KRFT\",\"KRFT\",\"KRFT\",\"KRFT\",\"KRFT\",\"KRFT\",\"KRFT\",\"KRFT\",\"KRFT\",\"KRFT\",\"KRFT\",\"KRFT\"],\"xaxis\":\"x\",\"y\":[1.39114,-0.191022,-2.73973,2.16181,-1.66774,0.782524,3.22266,-0.754243,0.443599,-1.65027,1.55945,0.829346,-0.126143,5.13709,2.01711,0.418535,1.42857,3.19432,1.1194,-0.629111,-1.98333,-0.821837,1.65094,0.610643,2.48483],\"yaxis\":\"y\",\"type\":\"bar\"},{\"alignmentgroup\":\"True\",\"hovertemplate\":\"Companies in Tertiary Sector=%{x}<br>% Change=%{y}<extra></extra>\",\"legendgroup\":\"MCD\",\"marker\":{\"color\":\"rgb(166,86,40)\",\"pattern\":{\"shape\":\"\"}},\"name\":\"MCD\",\"offsetgroup\":\"MCD\",\"orientation\":\"v\",\"showlegend\":true,\"textposition\":\"auto\",\"x\":[\"MCD\",\"MCD\",\"MCD\",\"MCD\",\"MCD\",\"MCD\",\"MCD\",\"MCD\",\"MCD\",\"MCD\",\"MCD\",\"MCD\",\"MCD\",\"MCD\",\"MCD\",\"MCD\",\"MCD\",\"MCD\",\"MCD\",\"MCD\",\"MCD\",\"MCD\",\"MCD\",\"MCD\",\"MCD\"],\"xaxis\":\"x\",\"y\":[-0.255892,0.482251,-1.3064,0.338753,2.71145,0.0788747,-1.98815,2.03999,0.458235,-4.08673,2.38095,0.582396,-0.35382,1.61523,0.0260112,1.50356,0.382653,1.61087,2.34958,0.110389,-1.93596,-0.297767,2.59853,-0.58309,5.07913],\"yaxis\":\"y\",\"type\":\"bar\"},{\"alignmentgroup\":\"True\",\"hovertemplate\":\"Companies in Tertiary Sector=%{x}<br>% Change=%{y}<extra></extra>\",\"legendgroup\":\"MRK\",\"marker\":{\"color\":\"rgb(247,129,191)\",\"pattern\":{\"shape\":\"\"}},\"name\":\"MRK\",\"offsetgroup\":\"MRK\",\"orientation\":\"v\",\"showlegend\":true,\"textposition\":\"auto\",\"x\":[\"MRK\",\"MRK\",\"MRK\",\"MRK\",\"MRK\",\"MRK\",\"MRK\",\"MRK\",\"MRK\",\"MRK\",\"MRK\",\"MRK\",\"MRK\",\"MRK\",\"MRK\",\"MRK\",\"MRK\",\"MRK\",\"MRK\",\"MRK\",\"MRK\",\"MRK\",\"MRK\",\"MRK\",\"MRK\"],\"xaxis\":\"x\",\"y\":[-8.13204,-0.498973,-2.70668,-1.20156,0.394657,-0.363967,-1.70992,2.67081,-0.818182,-1.81538,1.49579,1.62876,0.989802,2.46437,-0.467836,6.67656,-0.137212,2.68624,0.0,-1.25443,-1.56636,-0.70028,1.02769,-2.09691,2.89017],\"yaxis\":\"y\",\"type\":\"bar\"},{\"alignmentgroup\":\"True\",\"hovertemplate\":\"Companies in Tertiary Sector=%{x}<br>% Change=%{y}<extra></extra>\",\"legendgroup\":\"PFE\",\"marker\":{\"color\":\"rgb(153,153,153)\",\"pattern\":{\"shape\":\"\"}},\"name\":\"PFE\",\"offsetgroup\":\"PFE\",\"orientation\":\"v\",\"showlegend\":true,\"textposition\":\"auto\",\"x\":[\"PFE\",\"PFE\",\"PFE\",\"PFE\",\"PFE\",\"PFE\",\"PFE\",\"PFE\",\"PFE\",\"PFE\",\"PFE\",\"PFE\",\"PFE\",\"PFE\",\"PFE\",\"PFE\",\"PFE\",\"PFE\",\"PFE\",\"PFE\",\"PFE\",\"PFE\",\"PFE\",\"PFE\",\"PFE\"],\"xaxis\":\"x\",\"y\":[0.658617,0.0544959,-0.981997,6.10225,-2.28334,1.96599,-0.105932,3.7467,-0.86558,3.75321,0.147638,-0.195886,-0.437956,-0.0973236,-2.60827,5.11278,-2.79092,1.89966,-0.71977,2.14739,-0.761905,-3.41018,0.896414,-0.049776,3.23383],\"yaxis\":\"y\",\"type\":\"bar\"},{\"alignmentgroup\":\"True\",\"hovertemplate\":\"Companies in Tertiary Sector=%{x}<br>% Change=%{y}<extra></extra>\",\"legendgroup\":\"PG\",\"marker\":{\"color\":\"rgb(228,26,28)\",\"pattern\":{\"shape\":\"\"}},\"name\":\"PG\",\"offsetgroup\":\"PG\",\"orientation\":\"v\",\"showlegend\":true,\"textposition\":\"auto\",\"x\":[\"PG\",\"PG\",\"PG\",\"PG\",\"PG\",\"PG\",\"PG\",\"PG\",\"PG\",\"PG\",\"PG\",\"PG\",\"PG\",\"PG\",\"PG\",\"PG\",\"PG\",\"PG\",\"PG\",\"PG\",\"PG\",\"PG\",\"PG\",\"PG\",\"PG\"],\"xaxis\":\"x\",\"y\":[1.75466,0.39604,-2.57967,-1.14996,1.2197,-0.771605,-1.39652,-1.22611,-0.822581,-0.720839,-0.131234,1.6372,-0.434293,3.48275,-0.628239,2.88523,0.0459841,2.97243,1.0501,-0.898204,-1.35685,-1.00979,0.0618716,-2.97628,2.40599],\"yaxis\":\"y\",\"type\":\"bar\"},{\"alignmentgroup\":\"True\",\"hovertemplate\":\"Companies in Tertiary Sector=%{x}<br>% Change=%{y}<extra></extra>\",\"legendgroup\":\"TRV\",\"marker\":{\"color\":\"rgb(55,126,184)\",\"pattern\":{\"shape\":\"\"}},\"name\":\"TRV\",\"offsetgroup\":\"TRV\",\"orientation\":\"v\",\"showlegend\":true,\"textposition\":\"auto\",\"x\":[\"TRV\",\"TRV\",\"TRV\",\"TRV\",\"TRV\",\"TRV\",\"TRV\",\"TRV\",\"TRV\",\"TRV\",\"TRV\",\"TRV\",\"TRV\",\"TRV\",\"TRV\",\"TRV\",\"TRV\",\"TRV\",\"TRV\",\"TRV\",\"TRV\",\"TRV\",\"TRV\",\"TRV\",\"TRV\"],\"xaxis\":\"x\",\"y\":[2.84262,0.695716,1.21509,2.86687,2.91347,3.53501,-1.65016,-0.704698,-0.641242,-0.701214,0.924025,1.04925,-0.417851,-0.0835422,3.37154,3.19635,-0.204531,-1.42338,-0.431862,-0.356333,-1.24294,-3.48818,-2.02977,-1.54594,4.01197],\"yaxis\":\"y\",\"type\":\"bar\"},{\"alignmentgroup\":\"True\",\"hovertemplate\":\"Companies in Tertiary Sector=%{x}<br>% Change=%{y}<extra></extra>\",\"legendgroup\":\"WMT\",\"marker\":{\"color\":\"rgb(77,175,74)\",\"pattern\":{\"shape\":\"\"}},\"name\":\"WMT\",\"offsetgroup\":\"WMT\",\"orientation\":\"v\",\"showlegend\":true,\"textposition\":\"auto\",\"x\":[\"WMT\",\"WMT\",\"WMT\",\"WMT\",\"WMT\",\"WMT\",\"WMT\",\"WMT\",\"WMT\",\"WMT\",\"WMT\",\"WMT\",\"WMT\",\"WMT\",\"WMT\",\"WMT\",\"WMT\",\"WMT\",\"WMT\",\"WMT\",\"WMT\",\"WMT\",\"WMT\",\"WMT\",\"WMT\"],\"xaxis\":\"x\",\"y\":[2.16216,1.12502,2.36505,-0.744021,-0.677724,0.217155,-3.82828,0.618357,0.631458,-1.58548,1.19853,-0.344102,0.439686,1.92234,0.941974,2.57463,-0.108932,1.36438,-0.575436,-0.364299,-2.22303,-2.1166,-0.1701,-0.550285,2.27446],\"yaxis\":\"y\",\"type\":\"bar\"}],                        {\"template\":{\"data\":{\"histogram2dcontour\":[{\"type\":\"histogram2dcontour\",\"colorbar\":{\"outlinewidth\":0,\"ticks\":\"\"},\"colorscale\":[[0.0,\"#0d0887\"],[0.1111111111111111,\"#46039f\"],[0.2222222222222222,\"#7201a8\"],[0.3333333333333333,\"#9c179e\"],[0.4444444444444444,\"#bd3786\"],[0.5555555555555556,\"#d8576b\"],[0.6666666666666666,\"#ed7953\"],[0.7777777777777778,\"#fb9f3a\"],[0.8888888888888888,\"#fdca26\"],[1.0,\"#f0f921\"]]}],\"choropleth\":[{\"type\":\"choropleth\",\"colorbar\":{\"outlinewidth\":0,\"ticks\":\"\"}}],\"histogram2d\":[{\"type\":\"histogram2d\",\"colorbar\":{\"outlinewidth\":0,\"ticks\":\"\"},\"colorscale\":[[0.0,\"#0d0887\"],[0.1111111111111111,\"#46039f\"],[0.2222222222222222,\"#7201a8\"],[0.3333333333333333,\"#9c179e\"],[0.4444444444444444,\"#bd3786\"],[0.5555555555555556,\"#d8576b\"],[0.6666666666666666,\"#ed7953\"],[0.7777777777777778,\"#fb9f3a\"],[0.8888888888888888,\"#fdca26\"],[1.0,\"#f0f921\"]]}],\"heatmap\":[{\"type\":\"heatmap\",\"colorbar\":{\"outlinewidth\":0,\"ticks\":\"\"},\"colorscale\":[[0.0,\"#0d0887\"],[0.1111111111111111,\"#46039f\"],[0.2222222222222222,\"#7201a8\"],[0.3333333333333333,\"#9c179e\"],[0.4444444444444444,\"#bd3786\"],[0.5555555555555556,\"#d8576b\"],[0.6666666666666666,\"#ed7953\"],[0.7777777777777778,\"#fb9f3a\"],[0.8888888888888888,\"#fdca26\"],[1.0,\"#f0f921\"]]}],\"heatmapgl\":[{\"type\":\"heatmapgl\",\"colorbar\":{\"outlinewidth\":0,\"ticks\":\"\"},\"colorscale\":[[0.0,\"#0d0887\"],[0.1111111111111111,\"#46039f\"],[0.2222222222222222,\"#7201a8\"],[0.3333333333333333,\"#9c179e\"],[0.4444444444444444,\"#bd3786\"],[0.5555555555555556,\"#d8576b\"],[0.6666666666666666,\"#ed7953\"],[0.7777777777777778,\"#fb9f3a\"],[0.8888888888888888,\"#fdca26\"],[1.0,\"#f0f921\"]]}],\"contourcarpet\":[{\"type\":\"contourcarpet\",\"colorbar\":{\"outlinewidth\":0,\"ticks\":\"\"}}],\"contour\":[{\"type\":\"contour\",\"colorbar\":{\"outlinewidth\":0,\"ticks\":\"\"},\"colorscale\":[[0.0,\"#0d0887\"],[0.1111111111111111,\"#46039f\"],[0.2222222222222222,\"#7201a8\"],[0.3333333333333333,\"#9c179e\"],[0.4444444444444444,\"#bd3786\"],[0.5555555555555556,\"#d8576b\"],[0.6666666666666666,\"#ed7953\"],[0.7777777777777778,\"#fb9f3a\"],[0.8888888888888888,\"#fdca26\"],[1.0,\"#f0f921\"]]}],\"surface\":[{\"type\":\"surface\",\"colorbar\":{\"outlinewidth\":0,\"ticks\":\"\"},\"colorscale\":[[0.0,\"#0d0887\"],[0.1111111111111111,\"#46039f\"],[0.2222222222222222,\"#7201a8\"],[0.3333333333333333,\"#9c179e\"],[0.4444444444444444,\"#bd3786\"],[0.5555555555555556,\"#d8576b\"],[0.6666666666666666,\"#ed7953\"],[0.7777777777777778,\"#fb9f3a\"],[0.8888888888888888,\"#fdca26\"],[1.0,\"#f0f921\"]]}],\"mesh3d\":[{\"type\":\"mesh3d\",\"colorbar\":{\"outlinewidth\":0,\"ticks\":\"\"}}],\"scatter\":[{\"fillpattern\":{\"fillmode\":\"overlay\",\"size\":10,\"solidity\":0.2},\"type\":\"scatter\"}],\"parcoords\":[{\"type\":\"parcoords\",\"line\":{\"colorbar\":{\"outlinewidth\":0,\"ticks\":\"\"}}}],\"scatterpolargl\":[{\"type\":\"scatterpolargl\",\"marker\":{\"colorbar\":{\"outlinewidth\":0,\"ticks\":\"\"}}}],\"bar\":[{\"error_x\":{\"color\":\"#2a3f5f\"},\"error_y\":{\"color\":\"#2a3f5f\"},\"marker\":{\"line\":{\"color\":\"#E5ECF6\",\"width\":0.5},\"pattern\":{\"fillmode\":\"overlay\",\"size\":10,\"solidity\":0.2}},\"type\":\"bar\"}],\"scattergeo\":[{\"type\":\"scattergeo\",\"marker\":{\"colorbar\":{\"outlinewidth\":0,\"ticks\":\"\"}}}],\"scatterpolar\":[{\"type\":\"scatterpolar\",\"marker\":{\"colorbar\":{\"outlinewidth\":0,\"ticks\":\"\"}}}],\"histogram\":[{\"marker\":{\"pattern\":{\"fillmode\":\"overlay\",\"size\":10,\"solidity\":0.2}},\"type\":\"histogram\"}],\"scattergl\":[{\"type\":\"scattergl\",\"marker\":{\"colorbar\":{\"outlinewidth\":0,\"ticks\":\"\"}}}],\"scatter3d\":[{\"type\":\"scatter3d\",\"line\":{\"colorbar\":{\"outlinewidth\":0,\"ticks\":\"\"}},\"marker\":{\"colorbar\":{\"outlinewidth\":0,\"ticks\":\"\"}}}],\"scattermapbox\":[{\"type\":\"scattermapbox\",\"marker\":{\"colorbar\":{\"outlinewidth\":0,\"ticks\":\"\"}}}],\"scatterternary\":[{\"type\":\"scatterternary\",\"marker\":{\"colorbar\":{\"outlinewidth\":0,\"ticks\":\"\"}}}],\"scattercarpet\":[{\"type\":\"scattercarpet\",\"marker\":{\"colorbar\":{\"outlinewidth\":0,\"ticks\":\"\"}}}],\"carpet\":[{\"aaxis\":{\"endlinecolor\":\"#2a3f5f\",\"gridcolor\":\"white\",\"linecolor\":\"white\",\"minorgridcolor\":\"white\",\"startlinecolor\":\"#2a3f5f\"},\"baxis\":{\"endlinecolor\":\"#2a3f5f\",\"gridcolor\":\"white\",\"linecolor\":\"white\",\"minorgridcolor\":\"white\",\"startlinecolor\":\"#2a3f5f\"},\"type\":\"carpet\"}],\"table\":[{\"cells\":{\"fill\":{\"color\":\"#EBF0F8\"},\"line\":{\"color\":\"white\"}},\"header\":{\"fill\":{\"color\":\"#C8D4E3\"},\"line\":{\"color\":\"white\"}},\"type\":\"table\"}],\"barpolar\":[{\"marker\":{\"line\":{\"color\":\"#E5ECF6\",\"width\":0.5},\"pattern\":{\"fillmode\":\"overlay\",\"size\":10,\"solidity\":0.2}},\"type\":\"barpolar\"}],\"pie\":[{\"automargin\":true,\"type\":\"pie\"}]},\"layout\":{\"autotypenumbers\":\"strict\",\"colorway\":[\"#636efa\",\"#EF553B\",\"#00cc96\",\"#ab63fa\",\"#FFA15A\",\"#19d3f3\",\"#FF6692\",\"#B6E880\",\"#FF97FF\",\"#FECB52\"],\"font\":{\"color\":\"#2a3f5f\"},\"hovermode\":\"closest\",\"hoverlabel\":{\"align\":\"left\"},\"paper_bgcolor\":\"white\",\"plot_bgcolor\":\"#E5ECF6\",\"polar\":{\"bgcolor\":\"#E5ECF6\",\"angularaxis\":{\"gridcolor\":\"white\",\"linecolor\":\"white\",\"ticks\":\"\"},\"radialaxis\":{\"gridcolor\":\"white\",\"linecolor\":\"white\",\"ticks\":\"\"}},\"ternary\":{\"bgcolor\":\"#E5ECF6\",\"aaxis\":{\"gridcolor\":\"white\",\"linecolor\":\"white\",\"ticks\":\"\"},\"baxis\":{\"gridcolor\":\"white\",\"linecolor\":\"white\",\"ticks\":\"\"},\"caxis\":{\"gridcolor\":\"white\",\"linecolor\":\"white\",\"ticks\":\"\"}},\"coloraxis\":{\"colorbar\":{\"outlinewidth\":0,\"ticks\":\"\"}},\"colorscale\":{\"sequential\":[[0.0,\"#0d0887\"],[0.1111111111111111,\"#46039f\"],[0.2222222222222222,\"#7201a8\"],[0.3333333333333333,\"#9c179e\"],[0.4444444444444444,\"#bd3786\"],[0.5555555555555556,\"#d8576b\"],[0.6666666666666666,\"#ed7953\"],[0.7777777777777778,\"#fb9f3a\"],[0.8888888888888888,\"#fdca26\"],[1.0,\"#f0f921\"]],\"sequentialminus\":[[0.0,\"#0d0887\"],[0.1111111111111111,\"#46039f\"],[0.2222222222222222,\"#7201a8\"],[0.3333333333333333,\"#9c179e\"],[0.4444444444444444,\"#bd3786\"],[0.5555555555555556,\"#d8576b\"],[0.6666666666666666,\"#ed7953\"],[0.7777777777777778,\"#fb9f3a\"],[0.8888888888888888,\"#fdca26\"],[1.0,\"#f0f921\"]],\"diverging\":[[0,\"#8e0152\"],[0.1,\"#c51b7d\"],[0.2,\"#de77ae\"],[0.3,\"#f1b6da\"],[0.4,\"#fde0ef\"],[0.5,\"#f7f7f7\"],[0.6,\"#e6f5d0\"],[0.7,\"#b8e186\"],[0.8,\"#7fbc41\"],[0.9,\"#4d9221\"],[1,\"#276419\"]]},\"xaxis\":{\"gridcolor\":\"white\",\"linecolor\":\"white\",\"ticks\":\"\",\"title\":{\"standoff\":15},\"zerolinecolor\":\"white\",\"automargin\":true,\"zerolinewidth\":2},\"yaxis\":{\"gridcolor\":\"white\",\"linecolor\":\"white\",\"ticks\":\"\",\"title\":{\"standoff\":15},\"zerolinecolor\":\"white\",\"automargin\":true,\"zerolinewidth\":2},\"scene\":{\"xaxis\":{\"backgroundcolor\":\"#E5ECF6\",\"gridcolor\":\"white\",\"linecolor\":\"white\",\"showbackground\":true,\"ticks\":\"\",\"zerolinecolor\":\"white\",\"gridwidth\":2},\"yaxis\":{\"backgroundcolor\":\"#E5ECF6\",\"gridcolor\":\"white\",\"linecolor\":\"white\",\"showbackground\":true,\"ticks\":\"\",\"zerolinecolor\":\"white\",\"gridwidth\":2},\"zaxis\":{\"backgroundcolor\":\"#E5ECF6\",\"gridcolor\":\"white\",\"linecolor\":\"white\",\"showbackground\":true,\"ticks\":\"\",\"zerolinecolor\":\"white\",\"gridwidth\":2}},\"shapedefaults\":{\"line\":{\"color\":\"#2a3f5f\"}},\"annotationdefaults\":{\"arrowcolor\":\"#2a3f5f\",\"arrowhead\":0,\"arrowwidth\":1},\"geo\":{\"bgcolor\":\"white\",\"landcolor\":\"#E5ECF6\",\"subunitcolor\":\"white\",\"showland\":true,\"showlakes\":true,\"lakecolor\":\"white\"},\"title\":{\"x\":0.05},\"mapbox\":{\"style\":\"light\"}}},\"xaxis\":{\"anchor\":\"y\",\"domain\":[0.0,1.0],\"title\":{\"text\":\"Companies in Tertiary Sector\"},\"categoryorder\":\"array\",\"categoryarray\":[\"AXP\",\"BAC\",\"DIS\",\"HD\",\"JPM\",\"KRFT\",\"MCD\",\"MRK\",\"PFE\",\"PG\",\"TRV\",\"WMT\"],\"tickangle\":0},\"yaxis\":{\"anchor\":\"x\",\"domain\":[0.0,1.0],\"title\":{\"text\":\"% Change\"}},\"legend\":{\"title\":{\"text\":\"Stocks\"},\"tracegroupgap\":0},\"title\":{\"text\":\"Percentage Change in Stock Prices in Tertiary Sector\"},\"barmode\":\"relative\",\"plot_bgcolor\":\"lightgray\"},                        {\"responsive\": true}                    ).then(function(){\n",
       "                            \n",
       "var gd = document.getElementById('54bc7a3e-4b16-49d1-83cf-b17efbea9b5b');\n",
       "var x = new MutationObserver(function (mutations, observer) {{\n",
       "        var display = window.getComputedStyle(gd).display;\n",
       "        if (!display || display === 'none') {{\n",
       "            console.log([gd, 'removed!']);\n",
       "            Plotly.purge(gd);\n",
       "            observer.disconnect();\n",
       "        }}\n",
       "}});\n",
       "\n",
       "// Listen for the removal of the full notebook cells\n",
       "var notebookContainer = gd.closest('#notebook-container');\n",
       "if (notebookContainer) {{\n",
       "    x.observe(notebookContainer, {childList: true});\n",
       "}}\n",
       "\n",
       "// Listen for the clearing of the current output cell\n",
       "var outputEl = gd.closest('.output');\n",
       "if (outputEl) {{\n",
       "    x.observe(outputEl, {childList: true});\n",
       "}}\n",
       "\n",
       "                        })                };                });            </script>        </div>"
      ]
     },
     "metadata": {},
     "output_type": "display_data"
    }
   ],
   "source": [
    "color_sequence=px.colors.qualitative.Set1\n",
    "\n",
    "fig = px.bar(\n",
    "ter_sector_next_wk,\n",
    "x='stock',\n",
    "y='percent_change_next_weeks_price',\n",
    "title='Percentage Change in Stock Prices in Tertiary Sector',\n",
    "color='stock',\n",
    "    color_discrete_sequence=color_sequence,\n",
    "labels={'percent_change_next_weeks_price': '% Change', \n",
    "       'stock': 'Companies in Tertiary Sector'})\n",
    "fig.update_layout(\n",
    "plot_bgcolor='lightgray',\n",
    "xaxis=dict(tickangle=0),\n",
    "    legend_title_text='Stocks'\n",
    ")\n",
    "\n",
    "\n",
    "fig.show()"
   ]
  },
  {
   "cell_type": "code",
   "execution_count": 228,
   "id": "3a0583bb",
   "metadata": {},
   "outputs": [
    {
     "data": {
      "text/html": [
       "<div>\n",
       "<style scoped>\n",
       "    .dataframe tbody tr th:only-of-type {\n",
       "        vertical-align: middle;\n",
       "    }\n",
       "\n",
       "    .dataframe tbody tr th {\n",
       "        vertical-align: top;\n",
       "    }\n",
       "\n",
       "    .dataframe thead th {\n",
       "        text-align: right;\n",
       "    }\n",
       "</style>\n",
       "<table border=\"1\" class=\"dataframe\">\n",
       "  <thead>\n",
       "    <tr style=\"text-align: right;\">\n",
       "      <th></th>\n",
       "      <th>quarter</th>\n",
       "      <th>percent_change_next_weeks_price</th>\n",
       "    </tr>\n",
       "  </thead>\n",
       "  <tbody>\n",
       "    <tr>\n",
       "      <th>count</th>\n",
       "      <td>300.000000</td>\n",
       "      <td>300.000000</td>\n",
       "    </tr>\n",
       "    <tr>\n",
       "      <th>mean</th>\n",
       "      <td>1.520000</td>\n",
       "      <td>0.258638</td>\n",
       "    </tr>\n",
       "    <tr>\n",
       "      <th>std</th>\n",
       "      <td>0.500435</td>\n",
       "      <td>2.442643</td>\n",
       "    </tr>\n",
       "    <tr>\n",
       "      <th>min</th>\n",
       "      <td>1.000000</td>\n",
       "      <td>-8.132040</td>\n",
       "    </tr>\n",
       "    <tr>\n",
       "      <th>25%</th>\n",
       "      <td>1.000000</td>\n",
       "      <td>-1.141463</td>\n",
       "    </tr>\n",
       "    <tr>\n",
       "      <th>50%</th>\n",
       "      <td>2.000000</td>\n",
       "      <td>0.050240</td>\n",
       "    </tr>\n",
       "    <tr>\n",
       "      <th>75%</th>\n",
       "      <td>2.000000</td>\n",
       "      <td>1.658500</td>\n",
       "    </tr>\n",
       "    <tr>\n",
       "      <th>max</th>\n",
       "      <td>2.000000</td>\n",
       "      <td>7.939780</td>\n",
       "    </tr>\n",
       "  </tbody>\n",
       "</table>\n",
       "</div>"
      ],
      "text/plain": [
       "          quarter  percent_change_next_weeks_price\n",
       "count  300.000000                       300.000000\n",
       "mean     1.520000                         0.258638\n",
       "std      0.500435                         2.442643\n",
       "min      1.000000                        -8.132040\n",
       "25%      1.000000                        -1.141463\n",
       "50%      2.000000                         0.050240\n",
       "75%      2.000000                         1.658500\n",
       "max      2.000000                         7.939780"
      ]
     },
     "execution_count": 228,
     "metadata": {},
     "output_type": "execute_result"
    }
   ],
   "source": [
    "ter_sector_next_wk.describe()"
   ]
  },
  {
   "cell_type": "markdown",
   "id": "63a492b9",
   "metadata": {},
   "source": [
    "Volatility = In tertiary sector, the standard deviation is approx. higher at 2.4426. This indicates that the weekly returns in this sector are moderately volatile or have a moderate degree of variation in weekly returns.\n",
    "\n",
    "Range of Returns using min and max values = the range is second largest to that of secondary sector, approx. 16.072"
   ]
  },
  {
   "cell_type": "markdown",
   "id": "966eca8e",
   "metadata": {},
   "source": [
    "What's the take away from this?\n",
    "\n",
    "The secondary sector has the largest standard deviation and range of returns compared to other sectors, suggesting higher volatility. This means that the returns of stocks in the secondary sector are more spread out and can experience more significant fluctuations compared to the primary and tertiary sectors. This implies that the stocks in secondary sector are riskier.\n",
    "\n",
    "Investors typically focus to volatility when assessing risk and making investment decisions. Risk assessment is often undertaken to identify which sectors are more or less volatile and how they compare to the market's risk. \n",
    "\n",
    "Investors may also manage risk by choosing to diversity their portfolio, involving spreading investments across different sectors. This is done by including stocks from the primary and tertiary sectors in their portfolio to balance the higher volatility represented by the secondary sector.\n",
    "\n",
    "With risk assessment taken, the information they get from said assessment can be valuable for investors, financial analysts, and portfolio managers when making informed decisions about their investment startegies.\n",
    "\n",
    "In other words, interpreting the statistics offer valuable insights into the risk associated with different sectors, particularly in stock returns. This helps highlight the importance of considering volatility and risk when making investment decisions and suggests potential strategies for managing and diversifying risk in investment portfolios."
   ]
  },
  {
   "cell_type": "code",
   "execution_count": 232,
   "id": "a2581a76",
   "metadata": {},
   "outputs": [],
   "source": [
    "# Bar and Pie chart\n",
    "sectors = ['Primary', 'Secondary', 'Tertiary']\n",
    "mean_returns = [0.314336, 0.199503, 0.258638]\n",
    "total_average_returns = 0.314336 + 0.199503 + 0.258638\n",
    "primary_percent = (0.314336 / total_average_returns) * 100\n",
    "secondary_percent = (0.199503 / total_average_returns) * 100\n",
    "tertiary_percent = (0.258638 / total_average_returns) * 100"
   ]
  },
  {
   "cell_type": "code",
   "execution_count": 245,
   "id": "89503bca",
   "metadata": {},
   "outputs": [
    {
     "name": "stdout",
     "output_type": "stream",
     "text": [
      "40.69195587700346\n",
      "25.826400009320665\n",
      "33.48164411367587\n"
     ]
    }
   ],
   "source": [
    "print(primary_percent)\n",
    "print(secondary_percent)\n",
    "print(tertiary_percent)"
   ]
  },
  {
   "cell_type": "code",
   "execution_count": 246,
   "id": "5fd2fbf7",
   "metadata": {},
   "outputs": [],
   "source": [
    "# define percentages using the values above for pie chart\n",
    "percentages = [40.69, 25.83, 33.48]"
   ]
  },
  {
   "cell_type": "code",
   "execution_count": 248,
   "id": "13dfdb85",
   "metadata": {},
   "outputs": [],
   "source": [
    "# define colors\n",
    "colors =['blue','green','red']"
   ]
  },
  {
   "cell_type": "code",
   "execution_count": 250,
   "id": "a6eb662e",
   "metadata": {},
   "outputs": [
    {
     "data": {
      "application/vnd.plotly.v1+json": {
       "config": {
        "plotlyServerURL": "https://plot.ly"
       },
       "data": [
        {
         "alignmentgroup": "True",
         "hovertemplate": "Sector=%{x}<br>Mean Returns=%{y}<extra></extra>",
         "legendgroup": "",
         "marker": {
          "color": "#636efa",
          "pattern": {
           "shape": ""
          }
         },
         "name": "",
         "offsetgroup": "",
         "orientation": "v",
         "showlegend": false,
         "textposition": "auto",
         "type": "bar",
         "x": [
          "Primary",
          "Secondary",
          "Tertiary"
         ],
         "xaxis": "x",
         "y": [
          0.314336,
          0.199503,
          0.258638
         ],
         "yaxis": "y"
        }
       ],
       "layout": {
        "barmode": "relative",
        "legend": {
         "tracegroupgap": 0
        },
        "margin": {
         "t": 60
        },
        "template": {
         "data": {
          "bar": [
           {
            "error_x": {
             "color": "#2a3f5f"
            },
            "error_y": {
             "color": "#2a3f5f"
            },
            "marker": {
             "line": {
              "color": "#E5ECF6",
              "width": 0.5
             },
             "pattern": {
              "fillmode": "overlay",
              "size": 10,
              "solidity": 0.2
             }
            },
            "type": "bar"
           }
          ],
          "barpolar": [
           {
            "marker": {
             "line": {
              "color": "#E5ECF6",
              "width": 0.5
             },
             "pattern": {
              "fillmode": "overlay",
              "size": 10,
              "solidity": 0.2
             }
            },
            "type": "barpolar"
           }
          ],
          "carpet": [
           {
            "aaxis": {
             "endlinecolor": "#2a3f5f",
             "gridcolor": "white",
             "linecolor": "white",
             "minorgridcolor": "white",
             "startlinecolor": "#2a3f5f"
            },
            "baxis": {
             "endlinecolor": "#2a3f5f",
             "gridcolor": "white",
             "linecolor": "white",
             "minorgridcolor": "white",
             "startlinecolor": "#2a3f5f"
            },
            "type": "carpet"
           }
          ],
          "choropleth": [
           {
            "colorbar": {
             "outlinewidth": 0,
             "ticks": ""
            },
            "type": "choropleth"
           }
          ],
          "contour": [
           {
            "colorbar": {
             "outlinewidth": 0,
             "ticks": ""
            },
            "colorscale": [
             [
              0,
              "#0d0887"
             ],
             [
              0.1111111111111111,
              "#46039f"
             ],
             [
              0.2222222222222222,
              "#7201a8"
             ],
             [
              0.3333333333333333,
              "#9c179e"
             ],
             [
              0.4444444444444444,
              "#bd3786"
             ],
             [
              0.5555555555555556,
              "#d8576b"
             ],
             [
              0.6666666666666666,
              "#ed7953"
             ],
             [
              0.7777777777777778,
              "#fb9f3a"
             ],
             [
              0.8888888888888888,
              "#fdca26"
             ],
             [
              1,
              "#f0f921"
             ]
            ],
            "type": "contour"
           }
          ],
          "contourcarpet": [
           {
            "colorbar": {
             "outlinewidth": 0,
             "ticks": ""
            },
            "type": "contourcarpet"
           }
          ],
          "heatmap": [
           {
            "colorbar": {
             "outlinewidth": 0,
             "ticks": ""
            },
            "colorscale": [
             [
              0,
              "#0d0887"
             ],
             [
              0.1111111111111111,
              "#46039f"
             ],
             [
              0.2222222222222222,
              "#7201a8"
             ],
             [
              0.3333333333333333,
              "#9c179e"
             ],
             [
              0.4444444444444444,
              "#bd3786"
             ],
             [
              0.5555555555555556,
              "#d8576b"
             ],
             [
              0.6666666666666666,
              "#ed7953"
             ],
             [
              0.7777777777777778,
              "#fb9f3a"
             ],
             [
              0.8888888888888888,
              "#fdca26"
             ],
             [
              1,
              "#f0f921"
             ]
            ],
            "type": "heatmap"
           }
          ],
          "heatmapgl": [
           {
            "colorbar": {
             "outlinewidth": 0,
             "ticks": ""
            },
            "colorscale": [
             [
              0,
              "#0d0887"
             ],
             [
              0.1111111111111111,
              "#46039f"
             ],
             [
              0.2222222222222222,
              "#7201a8"
             ],
             [
              0.3333333333333333,
              "#9c179e"
             ],
             [
              0.4444444444444444,
              "#bd3786"
             ],
             [
              0.5555555555555556,
              "#d8576b"
             ],
             [
              0.6666666666666666,
              "#ed7953"
             ],
             [
              0.7777777777777778,
              "#fb9f3a"
             ],
             [
              0.8888888888888888,
              "#fdca26"
             ],
             [
              1,
              "#f0f921"
             ]
            ],
            "type": "heatmapgl"
           }
          ],
          "histogram": [
           {
            "marker": {
             "pattern": {
              "fillmode": "overlay",
              "size": 10,
              "solidity": 0.2
             }
            },
            "type": "histogram"
           }
          ],
          "histogram2d": [
           {
            "colorbar": {
             "outlinewidth": 0,
             "ticks": ""
            },
            "colorscale": [
             [
              0,
              "#0d0887"
             ],
             [
              0.1111111111111111,
              "#46039f"
             ],
             [
              0.2222222222222222,
              "#7201a8"
             ],
             [
              0.3333333333333333,
              "#9c179e"
             ],
             [
              0.4444444444444444,
              "#bd3786"
             ],
             [
              0.5555555555555556,
              "#d8576b"
             ],
             [
              0.6666666666666666,
              "#ed7953"
             ],
             [
              0.7777777777777778,
              "#fb9f3a"
             ],
             [
              0.8888888888888888,
              "#fdca26"
             ],
             [
              1,
              "#f0f921"
             ]
            ],
            "type": "histogram2d"
           }
          ],
          "histogram2dcontour": [
           {
            "colorbar": {
             "outlinewidth": 0,
             "ticks": ""
            },
            "colorscale": [
             [
              0,
              "#0d0887"
             ],
             [
              0.1111111111111111,
              "#46039f"
             ],
             [
              0.2222222222222222,
              "#7201a8"
             ],
             [
              0.3333333333333333,
              "#9c179e"
             ],
             [
              0.4444444444444444,
              "#bd3786"
             ],
             [
              0.5555555555555556,
              "#d8576b"
             ],
             [
              0.6666666666666666,
              "#ed7953"
             ],
             [
              0.7777777777777778,
              "#fb9f3a"
             ],
             [
              0.8888888888888888,
              "#fdca26"
             ],
             [
              1,
              "#f0f921"
             ]
            ],
            "type": "histogram2dcontour"
           }
          ],
          "mesh3d": [
           {
            "colorbar": {
             "outlinewidth": 0,
             "ticks": ""
            },
            "type": "mesh3d"
           }
          ],
          "parcoords": [
           {
            "line": {
             "colorbar": {
              "outlinewidth": 0,
              "ticks": ""
             }
            },
            "type": "parcoords"
           }
          ],
          "pie": [
           {
            "automargin": true,
            "type": "pie"
           }
          ],
          "scatter": [
           {
            "fillpattern": {
             "fillmode": "overlay",
             "size": 10,
             "solidity": 0.2
            },
            "type": "scatter"
           }
          ],
          "scatter3d": [
           {
            "line": {
             "colorbar": {
              "outlinewidth": 0,
              "ticks": ""
             }
            },
            "marker": {
             "colorbar": {
              "outlinewidth": 0,
              "ticks": ""
             }
            },
            "type": "scatter3d"
           }
          ],
          "scattercarpet": [
           {
            "marker": {
             "colorbar": {
              "outlinewidth": 0,
              "ticks": ""
             }
            },
            "type": "scattercarpet"
           }
          ],
          "scattergeo": [
           {
            "marker": {
             "colorbar": {
              "outlinewidth": 0,
              "ticks": ""
             }
            },
            "type": "scattergeo"
           }
          ],
          "scattergl": [
           {
            "marker": {
             "colorbar": {
              "outlinewidth": 0,
              "ticks": ""
             }
            },
            "type": "scattergl"
           }
          ],
          "scattermapbox": [
           {
            "marker": {
             "colorbar": {
              "outlinewidth": 0,
              "ticks": ""
             }
            },
            "type": "scattermapbox"
           }
          ],
          "scatterpolar": [
           {
            "marker": {
             "colorbar": {
              "outlinewidth": 0,
              "ticks": ""
             }
            },
            "type": "scatterpolar"
           }
          ],
          "scatterpolargl": [
           {
            "marker": {
             "colorbar": {
              "outlinewidth": 0,
              "ticks": ""
             }
            },
            "type": "scatterpolargl"
           }
          ],
          "scatterternary": [
           {
            "marker": {
             "colorbar": {
              "outlinewidth": 0,
              "ticks": ""
             }
            },
            "type": "scatterternary"
           }
          ],
          "surface": [
           {
            "colorbar": {
             "outlinewidth": 0,
             "ticks": ""
            },
            "colorscale": [
             [
              0,
              "#0d0887"
             ],
             [
              0.1111111111111111,
              "#46039f"
             ],
             [
              0.2222222222222222,
              "#7201a8"
             ],
             [
              0.3333333333333333,
              "#9c179e"
             ],
             [
              0.4444444444444444,
              "#bd3786"
             ],
             [
              0.5555555555555556,
              "#d8576b"
             ],
             [
              0.6666666666666666,
              "#ed7953"
             ],
             [
              0.7777777777777778,
              "#fb9f3a"
             ],
             [
              0.8888888888888888,
              "#fdca26"
             ],
             [
              1,
              "#f0f921"
             ]
            ],
            "type": "surface"
           }
          ],
          "table": [
           {
            "cells": {
             "fill": {
              "color": "#EBF0F8"
             },
             "line": {
              "color": "white"
             }
            },
            "header": {
             "fill": {
              "color": "#C8D4E3"
             },
             "line": {
              "color": "white"
             }
            },
            "type": "table"
           }
          ]
         },
         "layout": {
          "annotationdefaults": {
           "arrowcolor": "#2a3f5f",
           "arrowhead": 0,
           "arrowwidth": 1
          },
          "autotypenumbers": "strict",
          "coloraxis": {
           "colorbar": {
            "outlinewidth": 0,
            "ticks": ""
           }
          },
          "colorscale": {
           "diverging": [
            [
             0,
             "#8e0152"
            ],
            [
             0.1,
             "#c51b7d"
            ],
            [
             0.2,
             "#de77ae"
            ],
            [
             0.3,
             "#f1b6da"
            ],
            [
             0.4,
             "#fde0ef"
            ],
            [
             0.5,
             "#f7f7f7"
            ],
            [
             0.6,
             "#e6f5d0"
            ],
            [
             0.7,
             "#b8e186"
            ],
            [
             0.8,
             "#7fbc41"
            ],
            [
             0.9,
             "#4d9221"
            ],
            [
             1,
             "#276419"
            ]
           ],
           "sequential": [
            [
             0,
             "#0d0887"
            ],
            [
             0.1111111111111111,
             "#46039f"
            ],
            [
             0.2222222222222222,
             "#7201a8"
            ],
            [
             0.3333333333333333,
             "#9c179e"
            ],
            [
             0.4444444444444444,
             "#bd3786"
            ],
            [
             0.5555555555555556,
             "#d8576b"
            ],
            [
             0.6666666666666666,
             "#ed7953"
            ],
            [
             0.7777777777777778,
             "#fb9f3a"
            ],
            [
             0.8888888888888888,
             "#fdca26"
            ],
            [
             1,
             "#f0f921"
            ]
           ],
           "sequentialminus": [
            [
             0,
             "#0d0887"
            ],
            [
             0.1111111111111111,
             "#46039f"
            ],
            [
             0.2222222222222222,
             "#7201a8"
            ],
            [
             0.3333333333333333,
             "#9c179e"
            ],
            [
             0.4444444444444444,
             "#bd3786"
            ],
            [
             0.5555555555555556,
             "#d8576b"
            ],
            [
             0.6666666666666666,
             "#ed7953"
            ],
            [
             0.7777777777777778,
             "#fb9f3a"
            ],
            [
             0.8888888888888888,
             "#fdca26"
            ],
            [
             1,
             "#f0f921"
            ]
           ]
          },
          "colorway": [
           "#636efa",
           "#EF553B",
           "#00cc96",
           "#ab63fa",
           "#FFA15A",
           "#19d3f3",
           "#FF6692",
           "#B6E880",
           "#FF97FF",
           "#FECB52"
          ],
          "font": {
           "color": "#2a3f5f"
          },
          "geo": {
           "bgcolor": "white",
           "lakecolor": "white",
           "landcolor": "#E5ECF6",
           "showlakes": true,
           "showland": true,
           "subunitcolor": "white"
          },
          "hoverlabel": {
           "align": "left"
          },
          "hovermode": "closest",
          "mapbox": {
           "style": "light"
          },
          "paper_bgcolor": "white",
          "plot_bgcolor": "#E5ECF6",
          "polar": {
           "angularaxis": {
            "gridcolor": "white",
            "linecolor": "white",
            "ticks": ""
           },
           "bgcolor": "#E5ECF6",
           "radialaxis": {
            "gridcolor": "white",
            "linecolor": "white",
            "ticks": ""
           }
          },
          "scene": {
           "xaxis": {
            "backgroundcolor": "#E5ECF6",
            "gridcolor": "white",
            "gridwidth": 2,
            "linecolor": "white",
            "showbackground": true,
            "ticks": "",
            "zerolinecolor": "white"
           },
           "yaxis": {
            "backgroundcolor": "#E5ECF6",
            "gridcolor": "white",
            "gridwidth": 2,
            "linecolor": "white",
            "showbackground": true,
            "ticks": "",
            "zerolinecolor": "white"
           },
           "zaxis": {
            "backgroundcolor": "#E5ECF6",
            "gridcolor": "white",
            "gridwidth": 2,
            "linecolor": "white",
            "showbackground": true,
            "ticks": "",
            "zerolinecolor": "white"
           }
          },
          "shapedefaults": {
           "line": {
            "color": "#2a3f5f"
           }
          },
          "ternary": {
           "aaxis": {
            "gridcolor": "white",
            "linecolor": "white",
            "ticks": ""
           },
           "baxis": {
            "gridcolor": "white",
            "linecolor": "white",
            "ticks": ""
           },
           "bgcolor": "#E5ECF6",
           "caxis": {
            "gridcolor": "white",
            "linecolor": "white",
            "ticks": ""
           }
          },
          "title": {
           "x": 0.05
          },
          "xaxis": {
           "automargin": true,
           "gridcolor": "white",
           "linecolor": "white",
           "ticks": "",
           "title": {
            "standoff": 15
           },
           "zerolinecolor": "white",
           "zerolinewidth": 2
          },
          "yaxis": {
           "automargin": true,
           "gridcolor": "white",
           "linecolor": "white",
           "ticks": "",
           "title": {
            "standoff": 15
           },
           "zerolinecolor": "white",
           "zerolinewidth": 2
          }
         }
        },
        "title": {
         "text": "Average Returns by Sector"
        },
        "xaxis": {
         "anchor": "y",
         "domain": [
          0,
          1
         ],
         "title": {
          "text": "Sector"
         }
        },
        "yaxis": {
         "anchor": "x",
         "domain": [
          0,
          1
         ],
         "title": {
          "text": "Mean Returns"
         }
        }
       }
      },
      "text/html": [
       "<div>                            <div id=\"5637ddda-5006-4ff5-a274-e4c4e702790b\" class=\"plotly-graph-div\" style=\"height:525px; width:100%;\"></div>            <script type=\"text/javascript\">                require([\"plotly\"], function(Plotly) {                    window.PLOTLYENV=window.PLOTLYENV || {};                                    if (document.getElementById(\"5637ddda-5006-4ff5-a274-e4c4e702790b\")) {                    Plotly.newPlot(                        \"5637ddda-5006-4ff5-a274-e4c4e702790b\",                        [{\"alignmentgroup\":\"True\",\"hovertemplate\":\"Sector=%{x}<br>Mean Returns=%{y}<extra></extra>\",\"legendgroup\":\"\",\"marker\":{\"color\":\"#636efa\",\"pattern\":{\"shape\":\"\"}},\"name\":\"\",\"offsetgroup\":\"\",\"orientation\":\"v\",\"showlegend\":false,\"textposition\":\"auto\",\"x\":[\"Primary\",\"Secondary\",\"Tertiary\"],\"xaxis\":\"x\",\"y\":[0.314336,0.199503,0.258638],\"yaxis\":\"y\",\"type\":\"bar\"}],                        {\"template\":{\"data\":{\"histogram2dcontour\":[{\"type\":\"histogram2dcontour\",\"colorbar\":{\"outlinewidth\":0,\"ticks\":\"\"},\"colorscale\":[[0.0,\"#0d0887\"],[0.1111111111111111,\"#46039f\"],[0.2222222222222222,\"#7201a8\"],[0.3333333333333333,\"#9c179e\"],[0.4444444444444444,\"#bd3786\"],[0.5555555555555556,\"#d8576b\"],[0.6666666666666666,\"#ed7953\"],[0.7777777777777778,\"#fb9f3a\"],[0.8888888888888888,\"#fdca26\"],[1.0,\"#f0f921\"]]}],\"choropleth\":[{\"type\":\"choropleth\",\"colorbar\":{\"outlinewidth\":0,\"ticks\":\"\"}}],\"histogram2d\":[{\"type\":\"histogram2d\",\"colorbar\":{\"outlinewidth\":0,\"ticks\":\"\"},\"colorscale\":[[0.0,\"#0d0887\"],[0.1111111111111111,\"#46039f\"],[0.2222222222222222,\"#7201a8\"],[0.3333333333333333,\"#9c179e\"],[0.4444444444444444,\"#bd3786\"],[0.5555555555555556,\"#d8576b\"],[0.6666666666666666,\"#ed7953\"],[0.7777777777777778,\"#fb9f3a\"],[0.8888888888888888,\"#fdca26\"],[1.0,\"#f0f921\"]]}],\"heatmap\":[{\"type\":\"heatmap\",\"colorbar\":{\"outlinewidth\":0,\"ticks\":\"\"},\"colorscale\":[[0.0,\"#0d0887\"],[0.1111111111111111,\"#46039f\"],[0.2222222222222222,\"#7201a8\"],[0.3333333333333333,\"#9c179e\"],[0.4444444444444444,\"#bd3786\"],[0.5555555555555556,\"#d8576b\"],[0.6666666666666666,\"#ed7953\"],[0.7777777777777778,\"#fb9f3a\"],[0.8888888888888888,\"#fdca26\"],[1.0,\"#f0f921\"]]}],\"heatmapgl\":[{\"type\":\"heatmapgl\",\"colorbar\":{\"outlinewidth\":0,\"ticks\":\"\"},\"colorscale\":[[0.0,\"#0d0887\"],[0.1111111111111111,\"#46039f\"],[0.2222222222222222,\"#7201a8\"],[0.3333333333333333,\"#9c179e\"],[0.4444444444444444,\"#bd3786\"],[0.5555555555555556,\"#d8576b\"],[0.6666666666666666,\"#ed7953\"],[0.7777777777777778,\"#fb9f3a\"],[0.8888888888888888,\"#fdca26\"],[1.0,\"#f0f921\"]]}],\"contourcarpet\":[{\"type\":\"contourcarpet\",\"colorbar\":{\"outlinewidth\":0,\"ticks\":\"\"}}],\"contour\":[{\"type\":\"contour\",\"colorbar\":{\"outlinewidth\":0,\"ticks\":\"\"},\"colorscale\":[[0.0,\"#0d0887\"],[0.1111111111111111,\"#46039f\"],[0.2222222222222222,\"#7201a8\"],[0.3333333333333333,\"#9c179e\"],[0.4444444444444444,\"#bd3786\"],[0.5555555555555556,\"#d8576b\"],[0.6666666666666666,\"#ed7953\"],[0.7777777777777778,\"#fb9f3a\"],[0.8888888888888888,\"#fdca26\"],[1.0,\"#f0f921\"]]}],\"surface\":[{\"type\":\"surface\",\"colorbar\":{\"outlinewidth\":0,\"ticks\":\"\"},\"colorscale\":[[0.0,\"#0d0887\"],[0.1111111111111111,\"#46039f\"],[0.2222222222222222,\"#7201a8\"],[0.3333333333333333,\"#9c179e\"],[0.4444444444444444,\"#bd3786\"],[0.5555555555555556,\"#d8576b\"],[0.6666666666666666,\"#ed7953\"],[0.7777777777777778,\"#fb9f3a\"],[0.8888888888888888,\"#fdca26\"],[1.0,\"#f0f921\"]]}],\"mesh3d\":[{\"type\":\"mesh3d\",\"colorbar\":{\"outlinewidth\":0,\"ticks\":\"\"}}],\"scatter\":[{\"fillpattern\":{\"fillmode\":\"overlay\",\"size\":10,\"solidity\":0.2},\"type\":\"scatter\"}],\"parcoords\":[{\"type\":\"parcoords\",\"line\":{\"colorbar\":{\"outlinewidth\":0,\"ticks\":\"\"}}}],\"scatterpolargl\":[{\"type\":\"scatterpolargl\",\"marker\":{\"colorbar\":{\"outlinewidth\":0,\"ticks\":\"\"}}}],\"bar\":[{\"error_x\":{\"color\":\"#2a3f5f\"},\"error_y\":{\"color\":\"#2a3f5f\"},\"marker\":{\"line\":{\"color\":\"#E5ECF6\",\"width\":0.5},\"pattern\":{\"fillmode\":\"overlay\",\"size\":10,\"solidity\":0.2}},\"type\":\"bar\"}],\"scattergeo\":[{\"type\":\"scattergeo\",\"marker\":{\"colorbar\":{\"outlinewidth\":0,\"ticks\":\"\"}}}],\"scatterpolar\":[{\"type\":\"scatterpolar\",\"marker\":{\"colorbar\":{\"outlinewidth\":0,\"ticks\":\"\"}}}],\"histogram\":[{\"marker\":{\"pattern\":{\"fillmode\":\"overlay\",\"size\":10,\"solidity\":0.2}},\"type\":\"histogram\"}],\"scattergl\":[{\"type\":\"scattergl\",\"marker\":{\"colorbar\":{\"outlinewidth\":0,\"ticks\":\"\"}}}],\"scatter3d\":[{\"type\":\"scatter3d\",\"line\":{\"colorbar\":{\"outlinewidth\":0,\"ticks\":\"\"}},\"marker\":{\"colorbar\":{\"outlinewidth\":0,\"ticks\":\"\"}}}],\"scattermapbox\":[{\"type\":\"scattermapbox\",\"marker\":{\"colorbar\":{\"outlinewidth\":0,\"ticks\":\"\"}}}],\"scatterternary\":[{\"type\":\"scatterternary\",\"marker\":{\"colorbar\":{\"outlinewidth\":0,\"ticks\":\"\"}}}],\"scattercarpet\":[{\"type\":\"scattercarpet\",\"marker\":{\"colorbar\":{\"outlinewidth\":0,\"ticks\":\"\"}}}],\"carpet\":[{\"aaxis\":{\"endlinecolor\":\"#2a3f5f\",\"gridcolor\":\"white\",\"linecolor\":\"white\",\"minorgridcolor\":\"white\",\"startlinecolor\":\"#2a3f5f\"},\"baxis\":{\"endlinecolor\":\"#2a3f5f\",\"gridcolor\":\"white\",\"linecolor\":\"white\",\"minorgridcolor\":\"white\",\"startlinecolor\":\"#2a3f5f\"},\"type\":\"carpet\"}],\"table\":[{\"cells\":{\"fill\":{\"color\":\"#EBF0F8\"},\"line\":{\"color\":\"white\"}},\"header\":{\"fill\":{\"color\":\"#C8D4E3\"},\"line\":{\"color\":\"white\"}},\"type\":\"table\"}],\"barpolar\":[{\"marker\":{\"line\":{\"color\":\"#E5ECF6\",\"width\":0.5},\"pattern\":{\"fillmode\":\"overlay\",\"size\":10,\"solidity\":0.2}},\"type\":\"barpolar\"}],\"pie\":[{\"automargin\":true,\"type\":\"pie\"}]},\"layout\":{\"autotypenumbers\":\"strict\",\"colorway\":[\"#636efa\",\"#EF553B\",\"#00cc96\",\"#ab63fa\",\"#FFA15A\",\"#19d3f3\",\"#FF6692\",\"#B6E880\",\"#FF97FF\",\"#FECB52\"],\"font\":{\"color\":\"#2a3f5f\"},\"hovermode\":\"closest\",\"hoverlabel\":{\"align\":\"left\"},\"paper_bgcolor\":\"white\",\"plot_bgcolor\":\"#E5ECF6\",\"polar\":{\"bgcolor\":\"#E5ECF6\",\"angularaxis\":{\"gridcolor\":\"white\",\"linecolor\":\"white\",\"ticks\":\"\"},\"radialaxis\":{\"gridcolor\":\"white\",\"linecolor\":\"white\",\"ticks\":\"\"}},\"ternary\":{\"bgcolor\":\"#E5ECF6\",\"aaxis\":{\"gridcolor\":\"white\",\"linecolor\":\"white\",\"ticks\":\"\"},\"baxis\":{\"gridcolor\":\"white\",\"linecolor\":\"white\",\"ticks\":\"\"},\"caxis\":{\"gridcolor\":\"white\",\"linecolor\":\"white\",\"ticks\":\"\"}},\"coloraxis\":{\"colorbar\":{\"outlinewidth\":0,\"ticks\":\"\"}},\"colorscale\":{\"sequential\":[[0.0,\"#0d0887\"],[0.1111111111111111,\"#46039f\"],[0.2222222222222222,\"#7201a8\"],[0.3333333333333333,\"#9c179e\"],[0.4444444444444444,\"#bd3786\"],[0.5555555555555556,\"#d8576b\"],[0.6666666666666666,\"#ed7953\"],[0.7777777777777778,\"#fb9f3a\"],[0.8888888888888888,\"#fdca26\"],[1.0,\"#f0f921\"]],\"sequentialminus\":[[0.0,\"#0d0887\"],[0.1111111111111111,\"#46039f\"],[0.2222222222222222,\"#7201a8\"],[0.3333333333333333,\"#9c179e\"],[0.4444444444444444,\"#bd3786\"],[0.5555555555555556,\"#d8576b\"],[0.6666666666666666,\"#ed7953\"],[0.7777777777777778,\"#fb9f3a\"],[0.8888888888888888,\"#fdca26\"],[1.0,\"#f0f921\"]],\"diverging\":[[0,\"#8e0152\"],[0.1,\"#c51b7d\"],[0.2,\"#de77ae\"],[0.3,\"#f1b6da\"],[0.4,\"#fde0ef\"],[0.5,\"#f7f7f7\"],[0.6,\"#e6f5d0\"],[0.7,\"#b8e186\"],[0.8,\"#7fbc41\"],[0.9,\"#4d9221\"],[1,\"#276419\"]]},\"xaxis\":{\"gridcolor\":\"white\",\"linecolor\":\"white\",\"ticks\":\"\",\"title\":{\"standoff\":15},\"zerolinecolor\":\"white\",\"automargin\":true,\"zerolinewidth\":2},\"yaxis\":{\"gridcolor\":\"white\",\"linecolor\":\"white\",\"ticks\":\"\",\"title\":{\"standoff\":15},\"zerolinecolor\":\"white\",\"automargin\":true,\"zerolinewidth\":2},\"scene\":{\"xaxis\":{\"backgroundcolor\":\"#E5ECF6\",\"gridcolor\":\"white\",\"linecolor\":\"white\",\"showbackground\":true,\"ticks\":\"\",\"zerolinecolor\":\"white\",\"gridwidth\":2},\"yaxis\":{\"backgroundcolor\":\"#E5ECF6\",\"gridcolor\":\"white\",\"linecolor\":\"white\",\"showbackground\":true,\"ticks\":\"\",\"zerolinecolor\":\"white\",\"gridwidth\":2},\"zaxis\":{\"backgroundcolor\":\"#E5ECF6\",\"gridcolor\":\"white\",\"linecolor\":\"white\",\"showbackground\":true,\"ticks\":\"\",\"zerolinecolor\":\"white\",\"gridwidth\":2}},\"shapedefaults\":{\"line\":{\"color\":\"#2a3f5f\"}},\"annotationdefaults\":{\"arrowcolor\":\"#2a3f5f\",\"arrowhead\":0,\"arrowwidth\":1},\"geo\":{\"bgcolor\":\"white\",\"landcolor\":\"#E5ECF6\",\"subunitcolor\":\"white\",\"showland\":true,\"showlakes\":true,\"lakecolor\":\"white\"},\"title\":{\"x\":0.05},\"mapbox\":{\"style\":\"light\"}}},\"xaxis\":{\"anchor\":\"y\",\"domain\":[0.0,1.0],\"title\":{\"text\":\"Sector\"}},\"yaxis\":{\"anchor\":\"x\",\"domain\":[0.0,1.0],\"title\":{\"text\":\"Mean Returns\"}},\"legend\":{\"tracegroupgap\":0},\"margin\":{\"t\":60},\"barmode\":\"relative\",\"title\":{\"text\":\"Average Returns by Sector\"}},                        {\"responsive\": true}                    ).then(function(){\n",
       "                            \n",
       "var gd = document.getElementById('5637ddda-5006-4ff5-a274-e4c4e702790b');\n",
       "var x = new MutationObserver(function (mutations, observer) {{\n",
       "        var display = window.getComputedStyle(gd).display;\n",
       "        if (!display || display === 'none') {{\n",
       "            console.log([gd, 'removed!']);\n",
       "            Plotly.purge(gd);\n",
       "            observer.disconnect();\n",
       "        }}\n",
       "}});\n",
       "\n",
       "// Listen for the removal of the full notebook cells\n",
       "var notebookContainer = gd.closest('#notebook-container');\n",
       "if (notebookContainer) {{\n",
       "    x.observe(notebookContainer, {childList: true});\n",
       "}}\n",
       "\n",
       "// Listen for the clearing of the current output cell\n",
       "var outputEl = gd.closest('.output');\n",
       "if (outputEl) {{\n",
       "    x.observe(outputEl, {childList: true});\n",
       "}}\n",
       "\n",
       "                        })                };                });            </script>        </div>"
      ]
     },
     "metadata": {},
     "output_type": "display_data"
    }
   ],
   "source": [
    "bar = px.bar(x=sectors,y=mean_returns,labels={'x':'Sector', 'y':'Mean Returns'})\n",
    "bar.update_layout(title='Average Returns by Sector')\n",
    "bar.show()"
   ]
  },
  {
   "cell_type": "code",
   "execution_count": 247,
   "id": "fdbc1f70",
   "metadata": {},
   "outputs": [
    {
     "data": {
      "application/vnd.plotly.v1+json": {
       "config": {
        "plotlyServerURL": "https://plot.ly"
       },
       "data": [
        {
         "domain": {
          "x": [
           0,
           1
          ],
          "y": [
           0,
           1
          ]
         },
         "hovertemplate": "label=%{label}<br>value=%{value}<extra></extra>",
         "labels": [
          "Primary",
          "Secondary",
          "Tertiary"
         ],
         "legendgroup": "",
         "name": "",
         "showlegend": true,
         "type": "pie",
         "values": [
          40.69,
          25.83,
          33.48
         ]
        }
       ],
       "layout": {
        "legend": {
         "tracegroupgap": 0
        },
        "template": {
         "data": {
          "bar": [
           {
            "error_x": {
             "color": "#2a3f5f"
            },
            "error_y": {
             "color": "#2a3f5f"
            },
            "marker": {
             "line": {
              "color": "#E5ECF6",
              "width": 0.5
             },
             "pattern": {
              "fillmode": "overlay",
              "size": 10,
              "solidity": 0.2
             }
            },
            "type": "bar"
           }
          ],
          "barpolar": [
           {
            "marker": {
             "line": {
              "color": "#E5ECF6",
              "width": 0.5
             },
             "pattern": {
              "fillmode": "overlay",
              "size": 10,
              "solidity": 0.2
             }
            },
            "type": "barpolar"
           }
          ],
          "carpet": [
           {
            "aaxis": {
             "endlinecolor": "#2a3f5f",
             "gridcolor": "white",
             "linecolor": "white",
             "minorgridcolor": "white",
             "startlinecolor": "#2a3f5f"
            },
            "baxis": {
             "endlinecolor": "#2a3f5f",
             "gridcolor": "white",
             "linecolor": "white",
             "minorgridcolor": "white",
             "startlinecolor": "#2a3f5f"
            },
            "type": "carpet"
           }
          ],
          "choropleth": [
           {
            "colorbar": {
             "outlinewidth": 0,
             "ticks": ""
            },
            "type": "choropleth"
           }
          ],
          "contour": [
           {
            "colorbar": {
             "outlinewidth": 0,
             "ticks": ""
            },
            "colorscale": [
             [
              0,
              "#0d0887"
             ],
             [
              0.1111111111111111,
              "#46039f"
             ],
             [
              0.2222222222222222,
              "#7201a8"
             ],
             [
              0.3333333333333333,
              "#9c179e"
             ],
             [
              0.4444444444444444,
              "#bd3786"
             ],
             [
              0.5555555555555556,
              "#d8576b"
             ],
             [
              0.6666666666666666,
              "#ed7953"
             ],
             [
              0.7777777777777778,
              "#fb9f3a"
             ],
             [
              0.8888888888888888,
              "#fdca26"
             ],
             [
              1,
              "#f0f921"
             ]
            ],
            "type": "contour"
           }
          ],
          "contourcarpet": [
           {
            "colorbar": {
             "outlinewidth": 0,
             "ticks": ""
            },
            "type": "contourcarpet"
           }
          ],
          "heatmap": [
           {
            "colorbar": {
             "outlinewidth": 0,
             "ticks": ""
            },
            "colorscale": [
             [
              0,
              "#0d0887"
             ],
             [
              0.1111111111111111,
              "#46039f"
             ],
             [
              0.2222222222222222,
              "#7201a8"
             ],
             [
              0.3333333333333333,
              "#9c179e"
             ],
             [
              0.4444444444444444,
              "#bd3786"
             ],
             [
              0.5555555555555556,
              "#d8576b"
             ],
             [
              0.6666666666666666,
              "#ed7953"
             ],
             [
              0.7777777777777778,
              "#fb9f3a"
             ],
             [
              0.8888888888888888,
              "#fdca26"
             ],
             [
              1,
              "#f0f921"
             ]
            ],
            "type": "heatmap"
           }
          ],
          "heatmapgl": [
           {
            "colorbar": {
             "outlinewidth": 0,
             "ticks": ""
            },
            "colorscale": [
             [
              0,
              "#0d0887"
             ],
             [
              0.1111111111111111,
              "#46039f"
             ],
             [
              0.2222222222222222,
              "#7201a8"
             ],
             [
              0.3333333333333333,
              "#9c179e"
             ],
             [
              0.4444444444444444,
              "#bd3786"
             ],
             [
              0.5555555555555556,
              "#d8576b"
             ],
             [
              0.6666666666666666,
              "#ed7953"
             ],
             [
              0.7777777777777778,
              "#fb9f3a"
             ],
             [
              0.8888888888888888,
              "#fdca26"
             ],
             [
              1,
              "#f0f921"
             ]
            ],
            "type": "heatmapgl"
           }
          ],
          "histogram": [
           {
            "marker": {
             "pattern": {
              "fillmode": "overlay",
              "size": 10,
              "solidity": 0.2
             }
            },
            "type": "histogram"
           }
          ],
          "histogram2d": [
           {
            "colorbar": {
             "outlinewidth": 0,
             "ticks": ""
            },
            "colorscale": [
             [
              0,
              "#0d0887"
             ],
             [
              0.1111111111111111,
              "#46039f"
             ],
             [
              0.2222222222222222,
              "#7201a8"
             ],
             [
              0.3333333333333333,
              "#9c179e"
             ],
             [
              0.4444444444444444,
              "#bd3786"
             ],
             [
              0.5555555555555556,
              "#d8576b"
             ],
             [
              0.6666666666666666,
              "#ed7953"
             ],
             [
              0.7777777777777778,
              "#fb9f3a"
             ],
             [
              0.8888888888888888,
              "#fdca26"
             ],
             [
              1,
              "#f0f921"
             ]
            ],
            "type": "histogram2d"
           }
          ],
          "histogram2dcontour": [
           {
            "colorbar": {
             "outlinewidth": 0,
             "ticks": ""
            },
            "colorscale": [
             [
              0,
              "#0d0887"
             ],
             [
              0.1111111111111111,
              "#46039f"
             ],
             [
              0.2222222222222222,
              "#7201a8"
             ],
             [
              0.3333333333333333,
              "#9c179e"
             ],
             [
              0.4444444444444444,
              "#bd3786"
             ],
             [
              0.5555555555555556,
              "#d8576b"
             ],
             [
              0.6666666666666666,
              "#ed7953"
             ],
             [
              0.7777777777777778,
              "#fb9f3a"
             ],
             [
              0.8888888888888888,
              "#fdca26"
             ],
             [
              1,
              "#f0f921"
             ]
            ],
            "type": "histogram2dcontour"
           }
          ],
          "mesh3d": [
           {
            "colorbar": {
             "outlinewidth": 0,
             "ticks": ""
            },
            "type": "mesh3d"
           }
          ],
          "parcoords": [
           {
            "line": {
             "colorbar": {
              "outlinewidth": 0,
              "ticks": ""
             }
            },
            "type": "parcoords"
           }
          ],
          "pie": [
           {
            "automargin": true,
            "type": "pie"
           }
          ],
          "scatter": [
           {
            "fillpattern": {
             "fillmode": "overlay",
             "size": 10,
             "solidity": 0.2
            },
            "type": "scatter"
           }
          ],
          "scatter3d": [
           {
            "line": {
             "colorbar": {
              "outlinewidth": 0,
              "ticks": ""
             }
            },
            "marker": {
             "colorbar": {
              "outlinewidth": 0,
              "ticks": ""
             }
            },
            "type": "scatter3d"
           }
          ],
          "scattercarpet": [
           {
            "marker": {
             "colorbar": {
              "outlinewidth": 0,
              "ticks": ""
             }
            },
            "type": "scattercarpet"
           }
          ],
          "scattergeo": [
           {
            "marker": {
             "colorbar": {
              "outlinewidth": 0,
              "ticks": ""
             }
            },
            "type": "scattergeo"
           }
          ],
          "scattergl": [
           {
            "marker": {
             "colorbar": {
              "outlinewidth": 0,
              "ticks": ""
             }
            },
            "type": "scattergl"
           }
          ],
          "scattermapbox": [
           {
            "marker": {
             "colorbar": {
              "outlinewidth": 0,
              "ticks": ""
             }
            },
            "type": "scattermapbox"
           }
          ],
          "scatterpolar": [
           {
            "marker": {
             "colorbar": {
              "outlinewidth": 0,
              "ticks": ""
             }
            },
            "type": "scatterpolar"
           }
          ],
          "scatterpolargl": [
           {
            "marker": {
             "colorbar": {
              "outlinewidth": 0,
              "ticks": ""
             }
            },
            "type": "scatterpolargl"
           }
          ],
          "scatterternary": [
           {
            "marker": {
             "colorbar": {
              "outlinewidth": 0,
              "ticks": ""
             }
            },
            "type": "scatterternary"
           }
          ],
          "surface": [
           {
            "colorbar": {
             "outlinewidth": 0,
             "ticks": ""
            },
            "colorscale": [
             [
              0,
              "#0d0887"
             ],
             [
              0.1111111111111111,
              "#46039f"
             ],
             [
              0.2222222222222222,
              "#7201a8"
             ],
             [
              0.3333333333333333,
              "#9c179e"
             ],
             [
              0.4444444444444444,
              "#bd3786"
             ],
             [
              0.5555555555555556,
              "#d8576b"
             ],
             [
              0.6666666666666666,
              "#ed7953"
             ],
             [
              0.7777777777777778,
              "#fb9f3a"
             ],
             [
              0.8888888888888888,
              "#fdca26"
             ],
             [
              1,
              "#f0f921"
             ]
            ],
            "type": "surface"
           }
          ],
          "table": [
           {
            "cells": {
             "fill": {
              "color": "#EBF0F8"
             },
             "line": {
              "color": "white"
             }
            },
            "header": {
             "fill": {
              "color": "#C8D4E3"
             },
             "line": {
              "color": "white"
             }
            },
            "type": "table"
           }
          ]
         },
         "layout": {
          "annotationdefaults": {
           "arrowcolor": "#2a3f5f",
           "arrowhead": 0,
           "arrowwidth": 1
          },
          "autotypenumbers": "strict",
          "coloraxis": {
           "colorbar": {
            "outlinewidth": 0,
            "ticks": ""
           }
          },
          "colorscale": {
           "diverging": [
            [
             0,
             "#8e0152"
            ],
            [
             0.1,
             "#c51b7d"
            ],
            [
             0.2,
             "#de77ae"
            ],
            [
             0.3,
             "#f1b6da"
            ],
            [
             0.4,
             "#fde0ef"
            ],
            [
             0.5,
             "#f7f7f7"
            ],
            [
             0.6,
             "#e6f5d0"
            ],
            [
             0.7,
             "#b8e186"
            ],
            [
             0.8,
             "#7fbc41"
            ],
            [
             0.9,
             "#4d9221"
            ],
            [
             1,
             "#276419"
            ]
           ],
           "sequential": [
            [
             0,
             "#0d0887"
            ],
            [
             0.1111111111111111,
             "#46039f"
            ],
            [
             0.2222222222222222,
             "#7201a8"
            ],
            [
             0.3333333333333333,
             "#9c179e"
            ],
            [
             0.4444444444444444,
             "#bd3786"
            ],
            [
             0.5555555555555556,
             "#d8576b"
            ],
            [
             0.6666666666666666,
             "#ed7953"
            ],
            [
             0.7777777777777778,
             "#fb9f3a"
            ],
            [
             0.8888888888888888,
             "#fdca26"
            ],
            [
             1,
             "#f0f921"
            ]
           ],
           "sequentialminus": [
            [
             0,
             "#0d0887"
            ],
            [
             0.1111111111111111,
             "#46039f"
            ],
            [
             0.2222222222222222,
             "#7201a8"
            ],
            [
             0.3333333333333333,
             "#9c179e"
            ],
            [
             0.4444444444444444,
             "#bd3786"
            ],
            [
             0.5555555555555556,
             "#d8576b"
            ],
            [
             0.6666666666666666,
             "#ed7953"
            ],
            [
             0.7777777777777778,
             "#fb9f3a"
            ],
            [
             0.8888888888888888,
             "#fdca26"
            ],
            [
             1,
             "#f0f921"
            ]
           ]
          },
          "colorway": [
           "#636efa",
           "#EF553B",
           "#00cc96",
           "#ab63fa",
           "#FFA15A",
           "#19d3f3",
           "#FF6692",
           "#B6E880",
           "#FF97FF",
           "#FECB52"
          ],
          "font": {
           "color": "#2a3f5f"
          },
          "geo": {
           "bgcolor": "white",
           "lakecolor": "white",
           "landcolor": "#E5ECF6",
           "showlakes": true,
           "showland": true,
           "subunitcolor": "white"
          },
          "hoverlabel": {
           "align": "left"
          },
          "hovermode": "closest",
          "mapbox": {
           "style": "light"
          },
          "paper_bgcolor": "white",
          "plot_bgcolor": "#E5ECF6",
          "polar": {
           "angularaxis": {
            "gridcolor": "white",
            "linecolor": "white",
            "ticks": ""
           },
           "bgcolor": "#E5ECF6",
           "radialaxis": {
            "gridcolor": "white",
            "linecolor": "white",
            "ticks": ""
           }
          },
          "scene": {
           "xaxis": {
            "backgroundcolor": "#E5ECF6",
            "gridcolor": "white",
            "gridwidth": 2,
            "linecolor": "white",
            "showbackground": true,
            "ticks": "",
            "zerolinecolor": "white"
           },
           "yaxis": {
            "backgroundcolor": "#E5ECF6",
            "gridcolor": "white",
            "gridwidth": 2,
            "linecolor": "white",
            "showbackground": true,
            "ticks": "",
            "zerolinecolor": "white"
           },
           "zaxis": {
            "backgroundcolor": "#E5ECF6",
            "gridcolor": "white",
            "gridwidth": 2,
            "linecolor": "white",
            "showbackground": true,
            "ticks": "",
            "zerolinecolor": "white"
           }
          },
          "shapedefaults": {
           "line": {
            "color": "#2a3f5f"
           }
          },
          "ternary": {
           "aaxis": {
            "gridcolor": "white",
            "linecolor": "white",
            "ticks": ""
           },
           "baxis": {
            "gridcolor": "white",
            "linecolor": "white",
            "ticks": ""
           },
           "bgcolor": "#E5ECF6",
           "caxis": {
            "gridcolor": "white",
            "linecolor": "white",
            "ticks": ""
           }
          },
          "title": {
           "x": 0.05
          },
          "xaxis": {
           "automargin": true,
           "gridcolor": "white",
           "linecolor": "white",
           "ticks": "",
           "title": {
            "standoff": 15
           },
           "zerolinecolor": "white",
           "zerolinewidth": 2
          },
          "yaxis": {
           "automargin": true,
           "gridcolor": "white",
           "linecolor": "white",
           "ticks": "",
           "title": {
            "standoff": 15
           },
           "zerolinecolor": "white",
           "zerolinewidth": 2
          }
         }
        },
        "title": {
         "text": "Average Returns by Sector"
        }
       }
      },
      "text/html": [
       "<div>                            <div id=\"60341b77-bdd0-44e5-b271-efaa3f9ea482\" class=\"plotly-graph-div\" style=\"height:525px; width:100%;\"></div>            <script type=\"text/javascript\">                require([\"plotly\"], function(Plotly) {                    window.PLOTLYENV=window.PLOTLYENV || {};                                    if (document.getElementById(\"60341b77-bdd0-44e5-b271-efaa3f9ea482\")) {                    Plotly.newPlot(                        \"60341b77-bdd0-44e5-b271-efaa3f9ea482\",                        [{\"domain\":{\"x\":[0.0,1.0],\"y\":[0.0,1.0]},\"hovertemplate\":\"label=%{label}<br>value=%{value}<extra></extra>\",\"labels\":[\"Primary\",\"Secondary\",\"Tertiary\"],\"legendgroup\":\"\",\"name\":\"\",\"showlegend\":true,\"values\":[40.69,25.83,33.48],\"type\":\"pie\"}],                        {\"template\":{\"data\":{\"histogram2dcontour\":[{\"type\":\"histogram2dcontour\",\"colorbar\":{\"outlinewidth\":0,\"ticks\":\"\"},\"colorscale\":[[0.0,\"#0d0887\"],[0.1111111111111111,\"#46039f\"],[0.2222222222222222,\"#7201a8\"],[0.3333333333333333,\"#9c179e\"],[0.4444444444444444,\"#bd3786\"],[0.5555555555555556,\"#d8576b\"],[0.6666666666666666,\"#ed7953\"],[0.7777777777777778,\"#fb9f3a\"],[0.8888888888888888,\"#fdca26\"],[1.0,\"#f0f921\"]]}],\"choropleth\":[{\"type\":\"choropleth\",\"colorbar\":{\"outlinewidth\":0,\"ticks\":\"\"}}],\"histogram2d\":[{\"type\":\"histogram2d\",\"colorbar\":{\"outlinewidth\":0,\"ticks\":\"\"},\"colorscale\":[[0.0,\"#0d0887\"],[0.1111111111111111,\"#46039f\"],[0.2222222222222222,\"#7201a8\"],[0.3333333333333333,\"#9c179e\"],[0.4444444444444444,\"#bd3786\"],[0.5555555555555556,\"#d8576b\"],[0.6666666666666666,\"#ed7953\"],[0.7777777777777778,\"#fb9f3a\"],[0.8888888888888888,\"#fdca26\"],[1.0,\"#f0f921\"]]}],\"heatmap\":[{\"type\":\"heatmap\",\"colorbar\":{\"outlinewidth\":0,\"ticks\":\"\"},\"colorscale\":[[0.0,\"#0d0887\"],[0.1111111111111111,\"#46039f\"],[0.2222222222222222,\"#7201a8\"],[0.3333333333333333,\"#9c179e\"],[0.4444444444444444,\"#bd3786\"],[0.5555555555555556,\"#d8576b\"],[0.6666666666666666,\"#ed7953\"],[0.7777777777777778,\"#fb9f3a\"],[0.8888888888888888,\"#fdca26\"],[1.0,\"#f0f921\"]]}],\"heatmapgl\":[{\"type\":\"heatmapgl\",\"colorbar\":{\"outlinewidth\":0,\"ticks\":\"\"},\"colorscale\":[[0.0,\"#0d0887\"],[0.1111111111111111,\"#46039f\"],[0.2222222222222222,\"#7201a8\"],[0.3333333333333333,\"#9c179e\"],[0.4444444444444444,\"#bd3786\"],[0.5555555555555556,\"#d8576b\"],[0.6666666666666666,\"#ed7953\"],[0.7777777777777778,\"#fb9f3a\"],[0.8888888888888888,\"#fdca26\"],[1.0,\"#f0f921\"]]}],\"contourcarpet\":[{\"type\":\"contourcarpet\",\"colorbar\":{\"outlinewidth\":0,\"ticks\":\"\"}}],\"contour\":[{\"type\":\"contour\",\"colorbar\":{\"outlinewidth\":0,\"ticks\":\"\"},\"colorscale\":[[0.0,\"#0d0887\"],[0.1111111111111111,\"#46039f\"],[0.2222222222222222,\"#7201a8\"],[0.3333333333333333,\"#9c179e\"],[0.4444444444444444,\"#bd3786\"],[0.5555555555555556,\"#d8576b\"],[0.6666666666666666,\"#ed7953\"],[0.7777777777777778,\"#fb9f3a\"],[0.8888888888888888,\"#fdca26\"],[1.0,\"#f0f921\"]]}],\"surface\":[{\"type\":\"surface\",\"colorbar\":{\"outlinewidth\":0,\"ticks\":\"\"},\"colorscale\":[[0.0,\"#0d0887\"],[0.1111111111111111,\"#46039f\"],[0.2222222222222222,\"#7201a8\"],[0.3333333333333333,\"#9c179e\"],[0.4444444444444444,\"#bd3786\"],[0.5555555555555556,\"#d8576b\"],[0.6666666666666666,\"#ed7953\"],[0.7777777777777778,\"#fb9f3a\"],[0.8888888888888888,\"#fdca26\"],[1.0,\"#f0f921\"]]}],\"mesh3d\":[{\"type\":\"mesh3d\",\"colorbar\":{\"outlinewidth\":0,\"ticks\":\"\"}}],\"scatter\":[{\"fillpattern\":{\"fillmode\":\"overlay\",\"size\":10,\"solidity\":0.2},\"type\":\"scatter\"}],\"parcoords\":[{\"type\":\"parcoords\",\"line\":{\"colorbar\":{\"outlinewidth\":0,\"ticks\":\"\"}}}],\"scatterpolargl\":[{\"type\":\"scatterpolargl\",\"marker\":{\"colorbar\":{\"outlinewidth\":0,\"ticks\":\"\"}}}],\"bar\":[{\"error_x\":{\"color\":\"#2a3f5f\"},\"error_y\":{\"color\":\"#2a3f5f\"},\"marker\":{\"line\":{\"color\":\"#E5ECF6\",\"width\":0.5},\"pattern\":{\"fillmode\":\"overlay\",\"size\":10,\"solidity\":0.2}},\"type\":\"bar\"}],\"scattergeo\":[{\"type\":\"scattergeo\",\"marker\":{\"colorbar\":{\"outlinewidth\":0,\"ticks\":\"\"}}}],\"scatterpolar\":[{\"type\":\"scatterpolar\",\"marker\":{\"colorbar\":{\"outlinewidth\":0,\"ticks\":\"\"}}}],\"histogram\":[{\"marker\":{\"pattern\":{\"fillmode\":\"overlay\",\"size\":10,\"solidity\":0.2}},\"type\":\"histogram\"}],\"scattergl\":[{\"type\":\"scattergl\",\"marker\":{\"colorbar\":{\"outlinewidth\":0,\"ticks\":\"\"}}}],\"scatter3d\":[{\"type\":\"scatter3d\",\"line\":{\"colorbar\":{\"outlinewidth\":0,\"ticks\":\"\"}},\"marker\":{\"colorbar\":{\"outlinewidth\":0,\"ticks\":\"\"}}}],\"scattermapbox\":[{\"type\":\"scattermapbox\",\"marker\":{\"colorbar\":{\"outlinewidth\":0,\"ticks\":\"\"}}}],\"scatterternary\":[{\"type\":\"scatterternary\",\"marker\":{\"colorbar\":{\"outlinewidth\":0,\"ticks\":\"\"}}}],\"scattercarpet\":[{\"type\":\"scattercarpet\",\"marker\":{\"colorbar\":{\"outlinewidth\":0,\"ticks\":\"\"}}}],\"carpet\":[{\"aaxis\":{\"endlinecolor\":\"#2a3f5f\",\"gridcolor\":\"white\",\"linecolor\":\"white\",\"minorgridcolor\":\"white\",\"startlinecolor\":\"#2a3f5f\"},\"baxis\":{\"endlinecolor\":\"#2a3f5f\",\"gridcolor\":\"white\",\"linecolor\":\"white\",\"minorgridcolor\":\"white\",\"startlinecolor\":\"#2a3f5f\"},\"type\":\"carpet\"}],\"table\":[{\"cells\":{\"fill\":{\"color\":\"#EBF0F8\"},\"line\":{\"color\":\"white\"}},\"header\":{\"fill\":{\"color\":\"#C8D4E3\"},\"line\":{\"color\":\"white\"}},\"type\":\"table\"}],\"barpolar\":[{\"marker\":{\"line\":{\"color\":\"#E5ECF6\",\"width\":0.5},\"pattern\":{\"fillmode\":\"overlay\",\"size\":10,\"solidity\":0.2}},\"type\":\"barpolar\"}],\"pie\":[{\"automargin\":true,\"type\":\"pie\"}]},\"layout\":{\"autotypenumbers\":\"strict\",\"colorway\":[\"#636efa\",\"#EF553B\",\"#00cc96\",\"#ab63fa\",\"#FFA15A\",\"#19d3f3\",\"#FF6692\",\"#B6E880\",\"#FF97FF\",\"#FECB52\"],\"font\":{\"color\":\"#2a3f5f\"},\"hovermode\":\"closest\",\"hoverlabel\":{\"align\":\"left\"},\"paper_bgcolor\":\"white\",\"plot_bgcolor\":\"#E5ECF6\",\"polar\":{\"bgcolor\":\"#E5ECF6\",\"angularaxis\":{\"gridcolor\":\"white\",\"linecolor\":\"white\",\"ticks\":\"\"},\"radialaxis\":{\"gridcolor\":\"white\",\"linecolor\":\"white\",\"ticks\":\"\"}},\"ternary\":{\"bgcolor\":\"#E5ECF6\",\"aaxis\":{\"gridcolor\":\"white\",\"linecolor\":\"white\",\"ticks\":\"\"},\"baxis\":{\"gridcolor\":\"white\",\"linecolor\":\"white\",\"ticks\":\"\"},\"caxis\":{\"gridcolor\":\"white\",\"linecolor\":\"white\",\"ticks\":\"\"}},\"coloraxis\":{\"colorbar\":{\"outlinewidth\":0,\"ticks\":\"\"}},\"colorscale\":{\"sequential\":[[0.0,\"#0d0887\"],[0.1111111111111111,\"#46039f\"],[0.2222222222222222,\"#7201a8\"],[0.3333333333333333,\"#9c179e\"],[0.4444444444444444,\"#bd3786\"],[0.5555555555555556,\"#d8576b\"],[0.6666666666666666,\"#ed7953\"],[0.7777777777777778,\"#fb9f3a\"],[0.8888888888888888,\"#fdca26\"],[1.0,\"#f0f921\"]],\"sequentialminus\":[[0.0,\"#0d0887\"],[0.1111111111111111,\"#46039f\"],[0.2222222222222222,\"#7201a8\"],[0.3333333333333333,\"#9c179e\"],[0.4444444444444444,\"#bd3786\"],[0.5555555555555556,\"#d8576b\"],[0.6666666666666666,\"#ed7953\"],[0.7777777777777778,\"#fb9f3a\"],[0.8888888888888888,\"#fdca26\"],[1.0,\"#f0f921\"]],\"diverging\":[[0,\"#8e0152\"],[0.1,\"#c51b7d\"],[0.2,\"#de77ae\"],[0.3,\"#f1b6da\"],[0.4,\"#fde0ef\"],[0.5,\"#f7f7f7\"],[0.6,\"#e6f5d0\"],[0.7,\"#b8e186\"],[0.8,\"#7fbc41\"],[0.9,\"#4d9221\"],[1,\"#276419\"]]},\"xaxis\":{\"gridcolor\":\"white\",\"linecolor\":\"white\",\"ticks\":\"\",\"title\":{\"standoff\":15},\"zerolinecolor\":\"white\",\"automargin\":true,\"zerolinewidth\":2},\"yaxis\":{\"gridcolor\":\"white\",\"linecolor\":\"white\",\"ticks\":\"\",\"title\":{\"standoff\":15},\"zerolinecolor\":\"white\",\"automargin\":true,\"zerolinewidth\":2},\"scene\":{\"xaxis\":{\"backgroundcolor\":\"#E5ECF6\",\"gridcolor\":\"white\",\"linecolor\":\"white\",\"showbackground\":true,\"ticks\":\"\",\"zerolinecolor\":\"white\",\"gridwidth\":2},\"yaxis\":{\"backgroundcolor\":\"#E5ECF6\",\"gridcolor\":\"white\",\"linecolor\":\"white\",\"showbackground\":true,\"ticks\":\"\",\"zerolinecolor\":\"white\",\"gridwidth\":2},\"zaxis\":{\"backgroundcolor\":\"#E5ECF6\",\"gridcolor\":\"white\",\"linecolor\":\"white\",\"showbackground\":true,\"ticks\":\"\",\"zerolinecolor\":\"white\",\"gridwidth\":2}},\"shapedefaults\":{\"line\":{\"color\":\"#2a3f5f\"}},\"annotationdefaults\":{\"arrowcolor\":\"#2a3f5f\",\"arrowhead\":0,\"arrowwidth\":1},\"geo\":{\"bgcolor\":\"white\",\"landcolor\":\"#E5ECF6\",\"subunitcolor\":\"white\",\"showland\":true,\"showlakes\":true,\"lakecolor\":\"white\"},\"title\":{\"x\":0.05},\"mapbox\":{\"style\":\"light\"}}},\"legend\":{\"tracegroupgap\":0},\"title\":{\"text\":\"Average Returns by Sector\"}},                        {\"responsive\": true}                    ).then(function(){\n",
       "                            \n",
       "var gd = document.getElementById('60341b77-bdd0-44e5-b271-efaa3f9ea482');\n",
       "var x = new MutationObserver(function (mutations, observer) {{\n",
       "        var display = window.getComputedStyle(gd).display;\n",
       "        if (!display || display === 'none') {{\n",
       "            console.log([gd, 'removed!']);\n",
       "            Plotly.purge(gd);\n",
       "            observer.disconnect();\n",
       "        }}\n",
       "}});\n",
       "\n",
       "// Listen for the removal of the full notebook cells\n",
       "var notebookContainer = gd.closest('#notebook-container');\n",
       "if (notebookContainer) {{\n",
       "    x.observe(notebookContainer, {childList: true});\n",
       "}}\n",
       "\n",
       "// Listen for the clearing of the current output cell\n",
       "var outputEl = gd.closest('.output');\n",
       "if (outputEl) {{\n",
       "    x.observe(outputEl, {childList: true});\n",
       "}}\n",
       "\n",
       "                        })                };                });            </script>        </div>"
      ]
     },
     "metadata": {},
     "output_type": "display_data"
    }
   ],
   "source": [
    "# pie chart\n",
    "pie = px.pie(names=sectors, values=percentages, title='Average Returns by Sector')\n",
    "pie.show()"
   ]
  },
  {
   "cell_type": "markdown",
   "id": "38625430",
   "metadata": {},
   "source": [
    "What's the takeaway from this?\n",
    "\n",
    "In terms of Average Returns, the primary sector (40.7%) showed the highest average returns among the three sectors, followed by the tertiary sector (33.5%) and then the secondary sector (25.8%).\n",
    "\n",
    "However, in terms of volatility, the secondary sector still exhibited the highest volatility due to larger standard deviation and range of returns copared to the other sectors from PREVIOUS statistic results.\n",
    "\n",
    "Interpretation:\n",
    "\n",
    "The primary sector's higher average returns indicate the potential for greater short-term gains. This makes the primary sector an excellent choice for investors who seek higher returns.\n",
    "\n",
    "Whereas, the secondary sector's greater volatility suggests that investments in this sector is riskier, as returns can be more unpredictable. This is a bad choice to invest, as it may lead to lower returns. Thus, investors are likely to avoid making investment in this sector.\n",
    "\n",
    "The tertiary sector, on the other hand, strikes a balance between moderate returns and relatively lower volatility, making it a good choice for investors who seek for a more stable investment option."
   ]
  },
  {
   "cell_type": "markdown",
   "id": "fcd0472f",
   "metadata": {},
   "source": [
    "# Feature Engineering"
   ]
  },
  {
   "cell_type": "code",
   "execution_count": 286,
   "id": "bd970369",
   "metadata": {},
   "outputs": [],
   "source": [
    "# lets transform the data by creating binary columns\n",
    "# load the primary, secondary, and tertiary sector datasets\n",
    "# replace primary df, secondary df, and tertiary df with the actual dataframe names\n",
    "\n",
    "# perform one-hot encoding for each sector dataset via pd.get_dummies, columns and prefix\n",
    "primary_df = pd.get_dummies(pri_sector_next_wk, columns=['sector'], prefix='')\n",
    "secondary_df = pd.get_dummies(sec_sector_next_wk, columns=['sector'],prefix='')\n",
    "tertiary_df = pd.get_dummies(ter_sector_next_wk, columns=['sector'],prefix='')"
   ]
  },
  {
   "cell_type": "code",
   "execution_count": 311,
   "id": "f9a486be",
   "metadata": {},
   "outputs": [],
   "source": [
    "primary_df = pd.get_dummies(pri_sector_next_wk, columns=['sector'], dtype=bool, drop_first=False)\n",
    "secondary_df = pd.get_dummies(sec_sector_next_wk, columns=['sector'],dtype=bool, drop_first=False)\n",
    "tertiary_df = pd.get_dummies(ter_sector_next_wk, columns=['sector'], dtype=bool, drop_first=False)"
   ]
  },
  {
   "cell_type": "code",
   "execution_count": 304,
   "id": "36a48767",
   "metadata": {},
   "outputs": [],
   "source": [
    "combined_df = pd.concat([primary_df, secondary_df, tertiary_df], axis=1)"
   ]
  },
  {
   "cell_type": "code",
   "execution_count": 312,
   "id": "6116208d",
   "metadata": {},
   "outputs": [
    {
     "data": {
      "text/html": [
       "<div>\n",
       "<style scoped>\n",
       "    .dataframe tbody tr th:only-of-type {\n",
       "        vertical-align: middle;\n",
       "    }\n",
       "\n",
       "    .dataframe tbody tr th {\n",
       "        vertical-align: top;\n",
       "    }\n",
       "\n",
       "    .dataframe thead th {\n",
       "        text-align: right;\n",
       "    }\n",
       "</style>\n",
       "<table border=\"1\" class=\"dataframe\">\n",
       "  <thead>\n",
       "    <tr style=\"text-align: right;\">\n",
       "      <th></th>\n",
       "      <th>quarter</th>\n",
       "      <th>stock</th>\n",
       "      <th>date</th>\n",
       "      <th>percent_change_next_weeks_price</th>\n",
       "      <th>industry_sector</th>\n",
       "      <th>sector_Primary Sector</th>\n",
       "    </tr>\n",
       "  </thead>\n",
       "  <tbody>\n",
       "    <tr>\n",
       "      <th>168</th>\n",
       "      <td>1</td>\n",
       "      <td>JNJ</td>\n",
       "      <td>2011-01-07</td>\n",
       "      <td>0.417402</td>\n",
       "      <td>Healthcare</td>\n",
       "      <td>True</td>\n",
       "    </tr>\n",
       "    <tr>\n",
       "      <th>169</th>\n",
       "      <td>1</td>\n",
       "      <td>JNJ</td>\n",
       "      <td>2011-01-14</td>\n",
       "      <td>0.723356</td>\n",
       "      <td>Healthcare</td>\n",
       "      <td>True</td>\n",
       "    </tr>\n",
       "    <tr>\n",
       "      <th>170</th>\n",
       "      <td>1</td>\n",
       "      <td>JNJ</td>\n",
       "      <td>2011-01-21</td>\n",
       "      <td>-4.076090</td>\n",
       "      <td>Healthcare</td>\n",
       "      <td>True</td>\n",
       "    </tr>\n",
       "    <tr>\n",
       "      <th>171</th>\n",
       "      <td>1</td>\n",
       "      <td>JNJ</td>\n",
       "      <td>2011-01-28</td>\n",
       "      <td>1.130320</td>\n",
       "      <td>Healthcare</td>\n",
       "      <td>True</td>\n",
       "    </tr>\n",
       "    <tr>\n",
       "      <th>172</th>\n",
       "      <td>1</td>\n",
       "      <td>JNJ</td>\n",
       "      <td>2011-02-04</td>\n",
       "      <td>-0.295664</td>\n",
       "      <td>Healthcare</td>\n",
       "      <td>True</td>\n",
       "    </tr>\n",
       "    <tr>\n",
       "      <th>...</th>\n",
       "      <td>...</td>\n",
       "      <td>...</td>\n",
       "      <td>...</td>\n",
       "      <td>...</td>\n",
       "      <td>...</td>\n",
       "      <td>...</td>\n",
       "    </tr>\n",
       "    <tr>\n",
       "      <th>719</th>\n",
       "      <td>2</td>\n",
       "      <td>VZ</td>\n",
       "      <td>2011-05-27</td>\n",
       "      <td>-3.467890</td>\n",
       "      <td>Telecommunications</td>\n",
       "      <td>True</td>\n",
       "    </tr>\n",
       "    <tr>\n",
       "      <th>720</th>\n",
       "      <td>2</td>\n",
       "      <td>VZ</td>\n",
       "      <td>2011-06-03</td>\n",
       "      <td>-1.068320</td>\n",
       "      <td>Telecommunications</td>\n",
       "      <td>True</td>\n",
       "    </tr>\n",
       "    <tr>\n",
       "      <th>721</th>\n",
       "      <td>2</td>\n",
       "      <td>VZ</td>\n",
       "      <td>2011-06-10</td>\n",
       "      <td>0.794777</td>\n",
       "      <td>Telecommunications</td>\n",
       "      <td>True</td>\n",
       "    </tr>\n",
       "    <tr>\n",
       "      <th>722</th>\n",
       "      <td>2</td>\n",
       "      <td>VZ</td>\n",
       "      <td>2011-06-17</td>\n",
       "      <td>1.838760</td>\n",
       "      <td>Telecommunications</td>\n",
       "      <td>True</td>\n",
       "    </tr>\n",
       "    <tr>\n",
       "      <th>723</th>\n",
       "      <td>2</td>\n",
       "      <td>VZ</td>\n",
       "      <td>2011-06-24</td>\n",
       "      <td>5.000000</td>\n",
       "      <td>Telecommunications</td>\n",
       "      <td>True</td>\n",
       "    </tr>\n",
       "  </tbody>\n",
       "</table>\n",
       "<p>100 rows × 6 columns</p>\n",
       "</div>"
      ],
      "text/plain": [
       "     quarter stock       date  percent_change_next_weeks_price  \\\n",
       "168        1   JNJ 2011-01-07                         0.417402   \n",
       "169        1   JNJ 2011-01-14                         0.723356   \n",
       "170        1   JNJ 2011-01-21                        -4.076090   \n",
       "171        1   JNJ 2011-01-28                         1.130320   \n",
       "172        1   JNJ 2011-02-04                        -0.295664   \n",
       "..       ...   ...        ...                              ...   \n",
       "719        2    VZ 2011-05-27                        -3.467890   \n",
       "720        2    VZ 2011-06-03                        -1.068320   \n",
       "721        2    VZ 2011-06-10                         0.794777   \n",
       "722        2    VZ 2011-06-17                         1.838760   \n",
       "723        2    VZ 2011-06-24                         5.000000   \n",
       "\n",
       "        industry_sector  sector_Primary Sector  \n",
       "168          Healthcare                   True  \n",
       "169          Healthcare                   True  \n",
       "170          Healthcare                   True  \n",
       "171          Healthcare                   True  \n",
       "172          Healthcare                   True  \n",
       "..                  ...                    ...  \n",
       "719  Telecommunications                   True  \n",
       "720  Telecommunications                   True  \n",
       "721  Telecommunications                   True  \n",
       "722  Telecommunications                   True  \n",
       "723  Telecommunications                   True  \n",
       "\n",
       "[100 rows x 6 columns]"
      ]
     },
     "execution_count": 312,
     "metadata": {},
     "output_type": "execute_result"
    }
   ],
   "source": [
    "primary_df"
   ]
  },
  {
   "cell_type": "code",
   "execution_count": 313,
   "id": "e74ad4f7",
   "metadata": {},
   "outputs": [],
   "source": [
    "combined_df = primary_df.merge(secondary_df, on=['stock','date', 'quarter', 'percent_change_next_weeks_price','industry_sector'], how='outer')\n",
    "combined_df = combined_df.merge(tertiary_df, on=['stock','date', 'quarter', 'percent_change_next_weeks_price','industry_sector'], how='outer')"
   ]
  },
  {
   "cell_type": "code",
   "execution_count": 315,
   "id": "ad928ab8",
   "metadata": {},
   "outputs": [],
   "source": [
    "# Created binary columns and replace or 'fill' NaN with False\n",
    "\n",
    "combined_df[['sector_Primary Sector','sector_Secondary Sector','sector_Tertiary Sector']] = combined_df[['sector_Primary Sector','sector_Secondary Sector','sector_Tertiary Sector']].fillna(False)"
   ]
  },
  {
   "cell_type": "code",
   "execution_count": 337,
   "id": "bc2f8afb",
   "metadata": {},
   "outputs": [
    {
     "data": {
      "text/html": [
       "<div>\n",
       "<style scoped>\n",
       "    .dataframe tbody tr th:only-of-type {\n",
       "        vertical-align: middle;\n",
       "    }\n",
       "\n",
       "    .dataframe tbody tr th {\n",
       "        vertical-align: top;\n",
       "    }\n",
       "\n",
       "    .dataframe thead th {\n",
       "        text-align: right;\n",
       "    }\n",
       "</style>\n",
       "<table border=\"1\" class=\"dataframe\">\n",
       "  <thead>\n",
       "    <tr style=\"text-align: right;\">\n",
       "      <th></th>\n",
       "      <th>quarter</th>\n",
       "      <th>stock</th>\n",
       "      <th>date</th>\n",
       "      <th>percent_change_next_weeks_price</th>\n",
       "      <th>industry_sector</th>\n",
       "      <th>sector_Primary Sector</th>\n",
       "      <th>sector_Secondary Sector</th>\n",
       "      <th>sector_Tertiary Sector</th>\n",
       "    </tr>\n",
       "  </thead>\n",
       "  <tbody>\n",
       "    <tr>\n",
       "      <th>0</th>\n",
       "      <td>1</td>\n",
       "      <td>JNJ</td>\n",
       "      <td>2011-01-07</td>\n",
       "      <td>0.417402</td>\n",
       "      <td>Healthcare</td>\n",
       "      <td>True</td>\n",
       "      <td>False</td>\n",
       "      <td>False</td>\n",
       "    </tr>\n",
       "    <tr>\n",
       "      <th>1</th>\n",
       "      <td>1</td>\n",
       "      <td>JNJ</td>\n",
       "      <td>2011-01-14</td>\n",
       "      <td>0.723356</td>\n",
       "      <td>Healthcare</td>\n",
       "      <td>True</td>\n",
       "      <td>False</td>\n",
       "      <td>False</td>\n",
       "    </tr>\n",
       "    <tr>\n",
       "      <th>2</th>\n",
       "      <td>1</td>\n",
       "      <td>JNJ</td>\n",
       "      <td>2011-01-21</td>\n",
       "      <td>-4.076090</td>\n",
       "      <td>Healthcare</td>\n",
       "      <td>True</td>\n",
       "      <td>False</td>\n",
       "      <td>False</td>\n",
       "    </tr>\n",
       "    <tr>\n",
       "      <th>3</th>\n",
       "      <td>1</td>\n",
       "      <td>JNJ</td>\n",
       "      <td>2011-01-28</td>\n",
       "      <td>1.130320</td>\n",
       "      <td>Healthcare</td>\n",
       "      <td>True</td>\n",
       "      <td>False</td>\n",
       "      <td>False</td>\n",
       "    </tr>\n",
       "    <tr>\n",
       "      <th>4</th>\n",
       "      <td>1</td>\n",
       "      <td>JNJ</td>\n",
       "      <td>2011-02-04</td>\n",
       "      <td>-0.295664</td>\n",
       "      <td>Healthcare</td>\n",
       "      <td>True</td>\n",
       "      <td>False</td>\n",
       "      <td>False</td>\n",
       "    </tr>\n",
       "    <tr>\n",
       "      <th>...</th>\n",
       "      <td>...</td>\n",
       "      <td>...</td>\n",
       "      <td>...</td>\n",
       "      <td>...</td>\n",
       "      <td>...</td>\n",
       "      <td>...</td>\n",
       "      <td>...</td>\n",
       "      <td>...</td>\n",
       "    </tr>\n",
       "    <tr>\n",
       "      <th>745</th>\n",
       "      <td>2</td>\n",
       "      <td>WMT</td>\n",
       "      <td>2011-05-27</td>\n",
       "      <td>-2.223030</td>\n",
       "      <td>Retail</td>\n",
       "      <td>False</td>\n",
       "      <td>False</td>\n",
       "      <td>True</td>\n",
       "    </tr>\n",
       "    <tr>\n",
       "      <th>746</th>\n",
       "      <td>2</td>\n",
       "      <td>WMT</td>\n",
       "      <td>2011-06-03</td>\n",
       "      <td>-2.116600</td>\n",
       "      <td>Retail</td>\n",
       "      <td>False</td>\n",
       "      <td>False</td>\n",
       "      <td>True</td>\n",
       "    </tr>\n",
       "    <tr>\n",
       "      <th>747</th>\n",
       "      <td>2</td>\n",
       "      <td>WMT</td>\n",
       "      <td>2011-06-10</td>\n",
       "      <td>-0.170100</td>\n",
       "      <td>Retail</td>\n",
       "      <td>False</td>\n",
       "      <td>False</td>\n",
       "      <td>True</td>\n",
       "    </tr>\n",
       "    <tr>\n",
       "      <th>748</th>\n",
       "      <td>2</td>\n",
       "      <td>WMT</td>\n",
       "      <td>2011-06-17</td>\n",
       "      <td>-0.550285</td>\n",
       "      <td>Retail</td>\n",
       "      <td>False</td>\n",
       "      <td>False</td>\n",
       "      <td>True</td>\n",
       "    </tr>\n",
       "    <tr>\n",
       "      <th>749</th>\n",
       "      <td>2</td>\n",
       "      <td>WMT</td>\n",
       "      <td>2011-06-24</td>\n",
       "      <td>2.274460</td>\n",
       "      <td>Retail</td>\n",
       "      <td>False</td>\n",
       "      <td>False</td>\n",
       "      <td>True</td>\n",
       "    </tr>\n",
       "  </tbody>\n",
       "</table>\n",
       "<p>750 rows × 8 columns</p>\n",
       "</div>"
      ],
      "text/plain": [
       "     quarter stock       date  percent_change_next_weeks_price  \\\n",
       "0          1   JNJ 2011-01-07                         0.417402   \n",
       "1          1   JNJ 2011-01-14                         0.723356   \n",
       "2          1   JNJ 2011-01-21                        -4.076090   \n",
       "3          1   JNJ 2011-01-28                         1.130320   \n",
       "4          1   JNJ 2011-02-04                        -0.295664   \n",
       "..       ...   ...        ...                              ...   \n",
       "745        2   WMT 2011-05-27                        -2.223030   \n",
       "746        2   WMT 2011-06-03                        -2.116600   \n",
       "747        2   WMT 2011-06-10                        -0.170100   \n",
       "748        2   WMT 2011-06-17                        -0.550285   \n",
       "749        2   WMT 2011-06-24                         2.274460   \n",
       "\n",
       "    industry_sector  sector_Primary Sector  sector_Secondary Sector  \\\n",
       "0        Healthcare                   True                    False   \n",
       "1        Healthcare                   True                    False   \n",
       "2        Healthcare                   True                    False   \n",
       "3        Healthcare                   True                    False   \n",
       "4        Healthcare                   True                    False   \n",
       "..              ...                    ...                      ...   \n",
       "745          Retail                  False                    False   \n",
       "746          Retail                  False                    False   \n",
       "747          Retail                  False                    False   \n",
       "748          Retail                  False                    False   \n",
       "749          Retail                  False                    False   \n",
       "\n",
       "     sector_Tertiary Sector  \n",
       "0                     False  \n",
       "1                     False  \n",
       "2                     False  \n",
       "3                     False  \n",
       "4                     False  \n",
       "..                      ...  \n",
       "745                    True  \n",
       "746                    True  \n",
       "747                    True  \n",
       "748                    True  \n",
       "749                    True  \n",
       "\n",
       "[750 rows x 8 columns]"
      ]
     },
     "execution_count": 337,
     "metadata": {},
     "output_type": "execute_result"
    }
   ],
   "source": [
    "combined_df"
   ]
  },
  {
   "cell_type": "code",
   "execution_count": 350,
   "id": "da5874e5",
   "metadata": {},
   "outputs": [],
   "source": [
    "# Data splitting\n",
    "train_size = int(0.7 * len(combined_df)) # 70% for training\n",
    "val_size = int(0.15 * len(combined_df)) # 15% for validation\n",
    "test_size = len(combined_df) - train_size - val_size # remaining 5% for testing\n",
    " \n",
    "train_data = combined_df[:train_size]\n",
    "val_data = combined_df[train_size:train_size + val_size]\n",
    "test_data = combined_df[train_size + val_size:train_size + val_size + test_size]\n",
    "\n",
    "train_data.reset_index(drop=True, inplace=True)\n",
    "val_data.reset_index(drop=True, inplace=True)\n",
    "test_data.reset_index(drop=True, inplace=True)"
   ]
  },
  {
   "cell_type": "code",
   "execution_count": 351,
   "id": "ba5256fa",
   "metadata": {},
   "outputs": [
    {
     "name": "stderr",
     "output_type": "stream",
     "text": [
      "C:\\Users\\digit\\AppData\\Local\\Temp\\ipykernel_20920\\2549986632.py:1: SettingWithCopyWarning:\n",
      "\n",
      "\n",
      "A value is trying to be set on a copy of a slice from a DataFrame.\n",
      "Try using .loc[row_indexer,col_indexer] = value instead\n",
      "\n",
      "See the caveats in the documentation: https://pandas.pydata.org/pandas-docs/stable/user_guide/indexing.html#returning-a-view-versus-a-copy\n",
      "\n",
      "C:\\Users\\digit\\AppData\\Local\\Temp\\ipykernel_20920\\2549986632.py:2: SettingWithCopyWarning:\n",
      "\n",
      "\n",
      "A value is trying to be set on a copy of a slice from a DataFrame.\n",
      "Try using .loc[row_indexer,col_indexer] = value instead\n",
      "\n",
      "See the caveats in the documentation: https://pandas.pydata.org/pandas-docs/stable/user_guide/indexing.html#returning-a-view-versus-a-copy\n",
      "\n",
      "C:\\Users\\digit\\AppData\\Local\\Temp\\ipykernel_20920\\2549986632.py:3: SettingWithCopyWarning:\n",
      "\n",
      "\n",
      "A value is trying to be set on a copy of a slice from a DataFrame.\n",
      "Try using .loc[row_indexer,col_indexer] = value instead\n",
      "\n",
      "See the caveats in the documentation: https://pandas.pydata.org/pandas-docs/stable/user_guide/indexing.html#returning-a-view-versus-a-copy\n",
      "\n",
      "C:\\Users\\digit\\AppData\\Local\\Temp\\ipykernel_20920\\2549986632.py:4: SettingWithCopyWarning:\n",
      "\n",
      "\n",
      "A value is trying to be set on a copy of a slice from a DataFrame.\n",
      "Try using .loc[row_indexer,col_indexer] = value instead\n",
      "\n",
      "See the caveats in the documentation: https://pandas.pydata.org/pandas-docs/stable/user_guide/indexing.html#returning-a-view-versus-a-copy\n",
      "\n",
      "C:\\Users\\digit\\AppData\\Local\\Temp\\ipykernel_20920\\2549986632.py:6: SettingWithCopyWarning:\n",
      "\n",
      "\n",
      "A value is trying to be set on a copy of a slice from a DataFrame.\n",
      "Try using .loc[row_indexer,col_indexer] = value instead\n",
      "\n",
      "See the caveats in the documentation: https://pandas.pydata.org/pandas-docs/stable/user_guide/indexing.html#returning-a-view-versus-a-copy\n",
      "\n",
      "C:\\Users\\digit\\AppData\\Local\\Temp\\ipykernel_20920\\2549986632.py:7: SettingWithCopyWarning:\n",
      "\n",
      "\n",
      "A value is trying to be set on a copy of a slice from a DataFrame.\n",
      "Try using .loc[row_indexer,col_indexer] = value instead\n",
      "\n",
      "See the caveats in the documentation: https://pandas.pydata.org/pandas-docs/stable/user_guide/indexing.html#returning-a-view-versus-a-copy\n",
      "\n",
      "C:\\Users\\digit\\AppData\\Local\\Temp\\ipykernel_20920\\2549986632.py:8: SettingWithCopyWarning:\n",
      "\n",
      "\n",
      "A value is trying to be set on a copy of a slice from a DataFrame.\n",
      "Try using .loc[row_indexer,col_indexer] = value instead\n",
      "\n",
      "See the caveats in the documentation: https://pandas.pydata.org/pandas-docs/stable/user_guide/indexing.html#returning-a-view-versus-a-copy\n",
      "\n",
      "C:\\Users\\digit\\AppData\\Local\\Temp\\ipykernel_20920\\2549986632.py:9: SettingWithCopyWarning:\n",
      "\n",
      "\n",
      "A value is trying to be set on a copy of a slice from a DataFrame.\n",
      "Try using .loc[row_indexer,col_indexer] = value instead\n",
      "\n",
      "See the caveats in the documentation: https://pandas.pydata.org/pandas-docs/stable/user_guide/indexing.html#returning-a-view-versus-a-copy\n",
      "\n",
      "C:\\Users\\digit\\AppData\\Local\\Temp\\ipykernel_20920\\2549986632.py:11: SettingWithCopyWarning:\n",
      "\n",
      "\n",
      "A value is trying to be set on a copy of a slice from a DataFrame.\n",
      "Try using .loc[row_indexer,col_indexer] = value instead\n",
      "\n",
      "See the caveats in the documentation: https://pandas.pydata.org/pandas-docs/stable/user_guide/indexing.html#returning-a-view-versus-a-copy\n",
      "\n",
      "C:\\Users\\digit\\AppData\\Local\\Temp\\ipykernel_20920\\2549986632.py:12: SettingWithCopyWarning:\n",
      "\n",
      "\n",
      "A value is trying to be set on a copy of a slice from a DataFrame.\n",
      "Try using .loc[row_indexer,col_indexer] = value instead\n",
      "\n",
      "See the caveats in the documentation: https://pandas.pydata.org/pandas-docs/stable/user_guide/indexing.html#returning-a-view-versus-a-copy\n",
      "\n",
      "C:\\Users\\digit\\AppData\\Local\\Temp\\ipykernel_20920\\2549986632.py:13: SettingWithCopyWarning:\n",
      "\n",
      "\n",
      "A value is trying to be set on a copy of a slice from a DataFrame.\n",
      "Try using .loc[row_indexer,col_indexer] = value instead\n",
      "\n",
      "See the caveats in the documentation: https://pandas.pydata.org/pandas-docs/stable/user_guide/indexing.html#returning-a-view-versus-a-copy\n",
      "\n",
      "C:\\Users\\digit\\AppData\\Local\\Temp\\ipykernel_20920\\2549986632.py:14: SettingWithCopyWarning:\n",
      "\n",
      "\n",
      "A value is trying to be set on a copy of a slice from a DataFrame.\n",
      "Try using .loc[row_indexer,col_indexer] = value instead\n",
      "\n",
      "See the caveats in the documentation: https://pandas.pydata.org/pandas-docs/stable/user_guide/indexing.html#returning-a-view-versus-a-copy\n",
      "\n"
     ]
    }
   ],
   "source": [
    "train_data['day'] = train_data['date'].dt.day\n",
    "train_data['month'] = train_data['date'].dt.month\n",
    "train_data['year'] = train_data['date'].dt.year\n",
    "train_data['day_of_week'] = train_data['date'].dt.dayofweek\n",
    "\n",
    "val_data['day'] = train_data['date'].dt.day\n",
    "val_data['month'] = train_data['date'].dt.month\n",
    "val_data['year'] = train_data['date'].dt.year\n",
    "val_data['day_of_week'] = train_data['date'].dt.dayofweek\n",
    "\n",
    "test_data['day'] = train_data['date'].dt.day\n",
    "test_data['month'] = train_data['date'].dt.month\n",
    "test_data['year'] = train_data['date'].dt.year\n",
    "test_data['day_of_week'] = train_data['date'].dt.dayofweek"
   ]
  },
  {
   "cell_type": "code",
   "execution_count": 361,
   "id": "664dab94",
   "metadata": {},
   "outputs": [],
   "source": [
    "from sklearn.model_selection import train_test_split\n",
    "from sklearn.linear_model import LinearRegression\n",
    "from sklearn.metrics import mean_squared_error, r2_score, mean_absolute_error"
   ]
  },
  {
   "cell_type": "code",
   "execution_count": 374,
   "id": "91f67cca",
   "metadata": {},
   "outputs": [
    {
     "data": {
      "text/plain": [
       "0      0.417402\n",
       "1      0.723356\n",
       "2     -4.076090\n",
       "3      1.130320\n",
       "4     -0.295664\n",
       "         ...   \n",
       "520    1.559450\n",
       "521    0.829346\n",
       "522   -0.255892\n",
       "523    0.482251\n",
       "524   -1.306400\n",
       "Name: percent_change_next_weeks_price, Length: 525, dtype: float64"
      ]
     },
     "execution_count": 374,
     "metadata": {},
     "output_type": "execute_result"
    }
   ],
   "source": [
    "y_train"
   ]
  },
  {
   "cell_type": "code",
   "execution_count": 357,
   "id": "39ce622b",
   "metadata": {},
   "outputs": [],
   "source": [
    "# split train_data into X_train and y_train\n",
    "# use sector_Primary_Sector, sector_Secondary_Sector, sector_Tertiary_Sector, quarter as X\n",
    "# use percent_change_next_weeks_price as Y\n",
    "\n",
    "X_train = train_data.drop(columns=['percent_change_next_weeks_price', 'industry_sector', 'date','stock'])\n",
    "y_train = train_data['percent_change_next_weeks_price']"
   ]
  },
  {
   "cell_type": "code",
   "execution_count": 356,
   "id": "19a072da",
   "metadata": {},
   "outputs": [],
   "source": [
    "# split val_data and test_data into X_val and y_val & X_test and y_test\n",
    "X_val = val_data.drop(columns=['percent_change_next_weeks_price','industry_sector', 'stock', 'date'])\n",
    "y_val = val_data['percent_change_next_weeks_price']\n",
    "\n",
    "X_test = test_data.drop(columns=['percent_change_next_weeks_price','industry_sector', 'stock', 'date'])\n",
    "y_test = test_data['percent_change_next_weeks_price']"
   ]
  },
  {
   "cell_type": "code",
   "execution_count": null,
   "id": "1504e258",
   "metadata": {},
   "outputs": [],
   "source": [
    "# Experimenting using train_test_split to see if the results differ from above"
   ]
  },
  {
   "cell_type": "code",
   "execution_count": 359,
   "id": "7b42b325",
   "metadata": {
    "scrolled": false
   },
   "outputs": [
    {
     "data": {
      "text/html": [
       "<style>#sk-container-id-2 {color: black;}#sk-container-id-2 pre{padding: 0;}#sk-container-id-2 div.sk-toggleable {background-color: white;}#sk-container-id-2 label.sk-toggleable__label {cursor: pointer;display: block;width: 100%;margin-bottom: 0;padding: 0.3em;box-sizing: border-box;text-align: center;}#sk-container-id-2 label.sk-toggleable__label-arrow:before {content: \"▸\";float: left;margin-right: 0.25em;color: #696969;}#sk-container-id-2 label.sk-toggleable__label-arrow:hover:before {color: black;}#sk-container-id-2 div.sk-estimator:hover label.sk-toggleable__label-arrow:before {color: black;}#sk-container-id-2 div.sk-toggleable__content {max-height: 0;max-width: 0;overflow: hidden;text-align: left;background-color: #f0f8ff;}#sk-container-id-2 div.sk-toggleable__content pre {margin: 0.2em;color: black;border-radius: 0.25em;background-color: #f0f8ff;}#sk-container-id-2 input.sk-toggleable__control:checked~div.sk-toggleable__content {max-height: 200px;max-width: 100%;overflow: auto;}#sk-container-id-2 input.sk-toggleable__control:checked~label.sk-toggleable__label-arrow:before {content: \"▾\";}#sk-container-id-2 div.sk-estimator input.sk-toggleable__control:checked~label.sk-toggleable__label {background-color: #d4ebff;}#sk-container-id-2 div.sk-label input.sk-toggleable__control:checked~label.sk-toggleable__label {background-color: #d4ebff;}#sk-container-id-2 input.sk-hidden--visually {border: 0;clip: rect(1px 1px 1px 1px);clip: rect(1px, 1px, 1px, 1px);height: 1px;margin: -1px;overflow: hidden;padding: 0;position: absolute;width: 1px;}#sk-container-id-2 div.sk-estimator {font-family: monospace;background-color: #f0f8ff;border: 1px dotted black;border-radius: 0.25em;box-sizing: border-box;margin-bottom: 0.5em;}#sk-container-id-2 div.sk-estimator:hover {background-color: #d4ebff;}#sk-container-id-2 div.sk-parallel-item::after {content: \"\";width: 100%;border-bottom: 1px solid gray;flex-grow: 1;}#sk-container-id-2 div.sk-label:hover label.sk-toggleable__label {background-color: #d4ebff;}#sk-container-id-2 div.sk-serial::before {content: \"\";position: absolute;border-left: 1px solid gray;box-sizing: border-box;top: 0;bottom: 0;left: 50%;z-index: 0;}#sk-container-id-2 div.sk-serial {display: flex;flex-direction: column;align-items: center;background-color: white;padding-right: 0.2em;padding-left: 0.2em;position: relative;}#sk-container-id-2 div.sk-item {position: relative;z-index: 1;}#sk-container-id-2 div.sk-parallel {display: flex;align-items: stretch;justify-content: center;background-color: white;position: relative;}#sk-container-id-2 div.sk-item::before, #sk-container-id-2 div.sk-parallel-item::before {content: \"\";position: absolute;border-left: 1px solid gray;box-sizing: border-box;top: 0;bottom: 0;left: 50%;z-index: -1;}#sk-container-id-2 div.sk-parallel-item {display: flex;flex-direction: column;z-index: 1;position: relative;background-color: white;}#sk-container-id-2 div.sk-parallel-item:first-child::after {align-self: flex-end;width: 50%;}#sk-container-id-2 div.sk-parallel-item:last-child::after {align-self: flex-start;width: 50%;}#sk-container-id-2 div.sk-parallel-item:only-child::after {width: 0;}#sk-container-id-2 div.sk-dashed-wrapped {border: 1px dashed gray;margin: 0 0.4em 0.5em 0.4em;box-sizing: border-box;padding-bottom: 0.4em;background-color: white;}#sk-container-id-2 div.sk-label label {font-family: monospace;font-weight: bold;display: inline-block;line-height: 1.2em;}#sk-container-id-2 div.sk-label-container {text-align: center;}#sk-container-id-2 div.sk-container {/* jupyter's `normalize.less` sets `[hidden] { display: none; }` but bootstrap.min.css set `[hidden] { display: none !important; }` so we also need the `!important` here to be able to override the default hidden behavior on the sphinx rendered scikit-learn.org. See: https://github.com/scikit-learn/scikit-learn/issues/21755 */display: inline-block !important;position: relative;}#sk-container-id-2 div.sk-text-repr-fallback {display: none;}</style><div id=\"sk-container-id-2\" class=\"sk-top-container\"><div class=\"sk-text-repr-fallback\"><pre>LinearRegression()</pre><b>In a Jupyter environment, please rerun this cell to show the HTML representation or trust the notebook. <br />On GitHub, the HTML representation is unable to render, please try loading this page with nbviewer.org.</b></div><div class=\"sk-container\" hidden><div class=\"sk-item\"><div class=\"sk-estimator sk-toggleable\"><input class=\"sk-toggleable__control sk-hidden--visually\" id=\"sk-estimator-id-2\" type=\"checkbox\" checked><label for=\"sk-estimator-id-2\" class=\"sk-toggleable__label sk-toggleable__label-arrow\">LinearRegression</label><div class=\"sk-toggleable__content\"><pre>LinearRegression()</pre></div></div></div></div></div>"
      ],
      "text/plain": [
       "LinearRegression()"
      ]
     },
     "execution_count": 359,
     "metadata": {},
     "output_type": "execute_result"
    }
   ],
   "source": [
    "linear_model = LinearRegression()\n",
    "linear_model.fit(X_train, y_train)"
   ]
  },
  {
   "cell_type": "code",
   "execution_count": 363,
   "id": "13ba3756",
   "metadata": {},
   "outputs": [
    {
     "name": "stdout",
     "output_type": "stream",
     "text": [
      "Mean Squared Error: 6.86525904030559\n",
      "Root Mean Squared Error: 2.620163933860931\n",
      "Mean Absolute Error: 1.943607740215439\n",
      "R-Squared: -0.13553384762941434\n"
     ]
    }
   ],
   "source": [
    "linear_model = LinearRegression()\n",
    "linear_model.fit(X_train, y_train)\n",
    "\n",
    "y_pred = linear_model.predict(X_val)\n",
    "mse = mean_squared_error(y_val, y_pred)\n",
    "rmse= np.sqrt(mse)\n",
    "mae= mean_absolute_error(y_val, y_pred)\n",
    "r_squared = r2_score(y_val, y_pred)\n",
    "\n",
    "print(f\"Mean Squared Error: {mse}\")\n",
    "print(f\"Root Mean Squared Error: {rmse}\")\n",
    "print(f\"Mean Absolute Error: {mae}\")\n",
    "print(f\"R-Squared: {r_squared}\")"
   ]
  },
  {
   "cell_type": "code",
   "execution_count": 364,
   "id": "4bc6a7e2",
   "metadata": {},
   "outputs": [],
   "source": [
    "y_pred_test = linear_model.predict(X_test)"
   ]
  },
  {
   "cell_type": "code",
   "execution_count": 366,
   "id": "0a2b9f11",
   "metadata": {},
   "outputs": [],
   "source": [
    "coefficients = linear_model.coef_\n",
    "intercept = linear_model.intercept_"
   ]
  },
  {
   "cell_type": "markdown",
   "id": "d117cda5",
   "metadata": {},
   "source": [
    "# Decision Tree Regressor"
   ]
  },
  {
   "cell_type": "code",
   "execution_count": 368,
   "id": "78fae5fe",
   "metadata": {},
   "outputs": [],
   "source": [
    "from sklearn.tree import DecisionTreeRegressor\n",
    "from sklearn.metrics import mean_squared_error, mean_absolute_error, r2_score"
   ]
  },
  {
   "cell_type": "code",
   "execution_count": 369,
   "id": "1d563ab3",
   "metadata": {},
   "outputs": [
    {
     "data": {
      "text/html": [
       "<style>#sk-container-id-3 {color: black;}#sk-container-id-3 pre{padding: 0;}#sk-container-id-3 div.sk-toggleable {background-color: white;}#sk-container-id-3 label.sk-toggleable__label {cursor: pointer;display: block;width: 100%;margin-bottom: 0;padding: 0.3em;box-sizing: border-box;text-align: center;}#sk-container-id-3 label.sk-toggleable__label-arrow:before {content: \"▸\";float: left;margin-right: 0.25em;color: #696969;}#sk-container-id-3 label.sk-toggleable__label-arrow:hover:before {color: black;}#sk-container-id-3 div.sk-estimator:hover label.sk-toggleable__label-arrow:before {color: black;}#sk-container-id-3 div.sk-toggleable__content {max-height: 0;max-width: 0;overflow: hidden;text-align: left;background-color: #f0f8ff;}#sk-container-id-3 div.sk-toggleable__content pre {margin: 0.2em;color: black;border-radius: 0.25em;background-color: #f0f8ff;}#sk-container-id-3 input.sk-toggleable__control:checked~div.sk-toggleable__content {max-height: 200px;max-width: 100%;overflow: auto;}#sk-container-id-3 input.sk-toggleable__control:checked~label.sk-toggleable__label-arrow:before {content: \"▾\";}#sk-container-id-3 div.sk-estimator input.sk-toggleable__control:checked~label.sk-toggleable__label {background-color: #d4ebff;}#sk-container-id-3 div.sk-label input.sk-toggleable__control:checked~label.sk-toggleable__label {background-color: #d4ebff;}#sk-container-id-3 input.sk-hidden--visually {border: 0;clip: rect(1px 1px 1px 1px);clip: rect(1px, 1px, 1px, 1px);height: 1px;margin: -1px;overflow: hidden;padding: 0;position: absolute;width: 1px;}#sk-container-id-3 div.sk-estimator {font-family: monospace;background-color: #f0f8ff;border: 1px dotted black;border-radius: 0.25em;box-sizing: border-box;margin-bottom: 0.5em;}#sk-container-id-3 div.sk-estimator:hover {background-color: #d4ebff;}#sk-container-id-3 div.sk-parallel-item::after {content: \"\";width: 100%;border-bottom: 1px solid gray;flex-grow: 1;}#sk-container-id-3 div.sk-label:hover label.sk-toggleable__label {background-color: #d4ebff;}#sk-container-id-3 div.sk-serial::before {content: \"\";position: absolute;border-left: 1px solid gray;box-sizing: border-box;top: 0;bottom: 0;left: 50%;z-index: 0;}#sk-container-id-3 div.sk-serial {display: flex;flex-direction: column;align-items: center;background-color: white;padding-right: 0.2em;padding-left: 0.2em;position: relative;}#sk-container-id-3 div.sk-item {position: relative;z-index: 1;}#sk-container-id-3 div.sk-parallel {display: flex;align-items: stretch;justify-content: center;background-color: white;position: relative;}#sk-container-id-3 div.sk-item::before, #sk-container-id-3 div.sk-parallel-item::before {content: \"\";position: absolute;border-left: 1px solid gray;box-sizing: border-box;top: 0;bottom: 0;left: 50%;z-index: -1;}#sk-container-id-3 div.sk-parallel-item {display: flex;flex-direction: column;z-index: 1;position: relative;background-color: white;}#sk-container-id-3 div.sk-parallel-item:first-child::after {align-self: flex-end;width: 50%;}#sk-container-id-3 div.sk-parallel-item:last-child::after {align-self: flex-start;width: 50%;}#sk-container-id-3 div.sk-parallel-item:only-child::after {width: 0;}#sk-container-id-3 div.sk-dashed-wrapped {border: 1px dashed gray;margin: 0 0.4em 0.5em 0.4em;box-sizing: border-box;padding-bottom: 0.4em;background-color: white;}#sk-container-id-3 div.sk-label label {font-family: monospace;font-weight: bold;display: inline-block;line-height: 1.2em;}#sk-container-id-3 div.sk-label-container {text-align: center;}#sk-container-id-3 div.sk-container {/* jupyter's `normalize.less` sets `[hidden] { display: none; }` but bootstrap.min.css set `[hidden] { display: none !important; }` so we also need the `!important` here to be able to override the default hidden behavior on the sphinx rendered scikit-learn.org. See: https://github.com/scikit-learn/scikit-learn/issues/21755 */display: inline-block !important;position: relative;}#sk-container-id-3 div.sk-text-repr-fallback {display: none;}</style><div id=\"sk-container-id-3\" class=\"sk-top-container\"><div class=\"sk-text-repr-fallback\"><pre>DecisionTreeRegressor(random_state=42)</pre><b>In a Jupyter environment, please rerun this cell to show the HTML representation or trust the notebook. <br />On GitHub, the HTML representation is unable to render, please try loading this page with nbviewer.org.</b></div><div class=\"sk-container\" hidden><div class=\"sk-item\"><div class=\"sk-estimator sk-toggleable\"><input class=\"sk-toggleable__control sk-hidden--visually\" id=\"sk-estimator-id-3\" type=\"checkbox\" checked><label for=\"sk-estimator-id-3\" class=\"sk-toggleable__label sk-toggleable__label-arrow\">DecisionTreeRegressor</label><div class=\"sk-toggleable__content\"><pre>DecisionTreeRegressor(random_state=42)</pre></div></div></div></div></div>"
      ],
      "text/plain": [
       "DecisionTreeRegressor(random_state=42)"
      ]
     },
     "execution_count": 369,
     "metadata": {},
     "output_type": "execute_result"
    }
   ],
   "source": [
    "decision_tree_model = DecisionTreeRegressor(random_state=42)\n",
    "decision_tree_model.fit(X_train, y_train)"
   ]
  },
  {
   "cell_type": "code",
   "execution_count": 370,
   "id": "cb8fd9bf",
   "metadata": {},
   "outputs": [],
   "source": [
    "y_pred = decision_tree_model.predict(X_val)"
   ]
  },
  {
   "cell_type": "code",
   "execution_count": 371,
   "id": "b5feef97",
   "metadata": {},
   "outputs": [
    {
     "name": "stdout",
     "output_type": "stream",
     "text": [
      "Mean Squared Error: 9.67712289739015\n",
      "Root Mean Squared Error: 3.1108074349580286\n",
      "Mean Absolute Error: 2.4337293924532313\n",
      "R-Squared: -0.6006243221329359\n"
     ]
    }
   ],
   "source": [
    "mse = mean_squared_error(y_val, y_pred)\n",
    "rmse= np.sqrt(mse)\n",
    "mae= mean_absolute_error(y_val, y_pred)\n",
    "r_squared = r2_score(y_val, y_pred)\n",
    "\n",
    "print(f\"Mean Squared Error: {mse}\")\n",
    "print(f\"Root Mean Squared Error: {rmse}\")\n",
    "print(f\"Mean Absolute Error: {mae}\")\n",
    "print(f\"R-Squared: {r_squared}\")"
   ]
  },
  {
   "cell_type": "markdown",
   "id": "3def764a",
   "metadata": {},
   "source": [
    "# Random Forest Regressor"
   ]
  },
  {
   "cell_type": "code",
   "execution_count": 372,
   "id": "a660b407",
   "metadata": {},
   "outputs": [],
   "source": [
    "from sklearn.ensemble import RandomForestRegressor"
   ]
  },
  {
   "cell_type": "code",
   "execution_count": 373,
   "id": "4cfb9729",
   "metadata": {},
   "outputs": [
    {
     "name": "stdout",
     "output_type": "stream",
     "text": [
      "Mean Squared Error: 9.235121954926365\n",
      "Root Mean Squared Error: 3.0389343452806554\n",
      "Mean Absolute Error: 2.390187313072879\n",
      "R-Squared: -0.527516078451953\n"
     ]
    }
   ],
   "source": [
    "rf_model = RandomForestRegressor(random_state=42)\n",
    "rf_model.fit(X_train,y_train)\n",
    "\n",
    "\n",
    "y_pred = rf_model.predict(X_val)\n",
    "\n",
    "mse = mean_squared_error(y_val, y_pred)\n",
    "rmse= np.sqrt(mse)\n",
    "mae= mean_absolute_error(y_val, y_pred)\n",
    "r_squared = r2_score(y_val, y_pred)\n",
    "\n",
    "print(f\"Mean Squared Error: {mse}\")\n",
    "print(f\"Root Mean Squared Error: {rmse}\")\n",
    "print(f\"Mean Absolute Error: {mae}\")\n",
    "print(f\"R-Squared: {r_squared}\")"
   ]
  },
  {
   "cell_type": "markdown",
   "id": "3eeb44a0",
   "metadata": {},
   "source": [
    "Traditional regression methods, including linear regression, decision tree regression, and random forest regression, were initially considered for analyzing stock returns. However, these models provded unsuitable for several reasons.\n",
    "\n",
    "1) The dataset's complex composition, with multiple sectors and clusters, introduced non-linearity that regression models could not effectively capture.\n",
    "\n",
    "2) The inherent characteristics of stock returns and the interplay of various factors violated key assumptions of linear regression, rendering it inappropriate for the data.\n",
    "\n",
    "3) Linear regresson, decision tree and random forest regression models does not fit the data due to negative R-squared values, limiting their ability to generalize unseen data effectively.\n",
    "\n",
    "4) I decided to identify meaningful clusters within the data for which agglomerative clustering is suited for. This offers an approach towards a more cluster-centric analysus which aligns with the dataset's natural structure."
   ]
  },
  {
   "cell_type": "markdown",
   "id": "d22f11a4",
   "metadata": {},
   "source": [
    "# Agglomerative Clustering Algorithm (unsupervised learning)\n",
    "\n",
    "The agglomerative clustering algortithm (unsupervised learning) allows me to group stocks (companies) into clusters based on their price changes; cluster that performs better and the other cluster that performs less. I found that each sector was divided into 2 clusters that can be analyzed further to understand how the stocks within those 2 clusters differ in terms of price changes.\n",
    "\n",
    "Dendogram, while initially considered, had to be discarded due to not providing a clear and interpretable representation of the data in favour of bar plots with standard error."
   ]
  },
  {
   "cell_type": "code",
   "execution_count": 442,
   "id": "0c042762",
   "metadata": {},
   "outputs": [],
   "source": [
    "# Create separate dataframes for each sector\n",
    "pri_sector_df = combined_df[combined_df['sector_Primary Sector'] == 1]\n",
    "sec_sector_df = combined_df[combined_df['sector_Secondary Sector'] == 1]\n",
    "ter_sector_df = combined_df[combined_df['sector_Tertiary Sector'] == 1]"
   ]
  },
  {
   "cell_type": "code",
   "execution_count": 507,
   "id": "012c26ce",
   "metadata": {},
   "outputs": [
    {
     "name": "stdout",
     "output_type": "stream",
     "text": [
      "Optimal No of clusters for primary sector 2\n"
     ]
    }
   ],
   "source": [
    "from sklearn.cluster import AgglomerativeClustering\n",
    "from sklearn.metrics import silhouette_score\n",
    "\n",
    "silhouette_scores = []\n",
    "range_n_clusters = range(2,11)\n",
    "for n_clusters in range_n_clusters:\n",
    "    agg_cluster= AgglomerativeClustering(n_clusters=n_clusters, linkage='ward')\n",
    "    cluster_labels= agg_cluster.fit_predict(pri_sector_df)\n",
    "    silhouette_avg = silhouette_score(pri_sector_df, cluster_labels)\n",
    "    silhouette_scores.append(silhouette_avg)\n",
    "    \n",
    "optimal_n_clusters = range_n_clusters[silhouette_scores.index(max(silhouette_scores))]\n",
    "\n",
    "print(\"Optimal No of clusters for primary sector\", optimal_n_clusters)"
   ]
  },
  {
   "cell_type": "code",
   "execution_count": 508,
   "id": "50352096",
   "metadata": {},
   "outputs": [
    {
     "name": "stdout",
     "output_type": "stream",
     "text": [
      "Silhouette Score: 0.40\n"
     ]
    }
   ],
   "source": [
    "silhouette_avg = silhouette_score(pri_sector_df, cluster_labels)\n",
    "print(f\"Silhouette Score: {silhouette_avg:.2f}\")"
   ]
  },
  {
   "cell_type": "code",
   "execution_count": 509,
   "id": "dfa9026e",
   "metadata": {},
   "outputs": [
    {
     "name": "stdout",
     "output_type": "stream",
     "text": [
      "Optimal No of clusters for secondary sector 2\n"
     ]
    }
   ],
   "source": [
    "silhouette_scores = []\n",
    "range_n_clusters = range(2,11)\n",
    "for n_clusters in range_n_clusters:\n",
    "    agg_cluster= AgglomerativeClustering(n_clusters=n_clusters, linkage='ward')\n",
    "    cluster_labels= agg_cluster.fit_predict(sec_sector_df)\n",
    "    silhouette_avg = silhouette_score(sec_sector_df, cluster_labels)\n",
    "    silhouette_scores.append(silhouette_avg)\n",
    "    \n",
    "optimal_n_clusters = range_n_clusters[silhouette_scores.index(max(silhouette_scores))]\n",
    "\n",
    "print(\"Optimal No of clusters for secondary sector\", optimal_n_clusters)"
   ]
  },
  {
   "cell_type": "code",
   "execution_count": 510,
   "id": "342cacb6",
   "metadata": {},
   "outputs": [
    {
     "name": "stdout",
     "output_type": "stream",
     "text": [
      "Silhouette Score: 0.32\n"
     ]
    }
   ],
   "source": [
    "silhouette_avg = silhouette_score(sec_sector_df, cluster_labels)\n",
    "print(f\"Silhouette Score: {silhouette_avg:.2f}\")"
   ]
  },
  {
   "cell_type": "code",
   "execution_count": 511,
   "id": "1d058260",
   "metadata": {
    "scrolled": true
   },
   "outputs": [
    {
     "name": "stdout",
     "output_type": "stream",
     "text": [
      "Optimal No of clusters for tertiary sector 2\n"
     ]
    }
   ],
   "source": [
    "silhouette_scores = []\n",
    "range_n_clusters = range(2,11)\n",
    "for n_clusters in range_n_clusters:\n",
    "    agg_cluster= AgglomerativeClustering(n_clusters=n_clusters, linkage='ward')\n",
    "    cluster_labels= agg_cluster.fit_predict(ter_sector_df)\n",
    "    silhouette_avg = silhouette_score(ter_sector_df, cluster_labels)\n",
    "    silhouette_scores.append(silhouette_avg)\n",
    "    \n",
    "optimal_n_clusters = range_n_clusters[silhouette_scores.index(max(silhouette_scores))]\n",
    "\n",
    "print(\"Optimal No of clusters for tertiary sector\", optimal_n_clusters)"
   ]
  },
  {
   "cell_type": "code",
   "execution_count": 512,
   "id": "e8b3ce18",
   "metadata": {},
   "outputs": [
    {
     "name": "stdout",
     "output_type": "stream",
     "text": [
      "Silhouette Score: 0.34\n"
     ]
    }
   ],
   "source": [
    "silhouette_avg = silhouette_score(ter_sector_df, cluster_labels)\n",
    "print(f\"Silhouette Score: {silhouette_avg:.2f}\")"
   ]
  },
  {
   "cell_type": "code",
   "execution_count": 514,
   "id": "a48c38ee",
   "metadata": {},
   "outputs": [
    {
     "name": "stdout",
     "output_type": "stream",
     "text": [
      "Training time: 0.00 seconds\n"
     ]
    }
   ],
   "source": [
    "import time\n",
    "start_time = time.time()\n",
    "n_clusters = 2\n",
    "agg_cluster = AgglomerativeClustering(n_clusters=n_clusters, linkage='ward')\n",
    "pri_cluster_labels = agg_cluster.fit_predict(pri_sector_df)\n",
    "training_time = time.time() - start_time\n",
    "\n",
    "pri_sector_df_copy = pri_sector_df.copy()\n",
    "pri_sector_df_copy['Cluster']= pri_cluster_labels\n",
    "print(f\"Training time: {training_time:.2f} seconds\")"
   ]
  },
  {
   "cell_type": "code",
   "execution_count": 475,
   "id": "73629cf6",
   "metadata": {},
   "outputs": [
    {
     "data": {
      "application/vnd.plotly.v1+json": {
       "config": {
        "plotlyServerURL": "https://plot.ly"
       },
       "data": [
        {
         "alignmentgroup": "True",
         "hovertemplate": "Cluster=%{x}<br>percent_change_next_weeks_price=%{y}<extra></extra>",
         "legendgroup": "",
         "marker": {
          "color": "#636efa"
         },
         "name": "",
         "notched": false,
         "offsetgroup": "",
         "orientation": "v",
         "showlegend": false,
         "type": "box",
         "x": [
          1,
          0,
          0,
          0,
          1,
          0,
          0,
          0,
          1,
          0,
          0,
          0,
          1,
          0,
          0,
          0,
          1,
          0,
          0,
          0,
          1,
          0,
          0,
          0,
          1,
          0,
          0,
          0,
          1,
          0,
          0,
          0,
          1,
          0,
          0,
          0,
          1,
          0,
          0,
          0,
          1,
          0,
          0,
          0,
          1,
          0,
          0,
          0,
          1,
          1,
          0,
          0,
          0,
          1,
          0,
          0,
          0,
          1,
          1,
          0,
          0,
          1,
          1,
          0,
          0,
          0,
          1,
          0,
          0,
          0,
          1,
          1,
          0,
          0,
          1,
          1,
          0,
          0,
          0,
          1,
          0,
          0,
          0,
          1,
          1,
          0,
          0,
          1,
          1,
          0,
          0,
          0,
          1,
          0,
          0,
          0,
          1,
          1,
          0,
          0
         ],
         "x0": " ",
         "xaxis": "x",
         "y": [
          0.417402,
          0.723356,
          -4.07609,
          1.13032,
          -0.295664,
          0.692042,
          -1.71391,
          1.88553,
          -2.2917,
          -1.54648,
          0.528379,
          0.8647,
          0.685805,
          -0.696092,
          -1.04979,
          0.385109,
          1.43609,
          1.38213,
          1.49937,
          1.62069,
          -0.780772,
          -2.54896,
          3.31063,
          3.09816,
          -0.385424,
          -0.770578,
          -3.40829,
          2.00584,
          1.78763,
          0.598592,
          -0.670904,
          -1.16814,
          1.82469,
          -1.34181,
          0.278067,
          5.51344,
          -2.98222,
          -1.21538,
          2.15023,
          1.87991,
          0.247934,
          0.853759,
          -0.745033,
          0.0554631,
          -0.774979,
          0.279799,
          1.71849,
          2.75107,
          -0.0672269,
          1.71313,
          5.98842,
          3.25216,
          -0.986044,
          2.31915,
          -1.08417,
          2.42368,
          -1.81251,
          0.333991,
          -0.0452352,
          -1.54358,
          3.22086,
          0.0743826,
          1.13011,
          0.458783,
          -0.721118,
          -1.26919,
          1.97427,
          0.293686,
          -1.59787,
          -2.10636,
          -0.183178,
          0.798771,
          -0.673092,
          4.99614,
          -0.0975927,
          -0.325203,
          0.854701,
          1.46723,
          -1.07595,
          0.673077,
          0,
          0.935484,
          -2.63659,
          -0.687398,
          1.61823,
          -0.717547,
          3.36052,
          -2.10226,
          0.264901,
          -1.83511,
          1.9153,
          -2.73937,
          -0.0536481,
          -0.295223,
          -0.217687,
          -3.46789,
          -1.06832,
          0.794777,
          1.83876,
          5
         ],
         "y0": " ",
         "yaxis": "y"
        }
       ],
       "layout": {
        "boxmode": "group",
        "legend": {
         "tracegroupgap": 0
        },
        "margin": {
         "t": 60
        },
        "template": {
         "data": {
          "bar": [
           {
            "error_x": {
             "color": "#2a3f5f"
            },
            "error_y": {
             "color": "#2a3f5f"
            },
            "marker": {
             "line": {
              "color": "#E5ECF6",
              "width": 0.5
             },
             "pattern": {
              "fillmode": "overlay",
              "size": 10,
              "solidity": 0.2
             }
            },
            "type": "bar"
           }
          ],
          "barpolar": [
           {
            "marker": {
             "line": {
              "color": "#E5ECF6",
              "width": 0.5
             },
             "pattern": {
              "fillmode": "overlay",
              "size": 10,
              "solidity": 0.2
             }
            },
            "type": "barpolar"
           }
          ],
          "carpet": [
           {
            "aaxis": {
             "endlinecolor": "#2a3f5f",
             "gridcolor": "white",
             "linecolor": "white",
             "minorgridcolor": "white",
             "startlinecolor": "#2a3f5f"
            },
            "baxis": {
             "endlinecolor": "#2a3f5f",
             "gridcolor": "white",
             "linecolor": "white",
             "minorgridcolor": "white",
             "startlinecolor": "#2a3f5f"
            },
            "type": "carpet"
           }
          ],
          "choropleth": [
           {
            "colorbar": {
             "outlinewidth": 0,
             "ticks": ""
            },
            "type": "choropleth"
           }
          ],
          "contour": [
           {
            "colorbar": {
             "outlinewidth": 0,
             "ticks": ""
            },
            "colorscale": [
             [
              0,
              "#0d0887"
             ],
             [
              0.1111111111111111,
              "#46039f"
             ],
             [
              0.2222222222222222,
              "#7201a8"
             ],
             [
              0.3333333333333333,
              "#9c179e"
             ],
             [
              0.4444444444444444,
              "#bd3786"
             ],
             [
              0.5555555555555556,
              "#d8576b"
             ],
             [
              0.6666666666666666,
              "#ed7953"
             ],
             [
              0.7777777777777778,
              "#fb9f3a"
             ],
             [
              0.8888888888888888,
              "#fdca26"
             ],
             [
              1,
              "#f0f921"
             ]
            ],
            "type": "contour"
           }
          ],
          "contourcarpet": [
           {
            "colorbar": {
             "outlinewidth": 0,
             "ticks": ""
            },
            "type": "contourcarpet"
           }
          ],
          "heatmap": [
           {
            "colorbar": {
             "outlinewidth": 0,
             "ticks": ""
            },
            "colorscale": [
             [
              0,
              "#0d0887"
             ],
             [
              0.1111111111111111,
              "#46039f"
             ],
             [
              0.2222222222222222,
              "#7201a8"
             ],
             [
              0.3333333333333333,
              "#9c179e"
             ],
             [
              0.4444444444444444,
              "#bd3786"
             ],
             [
              0.5555555555555556,
              "#d8576b"
             ],
             [
              0.6666666666666666,
              "#ed7953"
             ],
             [
              0.7777777777777778,
              "#fb9f3a"
             ],
             [
              0.8888888888888888,
              "#fdca26"
             ],
             [
              1,
              "#f0f921"
             ]
            ],
            "type": "heatmap"
           }
          ],
          "heatmapgl": [
           {
            "colorbar": {
             "outlinewidth": 0,
             "ticks": ""
            },
            "colorscale": [
             [
              0,
              "#0d0887"
             ],
             [
              0.1111111111111111,
              "#46039f"
             ],
             [
              0.2222222222222222,
              "#7201a8"
             ],
             [
              0.3333333333333333,
              "#9c179e"
             ],
             [
              0.4444444444444444,
              "#bd3786"
             ],
             [
              0.5555555555555556,
              "#d8576b"
             ],
             [
              0.6666666666666666,
              "#ed7953"
             ],
             [
              0.7777777777777778,
              "#fb9f3a"
             ],
             [
              0.8888888888888888,
              "#fdca26"
             ],
             [
              1,
              "#f0f921"
             ]
            ],
            "type": "heatmapgl"
           }
          ],
          "histogram": [
           {
            "marker": {
             "pattern": {
              "fillmode": "overlay",
              "size": 10,
              "solidity": 0.2
             }
            },
            "type": "histogram"
           }
          ],
          "histogram2d": [
           {
            "colorbar": {
             "outlinewidth": 0,
             "ticks": ""
            },
            "colorscale": [
             [
              0,
              "#0d0887"
             ],
             [
              0.1111111111111111,
              "#46039f"
             ],
             [
              0.2222222222222222,
              "#7201a8"
             ],
             [
              0.3333333333333333,
              "#9c179e"
             ],
             [
              0.4444444444444444,
              "#bd3786"
             ],
             [
              0.5555555555555556,
              "#d8576b"
             ],
             [
              0.6666666666666666,
              "#ed7953"
             ],
             [
              0.7777777777777778,
              "#fb9f3a"
             ],
             [
              0.8888888888888888,
              "#fdca26"
             ],
             [
              1,
              "#f0f921"
             ]
            ],
            "type": "histogram2d"
           }
          ],
          "histogram2dcontour": [
           {
            "colorbar": {
             "outlinewidth": 0,
             "ticks": ""
            },
            "colorscale": [
             [
              0,
              "#0d0887"
             ],
             [
              0.1111111111111111,
              "#46039f"
             ],
             [
              0.2222222222222222,
              "#7201a8"
             ],
             [
              0.3333333333333333,
              "#9c179e"
             ],
             [
              0.4444444444444444,
              "#bd3786"
             ],
             [
              0.5555555555555556,
              "#d8576b"
             ],
             [
              0.6666666666666666,
              "#ed7953"
             ],
             [
              0.7777777777777778,
              "#fb9f3a"
             ],
             [
              0.8888888888888888,
              "#fdca26"
             ],
             [
              1,
              "#f0f921"
             ]
            ],
            "type": "histogram2dcontour"
           }
          ],
          "mesh3d": [
           {
            "colorbar": {
             "outlinewidth": 0,
             "ticks": ""
            },
            "type": "mesh3d"
           }
          ],
          "parcoords": [
           {
            "line": {
             "colorbar": {
              "outlinewidth": 0,
              "ticks": ""
             }
            },
            "type": "parcoords"
           }
          ],
          "pie": [
           {
            "automargin": true,
            "type": "pie"
           }
          ],
          "scatter": [
           {
            "fillpattern": {
             "fillmode": "overlay",
             "size": 10,
             "solidity": 0.2
            },
            "type": "scatter"
           }
          ],
          "scatter3d": [
           {
            "line": {
             "colorbar": {
              "outlinewidth": 0,
              "ticks": ""
             }
            },
            "marker": {
             "colorbar": {
              "outlinewidth": 0,
              "ticks": ""
             }
            },
            "type": "scatter3d"
           }
          ],
          "scattercarpet": [
           {
            "marker": {
             "colorbar": {
              "outlinewidth": 0,
              "ticks": ""
             }
            },
            "type": "scattercarpet"
           }
          ],
          "scattergeo": [
           {
            "marker": {
             "colorbar": {
              "outlinewidth": 0,
              "ticks": ""
             }
            },
            "type": "scattergeo"
           }
          ],
          "scattergl": [
           {
            "marker": {
             "colorbar": {
              "outlinewidth": 0,
              "ticks": ""
             }
            },
            "type": "scattergl"
           }
          ],
          "scattermapbox": [
           {
            "marker": {
             "colorbar": {
              "outlinewidth": 0,
              "ticks": ""
             }
            },
            "type": "scattermapbox"
           }
          ],
          "scatterpolar": [
           {
            "marker": {
             "colorbar": {
              "outlinewidth": 0,
              "ticks": ""
             }
            },
            "type": "scatterpolar"
           }
          ],
          "scatterpolargl": [
           {
            "marker": {
             "colorbar": {
              "outlinewidth": 0,
              "ticks": ""
             }
            },
            "type": "scatterpolargl"
           }
          ],
          "scatterternary": [
           {
            "marker": {
             "colorbar": {
              "outlinewidth": 0,
              "ticks": ""
             }
            },
            "type": "scatterternary"
           }
          ],
          "surface": [
           {
            "colorbar": {
             "outlinewidth": 0,
             "ticks": ""
            },
            "colorscale": [
             [
              0,
              "#0d0887"
             ],
             [
              0.1111111111111111,
              "#46039f"
             ],
             [
              0.2222222222222222,
              "#7201a8"
             ],
             [
              0.3333333333333333,
              "#9c179e"
             ],
             [
              0.4444444444444444,
              "#bd3786"
             ],
             [
              0.5555555555555556,
              "#d8576b"
             ],
             [
              0.6666666666666666,
              "#ed7953"
             ],
             [
              0.7777777777777778,
              "#fb9f3a"
             ],
             [
              0.8888888888888888,
              "#fdca26"
             ],
             [
              1,
              "#f0f921"
             ]
            ],
            "type": "surface"
           }
          ],
          "table": [
           {
            "cells": {
             "fill": {
              "color": "#EBF0F8"
             },
             "line": {
              "color": "white"
             }
            },
            "header": {
             "fill": {
              "color": "#C8D4E3"
             },
             "line": {
              "color": "white"
             }
            },
            "type": "table"
           }
          ]
         },
         "layout": {
          "annotationdefaults": {
           "arrowcolor": "#2a3f5f",
           "arrowhead": 0,
           "arrowwidth": 1
          },
          "autotypenumbers": "strict",
          "coloraxis": {
           "colorbar": {
            "outlinewidth": 0,
            "ticks": ""
           }
          },
          "colorscale": {
           "diverging": [
            [
             0,
             "#8e0152"
            ],
            [
             0.1,
             "#c51b7d"
            ],
            [
             0.2,
             "#de77ae"
            ],
            [
             0.3,
             "#f1b6da"
            ],
            [
             0.4,
             "#fde0ef"
            ],
            [
             0.5,
             "#f7f7f7"
            ],
            [
             0.6,
             "#e6f5d0"
            ],
            [
             0.7,
             "#b8e186"
            ],
            [
             0.8,
             "#7fbc41"
            ],
            [
             0.9,
             "#4d9221"
            ],
            [
             1,
             "#276419"
            ]
           ],
           "sequential": [
            [
             0,
             "#0d0887"
            ],
            [
             0.1111111111111111,
             "#46039f"
            ],
            [
             0.2222222222222222,
             "#7201a8"
            ],
            [
             0.3333333333333333,
             "#9c179e"
            ],
            [
             0.4444444444444444,
             "#bd3786"
            ],
            [
             0.5555555555555556,
             "#d8576b"
            ],
            [
             0.6666666666666666,
             "#ed7953"
            ],
            [
             0.7777777777777778,
             "#fb9f3a"
            ],
            [
             0.8888888888888888,
             "#fdca26"
            ],
            [
             1,
             "#f0f921"
            ]
           ],
           "sequentialminus": [
            [
             0,
             "#0d0887"
            ],
            [
             0.1111111111111111,
             "#46039f"
            ],
            [
             0.2222222222222222,
             "#7201a8"
            ],
            [
             0.3333333333333333,
             "#9c179e"
            ],
            [
             0.4444444444444444,
             "#bd3786"
            ],
            [
             0.5555555555555556,
             "#d8576b"
            ],
            [
             0.6666666666666666,
             "#ed7953"
            ],
            [
             0.7777777777777778,
             "#fb9f3a"
            ],
            [
             0.8888888888888888,
             "#fdca26"
            ],
            [
             1,
             "#f0f921"
            ]
           ]
          },
          "colorway": [
           "#636efa",
           "#EF553B",
           "#00cc96",
           "#ab63fa",
           "#FFA15A",
           "#19d3f3",
           "#FF6692",
           "#B6E880",
           "#FF97FF",
           "#FECB52"
          ],
          "font": {
           "color": "#2a3f5f"
          },
          "geo": {
           "bgcolor": "white",
           "lakecolor": "white",
           "landcolor": "#E5ECF6",
           "showlakes": true,
           "showland": true,
           "subunitcolor": "white"
          },
          "hoverlabel": {
           "align": "left"
          },
          "hovermode": "closest",
          "mapbox": {
           "style": "light"
          },
          "paper_bgcolor": "white",
          "plot_bgcolor": "#E5ECF6",
          "polar": {
           "angularaxis": {
            "gridcolor": "white",
            "linecolor": "white",
            "ticks": ""
           },
           "bgcolor": "#E5ECF6",
           "radialaxis": {
            "gridcolor": "white",
            "linecolor": "white",
            "ticks": ""
           }
          },
          "scene": {
           "xaxis": {
            "backgroundcolor": "#E5ECF6",
            "gridcolor": "white",
            "gridwidth": 2,
            "linecolor": "white",
            "showbackground": true,
            "ticks": "",
            "zerolinecolor": "white"
           },
           "yaxis": {
            "backgroundcolor": "#E5ECF6",
            "gridcolor": "white",
            "gridwidth": 2,
            "linecolor": "white",
            "showbackground": true,
            "ticks": "",
            "zerolinecolor": "white"
           },
           "zaxis": {
            "backgroundcolor": "#E5ECF6",
            "gridcolor": "white",
            "gridwidth": 2,
            "linecolor": "white",
            "showbackground": true,
            "ticks": "",
            "zerolinecolor": "white"
           }
          },
          "shapedefaults": {
           "line": {
            "color": "#2a3f5f"
           }
          },
          "ternary": {
           "aaxis": {
            "gridcolor": "white",
            "linecolor": "white",
            "ticks": ""
           },
           "baxis": {
            "gridcolor": "white",
            "linecolor": "white",
            "ticks": ""
           },
           "bgcolor": "#E5ECF6",
           "caxis": {
            "gridcolor": "white",
            "linecolor": "white",
            "ticks": ""
           }
          },
          "title": {
           "x": 0.05
          },
          "xaxis": {
           "automargin": true,
           "gridcolor": "white",
           "linecolor": "white",
           "ticks": "",
           "title": {
            "standoff": 15
           },
           "zerolinecolor": "white",
           "zerolinewidth": 2
          },
          "yaxis": {
           "automargin": true,
           "gridcolor": "white",
           "linecolor": "white",
           "ticks": "",
           "title": {
            "standoff": 15
           },
           "zerolinecolor": "white",
           "zerolinewidth": 2
          }
         }
        },
        "title": {
         "text": "Primary Sector Stock Price by Cluster"
        },
        "xaxis": {
         "anchor": "y",
         "domain": [
          0,
          1
         ],
         "title": {
          "text": "Cluster"
         }
        },
        "yaxis": {
         "anchor": "x",
         "domain": [
          0,
          1
         ],
         "title": {
          "text": "Percent Change in Stock Price"
         }
        }
       }
      },
      "text/html": [
       "<div>                            <div id=\"1fa86ffc-1a97-4af4-bc9c-2aedf1637c8a\" class=\"plotly-graph-div\" style=\"height:525px; width:100%;\"></div>            <script type=\"text/javascript\">                require([\"plotly\"], function(Plotly) {                    window.PLOTLYENV=window.PLOTLYENV || {};                                    if (document.getElementById(\"1fa86ffc-1a97-4af4-bc9c-2aedf1637c8a\")) {                    Plotly.newPlot(                        \"1fa86ffc-1a97-4af4-bc9c-2aedf1637c8a\",                        [{\"alignmentgroup\":\"True\",\"hovertemplate\":\"Cluster=%{x}<br>percent_change_next_weeks_price=%{y}<extra></extra>\",\"legendgroup\":\"\",\"marker\":{\"color\":\"#636efa\"},\"name\":\"\",\"notched\":false,\"offsetgroup\":\"\",\"orientation\":\"v\",\"showlegend\":false,\"x\":[1,0,0,0,1,0,0,0,1,0,0,0,1,0,0,0,1,0,0,0,1,0,0,0,1,0,0,0,1,0,0,0,1,0,0,0,1,0,0,0,1,0,0,0,1,0,0,0,1,1,0,0,0,1,0,0,0,1,1,0,0,1,1,0,0,0,1,0,0,0,1,1,0,0,1,1,0,0,0,1,0,0,0,1,1,0,0,1,1,0,0,0,1,0,0,0,1,1,0,0],\"x0\":\" \",\"xaxis\":\"x\",\"y\":[0.417402,0.723356,-4.07609,1.13032,-0.295664,0.692042,-1.71391,1.88553,-2.2917,-1.54648,0.528379,0.8647,0.685805,-0.696092,-1.04979,0.385109,1.43609,1.38213,1.49937,1.62069,-0.780772,-2.54896,3.31063,3.09816,-0.385424,-0.770578,-3.40829,2.00584,1.78763,0.598592,-0.670904,-1.16814,1.82469,-1.34181,0.278067,5.51344,-2.98222,-1.21538,2.15023,1.87991,0.247934,0.853759,-0.745033,0.0554631,-0.774979,0.279799,1.71849,2.75107,-0.0672269,1.71313,5.98842,3.25216,-0.986044,2.31915,-1.08417,2.42368,-1.81251,0.333991,-0.0452352,-1.54358,3.22086,0.0743826,1.13011,0.458783,-0.721118,-1.26919,1.97427,0.293686,-1.59787,-2.10636,-0.183178,0.798771,-0.673092,4.99614,-0.0975927,-0.325203,0.854701,1.46723,-1.07595,0.673077,0.0,0.935484,-2.63659,-0.687398,1.61823,-0.717547,3.36052,-2.10226,0.264901,-1.83511,1.9153,-2.73937,-0.0536481,-0.295223,-0.217687,-3.46789,-1.06832,0.794777,1.83876,5.0],\"y0\":\" \",\"yaxis\":\"y\",\"type\":\"box\"}],                        {\"template\":{\"data\":{\"histogram2dcontour\":[{\"type\":\"histogram2dcontour\",\"colorbar\":{\"outlinewidth\":0,\"ticks\":\"\"},\"colorscale\":[[0.0,\"#0d0887\"],[0.1111111111111111,\"#46039f\"],[0.2222222222222222,\"#7201a8\"],[0.3333333333333333,\"#9c179e\"],[0.4444444444444444,\"#bd3786\"],[0.5555555555555556,\"#d8576b\"],[0.6666666666666666,\"#ed7953\"],[0.7777777777777778,\"#fb9f3a\"],[0.8888888888888888,\"#fdca26\"],[1.0,\"#f0f921\"]]}],\"choropleth\":[{\"type\":\"choropleth\",\"colorbar\":{\"outlinewidth\":0,\"ticks\":\"\"}}],\"histogram2d\":[{\"type\":\"histogram2d\",\"colorbar\":{\"outlinewidth\":0,\"ticks\":\"\"},\"colorscale\":[[0.0,\"#0d0887\"],[0.1111111111111111,\"#46039f\"],[0.2222222222222222,\"#7201a8\"],[0.3333333333333333,\"#9c179e\"],[0.4444444444444444,\"#bd3786\"],[0.5555555555555556,\"#d8576b\"],[0.6666666666666666,\"#ed7953\"],[0.7777777777777778,\"#fb9f3a\"],[0.8888888888888888,\"#fdca26\"],[1.0,\"#f0f921\"]]}],\"heatmap\":[{\"type\":\"heatmap\",\"colorbar\":{\"outlinewidth\":0,\"ticks\":\"\"},\"colorscale\":[[0.0,\"#0d0887\"],[0.1111111111111111,\"#46039f\"],[0.2222222222222222,\"#7201a8\"],[0.3333333333333333,\"#9c179e\"],[0.4444444444444444,\"#bd3786\"],[0.5555555555555556,\"#d8576b\"],[0.6666666666666666,\"#ed7953\"],[0.7777777777777778,\"#fb9f3a\"],[0.8888888888888888,\"#fdca26\"],[1.0,\"#f0f921\"]]}],\"heatmapgl\":[{\"type\":\"heatmapgl\",\"colorbar\":{\"outlinewidth\":0,\"ticks\":\"\"},\"colorscale\":[[0.0,\"#0d0887\"],[0.1111111111111111,\"#46039f\"],[0.2222222222222222,\"#7201a8\"],[0.3333333333333333,\"#9c179e\"],[0.4444444444444444,\"#bd3786\"],[0.5555555555555556,\"#d8576b\"],[0.6666666666666666,\"#ed7953\"],[0.7777777777777778,\"#fb9f3a\"],[0.8888888888888888,\"#fdca26\"],[1.0,\"#f0f921\"]]}],\"contourcarpet\":[{\"type\":\"contourcarpet\",\"colorbar\":{\"outlinewidth\":0,\"ticks\":\"\"}}],\"contour\":[{\"type\":\"contour\",\"colorbar\":{\"outlinewidth\":0,\"ticks\":\"\"},\"colorscale\":[[0.0,\"#0d0887\"],[0.1111111111111111,\"#46039f\"],[0.2222222222222222,\"#7201a8\"],[0.3333333333333333,\"#9c179e\"],[0.4444444444444444,\"#bd3786\"],[0.5555555555555556,\"#d8576b\"],[0.6666666666666666,\"#ed7953\"],[0.7777777777777778,\"#fb9f3a\"],[0.8888888888888888,\"#fdca26\"],[1.0,\"#f0f921\"]]}],\"surface\":[{\"type\":\"surface\",\"colorbar\":{\"outlinewidth\":0,\"ticks\":\"\"},\"colorscale\":[[0.0,\"#0d0887\"],[0.1111111111111111,\"#46039f\"],[0.2222222222222222,\"#7201a8\"],[0.3333333333333333,\"#9c179e\"],[0.4444444444444444,\"#bd3786\"],[0.5555555555555556,\"#d8576b\"],[0.6666666666666666,\"#ed7953\"],[0.7777777777777778,\"#fb9f3a\"],[0.8888888888888888,\"#fdca26\"],[1.0,\"#f0f921\"]]}],\"mesh3d\":[{\"type\":\"mesh3d\",\"colorbar\":{\"outlinewidth\":0,\"ticks\":\"\"}}],\"scatter\":[{\"fillpattern\":{\"fillmode\":\"overlay\",\"size\":10,\"solidity\":0.2},\"type\":\"scatter\"}],\"parcoords\":[{\"type\":\"parcoords\",\"line\":{\"colorbar\":{\"outlinewidth\":0,\"ticks\":\"\"}}}],\"scatterpolargl\":[{\"type\":\"scatterpolargl\",\"marker\":{\"colorbar\":{\"outlinewidth\":0,\"ticks\":\"\"}}}],\"bar\":[{\"error_x\":{\"color\":\"#2a3f5f\"},\"error_y\":{\"color\":\"#2a3f5f\"},\"marker\":{\"line\":{\"color\":\"#E5ECF6\",\"width\":0.5},\"pattern\":{\"fillmode\":\"overlay\",\"size\":10,\"solidity\":0.2}},\"type\":\"bar\"}],\"scattergeo\":[{\"type\":\"scattergeo\",\"marker\":{\"colorbar\":{\"outlinewidth\":0,\"ticks\":\"\"}}}],\"scatterpolar\":[{\"type\":\"scatterpolar\",\"marker\":{\"colorbar\":{\"outlinewidth\":0,\"ticks\":\"\"}}}],\"histogram\":[{\"marker\":{\"pattern\":{\"fillmode\":\"overlay\",\"size\":10,\"solidity\":0.2}},\"type\":\"histogram\"}],\"scattergl\":[{\"type\":\"scattergl\",\"marker\":{\"colorbar\":{\"outlinewidth\":0,\"ticks\":\"\"}}}],\"scatter3d\":[{\"type\":\"scatter3d\",\"line\":{\"colorbar\":{\"outlinewidth\":0,\"ticks\":\"\"}},\"marker\":{\"colorbar\":{\"outlinewidth\":0,\"ticks\":\"\"}}}],\"scattermapbox\":[{\"type\":\"scattermapbox\",\"marker\":{\"colorbar\":{\"outlinewidth\":0,\"ticks\":\"\"}}}],\"scatterternary\":[{\"type\":\"scatterternary\",\"marker\":{\"colorbar\":{\"outlinewidth\":0,\"ticks\":\"\"}}}],\"scattercarpet\":[{\"type\":\"scattercarpet\",\"marker\":{\"colorbar\":{\"outlinewidth\":0,\"ticks\":\"\"}}}],\"carpet\":[{\"aaxis\":{\"endlinecolor\":\"#2a3f5f\",\"gridcolor\":\"white\",\"linecolor\":\"white\",\"minorgridcolor\":\"white\",\"startlinecolor\":\"#2a3f5f\"},\"baxis\":{\"endlinecolor\":\"#2a3f5f\",\"gridcolor\":\"white\",\"linecolor\":\"white\",\"minorgridcolor\":\"white\",\"startlinecolor\":\"#2a3f5f\"},\"type\":\"carpet\"}],\"table\":[{\"cells\":{\"fill\":{\"color\":\"#EBF0F8\"},\"line\":{\"color\":\"white\"}},\"header\":{\"fill\":{\"color\":\"#C8D4E3\"},\"line\":{\"color\":\"white\"}},\"type\":\"table\"}],\"barpolar\":[{\"marker\":{\"line\":{\"color\":\"#E5ECF6\",\"width\":0.5},\"pattern\":{\"fillmode\":\"overlay\",\"size\":10,\"solidity\":0.2}},\"type\":\"barpolar\"}],\"pie\":[{\"automargin\":true,\"type\":\"pie\"}]},\"layout\":{\"autotypenumbers\":\"strict\",\"colorway\":[\"#636efa\",\"#EF553B\",\"#00cc96\",\"#ab63fa\",\"#FFA15A\",\"#19d3f3\",\"#FF6692\",\"#B6E880\",\"#FF97FF\",\"#FECB52\"],\"font\":{\"color\":\"#2a3f5f\"},\"hovermode\":\"closest\",\"hoverlabel\":{\"align\":\"left\"},\"paper_bgcolor\":\"white\",\"plot_bgcolor\":\"#E5ECF6\",\"polar\":{\"bgcolor\":\"#E5ECF6\",\"angularaxis\":{\"gridcolor\":\"white\",\"linecolor\":\"white\",\"ticks\":\"\"},\"radialaxis\":{\"gridcolor\":\"white\",\"linecolor\":\"white\",\"ticks\":\"\"}},\"ternary\":{\"bgcolor\":\"#E5ECF6\",\"aaxis\":{\"gridcolor\":\"white\",\"linecolor\":\"white\",\"ticks\":\"\"},\"baxis\":{\"gridcolor\":\"white\",\"linecolor\":\"white\",\"ticks\":\"\"},\"caxis\":{\"gridcolor\":\"white\",\"linecolor\":\"white\",\"ticks\":\"\"}},\"coloraxis\":{\"colorbar\":{\"outlinewidth\":0,\"ticks\":\"\"}},\"colorscale\":{\"sequential\":[[0.0,\"#0d0887\"],[0.1111111111111111,\"#46039f\"],[0.2222222222222222,\"#7201a8\"],[0.3333333333333333,\"#9c179e\"],[0.4444444444444444,\"#bd3786\"],[0.5555555555555556,\"#d8576b\"],[0.6666666666666666,\"#ed7953\"],[0.7777777777777778,\"#fb9f3a\"],[0.8888888888888888,\"#fdca26\"],[1.0,\"#f0f921\"]],\"sequentialminus\":[[0.0,\"#0d0887\"],[0.1111111111111111,\"#46039f\"],[0.2222222222222222,\"#7201a8\"],[0.3333333333333333,\"#9c179e\"],[0.4444444444444444,\"#bd3786\"],[0.5555555555555556,\"#d8576b\"],[0.6666666666666666,\"#ed7953\"],[0.7777777777777778,\"#fb9f3a\"],[0.8888888888888888,\"#fdca26\"],[1.0,\"#f0f921\"]],\"diverging\":[[0,\"#8e0152\"],[0.1,\"#c51b7d\"],[0.2,\"#de77ae\"],[0.3,\"#f1b6da\"],[0.4,\"#fde0ef\"],[0.5,\"#f7f7f7\"],[0.6,\"#e6f5d0\"],[0.7,\"#b8e186\"],[0.8,\"#7fbc41\"],[0.9,\"#4d9221\"],[1,\"#276419\"]]},\"xaxis\":{\"gridcolor\":\"white\",\"linecolor\":\"white\",\"ticks\":\"\",\"title\":{\"standoff\":15},\"zerolinecolor\":\"white\",\"automargin\":true,\"zerolinewidth\":2},\"yaxis\":{\"gridcolor\":\"white\",\"linecolor\":\"white\",\"ticks\":\"\",\"title\":{\"standoff\":15},\"zerolinecolor\":\"white\",\"automargin\":true,\"zerolinewidth\":2},\"scene\":{\"xaxis\":{\"backgroundcolor\":\"#E5ECF6\",\"gridcolor\":\"white\",\"linecolor\":\"white\",\"showbackground\":true,\"ticks\":\"\",\"zerolinecolor\":\"white\",\"gridwidth\":2},\"yaxis\":{\"backgroundcolor\":\"#E5ECF6\",\"gridcolor\":\"white\",\"linecolor\":\"white\",\"showbackground\":true,\"ticks\":\"\",\"zerolinecolor\":\"white\",\"gridwidth\":2},\"zaxis\":{\"backgroundcolor\":\"#E5ECF6\",\"gridcolor\":\"white\",\"linecolor\":\"white\",\"showbackground\":true,\"ticks\":\"\",\"zerolinecolor\":\"white\",\"gridwidth\":2}},\"shapedefaults\":{\"line\":{\"color\":\"#2a3f5f\"}},\"annotationdefaults\":{\"arrowcolor\":\"#2a3f5f\",\"arrowhead\":0,\"arrowwidth\":1},\"geo\":{\"bgcolor\":\"white\",\"landcolor\":\"#E5ECF6\",\"subunitcolor\":\"white\",\"showland\":true,\"showlakes\":true,\"lakecolor\":\"white\"},\"title\":{\"x\":0.05},\"mapbox\":{\"style\":\"light\"}}},\"xaxis\":{\"anchor\":\"y\",\"domain\":[0.0,1.0],\"title\":{\"text\":\"Cluster\"}},\"yaxis\":{\"anchor\":\"x\",\"domain\":[0.0,1.0],\"title\":{\"text\":\"Percent Change in Stock Price\"}},\"legend\":{\"tracegroupgap\":0},\"margin\":{\"t\":60},\"boxmode\":\"group\",\"title\":{\"text\":\"Primary Sector Stock Price by Cluster\"}},                        {\"responsive\": true}                    ).then(function(){\n",
       "                            \n",
       "var gd = document.getElementById('1fa86ffc-1a97-4af4-bc9c-2aedf1637c8a');\n",
       "var x = new MutationObserver(function (mutations, observer) {{\n",
       "        var display = window.getComputedStyle(gd).display;\n",
       "        if (!display || display === 'none') {{\n",
       "            console.log([gd, 'removed!']);\n",
       "            Plotly.purge(gd);\n",
       "            observer.disconnect();\n",
       "        }}\n",
       "}});\n",
       "\n",
       "// Listen for the removal of the full notebook cells\n",
       "var notebookContainer = gd.closest('#notebook-container');\n",
       "if (notebookContainer) {{\n",
       "    x.observe(notebookContainer, {childList: true});\n",
       "}}\n",
       "\n",
       "// Listen for the clearing of the current output cell\n",
       "var outputEl = gd.closest('.output');\n",
       "if (outputEl) {{\n",
       "    x.observe(outputEl, {childList: true});\n",
       "}}\n",
       "\n",
       "                        })                };                });            </script>        </div>"
      ]
     },
     "metadata": {},
     "output_type": "display_data"
    }
   ],
   "source": [
    "# Create a box plot for each cluster\n",
    "fig = px.box(pri_sector_df_copy, x='Cluster', y='percent_change_next_weeks_price')\n",
    "\n",
    "# Set labels\n",
    "fig.update_xaxes(title_text= 'Cluster')\n",
    "fig.update_yaxes(title_text='Percent Change in Stock Price')\n",
    "fig.update_layout(title='Primary Sector Stock Price by Cluster')\n",
    "\n",
    "# Show the plot\n",
    "fig.show()\n"
   ]
  },
  {
   "cell_type": "code",
   "execution_count": 515,
   "id": "ea9fc3ef",
   "metadata": {},
   "outputs": [
    {
     "name": "stdout",
     "output_type": "stream",
     "text": [
      "Training time: 0.01 seconds\n"
     ]
    }
   ],
   "source": [
    "import time\n",
    "start_time = time.time()\n",
    "n_clusters = 2\n",
    "agg_cluster = AgglomerativeClustering(n_clusters=n_clusters, linkage='ward')\n",
    "\n",
    "sec_cluster_labels = agg_cluster.fit_predict(sec_sector_df)\n",
    "training_time = time.time() - start_time\n",
    "\n",
    "sec_sector_df_copy = sec_sector_df.copy()\n",
    "sec_sector_df_copy['Cluster']= sec_cluster_labels\n",
    "print(f\"Training time: {training_time:.2f} seconds\")"
   ]
  },
  {
   "cell_type": "code",
   "execution_count": 476,
   "id": "b37c5926",
   "metadata": {},
   "outputs": [
    {
     "data": {
      "application/vnd.plotly.v1+json": {
       "config": {
        "plotlyServerURL": "https://plot.ly"
       },
       "data": [
        {
         "alignmentgroup": "True",
         "hovertemplate": "Cluster=%{x}<br>percent_change_next_weeks_price=%{y}<extra></extra>",
         "legendgroup": "",
         "marker": {
          "color": "#636efa"
         },
         "name": "",
         "notched": false,
         "offsetgroup": "",
         "orientation": "v",
         "showlegend": false,
         "type": "box",
         "x": [
          1,
          1,
          0,
          0,
          1,
          1,
          0,
          0,
          1,
          1,
          0,
          0,
          1,
          1,
          0,
          0,
          1,
          1,
          0,
          0,
          1,
          1,
          0,
          0,
          1,
          1,
          0,
          0,
          1,
          1,
          0,
          0,
          1,
          1,
          0,
          0,
          1,
          1,
          0,
          0,
          1,
          1,
          0,
          0,
          1,
          1,
          0,
          0,
          1,
          1,
          0,
          0,
          1,
          1,
          0,
          0,
          1,
          1,
          0,
          0,
          1,
          1,
          0,
          0,
          1,
          1,
          0,
          0,
          1,
          1,
          0,
          0,
          1,
          1,
          0,
          0,
          1,
          1,
          0,
          0,
          1,
          1,
          0,
          0,
          1,
          1,
          0,
          0,
          1,
          1,
          1,
          0,
          1,
          1,
          0,
          0,
          1,
          1,
          0,
          0,
          1,
          1,
          0,
          0,
          1,
          1,
          0,
          0,
          1,
          1,
          0,
          0,
          1,
          1,
          0,
          0,
          1,
          1,
          0,
          0,
          1,
          1,
          0,
          0,
          1,
          1,
          0,
          0,
          1,
          1,
          0,
          0,
          1,
          1,
          0,
          0,
          1,
          1,
          0,
          0,
          1,
          1,
          0,
          0,
          1,
          1,
          0,
          0,
          1,
          1,
          0,
          0,
          1,
          1,
          0,
          0,
          1,
          1,
          0,
          0,
          1,
          1,
          0,
          0,
          1,
          1,
          0,
          0,
          1,
          1,
          0,
          0,
          0,
          1,
          1,
          0,
          0,
          1,
          1,
          0,
          0,
          1,
          1,
          0,
          0,
          0,
          1,
          1,
          0,
          0,
          1,
          1,
          0,
          0,
          1,
          1,
          0,
          0,
          0,
          1,
          1,
          0,
          0,
          1,
          1,
          0,
          0,
          1,
          1,
          0,
          0,
          0,
          1,
          1,
          0,
          0,
          1,
          1,
          0,
          0,
          1,
          1,
          0,
          0,
          0,
          1,
          1,
          0,
          0,
          1,
          1,
          0,
          0,
          1,
          1,
          0,
          0,
          0,
          1,
          1,
          0,
          0,
          1,
          1,
          0,
          0,
          1,
          1,
          0,
          0,
          0,
          1,
          1,
          0,
          0,
          1,
          1,
          0,
          0,
          1,
          1,
          0,
          0,
          0,
          1,
          1,
          0,
          0,
          1,
          1,
          0,
          0,
          1,
          1,
          0,
          0,
          0,
          1,
          1,
          0,
          0,
          1,
          1,
          0,
          0,
          1,
          1,
          0,
          0,
          0,
          1,
          1,
          0,
          0,
          1,
          1,
          0,
          0,
          1,
          1,
          0,
          0,
          0,
          1,
          1,
          0,
          0,
          1,
          1,
          0,
          0,
          1,
          1,
          0,
          0,
          0,
          1,
          1,
          0,
          0,
          1,
          1,
          0,
          0,
          1,
          1,
          0,
          0,
          0,
          1,
          1,
          0,
          0,
          1,
          1,
          0,
          0,
          1,
          1,
          0,
          0,
          0,
          1,
          1,
          0,
          0,
          1,
          1,
          0,
          0
         ],
         "x0": " ",
         "xaxis": "x",
         "y": [
          -4.42849,
          -2.47066,
          1.63831,
          5.93325,
          0.230814,
          -0.632547,
          -1.76678,
          -1.36823,
          -3.31725,
          1.00313,
          4.33455,
          1.98482,
          0.93633,
          1.15721,
          -3.2019,
          3.06093,
          0.99398,
          0.467675,
          -0.0691085,
          -0.92452,
          0.0558659,
          -2.90853,
          4.33917,
          0.693878,
          0.858277,
          -1.49745,
          3.20354,
          3.59929,
          3.93495,
          2.22093,
          -2.72745,
          0.311526,
          -3.28757,
          2.40764,
          2.04864,
          3.26821,
          1.2894,
          -2.35627,
          0.431862,
          5.35117,
          -15.4229,
          0.0530786,
          -0.480513,
          -1.18153,
          -2.23312,
          -3.76193,
          -0.346021,
          -1.84332,
          2.06707,
          0.903809,
          -0.55384,
          3.47363,
          -0.853207,
          3.37173,
          2.89227,
          1.43723,
          -4.0242,
          3.67084,
          2.81148,
          1.80451,
          3.10559,
          -2.38239,
          3.81916,
          4.74576,
          3.72482,
          2.8288,
          -1.60146,
          -0.645518,
          -2.21811,
          -0.357277,
          0.557621,
          1.99593,
          1.12843,
          4.00421,
          1.35474,
          2.13612,
          2.6962,
          -0.32543,
          -0.287356,
          -2.7685,
          -0.196078,
          -3.55711,
          0.355691,
          2.67542,
          3.09853,
          2.36238,
          -2.52731,
          4.44836,
          1.94928,
          0.454076,
          -10.2796,
          -1.04505,
          -2.72727,
          0.0242072,
          1.62485,
          -3.39463,
          2.04082,
          3.79122,
          2.43855,
          3.02802,
          -0.140176,
          0.401998,
          -0.788653,
          -0.326435,
          0.513614,
          -3.27004,
          2.87998,
          1.68998,
          1.78658,
          -0.998573,
          2.0447,
          0.603248,
          0.0919963,
          2.35784,
          -0.410023,
          -0.873563,
          -3.78054,
          -3.5334,
          2.36181,
          -3.5225,
          2.80047,
          1.65073,
          -1.98408,
          0.409417,
          4.11705,
          1.35194,
          -2.67443,
          0.31556,
          -1.04774,
          -2.44491,
          2.21558,
          0.768232,
          0.35461,
          -0.497159,
          -0.963597,
          0,
          -1.97842,
          -0.514706,
          -0.85885,
          -2.77257,
          -1.72216,
          -2.70694,
          1.74742,
          -0.701481,
          1.03488,
          1.16044,
          1.45776,
          0.880196,
          2.83645,
          -0.0705302,
          -1.38396,
          -0.86145,
          -2.10767,
          -0.718355,
          2.73063,
          1.87463,
          3.60708,
          1.52976,
          0.177552,
          4.2042,
          -0.754943,
          3.04878,
          0.435448,
          -0.919995,
          -4.33364,
          -1.00404,
          2.13754,
          0.97782,
          2.87026,
          -8.52713,
          3.72861,
          0.354191,
          -0.694847,
          -0.34965,
          -4.35294,
          3.25815,
          -4.8416,
          -4.0201,
          -3.72793,
          3.81731,
          7.16163,
          0.122649,
          -1.42566,
          3.74037,
          5.65488,
          -1.29434,
          -0.353045,
          -1.44928,
          0.574788,
          -3.80463,
          -2.76886,
          1.50561,
          -3.65062,
          3.96137,
          -3.45495,
          -2.55408,
          3.63705,
          5.64811,
          -5.07571,
          -4.0343,
          -1.45461,
          3.25765,
          -4.99013,
          -3.45137,
          -1.01104,
          3.64805,
          8.66347,
          3.76249,
          -3.83964,
          0.35545,
          3.48494,
          0.285551,
          -3.70793,
          -1.72414,
          0.304692,
          -3.49608,
          -5.73566,
          -1.12285,
          -0.0669344,
          6.15797,
          1.0505,
          -3.18936,
          3.03001,
          1.92791,
          -6.0285,
          -0.83293,
          0.529256,
          2.05676,
          -3.45091,
          -1.21903,
          -0.869652,
          -0.9911,
          6.27935,
          -0.18018,
          -1.00992,
          3.00295,
          1.97522,
          -3.17263,
          -3.69494,
          0,
          1.56522,
          -5.43437,
          -1.0338,
          -0.919448,
          4.9697,
          5.05304,
          -2.60492,
          -0.988142,
          0.91047,
          1.53923,
          -3.33333,
          -0.400601,
          -1.15869,
          0.621118,
          -4.36992,
          -2.08445,
          0.983069,
          -2.01745,
          6.66667,
          0.123001,
          -1.10538,
          2.57758,
          -1.68047,
          0.294913,
          -0.931601,
          -10.4975,
          3.87858,
          -3.13841,
          -2.05613,
          -0.370054,
          0.316183,
          5.70613,
          -0.225033,
          1.69481,
          2.21088,
          1.74769,
          -1.8709,
          0.908605,
          0.206113,
          -0.593472,
          -2.01259,
          -0.958971,
          0,
          0.836897,
          5.30952,
          1.1622,
          -1.59442,
          9.88223,
          8.32943,
          0.999131,
          1.21055,
          -0.428816,
          -3.09773,
          -3.20713,
          -1.92661,
          -1.11993,
          0.0471921,
          6.42419,
          0.58265,
          -0.822737,
          2.15358,
          3.514,
          -2.0291,
          0.745016,
          -2.07243,
          1.27858,
          -3.56194,
          0.387254,
          0.702216,
          -0.579742,
          6.13746,
          2.43615,
          -3.13097,
          1.67331,
          1.40845,
          -0.269854,
          -2.9845,
          -1.88301,
          2.27179,
          -4.24679,
          -0.83682,
          1.97562,
          0.537857,
          7.38754,
          -0.992295,
          -1.82353,
          5.44794,
          2.96552,
          -0.910807,
          0.112511,
          -1.08524,
          -0.0925819,
          -4.32184,
          -0.277342,
          1.98987,
          -0.0355619,
          7.28485,
          2.0057,
          -1.93136,
          3.91048,
          1.95851,
          -6.14075,
          -2.578,
          1.68287,
          3.00424,
          -2.52161,
          -1.42098,
          -1.225,
          -2.37762,
          6.67274
         ],
         "y0": " ",
         "yaxis": "y"
        }
       ],
       "layout": {
        "boxmode": "group",
        "legend": {
         "tracegroupgap": 0
        },
        "margin": {
         "t": 60
        },
        "template": {
         "data": {
          "bar": [
           {
            "error_x": {
             "color": "#2a3f5f"
            },
            "error_y": {
             "color": "#2a3f5f"
            },
            "marker": {
             "line": {
              "color": "#E5ECF6",
              "width": 0.5
             },
             "pattern": {
              "fillmode": "overlay",
              "size": 10,
              "solidity": 0.2
             }
            },
            "type": "bar"
           }
          ],
          "barpolar": [
           {
            "marker": {
             "line": {
              "color": "#E5ECF6",
              "width": 0.5
             },
             "pattern": {
              "fillmode": "overlay",
              "size": 10,
              "solidity": 0.2
             }
            },
            "type": "barpolar"
           }
          ],
          "carpet": [
           {
            "aaxis": {
             "endlinecolor": "#2a3f5f",
             "gridcolor": "white",
             "linecolor": "white",
             "minorgridcolor": "white",
             "startlinecolor": "#2a3f5f"
            },
            "baxis": {
             "endlinecolor": "#2a3f5f",
             "gridcolor": "white",
             "linecolor": "white",
             "minorgridcolor": "white",
             "startlinecolor": "#2a3f5f"
            },
            "type": "carpet"
           }
          ],
          "choropleth": [
           {
            "colorbar": {
             "outlinewidth": 0,
             "ticks": ""
            },
            "type": "choropleth"
           }
          ],
          "contour": [
           {
            "colorbar": {
             "outlinewidth": 0,
             "ticks": ""
            },
            "colorscale": [
             [
              0,
              "#0d0887"
             ],
             [
              0.1111111111111111,
              "#46039f"
             ],
             [
              0.2222222222222222,
              "#7201a8"
             ],
             [
              0.3333333333333333,
              "#9c179e"
             ],
             [
              0.4444444444444444,
              "#bd3786"
             ],
             [
              0.5555555555555556,
              "#d8576b"
             ],
             [
              0.6666666666666666,
              "#ed7953"
             ],
             [
              0.7777777777777778,
              "#fb9f3a"
             ],
             [
              0.8888888888888888,
              "#fdca26"
             ],
             [
              1,
              "#f0f921"
             ]
            ],
            "type": "contour"
           }
          ],
          "contourcarpet": [
           {
            "colorbar": {
             "outlinewidth": 0,
             "ticks": ""
            },
            "type": "contourcarpet"
           }
          ],
          "heatmap": [
           {
            "colorbar": {
             "outlinewidth": 0,
             "ticks": ""
            },
            "colorscale": [
             [
              0,
              "#0d0887"
             ],
             [
              0.1111111111111111,
              "#46039f"
             ],
             [
              0.2222222222222222,
              "#7201a8"
             ],
             [
              0.3333333333333333,
              "#9c179e"
             ],
             [
              0.4444444444444444,
              "#bd3786"
             ],
             [
              0.5555555555555556,
              "#d8576b"
             ],
             [
              0.6666666666666666,
              "#ed7953"
             ],
             [
              0.7777777777777778,
              "#fb9f3a"
             ],
             [
              0.8888888888888888,
              "#fdca26"
             ],
             [
              1,
              "#f0f921"
             ]
            ],
            "type": "heatmap"
           }
          ],
          "heatmapgl": [
           {
            "colorbar": {
             "outlinewidth": 0,
             "ticks": ""
            },
            "colorscale": [
             [
              0,
              "#0d0887"
             ],
             [
              0.1111111111111111,
              "#46039f"
             ],
             [
              0.2222222222222222,
              "#7201a8"
             ],
             [
              0.3333333333333333,
              "#9c179e"
             ],
             [
              0.4444444444444444,
              "#bd3786"
             ],
             [
              0.5555555555555556,
              "#d8576b"
             ],
             [
              0.6666666666666666,
              "#ed7953"
             ],
             [
              0.7777777777777778,
              "#fb9f3a"
             ],
             [
              0.8888888888888888,
              "#fdca26"
             ],
             [
              1,
              "#f0f921"
             ]
            ],
            "type": "heatmapgl"
           }
          ],
          "histogram": [
           {
            "marker": {
             "pattern": {
              "fillmode": "overlay",
              "size": 10,
              "solidity": 0.2
             }
            },
            "type": "histogram"
           }
          ],
          "histogram2d": [
           {
            "colorbar": {
             "outlinewidth": 0,
             "ticks": ""
            },
            "colorscale": [
             [
              0,
              "#0d0887"
             ],
             [
              0.1111111111111111,
              "#46039f"
             ],
             [
              0.2222222222222222,
              "#7201a8"
             ],
             [
              0.3333333333333333,
              "#9c179e"
             ],
             [
              0.4444444444444444,
              "#bd3786"
             ],
             [
              0.5555555555555556,
              "#d8576b"
             ],
             [
              0.6666666666666666,
              "#ed7953"
             ],
             [
              0.7777777777777778,
              "#fb9f3a"
             ],
             [
              0.8888888888888888,
              "#fdca26"
             ],
             [
              1,
              "#f0f921"
             ]
            ],
            "type": "histogram2d"
           }
          ],
          "histogram2dcontour": [
           {
            "colorbar": {
             "outlinewidth": 0,
             "ticks": ""
            },
            "colorscale": [
             [
              0,
              "#0d0887"
             ],
             [
              0.1111111111111111,
              "#46039f"
             ],
             [
              0.2222222222222222,
              "#7201a8"
             ],
             [
              0.3333333333333333,
              "#9c179e"
             ],
             [
              0.4444444444444444,
              "#bd3786"
             ],
             [
              0.5555555555555556,
              "#d8576b"
             ],
             [
              0.6666666666666666,
              "#ed7953"
             ],
             [
              0.7777777777777778,
              "#fb9f3a"
             ],
             [
              0.8888888888888888,
              "#fdca26"
             ],
             [
              1,
              "#f0f921"
             ]
            ],
            "type": "histogram2dcontour"
           }
          ],
          "mesh3d": [
           {
            "colorbar": {
             "outlinewidth": 0,
             "ticks": ""
            },
            "type": "mesh3d"
           }
          ],
          "parcoords": [
           {
            "line": {
             "colorbar": {
              "outlinewidth": 0,
              "ticks": ""
             }
            },
            "type": "parcoords"
           }
          ],
          "pie": [
           {
            "automargin": true,
            "type": "pie"
           }
          ],
          "scatter": [
           {
            "fillpattern": {
             "fillmode": "overlay",
             "size": 10,
             "solidity": 0.2
            },
            "type": "scatter"
           }
          ],
          "scatter3d": [
           {
            "line": {
             "colorbar": {
              "outlinewidth": 0,
              "ticks": ""
             }
            },
            "marker": {
             "colorbar": {
              "outlinewidth": 0,
              "ticks": ""
             }
            },
            "type": "scatter3d"
           }
          ],
          "scattercarpet": [
           {
            "marker": {
             "colorbar": {
              "outlinewidth": 0,
              "ticks": ""
             }
            },
            "type": "scattercarpet"
           }
          ],
          "scattergeo": [
           {
            "marker": {
             "colorbar": {
              "outlinewidth": 0,
              "ticks": ""
             }
            },
            "type": "scattergeo"
           }
          ],
          "scattergl": [
           {
            "marker": {
             "colorbar": {
              "outlinewidth": 0,
              "ticks": ""
             }
            },
            "type": "scattergl"
           }
          ],
          "scattermapbox": [
           {
            "marker": {
             "colorbar": {
              "outlinewidth": 0,
              "ticks": ""
             }
            },
            "type": "scattermapbox"
           }
          ],
          "scatterpolar": [
           {
            "marker": {
             "colorbar": {
              "outlinewidth": 0,
              "ticks": ""
             }
            },
            "type": "scatterpolar"
           }
          ],
          "scatterpolargl": [
           {
            "marker": {
             "colorbar": {
              "outlinewidth": 0,
              "ticks": ""
             }
            },
            "type": "scatterpolargl"
           }
          ],
          "scatterternary": [
           {
            "marker": {
             "colorbar": {
              "outlinewidth": 0,
              "ticks": ""
             }
            },
            "type": "scatterternary"
           }
          ],
          "surface": [
           {
            "colorbar": {
             "outlinewidth": 0,
             "ticks": ""
            },
            "colorscale": [
             [
              0,
              "#0d0887"
             ],
             [
              0.1111111111111111,
              "#46039f"
             ],
             [
              0.2222222222222222,
              "#7201a8"
             ],
             [
              0.3333333333333333,
              "#9c179e"
             ],
             [
              0.4444444444444444,
              "#bd3786"
             ],
             [
              0.5555555555555556,
              "#d8576b"
             ],
             [
              0.6666666666666666,
              "#ed7953"
             ],
             [
              0.7777777777777778,
              "#fb9f3a"
             ],
             [
              0.8888888888888888,
              "#fdca26"
             ],
             [
              1,
              "#f0f921"
             ]
            ],
            "type": "surface"
           }
          ],
          "table": [
           {
            "cells": {
             "fill": {
              "color": "#EBF0F8"
             },
             "line": {
              "color": "white"
             }
            },
            "header": {
             "fill": {
              "color": "#C8D4E3"
             },
             "line": {
              "color": "white"
             }
            },
            "type": "table"
           }
          ]
         },
         "layout": {
          "annotationdefaults": {
           "arrowcolor": "#2a3f5f",
           "arrowhead": 0,
           "arrowwidth": 1
          },
          "autotypenumbers": "strict",
          "coloraxis": {
           "colorbar": {
            "outlinewidth": 0,
            "ticks": ""
           }
          },
          "colorscale": {
           "diverging": [
            [
             0,
             "#8e0152"
            ],
            [
             0.1,
             "#c51b7d"
            ],
            [
             0.2,
             "#de77ae"
            ],
            [
             0.3,
             "#f1b6da"
            ],
            [
             0.4,
             "#fde0ef"
            ],
            [
             0.5,
             "#f7f7f7"
            ],
            [
             0.6,
             "#e6f5d0"
            ],
            [
             0.7,
             "#b8e186"
            ],
            [
             0.8,
             "#7fbc41"
            ],
            [
             0.9,
             "#4d9221"
            ],
            [
             1,
             "#276419"
            ]
           ],
           "sequential": [
            [
             0,
             "#0d0887"
            ],
            [
             0.1111111111111111,
             "#46039f"
            ],
            [
             0.2222222222222222,
             "#7201a8"
            ],
            [
             0.3333333333333333,
             "#9c179e"
            ],
            [
             0.4444444444444444,
             "#bd3786"
            ],
            [
             0.5555555555555556,
             "#d8576b"
            ],
            [
             0.6666666666666666,
             "#ed7953"
            ],
            [
             0.7777777777777778,
             "#fb9f3a"
            ],
            [
             0.8888888888888888,
             "#fdca26"
            ],
            [
             1,
             "#f0f921"
            ]
           ],
           "sequentialminus": [
            [
             0,
             "#0d0887"
            ],
            [
             0.1111111111111111,
             "#46039f"
            ],
            [
             0.2222222222222222,
             "#7201a8"
            ],
            [
             0.3333333333333333,
             "#9c179e"
            ],
            [
             0.4444444444444444,
             "#bd3786"
            ],
            [
             0.5555555555555556,
             "#d8576b"
            ],
            [
             0.6666666666666666,
             "#ed7953"
            ],
            [
             0.7777777777777778,
             "#fb9f3a"
            ],
            [
             0.8888888888888888,
             "#fdca26"
            ],
            [
             1,
             "#f0f921"
            ]
           ]
          },
          "colorway": [
           "#636efa",
           "#EF553B",
           "#00cc96",
           "#ab63fa",
           "#FFA15A",
           "#19d3f3",
           "#FF6692",
           "#B6E880",
           "#FF97FF",
           "#FECB52"
          ],
          "font": {
           "color": "#2a3f5f"
          },
          "geo": {
           "bgcolor": "white",
           "lakecolor": "white",
           "landcolor": "#E5ECF6",
           "showlakes": true,
           "showland": true,
           "subunitcolor": "white"
          },
          "hoverlabel": {
           "align": "left"
          },
          "hovermode": "closest",
          "mapbox": {
           "style": "light"
          },
          "paper_bgcolor": "white",
          "plot_bgcolor": "#E5ECF6",
          "polar": {
           "angularaxis": {
            "gridcolor": "white",
            "linecolor": "white",
            "ticks": ""
           },
           "bgcolor": "#E5ECF6",
           "radialaxis": {
            "gridcolor": "white",
            "linecolor": "white",
            "ticks": ""
           }
          },
          "scene": {
           "xaxis": {
            "backgroundcolor": "#E5ECF6",
            "gridcolor": "white",
            "gridwidth": 2,
            "linecolor": "white",
            "showbackground": true,
            "ticks": "",
            "zerolinecolor": "white"
           },
           "yaxis": {
            "backgroundcolor": "#E5ECF6",
            "gridcolor": "white",
            "gridwidth": 2,
            "linecolor": "white",
            "showbackground": true,
            "ticks": "",
            "zerolinecolor": "white"
           },
           "zaxis": {
            "backgroundcolor": "#E5ECF6",
            "gridcolor": "white",
            "gridwidth": 2,
            "linecolor": "white",
            "showbackground": true,
            "ticks": "",
            "zerolinecolor": "white"
           }
          },
          "shapedefaults": {
           "line": {
            "color": "#2a3f5f"
           }
          },
          "ternary": {
           "aaxis": {
            "gridcolor": "white",
            "linecolor": "white",
            "ticks": ""
           },
           "baxis": {
            "gridcolor": "white",
            "linecolor": "white",
            "ticks": ""
           },
           "bgcolor": "#E5ECF6",
           "caxis": {
            "gridcolor": "white",
            "linecolor": "white",
            "ticks": ""
           }
          },
          "title": {
           "x": 0.05
          },
          "xaxis": {
           "automargin": true,
           "gridcolor": "white",
           "linecolor": "white",
           "ticks": "",
           "title": {
            "standoff": 15
           },
           "zerolinecolor": "white",
           "zerolinewidth": 2
          },
          "yaxis": {
           "automargin": true,
           "gridcolor": "white",
           "linecolor": "white",
           "ticks": "",
           "title": {
            "standoff": 15
           },
           "zerolinecolor": "white",
           "zerolinewidth": 2
          }
         }
        },
        "title": {
         "text": "Secondary Sector Stock Price by Cluster"
        },
        "xaxis": {
         "anchor": "y",
         "domain": [
          0,
          1
         ],
         "title": {
          "text": "Cluster"
         }
        },
        "yaxis": {
         "anchor": "x",
         "domain": [
          0,
          1
         ],
         "title": {
          "text": "Percent Change in Stock Price"
         }
        }
       }
      },
      "text/html": [
       "<div>                            <div id=\"1c626007-10c5-407c-9613-8614630efe6e\" class=\"plotly-graph-div\" style=\"height:525px; width:100%;\"></div>            <script type=\"text/javascript\">                require([\"plotly\"], function(Plotly) {                    window.PLOTLYENV=window.PLOTLYENV || {};                                    if (document.getElementById(\"1c626007-10c5-407c-9613-8614630efe6e\")) {                    Plotly.newPlot(                        \"1c626007-10c5-407c-9613-8614630efe6e\",                        [{\"alignmentgroup\":\"True\",\"hovertemplate\":\"Cluster=%{x}<br>percent_change_next_weeks_price=%{y}<extra></extra>\",\"legendgroup\":\"\",\"marker\":{\"color\":\"#636efa\"},\"name\":\"\",\"notched\":false,\"offsetgroup\":\"\",\"orientation\":\"v\",\"showlegend\":false,\"x\":[1,1,0,0,1,1,0,0,1,1,0,0,1,1,0,0,1,1,0,0,1,1,0,0,1,1,0,0,1,1,0,0,1,1,0,0,1,1,0,0,1,1,0,0,1,1,0,0,1,1,0,0,1,1,0,0,1,1,0,0,1,1,0,0,1,1,0,0,1,1,0,0,1,1,0,0,1,1,0,0,1,1,0,0,1,1,0,0,1,1,1,0,1,1,0,0,1,1,0,0,1,1,0,0,1,1,0,0,1,1,0,0,1,1,0,0,1,1,0,0,1,1,0,0,1,1,0,0,1,1,0,0,1,1,0,0,1,1,0,0,1,1,0,0,1,1,0,0,1,1,0,0,1,1,0,0,1,1,0,0,1,1,0,0,1,1,0,0,1,1,0,0,0,1,1,0,0,1,1,0,0,1,1,0,0,0,1,1,0,0,1,1,0,0,1,1,0,0,0,1,1,0,0,1,1,0,0,1,1,0,0,0,1,1,0,0,1,1,0,0,1,1,0,0,0,1,1,0,0,1,1,0,0,1,1,0,0,0,1,1,0,0,1,1,0,0,1,1,0,0,0,1,1,0,0,1,1,0,0,1,1,0,0,0,1,1,0,0,1,1,0,0,1,1,0,0,0,1,1,0,0,1,1,0,0,1,1,0,0,0,1,1,0,0,1,1,0,0,1,1,0,0,0,1,1,0,0,1,1,0,0,1,1,0,0,0,1,1,0,0,1,1,0,0,1,1,0,0,0,1,1,0,0,1,1,0,0,1,1,0,0,0,1,1,0,0,1,1,0,0],\"x0\":\" \",\"xaxis\":\"x\",\"y\":[-4.42849,-2.47066,1.63831,5.93325,0.230814,-0.632547,-1.76678,-1.36823,-3.31725,1.00313,4.33455,1.98482,0.93633,1.15721,-3.2019,3.06093,0.99398,0.467675,-0.0691085,-0.92452,0.0558659,-2.90853,4.33917,0.693878,0.858277,-1.49745,3.20354,3.59929,3.93495,2.22093,-2.72745,0.311526,-3.28757,2.40764,2.04864,3.26821,1.2894,-2.35627,0.431862,5.35117,-15.4229,0.0530786,-0.480513,-1.18153,-2.23312,-3.76193,-0.346021,-1.84332,2.06707,0.903809,-0.55384,3.47363,-0.853207,3.37173,2.89227,1.43723,-4.0242,3.67084,2.81148,1.80451,3.10559,-2.38239,3.81916,4.74576,3.72482,2.8288,-1.60146,-0.645518,-2.21811,-0.357277,0.557621,1.99593,1.12843,4.00421,1.35474,2.13612,2.6962,-0.32543,-0.287356,-2.7685,-0.196078,-3.55711,0.355691,2.67542,3.09853,2.36238,-2.52731,4.44836,1.94928,0.454076,-10.2796,-1.04505,-2.72727,0.0242072,1.62485,-3.39463,2.04082,3.79122,2.43855,3.02802,-0.140176,0.401998,-0.788653,-0.326435,0.513614,-3.27004,2.87998,1.68998,1.78658,-0.998573,2.0447,0.603248,0.0919963,2.35784,-0.410023,-0.873563,-3.78054,-3.5334,2.36181,-3.5225,2.80047,1.65073,-1.98408,0.409417,4.11705,1.35194,-2.67443,0.31556,-1.04774,-2.44491,2.21558,0.768232,0.35461,-0.497159,-0.963597,0.0,-1.97842,-0.514706,-0.85885,-2.77257,-1.72216,-2.70694,1.74742,-0.701481,1.03488,1.16044,1.45776,0.880196,2.83645,-0.0705302,-1.38396,-0.86145,-2.10767,-0.718355,2.73063,1.87463,3.60708,1.52976,0.177552,4.2042,-0.754943,3.04878,0.435448,-0.919995,-4.33364,-1.00404,2.13754,0.97782,2.87026,-8.52713,3.72861,0.354191,-0.694847,-0.34965,-4.35294,3.25815,-4.8416,-4.0201,-3.72793,3.81731,7.16163,0.122649,-1.42566,3.74037,5.65488,-1.29434,-0.353045,-1.44928,0.574788,-3.80463,-2.76886,1.50561,-3.65062,3.96137,-3.45495,-2.55408,3.63705,5.64811,-5.07571,-4.0343,-1.45461,3.25765,-4.99013,-3.45137,-1.01104,3.64805,8.66347,3.76249,-3.83964,0.35545,3.48494,0.285551,-3.70793,-1.72414,0.304692,-3.49608,-5.73566,-1.12285,-0.0669344,6.15797,1.0505,-3.18936,3.03001,1.92791,-6.0285,-0.83293,0.529256,2.05676,-3.45091,-1.21903,-0.869652,-0.9911,6.27935,-0.18018,-1.00992,3.00295,1.97522,-3.17263,-3.69494,0.0,1.56522,-5.43437,-1.0338,-0.919448,4.9697,5.05304,-2.60492,-0.988142,0.91047,1.53923,-3.33333,-0.400601,-1.15869,0.621118,-4.36992,-2.08445,0.983069,-2.01745,6.66667,0.123001,-1.10538,2.57758,-1.68047,0.294913,-0.931601,-10.4975,3.87858,-3.13841,-2.05613,-0.370054,0.316183,5.70613,-0.225033,1.69481,2.21088,1.74769,-1.8709,0.908605,0.206113,-0.593472,-2.01259,-0.958971,0.0,0.836897,5.30952,1.1622,-1.59442,9.88223,8.32943,0.999131,1.21055,-0.428816,-3.09773,-3.20713,-1.92661,-1.11993,0.0471921,6.42419,0.58265,-0.822737,2.15358,3.514,-2.0291,0.745016,-2.07243,1.27858,-3.56194,0.387254,0.702216,-0.579742,6.13746,2.43615,-3.13097,1.67331,1.40845,-0.269854,-2.9845,-1.88301,2.27179,-4.24679,-0.83682,1.97562,0.537857,7.38754,-0.992295,-1.82353,5.44794,2.96552,-0.910807,0.112511,-1.08524,-0.0925819,-4.32184,-0.277342,1.98987,-0.0355619,7.28485,2.0057,-1.93136,3.91048,1.95851,-6.14075,-2.578,1.68287,3.00424,-2.52161,-1.42098,-1.225,-2.37762,6.67274],\"y0\":\" \",\"yaxis\":\"y\",\"type\":\"box\"}],                        {\"template\":{\"data\":{\"histogram2dcontour\":[{\"type\":\"histogram2dcontour\",\"colorbar\":{\"outlinewidth\":0,\"ticks\":\"\"},\"colorscale\":[[0.0,\"#0d0887\"],[0.1111111111111111,\"#46039f\"],[0.2222222222222222,\"#7201a8\"],[0.3333333333333333,\"#9c179e\"],[0.4444444444444444,\"#bd3786\"],[0.5555555555555556,\"#d8576b\"],[0.6666666666666666,\"#ed7953\"],[0.7777777777777778,\"#fb9f3a\"],[0.8888888888888888,\"#fdca26\"],[1.0,\"#f0f921\"]]}],\"choropleth\":[{\"type\":\"choropleth\",\"colorbar\":{\"outlinewidth\":0,\"ticks\":\"\"}}],\"histogram2d\":[{\"type\":\"histogram2d\",\"colorbar\":{\"outlinewidth\":0,\"ticks\":\"\"},\"colorscale\":[[0.0,\"#0d0887\"],[0.1111111111111111,\"#46039f\"],[0.2222222222222222,\"#7201a8\"],[0.3333333333333333,\"#9c179e\"],[0.4444444444444444,\"#bd3786\"],[0.5555555555555556,\"#d8576b\"],[0.6666666666666666,\"#ed7953\"],[0.7777777777777778,\"#fb9f3a\"],[0.8888888888888888,\"#fdca26\"],[1.0,\"#f0f921\"]]}],\"heatmap\":[{\"type\":\"heatmap\",\"colorbar\":{\"outlinewidth\":0,\"ticks\":\"\"},\"colorscale\":[[0.0,\"#0d0887\"],[0.1111111111111111,\"#46039f\"],[0.2222222222222222,\"#7201a8\"],[0.3333333333333333,\"#9c179e\"],[0.4444444444444444,\"#bd3786\"],[0.5555555555555556,\"#d8576b\"],[0.6666666666666666,\"#ed7953\"],[0.7777777777777778,\"#fb9f3a\"],[0.8888888888888888,\"#fdca26\"],[1.0,\"#f0f921\"]]}],\"heatmapgl\":[{\"type\":\"heatmapgl\",\"colorbar\":{\"outlinewidth\":0,\"ticks\":\"\"},\"colorscale\":[[0.0,\"#0d0887\"],[0.1111111111111111,\"#46039f\"],[0.2222222222222222,\"#7201a8\"],[0.3333333333333333,\"#9c179e\"],[0.4444444444444444,\"#bd3786\"],[0.5555555555555556,\"#d8576b\"],[0.6666666666666666,\"#ed7953\"],[0.7777777777777778,\"#fb9f3a\"],[0.8888888888888888,\"#fdca26\"],[1.0,\"#f0f921\"]]}],\"contourcarpet\":[{\"type\":\"contourcarpet\",\"colorbar\":{\"outlinewidth\":0,\"ticks\":\"\"}}],\"contour\":[{\"type\":\"contour\",\"colorbar\":{\"outlinewidth\":0,\"ticks\":\"\"},\"colorscale\":[[0.0,\"#0d0887\"],[0.1111111111111111,\"#46039f\"],[0.2222222222222222,\"#7201a8\"],[0.3333333333333333,\"#9c179e\"],[0.4444444444444444,\"#bd3786\"],[0.5555555555555556,\"#d8576b\"],[0.6666666666666666,\"#ed7953\"],[0.7777777777777778,\"#fb9f3a\"],[0.8888888888888888,\"#fdca26\"],[1.0,\"#f0f921\"]]}],\"surface\":[{\"type\":\"surface\",\"colorbar\":{\"outlinewidth\":0,\"ticks\":\"\"},\"colorscale\":[[0.0,\"#0d0887\"],[0.1111111111111111,\"#46039f\"],[0.2222222222222222,\"#7201a8\"],[0.3333333333333333,\"#9c179e\"],[0.4444444444444444,\"#bd3786\"],[0.5555555555555556,\"#d8576b\"],[0.6666666666666666,\"#ed7953\"],[0.7777777777777778,\"#fb9f3a\"],[0.8888888888888888,\"#fdca26\"],[1.0,\"#f0f921\"]]}],\"mesh3d\":[{\"type\":\"mesh3d\",\"colorbar\":{\"outlinewidth\":0,\"ticks\":\"\"}}],\"scatter\":[{\"fillpattern\":{\"fillmode\":\"overlay\",\"size\":10,\"solidity\":0.2},\"type\":\"scatter\"}],\"parcoords\":[{\"type\":\"parcoords\",\"line\":{\"colorbar\":{\"outlinewidth\":0,\"ticks\":\"\"}}}],\"scatterpolargl\":[{\"type\":\"scatterpolargl\",\"marker\":{\"colorbar\":{\"outlinewidth\":0,\"ticks\":\"\"}}}],\"bar\":[{\"error_x\":{\"color\":\"#2a3f5f\"},\"error_y\":{\"color\":\"#2a3f5f\"},\"marker\":{\"line\":{\"color\":\"#E5ECF6\",\"width\":0.5},\"pattern\":{\"fillmode\":\"overlay\",\"size\":10,\"solidity\":0.2}},\"type\":\"bar\"}],\"scattergeo\":[{\"type\":\"scattergeo\",\"marker\":{\"colorbar\":{\"outlinewidth\":0,\"ticks\":\"\"}}}],\"scatterpolar\":[{\"type\":\"scatterpolar\",\"marker\":{\"colorbar\":{\"outlinewidth\":0,\"ticks\":\"\"}}}],\"histogram\":[{\"marker\":{\"pattern\":{\"fillmode\":\"overlay\",\"size\":10,\"solidity\":0.2}},\"type\":\"histogram\"}],\"scattergl\":[{\"type\":\"scattergl\",\"marker\":{\"colorbar\":{\"outlinewidth\":0,\"ticks\":\"\"}}}],\"scatter3d\":[{\"type\":\"scatter3d\",\"line\":{\"colorbar\":{\"outlinewidth\":0,\"ticks\":\"\"}},\"marker\":{\"colorbar\":{\"outlinewidth\":0,\"ticks\":\"\"}}}],\"scattermapbox\":[{\"type\":\"scattermapbox\",\"marker\":{\"colorbar\":{\"outlinewidth\":0,\"ticks\":\"\"}}}],\"scatterternary\":[{\"type\":\"scatterternary\",\"marker\":{\"colorbar\":{\"outlinewidth\":0,\"ticks\":\"\"}}}],\"scattercarpet\":[{\"type\":\"scattercarpet\",\"marker\":{\"colorbar\":{\"outlinewidth\":0,\"ticks\":\"\"}}}],\"carpet\":[{\"aaxis\":{\"endlinecolor\":\"#2a3f5f\",\"gridcolor\":\"white\",\"linecolor\":\"white\",\"minorgridcolor\":\"white\",\"startlinecolor\":\"#2a3f5f\"},\"baxis\":{\"endlinecolor\":\"#2a3f5f\",\"gridcolor\":\"white\",\"linecolor\":\"white\",\"minorgridcolor\":\"white\",\"startlinecolor\":\"#2a3f5f\"},\"type\":\"carpet\"}],\"table\":[{\"cells\":{\"fill\":{\"color\":\"#EBF0F8\"},\"line\":{\"color\":\"white\"}},\"header\":{\"fill\":{\"color\":\"#C8D4E3\"},\"line\":{\"color\":\"white\"}},\"type\":\"table\"}],\"barpolar\":[{\"marker\":{\"line\":{\"color\":\"#E5ECF6\",\"width\":0.5},\"pattern\":{\"fillmode\":\"overlay\",\"size\":10,\"solidity\":0.2}},\"type\":\"barpolar\"}],\"pie\":[{\"automargin\":true,\"type\":\"pie\"}]},\"layout\":{\"autotypenumbers\":\"strict\",\"colorway\":[\"#636efa\",\"#EF553B\",\"#00cc96\",\"#ab63fa\",\"#FFA15A\",\"#19d3f3\",\"#FF6692\",\"#B6E880\",\"#FF97FF\",\"#FECB52\"],\"font\":{\"color\":\"#2a3f5f\"},\"hovermode\":\"closest\",\"hoverlabel\":{\"align\":\"left\"},\"paper_bgcolor\":\"white\",\"plot_bgcolor\":\"#E5ECF6\",\"polar\":{\"bgcolor\":\"#E5ECF6\",\"angularaxis\":{\"gridcolor\":\"white\",\"linecolor\":\"white\",\"ticks\":\"\"},\"radialaxis\":{\"gridcolor\":\"white\",\"linecolor\":\"white\",\"ticks\":\"\"}},\"ternary\":{\"bgcolor\":\"#E5ECF6\",\"aaxis\":{\"gridcolor\":\"white\",\"linecolor\":\"white\",\"ticks\":\"\"},\"baxis\":{\"gridcolor\":\"white\",\"linecolor\":\"white\",\"ticks\":\"\"},\"caxis\":{\"gridcolor\":\"white\",\"linecolor\":\"white\",\"ticks\":\"\"}},\"coloraxis\":{\"colorbar\":{\"outlinewidth\":0,\"ticks\":\"\"}},\"colorscale\":{\"sequential\":[[0.0,\"#0d0887\"],[0.1111111111111111,\"#46039f\"],[0.2222222222222222,\"#7201a8\"],[0.3333333333333333,\"#9c179e\"],[0.4444444444444444,\"#bd3786\"],[0.5555555555555556,\"#d8576b\"],[0.6666666666666666,\"#ed7953\"],[0.7777777777777778,\"#fb9f3a\"],[0.8888888888888888,\"#fdca26\"],[1.0,\"#f0f921\"]],\"sequentialminus\":[[0.0,\"#0d0887\"],[0.1111111111111111,\"#46039f\"],[0.2222222222222222,\"#7201a8\"],[0.3333333333333333,\"#9c179e\"],[0.4444444444444444,\"#bd3786\"],[0.5555555555555556,\"#d8576b\"],[0.6666666666666666,\"#ed7953\"],[0.7777777777777778,\"#fb9f3a\"],[0.8888888888888888,\"#fdca26\"],[1.0,\"#f0f921\"]],\"diverging\":[[0,\"#8e0152\"],[0.1,\"#c51b7d\"],[0.2,\"#de77ae\"],[0.3,\"#f1b6da\"],[0.4,\"#fde0ef\"],[0.5,\"#f7f7f7\"],[0.6,\"#e6f5d0\"],[0.7,\"#b8e186\"],[0.8,\"#7fbc41\"],[0.9,\"#4d9221\"],[1,\"#276419\"]]},\"xaxis\":{\"gridcolor\":\"white\",\"linecolor\":\"white\",\"ticks\":\"\",\"title\":{\"standoff\":15},\"zerolinecolor\":\"white\",\"automargin\":true,\"zerolinewidth\":2},\"yaxis\":{\"gridcolor\":\"white\",\"linecolor\":\"white\",\"ticks\":\"\",\"title\":{\"standoff\":15},\"zerolinecolor\":\"white\",\"automargin\":true,\"zerolinewidth\":2},\"scene\":{\"xaxis\":{\"backgroundcolor\":\"#E5ECF6\",\"gridcolor\":\"white\",\"linecolor\":\"white\",\"showbackground\":true,\"ticks\":\"\",\"zerolinecolor\":\"white\",\"gridwidth\":2},\"yaxis\":{\"backgroundcolor\":\"#E5ECF6\",\"gridcolor\":\"white\",\"linecolor\":\"white\",\"showbackground\":true,\"ticks\":\"\",\"zerolinecolor\":\"white\",\"gridwidth\":2},\"zaxis\":{\"backgroundcolor\":\"#E5ECF6\",\"gridcolor\":\"white\",\"linecolor\":\"white\",\"showbackground\":true,\"ticks\":\"\",\"zerolinecolor\":\"white\",\"gridwidth\":2}},\"shapedefaults\":{\"line\":{\"color\":\"#2a3f5f\"}},\"annotationdefaults\":{\"arrowcolor\":\"#2a3f5f\",\"arrowhead\":0,\"arrowwidth\":1},\"geo\":{\"bgcolor\":\"white\",\"landcolor\":\"#E5ECF6\",\"subunitcolor\":\"white\",\"showland\":true,\"showlakes\":true,\"lakecolor\":\"white\"},\"title\":{\"x\":0.05},\"mapbox\":{\"style\":\"light\"}}},\"xaxis\":{\"anchor\":\"y\",\"domain\":[0.0,1.0],\"title\":{\"text\":\"Cluster\"}},\"yaxis\":{\"anchor\":\"x\",\"domain\":[0.0,1.0],\"title\":{\"text\":\"Percent Change in Stock Price\"}},\"legend\":{\"tracegroupgap\":0},\"margin\":{\"t\":60},\"boxmode\":\"group\",\"title\":{\"text\":\"Secondary Sector Stock Price by Cluster\"}},                        {\"responsive\": true}                    ).then(function(){\n",
       "                            \n",
       "var gd = document.getElementById('1c626007-10c5-407c-9613-8614630efe6e');\n",
       "var x = new MutationObserver(function (mutations, observer) {{\n",
       "        var display = window.getComputedStyle(gd).display;\n",
       "        if (!display || display === 'none') {{\n",
       "            console.log([gd, 'removed!']);\n",
       "            Plotly.purge(gd);\n",
       "            observer.disconnect();\n",
       "        }}\n",
       "}});\n",
       "\n",
       "// Listen for the removal of the full notebook cells\n",
       "var notebookContainer = gd.closest('#notebook-container');\n",
       "if (notebookContainer) {{\n",
       "    x.observe(notebookContainer, {childList: true});\n",
       "}}\n",
       "\n",
       "// Listen for the clearing of the current output cell\n",
       "var outputEl = gd.closest('.output');\n",
       "if (outputEl) {{\n",
       "    x.observe(outputEl, {childList: true});\n",
       "}}\n",
       "\n",
       "                        })                };                });            </script>        </div>"
      ]
     },
     "metadata": {},
     "output_type": "display_data"
    }
   ],
   "source": [
    "# Create a box plot for each cluster\n",
    "fig = px.box(sec_sector_df_copy, x='Cluster', y='percent_change_next_weeks_price')\n",
    "\n",
    "# Set labels\n",
    "fig.update_xaxes(title_text= 'Cluster')\n",
    "fig.update_yaxes(title_text='Percent Change in Stock Price')\n",
    "fig.update_layout(title='Secondary Sector Stock Price by Cluster')\n",
    "# Show the plot\n",
    "fig.show()"
   ]
  },
  {
   "cell_type": "code",
   "execution_count": 516,
   "id": "8471ff83",
   "metadata": {},
   "outputs": [
    {
     "name": "stdout",
     "output_type": "stream",
     "text": [
      "Training time: 0.00 seconds\n"
     ]
    },
    {
     "data": {
      "application/vnd.plotly.v1+json": {
       "config": {
        "plotlyServerURL": "https://plot.ly"
       },
       "data": [
        {
         "alignmentgroup": "True",
         "hovertemplate": "Cluster=%{x}<br>percent_change_next_weeks_price=%{y}<extra></extra>",
         "legendgroup": "",
         "marker": {
          "color": "#636efa"
         },
         "name": "",
         "notched": false,
         "offsetgroup": "",
         "orientation": "v",
         "showlegend": false,
         "type": "box",
         "x": [
          0,
          0,
          1,
          1,
          0,
          0,
          1,
          1,
          0,
          0,
          1,
          1,
          0,
          1,
          1,
          1,
          0,
          0,
          1,
          1,
          0,
          0,
          1,
          1,
          0,
          0,
          1,
          1,
          0,
          0,
          1,
          1,
          0,
          0,
          1,
          1,
          0,
          0,
          1,
          1,
          0,
          0,
          1,
          1,
          0,
          0,
          1,
          1,
          0,
          0,
          1,
          1,
          0,
          0,
          1,
          1,
          0,
          0,
          1,
          1,
          0,
          0,
          1,
          1,
          0,
          0,
          1,
          1,
          0,
          0,
          1,
          1,
          0,
          0,
          1,
          1,
          0,
          0,
          1,
          1,
          0,
          0,
          1,
          1,
          0,
          0,
          1,
          1,
          0,
          0,
          1,
          1,
          0,
          0,
          1,
          1,
          0,
          0,
          1,
          1,
          0,
          0,
          1,
          1,
          0,
          0,
          1,
          1,
          0,
          0,
          1,
          1,
          0,
          0,
          1,
          1,
          0,
          0,
          1,
          1,
          0,
          0,
          1,
          1,
          0,
          0,
          1,
          1,
          0,
          0,
          1,
          1,
          0,
          0,
          1,
          1,
          0,
          0,
          1,
          1,
          0,
          0,
          1,
          1,
          0,
          0,
          0,
          1,
          1,
          0,
          0,
          1,
          1,
          0,
          0,
          0,
          1,
          0,
          0,
          0,
          1,
          1,
          0,
          0,
          1,
          1,
          0,
          0,
          0,
          1,
          0,
          0,
          0,
          1,
          1,
          0,
          0,
          1,
          1,
          0,
          0,
          0,
          1,
          0,
          0,
          0,
          1,
          1,
          0,
          0,
          1,
          1,
          0,
          0,
          0,
          1,
          0,
          0,
          0,
          1,
          1,
          0,
          0,
          1,
          1,
          0,
          0,
          0,
          1,
          0,
          0,
          0,
          1,
          1,
          0,
          0,
          1,
          1,
          0,
          0,
          0,
          1,
          0,
          0,
          0,
          1,
          1,
          0,
          0,
          1,
          1,
          0,
          0,
          0,
          1,
          0,
          0,
          0,
          1,
          1,
          0,
          0,
          1,
          1,
          0,
          0,
          0,
          1,
          0,
          0,
          0,
          1,
          1,
          0,
          0,
          1,
          1,
          0,
          0,
          0,
          1,
          0,
          0,
          0,
          1,
          1,
          0,
          0,
          1,
          1,
          0,
          0,
          0,
          1,
          0,
          0,
          0,
          1,
          1,
          0,
          0,
          1,
          1,
          0,
          0,
          0,
          1,
          0,
          0,
          0,
          1,
          1,
          0,
          0,
          1,
          1,
          0,
          0,
          0,
          1
         ],
         "x0": " ",
         "xaxis": "x",
         "y": [
          4.63801,
          -0.0651749,
          -4.7557,
          -0.70247,
          6.34668,
          -1.91728,
          -3.13752,
          -0.0228676,
          0.957592,
          0.706794,
          1.87709,
          -0.395257,
          7.62174,
          -5.50398,
          -4.5614,
          4.23049,
          1.79187,
          -0.13541,
          -1.25174,
          -1.05116,
          1.41044,
          -1.54278,
          -6.05634,
          -0.372578,
          0.717765,
          1.71487,
          -1.99294,
          4.27766,
          6.39706,
          0.85668,
          0.280177,
          1.23199,
          -1.37836,
          -3.30675,
          3.64206,
          -0.787219,
          5.0644,
          1.50125,
          0.658256,
          -0.888769,
          1.84783,
          2.69549,
          -5.64885,
          0.188425,
          -0.322061,
          -2.49187,
          3.11381,
          0.266951,
          3.79015,
          0.599733,
          -1.48197,
          0.405314,
          4.06704,
          4.34783,
          -1.10169,
          -2.75582,
          0.263043,
          0.704535,
          -0.907519,
          0.542299,
          1.39114,
          -0.191022,
          -2.73973,
          2.16181,
          -1.66774,
          0.782524,
          3.22266,
          -0.754243,
          0.443599,
          -1.65027,
          1.55945,
          0.829346,
          -0.255892,
          0.482251,
          -1.3064,
          0.338753,
          2.71145,
          0.0788747,
          -1.98815,
          2.03999,
          0.458235,
          -4.08673,
          2.38095,
          0.582396,
          -8.13204,
          -0.498973,
          -2.70668,
          -1.20156,
          0.394657,
          -0.363967,
          -1.70992,
          2.67081,
          -0.818182,
          -1.81538,
          1.49579,
          1.62876,
          0.658617,
          0.0544959,
          -0.981997,
          6.10225,
          -2.28334,
          1.96599,
          -0.105932,
          3.7467,
          -0.86558,
          3.75321,
          0.147638,
          -0.195886,
          1.75466,
          0.39604,
          -2.57967,
          -1.14996,
          1.2197,
          -0.771605,
          -1.39652,
          -1.22611,
          -0.822581,
          -0.720839,
          -0.131234,
          1.6372,
          2.84262,
          0.695716,
          1.21509,
          2.86687,
          2.91347,
          3.53501,
          -1.65016,
          -0.704698,
          -0.641242,
          -0.701214,
          0.924025,
          1.04925,
          2.16216,
          1.12502,
          2.36505,
          -0.744021,
          -0.677724,
          0.217155,
          -3.82828,
          0.618357,
          0.631458,
          -1.58548,
          1.19853,
          -0.344102,
          1.46898,
          -0.237274,
          2.74809,
          4.00509,
          1.68118,
          -1.13863,
          3.58155,
          0.768624,
          -4.10586,
          -2.82923,
          1.12594,
          -0.0206825,
          7.93978,
          0.597015,
          -5.03704,
          -2.22399,
          -0.324675,
          -0.404531,
          -2.85016,
          -2.60723,
          1.91805,
          -4.97051,
          -3.39893,
          -1.92837,
          -0.661001,
          5.41825,
          -2.58922,
          -0.574713,
          3.17305,
          1.79499,
          -0.943179,
          -4.15512,
          0.581677,
          0.899149,
          -6.01432,
          -1.73558,
          -1.52731,
          -0.713342,
          5.58214,
          -0.0533618,
          1.92256,
          0.265252,
          -1.22308,
          -1.20192,
          0.216626,
          0.981194,
          0,
          -4.28413,
          -3.06979,
          3.19785,
          2.30388,
          4.85298,
          1.56114,
          -4.48936,
          0.926135,
          2.19485,
          -1.95908,
          -3.57542,
          0.372353,
          0.919811,
          -3.86216,
          -0.121655,
          -1.18673,
          -2.49383,
          5.53299,
          -0.126143,
          5.13709,
          2.01711,
          0.418535,
          1.42857,
          3.19432,
          1.1194,
          -0.629111,
          -1.98333,
          -0.821837,
          1.65094,
          0.610643,
          2.48483,
          -0.35382,
          1.61523,
          0.0260112,
          1.50356,
          0.382653,
          1.61087,
          2.34958,
          0.110389,
          -1.93596,
          -0.297767,
          2.59853,
          -0.58309,
          5.07913,
          0.989802,
          2.46437,
          -0.467836,
          6.67656,
          -0.137212,
          2.68624,
          0,
          -1.25443,
          -1.56636,
          -0.70028,
          1.02769,
          -2.09691,
          2.89017,
          -0.437956,
          -0.0973236,
          -2.60827,
          5.11278,
          -2.79092,
          1.89966,
          -0.71977,
          2.14739,
          -0.761905,
          -3.41018,
          0.896414,
          -0.049776,
          3.23383,
          -0.434293,
          3.48275,
          -0.628239,
          2.88523,
          0.0459841,
          2.97243,
          1.0501,
          -0.898204,
          -1.35685,
          -1.00979,
          0.0618716,
          -2.97628,
          2.40599,
          -0.417851,
          -0.0835422,
          3.37154,
          3.19635,
          -0.204531,
          -1.42338,
          -0.431862,
          -0.356333,
          -1.24294,
          -3.48818,
          -2.02977,
          -1.54594,
          4.01197,
          0.439686,
          1.92234,
          0.941974,
          2.57463,
          -0.108932,
          1.36438,
          -0.575436,
          -0.364299,
          -2.22303,
          -2.1166,
          -0.1701,
          -0.550285,
          2.27446
         ],
         "y0": " ",
         "yaxis": "y"
        }
       ],
       "layout": {
        "boxmode": "group",
        "legend": {
         "tracegroupgap": 0
        },
        "margin": {
         "t": 60
        },
        "template": {
         "data": {
          "bar": [
           {
            "error_x": {
             "color": "#2a3f5f"
            },
            "error_y": {
             "color": "#2a3f5f"
            },
            "marker": {
             "line": {
              "color": "#E5ECF6",
              "width": 0.5
             },
             "pattern": {
              "fillmode": "overlay",
              "size": 10,
              "solidity": 0.2
             }
            },
            "type": "bar"
           }
          ],
          "barpolar": [
           {
            "marker": {
             "line": {
              "color": "#E5ECF6",
              "width": 0.5
             },
             "pattern": {
              "fillmode": "overlay",
              "size": 10,
              "solidity": 0.2
             }
            },
            "type": "barpolar"
           }
          ],
          "carpet": [
           {
            "aaxis": {
             "endlinecolor": "#2a3f5f",
             "gridcolor": "white",
             "linecolor": "white",
             "minorgridcolor": "white",
             "startlinecolor": "#2a3f5f"
            },
            "baxis": {
             "endlinecolor": "#2a3f5f",
             "gridcolor": "white",
             "linecolor": "white",
             "minorgridcolor": "white",
             "startlinecolor": "#2a3f5f"
            },
            "type": "carpet"
           }
          ],
          "choropleth": [
           {
            "colorbar": {
             "outlinewidth": 0,
             "ticks": ""
            },
            "type": "choropleth"
           }
          ],
          "contour": [
           {
            "colorbar": {
             "outlinewidth": 0,
             "ticks": ""
            },
            "colorscale": [
             [
              0,
              "#0d0887"
             ],
             [
              0.1111111111111111,
              "#46039f"
             ],
             [
              0.2222222222222222,
              "#7201a8"
             ],
             [
              0.3333333333333333,
              "#9c179e"
             ],
             [
              0.4444444444444444,
              "#bd3786"
             ],
             [
              0.5555555555555556,
              "#d8576b"
             ],
             [
              0.6666666666666666,
              "#ed7953"
             ],
             [
              0.7777777777777778,
              "#fb9f3a"
             ],
             [
              0.8888888888888888,
              "#fdca26"
             ],
             [
              1,
              "#f0f921"
             ]
            ],
            "type": "contour"
           }
          ],
          "contourcarpet": [
           {
            "colorbar": {
             "outlinewidth": 0,
             "ticks": ""
            },
            "type": "contourcarpet"
           }
          ],
          "heatmap": [
           {
            "colorbar": {
             "outlinewidth": 0,
             "ticks": ""
            },
            "colorscale": [
             [
              0,
              "#0d0887"
             ],
             [
              0.1111111111111111,
              "#46039f"
             ],
             [
              0.2222222222222222,
              "#7201a8"
             ],
             [
              0.3333333333333333,
              "#9c179e"
             ],
             [
              0.4444444444444444,
              "#bd3786"
             ],
             [
              0.5555555555555556,
              "#d8576b"
             ],
             [
              0.6666666666666666,
              "#ed7953"
             ],
             [
              0.7777777777777778,
              "#fb9f3a"
             ],
             [
              0.8888888888888888,
              "#fdca26"
             ],
             [
              1,
              "#f0f921"
             ]
            ],
            "type": "heatmap"
           }
          ],
          "heatmapgl": [
           {
            "colorbar": {
             "outlinewidth": 0,
             "ticks": ""
            },
            "colorscale": [
             [
              0,
              "#0d0887"
             ],
             [
              0.1111111111111111,
              "#46039f"
             ],
             [
              0.2222222222222222,
              "#7201a8"
             ],
             [
              0.3333333333333333,
              "#9c179e"
             ],
             [
              0.4444444444444444,
              "#bd3786"
             ],
             [
              0.5555555555555556,
              "#d8576b"
             ],
             [
              0.6666666666666666,
              "#ed7953"
             ],
             [
              0.7777777777777778,
              "#fb9f3a"
             ],
             [
              0.8888888888888888,
              "#fdca26"
             ],
             [
              1,
              "#f0f921"
             ]
            ],
            "type": "heatmapgl"
           }
          ],
          "histogram": [
           {
            "marker": {
             "pattern": {
              "fillmode": "overlay",
              "size": 10,
              "solidity": 0.2
             }
            },
            "type": "histogram"
           }
          ],
          "histogram2d": [
           {
            "colorbar": {
             "outlinewidth": 0,
             "ticks": ""
            },
            "colorscale": [
             [
              0,
              "#0d0887"
             ],
             [
              0.1111111111111111,
              "#46039f"
             ],
             [
              0.2222222222222222,
              "#7201a8"
             ],
             [
              0.3333333333333333,
              "#9c179e"
             ],
             [
              0.4444444444444444,
              "#bd3786"
             ],
             [
              0.5555555555555556,
              "#d8576b"
             ],
             [
              0.6666666666666666,
              "#ed7953"
             ],
             [
              0.7777777777777778,
              "#fb9f3a"
             ],
             [
              0.8888888888888888,
              "#fdca26"
             ],
             [
              1,
              "#f0f921"
             ]
            ],
            "type": "histogram2d"
           }
          ],
          "histogram2dcontour": [
           {
            "colorbar": {
             "outlinewidth": 0,
             "ticks": ""
            },
            "colorscale": [
             [
              0,
              "#0d0887"
             ],
             [
              0.1111111111111111,
              "#46039f"
             ],
             [
              0.2222222222222222,
              "#7201a8"
             ],
             [
              0.3333333333333333,
              "#9c179e"
             ],
             [
              0.4444444444444444,
              "#bd3786"
             ],
             [
              0.5555555555555556,
              "#d8576b"
             ],
             [
              0.6666666666666666,
              "#ed7953"
             ],
             [
              0.7777777777777778,
              "#fb9f3a"
             ],
             [
              0.8888888888888888,
              "#fdca26"
             ],
             [
              1,
              "#f0f921"
             ]
            ],
            "type": "histogram2dcontour"
           }
          ],
          "mesh3d": [
           {
            "colorbar": {
             "outlinewidth": 0,
             "ticks": ""
            },
            "type": "mesh3d"
           }
          ],
          "parcoords": [
           {
            "line": {
             "colorbar": {
              "outlinewidth": 0,
              "ticks": ""
             }
            },
            "type": "parcoords"
           }
          ],
          "pie": [
           {
            "automargin": true,
            "type": "pie"
           }
          ],
          "scatter": [
           {
            "fillpattern": {
             "fillmode": "overlay",
             "size": 10,
             "solidity": 0.2
            },
            "type": "scatter"
           }
          ],
          "scatter3d": [
           {
            "line": {
             "colorbar": {
              "outlinewidth": 0,
              "ticks": ""
             }
            },
            "marker": {
             "colorbar": {
              "outlinewidth": 0,
              "ticks": ""
             }
            },
            "type": "scatter3d"
           }
          ],
          "scattercarpet": [
           {
            "marker": {
             "colorbar": {
              "outlinewidth": 0,
              "ticks": ""
             }
            },
            "type": "scattercarpet"
           }
          ],
          "scattergeo": [
           {
            "marker": {
             "colorbar": {
              "outlinewidth": 0,
              "ticks": ""
             }
            },
            "type": "scattergeo"
           }
          ],
          "scattergl": [
           {
            "marker": {
             "colorbar": {
              "outlinewidth": 0,
              "ticks": ""
             }
            },
            "type": "scattergl"
           }
          ],
          "scattermapbox": [
           {
            "marker": {
             "colorbar": {
              "outlinewidth": 0,
              "ticks": ""
             }
            },
            "type": "scattermapbox"
           }
          ],
          "scatterpolar": [
           {
            "marker": {
             "colorbar": {
              "outlinewidth": 0,
              "ticks": ""
             }
            },
            "type": "scatterpolar"
           }
          ],
          "scatterpolargl": [
           {
            "marker": {
             "colorbar": {
              "outlinewidth": 0,
              "ticks": ""
             }
            },
            "type": "scatterpolargl"
           }
          ],
          "scatterternary": [
           {
            "marker": {
             "colorbar": {
              "outlinewidth": 0,
              "ticks": ""
             }
            },
            "type": "scatterternary"
           }
          ],
          "surface": [
           {
            "colorbar": {
             "outlinewidth": 0,
             "ticks": ""
            },
            "colorscale": [
             [
              0,
              "#0d0887"
             ],
             [
              0.1111111111111111,
              "#46039f"
             ],
             [
              0.2222222222222222,
              "#7201a8"
             ],
             [
              0.3333333333333333,
              "#9c179e"
             ],
             [
              0.4444444444444444,
              "#bd3786"
             ],
             [
              0.5555555555555556,
              "#d8576b"
             ],
             [
              0.6666666666666666,
              "#ed7953"
             ],
             [
              0.7777777777777778,
              "#fb9f3a"
             ],
             [
              0.8888888888888888,
              "#fdca26"
             ],
             [
              1,
              "#f0f921"
             ]
            ],
            "type": "surface"
           }
          ],
          "table": [
           {
            "cells": {
             "fill": {
              "color": "#EBF0F8"
             },
             "line": {
              "color": "white"
             }
            },
            "header": {
             "fill": {
              "color": "#C8D4E3"
             },
             "line": {
              "color": "white"
             }
            },
            "type": "table"
           }
          ]
         },
         "layout": {
          "annotationdefaults": {
           "arrowcolor": "#2a3f5f",
           "arrowhead": 0,
           "arrowwidth": 1
          },
          "autotypenumbers": "strict",
          "coloraxis": {
           "colorbar": {
            "outlinewidth": 0,
            "ticks": ""
           }
          },
          "colorscale": {
           "diverging": [
            [
             0,
             "#8e0152"
            ],
            [
             0.1,
             "#c51b7d"
            ],
            [
             0.2,
             "#de77ae"
            ],
            [
             0.3,
             "#f1b6da"
            ],
            [
             0.4,
             "#fde0ef"
            ],
            [
             0.5,
             "#f7f7f7"
            ],
            [
             0.6,
             "#e6f5d0"
            ],
            [
             0.7,
             "#b8e186"
            ],
            [
             0.8,
             "#7fbc41"
            ],
            [
             0.9,
             "#4d9221"
            ],
            [
             1,
             "#276419"
            ]
           ],
           "sequential": [
            [
             0,
             "#0d0887"
            ],
            [
             0.1111111111111111,
             "#46039f"
            ],
            [
             0.2222222222222222,
             "#7201a8"
            ],
            [
             0.3333333333333333,
             "#9c179e"
            ],
            [
             0.4444444444444444,
             "#bd3786"
            ],
            [
             0.5555555555555556,
             "#d8576b"
            ],
            [
             0.6666666666666666,
             "#ed7953"
            ],
            [
             0.7777777777777778,
             "#fb9f3a"
            ],
            [
             0.8888888888888888,
             "#fdca26"
            ],
            [
             1,
             "#f0f921"
            ]
           ],
           "sequentialminus": [
            [
             0,
             "#0d0887"
            ],
            [
             0.1111111111111111,
             "#46039f"
            ],
            [
             0.2222222222222222,
             "#7201a8"
            ],
            [
             0.3333333333333333,
             "#9c179e"
            ],
            [
             0.4444444444444444,
             "#bd3786"
            ],
            [
             0.5555555555555556,
             "#d8576b"
            ],
            [
             0.6666666666666666,
             "#ed7953"
            ],
            [
             0.7777777777777778,
             "#fb9f3a"
            ],
            [
             0.8888888888888888,
             "#fdca26"
            ],
            [
             1,
             "#f0f921"
            ]
           ]
          },
          "colorway": [
           "#636efa",
           "#EF553B",
           "#00cc96",
           "#ab63fa",
           "#FFA15A",
           "#19d3f3",
           "#FF6692",
           "#B6E880",
           "#FF97FF",
           "#FECB52"
          ],
          "font": {
           "color": "#2a3f5f"
          },
          "geo": {
           "bgcolor": "white",
           "lakecolor": "white",
           "landcolor": "#E5ECF6",
           "showlakes": true,
           "showland": true,
           "subunitcolor": "white"
          },
          "hoverlabel": {
           "align": "left"
          },
          "hovermode": "closest",
          "mapbox": {
           "style": "light"
          },
          "paper_bgcolor": "white",
          "plot_bgcolor": "#E5ECF6",
          "polar": {
           "angularaxis": {
            "gridcolor": "white",
            "linecolor": "white",
            "ticks": ""
           },
           "bgcolor": "#E5ECF6",
           "radialaxis": {
            "gridcolor": "white",
            "linecolor": "white",
            "ticks": ""
           }
          },
          "scene": {
           "xaxis": {
            "backgroundcolor": "#E5ECF6",
            "gridcolor": "white",
            "gridwidth": 2,
            "linecolor": "white",
            "showbackground": true,
            "ticks": "",
            "zerolinecolor": "white"
           },
           "yaxis": {
            "backgroundcolor": "#E5ECF6",
            "gridcolor": "white",
            "gridwidth": 2,
            "linecolor": "white",
            "showbackground": true,
            "ticks": "",
            "zerolinecolor": "white"
           },
           "zaxis": {
            "backgroundcolor": "#E5ECF6",
            "gridcolor": "white",
            "gridwidth": 2,
            "linecolor": "white",
            "showbackground": true,
            "ticks": "",
            "zerolinecolor": "white"
           }
          },
          "shapedefaults": {
           "line": {
            "color": "#2a3f5f"
           }
          },
          "ternary": {
           "aaxis": {
            "gridcolor": "white",
            "linecolor": "white",
            "ticks": ""
           },
           "baxis": {
            "gridcolor": "white",
            "linecolor": "white",
            "ticks": ""
           },
           "bgcolor": "#E5ECF6",
           "caxis": {
            "gridcolor": "white",
            "linecolor": "white",
            "ticks": ""
           }
          },
          "title": {
           "x": 0.05
          },
          "xaxis": {
           "automargin": true,
           "gridcolor": "white",
           "linecolor": "white",
           "ticks": "",
           "title": {
            "standoff": 15
           },
           "zerolinecolor": "white",
           "zerolinewidth": 2
          },
          "yaxis": {
           "automargin": true,
           "gridcolor": "white",
           "linecolor": "white",
           "ticks": "",
           "title": {
            "standoff": 15
           },
           "zerolinecolor": "white",
           "zerolinewidth": 2
          }
         }
        },
        "title": {
         "text": "Tertiary Sector Stock Price by Cluster"
        },
        "xaxis": {
         "anchor": "y",
         "domain": [
          0,
          1
         ],
         "title": {
          "text": "Cluster"
         }
        },
        "yaxis": {
         "anchor": "x",
         "domain": [
          0,
          1
         ],
         "title": {
          "text": "Percent Change in Stock Price"
         }
        }
       }
      },
      "text/html": [
       "<div>                            <div id=\"0fd84c19-a998-4b09-a4f2-a504cac594ba\" class=\"plotly-graph-div\" style=\"height:525px; width:100%;\"></div>            <script type=\"text/javascript\">                require([\"plotly\"], function(Plotly) {                    window.PLOTLYENV=window.PLOTLYENV || {};                                    if (document.getElementById(\"0fd84c19-a998-4b09-a4f2-a504cac594ba\")) {                    Plotly.newPlot(                        \"0fd84c19-a998-4b09-a4f2-a504cac594ba\",                        [{\"alignmentgroup\":\"True\",\"hovertemplate\":\"Cluster=%{x}<br>percent_change_next_weeks_price=%{y}<extra></extra>\",\"legendgroup\":\"\",\"marker\":{\"color\":\"#636efa\"},\"name\":\"\",\"notched\":false,\"offsetgroup\":\"\",\"orientation\":\"v\",\"showlegend\":false,\"x\":[0,0,1,1,0,0,1,1,0,0,1,1,0,1,1,1,0,0,1,1,0,0,1,1,0,0,1,1,0,0,1,1,0,0,1,1,0,0,1,1,0,0,1,1,0,0,1,1,0,0,1,1,0,0,1,1,0,0,1,1,0,0,1,1,0,0,1,1,0,0,1,1,0,0,1,1,0,0,1,1,0,0,1,1,0,0,1,1,0,0,1,1,0,0,1,1,0,0,1,1,0,0,1,1,0,0,1,1,0,0,1,1,0,0,1,1,0,0,1,1,0,0,1,1,0,0,1,1,0,0,1,1,0,0,1,1,0,0,1,1,0,0,1,1,0,0,0,1,1,0,0,1,1,0,0,0,1,0,0,0,1,1,0,0,1,1,0,0,0,1,0,0,0,1,1,0,0,1,1,0,0,0,1,0,0,0,1,1,0,0,1,1,0,0,0,1,0,0,0,1,1,0,0,1,1,0,0,0,1,0,0,0,1,1,0,0,1,1,0,0,0,1,0,0,0,1,1,0,0,1,1,0,0,0,1,0,0,0,1,1,0,0,1,1,0,0,0,1,0,0,0,1,1,0,0,1,1,0,0,0,1,0,0,0,1,1,0,0,1,1,0,0,0,1,0,0,0,1,1,0,0,1,1,0,0,0,1,0,0,0,1,1,0,0,1,1,0,0,0,1],\"x0\":\" \",\"xaxis\":\"x\",\"y\":[4.63801,-0.0651749,-4.7557,-0.70247,6.34668,-1.91728,-3.13752,-0.0228676,0.957592,0.706794,1.87709,-0.395257,7.62174,-5.50398,-4.5614,4.23049,1.79187,-0.13541,-1.25174,-1.05116,1.41044,-1.54278,-6.05634,-0.372578,0.717765,1.71487,-1.99294,4.27766,6.39706,0.85668,0.280177,1.23199,-1.37836,-3.30675,3.64206,-0.787219,5.0644,1.50125,0.658256,-0.888769,1.84783,2.69549,-5.64885,0.188425,-0.322061,-2.49187,3.11381,0.266951,3.79015,0.599733,-1.48197,0.405314,4.06704,4.34783,-1.10169,-2.75582,0.263043,0.704535,-0.907519,0.542299,1.39114,-0.191022,-2.73973,2.16181,-1.66774,0.782524,3.22266,-0.754243,0.443599,-1.65027,1.55945,0.829346,-0.255892,0.482251,-1.3064,0.338753,2.71145,0.0788747,-1.98815,2.03999,0.458235,-4.08673,2.38095,0.582396,-8.13204,-0.498973,-2.70668,-1.20156,0.394657,-0.363967,-1.70992,2.67081,-0.818182,-1.81538,1.49579,1.62876,0.658617,0.0544959,-0.981997,6.10225,-2.28334,1.96599,-0.105932,3.7467,-0.86558,3.75321,0.147638,-0.195886,1.75466,0.39604,-2.57967,-1.14996,1.2197,-0.771605,-1.39652,-1.22611,-0.822581,-0.720839,-0.131234,1.6372,2.84262,0.695716,1.21509,2.86687,2.91347,3.53501,-1.65016,-0.704698,-0.641242,-0.701214,0.924025,1.04925,2.16216,1.12502,2.36505,-0.744021,-0.677724,0.217155,-3.82828,0.618357,0.631458,-1.58548,1.19853,-0.344102,1.46898,-0.237274,2.74809,4.00509,1.68118,-1.13863,3.58155,0.768624,-4.10586,-2.82923,1.12594,-0.0206825,7.93978,0.597015,-5.03704,-2.22399,-0.324675,-0.404531,-2.85016,-2.60723,1.91805,-4.97051,-3.39893,-1.92837,-0.661001,5.41825,-2.58922,-0.574713,3.17305,1.79499,-0.943179,-4.15512,0.581677,0.899149,-6.01432,-1.73558,-1.52731,-0.713342,5.58214,-0.0533618,1.92256,0.265252,-1.22308,-1.20192,0.216626,0.981194,0.0,-4.28413,-3.06979,3.19785,2.30388,4.85298,1.56114,-4.48936,0.926135,2.19485,-1.95908,-3.57542,0.372353,0.919811,-3.86216,-0.121655,-1.18673,-2.49383,5.53299,-0.126143,5.13709,2.01711,0.418535,1.42857,3.19432,1.1194,-0.629111,-1.98333,-0.821837,1.65094,0.610643,2.48483,-0.35382,1.61523,0.0260112,1.50356,0.382653,1.61087,2.34958,0.110389,-1.93596,-0.297767,2.59853,-0.58309,5.07913,0.989802,2.46437,-0.467836,6.67656,-0.137212,2.68624,0.0,-1.25443,-1.56636,-0.70028,1.02769,-2.09691,2.89017,-0.437956,-0.0973236,-2.60827,5.11278,-2.79092,1.89966,-0.71977,2.14739,-0.761905,-3.41018,0.896414,-0.049776,3.23383,-0.434293,3.48275,-0.628239,2.88523,0.0459841,2.97243,1.0501,-0.898204,-1.35685,-1.00979,0.0618716,-2.97628,2.40599,-0.417851,-0.0835422,3.37154,3.19635,-0.204531,-1.42338,-0.431862,-0.356333,-1.24294,-3.48818,-2.02977,-1.54594,4.01197,0.439686,1.92234,0.941974,2.57463,-0.108932,1.36438,-0.575436,-0.364299,-2.22303,-2.1166,-0.1701,-0.550285,2.27446],\"y0\":\" \",\"yaxis\":\"y\",\"type\":\"box\"}],                        {\"template\":{\"data\":{\"histogram2dcontour\":[{\"type\":\"histogram2dcontour\",\"colorbar\":{\"outlinewidth\":0,\"ticks\":\"\"},\"colorscale\":[[0.0,\"#0d0887\"],[0.1111111111111111,\"#46039f\"],[0.2222222222222222,\"#7201a8\"],[0.3333333333333333,\"#9c179e\"],[0.4444444444444444,\"#bd3786\"],[0.5555555555555556,\"#d8576b\"],[0.6666666666666666,\"#ed7953\"],[0.7777777777777778,\"#fb9f3a\"],[0.8888888888888888,\"#fdca26\"],[1.0,\"#f0f921\"]]}],\"choropleth\":[{\"type\":\"choropleth\",\"colorbar\":{\"outlinewidth\":0,\"ticks\":\"\"}}],\"histogram2d\":[{\"type\":\"histogram2d\",\"colorbar\":{\"outlinewidth\":0,\"ticks\":\"\"},\"colorscale\":[[0.0,\"#0d0887\"],[0.1111111111111111,\"#46039f\"],[0.2222222222222222,\"#7201a8\"],[0.3333333333333333,\"#9c179e\"],[0.4444444444444444,\"#bd3786\"],[0.5555555555555556,\"#d8576b\"],[0.6666666666666666,\"#ed7953\"],[0.7777777777777778,\"#fb9f3a\"],[0.8888888888888888,\"#fdca26\"],[1.0,\"#f0f921\"]]}],\"heatmap\":[{\"type\":\"heatmap\",\"colorbar\":{\"outlinewidth\":0,\"ticks\":\"\"},\"colorscale\":[[0.0,\"#0d0887\"],[0.1111111111111111,\"#46039f\"],[0.2222222222222222,\"#7201a8\"],[0.3333333333333333,\"#9c179e\"],[0.4444444444444444,\"#bd3786\"],[0.5555555555555556,\"#d8576b\"],[0.6666666666666666,\"#ed7953\"],[0.7777777777777778,\"#fb9f3a\"],[0.8888888888888888,\"#fdca26\"],[1.0,\"#f0f921\"]]}],\"heatmapgl\":[{\"type\":\"heatmapgl\",\"colorbar\":{\"outlinewidth\":0,\"ticks\":\"\"},\"colorscale\":[[0.0,\"#0d0887\"],[0.1111111111111111,\"#46039f\"],[0.2222222222222222,\"#7201a8\"],[0.3333333333333333,\"#9c179e\"],[0.4444444444444444,\"#bd3786\"],[0.5555555555555556,\"#d8576b\"],[0.6666666666666666,\"#ed7953\"],[0.7777777777777778,\"#fb9f3a\"],[0.8888888888888888,\"#fdca26\"],[1.0,\"#f0f921\"]]}],\"contourcarpet\":[{\"type\":\"contourcarpet\",\"colorbar\":{\"outlinewidth\":0,\"ticks\":\"\"}}],\"contour\":[{\"type\":\"contour\",\"colorbar\":{\"outlinewidth\":0,\"ticks\":\"\"},\"colorscale\":[[0.0,\"#0d0887\"],[0.1111111111111111,\"#46039f\"],[0.2222222222222222,\"#7201a8\"],[0.3333333333333333,\"#9c179e\"],[0.4444444444444444,\"#bd3786\"],[0.5555555555555556,\"#d8576b\"],[0.6666666666666666,\"#ed7953\"],[0.7777777777777778,\"#fb9f3a\"],[0.8888888888888888,\"#fdca26\"],[1.0,\"#f0f921\"]]}],\"surface\":[{\"type\":\"surface\",\"colorbar\":{\"outlinewidth\":0,\"ticks\":\"\"},\"colorscale\":[[0.0,\"#0d0887\"],[0.1111111111111111,\"#46039f\"],[0.2222222222222222,\"#7201a8\"],[0.3333333333333333,\"#9c179e\"],[0.4444444444444444,\"#bd3786\"],[0.5555555555555556,\"#d8576b\"],[0.6666666666666666,\"#ed7953\"],[0.7777777777777778,\"#fb9f3a\"],[0.8888888888888888,\"#fdca26\"],[1.0,\"#f0f921\"]]}],\"mesh3d\":[{\"type\":\"mesh3d\",\"colorbar\":{\"outlinewidth\":0,\"ticks\":\"\"}}],\"scatter\":[{\"fillpattern\":{\"fillmode\":\"overlay\",\"size\":10,\"solidity\":0.2},\"type\":\"scatter\"}],\"parcoords\":[{\"type\":\"parcoords\",\"line\":{\"colorbar\":{\"outlinewidth\":0,\"ticks\":\"\"}}}],\"scatterpolargl\":[{\"type\":\"scatterpolargl\",\"marker\":{\"colorbar\":{\"outlinewidth\":0,\"ticks\":\"\"}}}],\"bar\":[{\"error_x\":{\"color\":\"#2a3f5f\"},\"error_y\":{\"color\":\"#2a3f5f\"},\"marker\":{\"line\":{\"color\":\"#E5ECF6\",\"width\":0.5},\"pattern\":{\"fillmode\":\"overlay\",\"size\":10,\"solidity\":0.2}},\"type\":\"bar\"}],\"scattergeo\":[{\"type\":\"scattergeo\",\"marker\":{\"colorbar\":{\"outlinewidth\":0,\"ticks\":\"\"}}}],\"scatterpolar\":[{\"type\":\"scatterpolar\",\"marker\":{\"colorbar\":{\"outlinewidth\":0,\"ticks\":\"\"}}}],\"histogram\":[{\"marker\":{\"pattern\":{\"fillmode\":\"overlay\",\"size\":10,\"solidity\":0.2}},\"type\":\"histogram\"}],\"scattergl\":[{\"type\":\"scattergl\",\"marker\":{\"colorbar\":{\"outlinewidth\":0,\"ticks\":\"\"}}}],\"scatter3d\":[{\"type\":\"scatter3d\",\"line\":{\"colorbar\":{\"outlinewidth\":0,\"ticks\":\"\"}},\"marker\":{\"colorbar\":{\"outlinewidth\":0,\"ticks\":\"\"}}}],\"scattermapbox\":[{\"type\":\"scattermapbox\",\"marker\":{\"colorbar\":{\"outlinewidth\":0,\"ticks\":\"\"}}}],\"scatterternary\":[{\"type\":\"scatterternary\",\"marker\":{\"colorbar\":{\"outlinewidth\":0,\"ticks\":\"\"}}}],\"scattercarpet\":[{\"type\":\"scattercarpet\",\"marker\":{\"colorbar\":{\"outlinewidth\":0,\"ticks\":\"\"}}}],\"carpet\":[{\"aaxis\":{\"endlinecolor\":\"#2a3f5f\",\"gridcolor\":\"white\",\"linecolor\":\"white\",\"minorgridcolor\":\"white\",\"startlinecolor\":\"#2a3f5f\"},\"baxis\":{\"endlinecolor\":\"#2a3f5f\",\"gridcolor\":\"white\",\"linecolor\":\"white\",\"minorgridcolor\":\"white\",\"startlinecolor\":\"#2a3f5f\"},\"type\":\"carpet\"}],\"table\":[{\"cells\":{\"fill\":{\"color\":\"#EBF0F8\"},\"line\":{\"color\":\"white\"}},\"header\":{\"fill\":{\"color\":\"#C8D4E3\"},\"line\":{\"color\":\"white\"}},\"type\":\"table\"}],\"barpolar\":[{\"marker\":{\"line\":{\"color\":\"#E5ECF6\",\"width\":0.5},\"pattern\":{\"fillmode\":\"overlay\",\"size\":10,\"solidity\":0.2}},\"type\":\"barpolar\"}],\"pie\":[{\"automargin\":true,\"type\":\"pie\"}]},\"layout\":{\"autotypenumbers\":\"strict\",\"colorway\":[\"#636efa\",\"#EF553B\",\"#00cc96\",\"#ab63fa\",\"#FFA15A\",\"#19d3f3\",\"#FF6692\",\"#B6E880\",\"#FF97FF\",\"#FECB52\"],\"font\":{\"color\":\"#2a3f5f\"},\"hovermode\":\"closest\",\"hoverlabel\":{\"align\":\"left\"},\"paper_bgcolor\":\"white\",\"plot_bgcolor\":\"#E5ECF6\",\"polar\":{\"bgcolor\":\"#E5ECF6\",\"angularaxis\":{\"gridcolor\":\"white\",\"linecolor\":\"white\",\"ticks\":\"\"},\"radialaxis\":{\"gridcolor\":\"white\",\"linecolor\":\"white\",\"ticks\":\"\"}},\"ternary\":{\"bgcolor\":\"#E5ECF6\",\"aaxis\":{\"gridcolor\":\"white\",\"linecolor\":\"white\",\"ticks\":\"\"},\"baxis\":{\"gridcolor\":\"white\",\"linecolor\":\"white\",\"ticks\":\"\"},\"caxis\":{\"gridcolor\":\"white\",\"linecolor\":\"white\",\"ticks\":\"\"}},\"coloraxis\":{\"colorbar\":{\"outlinewidth\":0,\"ticks\":\"\"}},\"colorscale\":{\"sequential\":[[0.0,\"#0d0887\"],[0.1111111111111111,\"#46039f\"],[0.2222222222222222,\"#7201a8\"],[0.3333333333333333,\"#9c179e\"],[0.4444444444444444,\"#bd3786\"],[0.5555555555555556,\"#d8576b\"],[0.6666666666666666,\"#ed7953\"],[0.7777777777777778,\"#fb9f3a\"],[0.8888888888888888,\"#fdca26\"],[1.0,\"#f0f921\"]],\"sequentialminus\":[[0.0,\"#0d0887\"],[0.1111111111111111,\"#46039f\"],[0.2222222222222222,\"#7201a8\"],[0.3333333333333333,\"#9c179e\"],[0.4444444444444444,\"#bd3786\"],[0.5555555555555556,\"#d8576b\"],[0.6666666666666666,\"#ed7953\"],[0.7777777777777778,\"#fb9f3a\"],[0.8888888888888888,\"#fdca26\"],[1.0,\"#f0f921\"]],\"diverging\":[[0,\"#8e0152\"],[0.1,\"#c51b7d\"],[0.2,\"#de77ae\"],[0.3,\"#f1b6da\"],[0.4,\"#fde0ef\"],[0.5,\"#f7f7f7\"],[0.6,\"#e6f5d0\"],[0.7,\"#b8e186\"],[0.8,\"#7fbc41\"],[0.9,\"#4d9221\"],[1,\"#276419\"]]},\"xaxis\":{\"gridcolor\":\"white\",\"linecolor\":\"white\",\"ticks\":\"\",\"title\":{\"standoff\":15},\"zerolinecolor\":\"white\",\"automargin\":true,\"zerolinewidth\":2},\"yaxis\":{\"gridcolor\":\"white\",\"linecolor\":\"white\",\"ticks\":\"\",\"title\":{\"standoff\":15},\"zerolinecolor\":\"white\",\"automargin\":true,\"zerolinewidth\":2},\"scene\":{\"xaxis\":{\"backgroundcolor\":\"#E5ECF6\",\"gridcolor\":\"white\",\"linecolor\":\"white\",\"showbackground\":true,\"ticks\":\"\",\"zerolinecolor\":\"white\",\"gridwidth\":2},\"yaxis\":{\"backgroundcolor\":\"#E5ECF6\",\"gridcolor\":\"white\",\"linecolor\":\"white\",\"showbackground\":true,\"ticks\":\"\",\"zerolinecolor\":\"white\",\"gridwidth\":2},\"zaxis\":{\"backgroundcolor\":\"#E5ECF6\",\"gridcolor\":\"white\",\"linecolor\":\"white\",\"showbackground\":true,\"ticks\":\"\",\"zerolinecolor\":\"white\",\"gridwidth\":2}},\"shapedefaults\":{\"line\":{\"color\":\"#2a3f5f\"}},\"annotationdefaults\":{\"arrowcolor\":\"#2a3f5f\",\"arrowhead\":0,\"arrowwidth\":1},\"geo\":{\"bgcolor\":\"white\",\"landcolor\":\"#E5ECF6\",\"subunitcolor\":\"white\",\"showland\":true,\"showlakes\":true,\"lakecolor\":\"white\"},\"title\":{\"x\":0.05},\"mapbox\":{\"style\":\"light\"}}},\"xaxis\":{\"anchor\":\"y\",\"domain\":[0.0,1.0],\"title\":{\"text\":\"Cluster\"}},\"yaxis\":{\"anchor\":\"x\",\"domain\":[0.0,1.0],\"title\":{\"text\":\"Percent Change in Stock Price\"}},\"legend\":{\"tracegroupgap\":0},\"margin\":{\"t\":60},\"boxmode\":\"group\",\"title\":{\"text\":\"Tertiary Sector Stock Price by Cluster\"}},                        {\"responsive\": true}                    ).then(function(){\n",
       "                            \n",
       "var gd = document.getElementById('0fd84c19-a998-4b09-a4f2-a504cac594ba');\n",
       "var x = new MutationObserver(function (mutations, observer) {{\n",
       "        var display = window.getComputedStyle(gd).display;\n",
       "        if (!display || display === 'none') {{\n",
       "            console.log([gd, 'removed!']);\n",
       "            Plotly.purge(gd);\n",
       "            observer.disconnect();\n",
       "        }}\n",
       "}});\n",
       "\n",
       "// Listen for the removal of the full notebook cells\n",
       "var notebookContainer = gd.closest('#notebook-container');\n",
       "if (notebookContainer) {{\n",
       "    x.observe(notebookContainer, {childList: true});\n",
       "}}\n",
       "\n",
       "// Listen for the clearing of the current output cell\n",
       "var outputEl = gd.closest('.output');\n",
       "if (outputEl) {{\n",
       "    x.observe(outputEl, {childList: true});\n",
       "}}\n",
       "\n",
       "                        })                };                });            </script>        </div>"
      ]
     },
     "metadata": {},
     "output_type": "display_data"
    }
   ],
   "source": [
    "import time\n",
    "start_time = time.time()\n",
    "n_clusters = 2\n",
    "agg_cluster = AgglomerativeClustering(n_clusters=n_clusters, linkage='ward')\n",
    "\n",
    "ter_cluster_labels = agg_cluster.fit_predict(ter_sector_df)\n",
    "training_time = time.time() - start_time\n",
    "\n",
    "ter_sector_df_copy = ter_sector_df.copy()\n",
    "ter_sector_df_copy['Cluster']= ter_cluster_labels\n",
    "print(f\"Training time: {training_time:.2f} seconds\")\n",
    "\n",
    "# Create a box plot for each cluster\n",
    "fig = px.box(ter_sector_df_copy, x='Cluster', y='percent_change_next_weeks_price')\n",
    "\n",
    "# Set labels\n",
    "fig.update_xaxes(title_text= 'Cluster')\n",
    "fig.update_yaxes(title_text='Percent Change in Stock Price')\n",
    "fig.update_layout(title='Tertiary Sector Stock Price by Cluster')\n",
    "# Show the plot\n",
    "fig.show()"
   ]
  },
  {
   "cell_type": "code",
   "execution_count": 494,
   "id": "85b563a1",
   "metadata": {},
   "outputs": [
    {
     "data": {
      "application/vnd.plotly.v1+json": {
       "config": {
        "plotlyServerURL": "https://plot.ly"
       },
       "data": [
        {
         "name": "Primary",
         "type": "box",
         "x": [
          1,
          0,
          0,
          0,
          1,
          0,
          0,
          0,
          1,
          0,
          0,
          0,
          1,
          0,
          0,
          0,
          1,
          0,
          0,
          0,
          1,
          0,
          0,
          0,
          1,
          0,
          0,
          0,
          1,
          0,
          0,
          0,
          1,
          0,
          0,
          0,
          1,
          0,
          0,
          0,
          1,
          0,
          0,
          0,
          1,
          0,
          0,
          0,
          1,
          1,
          0,
          0,
          0,
          1,
          0,
          0,
          0,
          1,
          1,
          0,
          0,
          1,
          1,
          0,
          0,
          0,
          1,
          0,
          0,
          0,
          1,
          1,
          0,
          0,
          1,
          1,
          0,
          0,
          0,
          1,
          0,
          0,
          0,
          1,
          1,
          0,
          0,
          1,
          1,
          0,
          0,
          0,
          1,
          0,
          0,
          0,
          1,
          1,
          0,
          0
         ],
         "xaxis": "x",
         "y": [
          0.417402,
          0.723356,
          -4.07609,
          1.13032,
          -0.295664,
          0.692042,
          -1.71391,
          1.88553,
          -2.2917,
          -1.54648,
          0.528379,
          0.8647,
          0.685805,
          -0.696092,
          -1.04979,
          0.385109,
          1.43609,
          1.38213,
          1.49937,
          1.62069,
          -0.780772,
          -2.54896,
          3.31063,
          3.09816,
          -0.385424,
          -0.770578,
          -3.40829,
          2.00584,
          1.78763,
          0.598592,
          -0.670904,
          -1.16814,
          1.82469,
          -1.34181,
          0.278067,
          5.51344,
          -2.98222,
          -1.21538,
          2.15023,
          1.87991,
          0.247934,
          0.853759,
          -0.745033,
          0.0554631,
          -0.774979,
          0.279799,
          1.71849,
          2.75107,
          -0.0672269,
          1.71313,
          5.98842,
          3.25216,
          -0.986044,
          2.31915,
          -1.08417,
          2.42368,
          -1.81251,
          0.333991,
          -0.0452352,
          -1.54358,
          3.22086,
          0.0743826,
          1.13011,
          0.458783,
          -0.721118,
          -1.26919,
          1.97427,
          0.293686,
          -1.59787,
          -2.10636,
          -0.183178,
          0.798771,
          -0.673092,
          4.99614,
          -0.0975927,
          -0.325203,
          0.854701,
          1.46723,
          -1.07595,
          0.673077,
          0,
          0.935484,
          -2.63659,
          -0.687398,
          1.61823,
          -0.717547,
          3.36052,
          -2.10226,
          0.264901,
          -1.83511,
          1.9153,
          -2.73937,
          -0.0536481,
          -0.295223,
          -0.217687,
          -3.46789,
          -1.06832,
          0.794777,
          1.83876,
          5
         ],
         "yaxis": "y"
        },
        {
         "name": "Secondary",
         "type": "box",
         "x": [
          1,
          1,
          0,
          0,
          1,
          1,
          0,
          0,
          1,
          1,
          0,
          0,
          1,
          1,
          0,
          0,
          1,
          1,
          0,
          0,
          1,
          1,
          0,
          0,
          1,
          1,
          0,
          0,
          1,
          1,
          0,
          0,
          1,
          1,
          0,
          0,
          1,
          1,
          0,
          0,
          1,
          1,
          0,
          0,
          1,
          1,
          0,
          0,
          1,
          1,
          0,
          0,
          1,
          1,
          0,
          0,
          1,
          1,
          0,
          0,
          1,
          1,
          0,
          0,
          1,
          1,
          0,
          0,
          1,
          1,
          0,
          0,
          1,
          1,
          0,
          0,
          1,
          1,
          0,
          0,
          1,
          1,
          0,
          0,
          1,
          1,
          0,
          0,
          1,
          1,
          1,
          0,
          1,
          1,
          0,
          0,
          1,
          1,
          0,
          0,
          1,
          1,
          0,
          0,
          1,
          1,
          0,
          0,
          1,
          1,
          0,
          0,
          1,
          1,
          0,
          0,
          1,
          1,
          0,
          0,
          1,
          1,
          0,
          0,
          1,
          1,
          0,
          0,
          1,
          1,
          0,
          0,
          1,
          1,
          0,
          0,
          1,
          1,
          0,
          0,
          1,
          1,
          0,
          0,
          1,
          1,
          0,
          0,
          1,
          1,
          0,
          0,
          1,
          1,
          0,
          0,
          1,
          1,
          0,
          0,
          1,
          1,
          0,
          0,
          1,
          1,
          0,
          0,
          1,
          1,
          0,
          0,
          0,
          1,
          1,
          0,
          0,
          1,
          1,
          0,
          0,
          1,
          1,
          0,
          0,
          0,
          1,
          1,
          0,
          0,
          1,
          1,
          0,
          0,
          1,
          1,
          0,
          0,
          0,
          1,
          1,
          0,
          0,
          1,
          1,
          0,
          0,
          1,
          1,
          0,
          0,
          0,
          1,
          1,
          0,
          0,
          1,
          1,
          0,
          0,
          1,
          1,
          0,
          0,
          0,
          1,
          1,
          0,
          0,
          1,
          1,
          0,
          0,
          1,
          1,
          0,
          0,
          0,
          1,
          1,
          0,
          0,
          1,
          1,
          0,
          0,
          1,
          1,
          0,
          0,
          0,
          1,
          1,
          0,
          0,
          1,
          1,
          0,
          0,
          1,
          1,
          0,
          0,
          0,
          1,
          1,
          0,
          0,
          1,
          1,
          0,
          0,
          1,
          1,
          0,
          0,
          0,
          1,
          1,
          0,
          0,
          1,
          1,
          0,
          0,
          1,
          1,
          0,
          0,
          0,
          1,
          1,
          0,
          0,
          1,
          1,
          0,
          0,
          1,
          1,
          0,
          0,
          0,
          1,
          1,
          0,
          0,
          1,
          1,
          0,
          0,
          1,
          1,
          0,
          0,
          0,
          1,
          1,
          0,
          0,
          1,
          1,
          0,
          0,
          1,
          1,
          0,
          0,
          0,
          1,
          1,
          0,
          0,
          1,
          1,
          0,
          0,
          1,
          1,
          0,
          0,
          0,
          1,
          1,
          0,
          0,
          1,
          1,
          0,
          0
         ],
         "xaxis": "x2",
         "y": [
          -4.42849,
          -2.47066,
          1.63831,
          5.93325,
          0.230814,
          -0.632547,
          -1.76678,
          -1.36823,
          -3.31725,
          1.00313,
          4.33455,
          1.98482,
          0.93633,
          1.15721,
          -3.2019,
          3.06093,
          0.99398,
          0.467675,
          -0.0691085,
          -0.92452,
          0.0558659,
          -2.90853,
          4.33917,
          0.693878,
          0.858277,
          -1.49745,
          3.20354,
          3.59929,
          3.93495,
          2.22093,
          -2.72745,
          0.311526,
          -3.28757,
          2.40764,
          2.04864,
          3.26821,
          1.2894,
          -2.35627,
          0.431862,
          5.35117,
          -15.4229,
          0.0530786,
          -0.480513,
          -1.18153,
          -2.23312,
          -3.76193,
          -0.346021,
          -1.84332,
          2.06707,
          0.903809,
          -0.55384,
          3.47363,
          -0.853207,
          3.37173,
          2.89227,
          1.43723,
          -4.0242,
          3.67084,
          2.81148,
          1.80451,
          3.10559,
          -2.38239,
          3.81916,
          4.74576,
          3.72482,
          2.8288,
          -1.60146,
          -0.645518,
          -2.21811,
          -0.357277,
          0.557621,
          1.99593,
          1.12843,
          4.00421,
          1.35474,
          2.13612,
          2.6962,
          -0.32543,
          -0.287356,
          -2.7685,
          -0.196078,
          -3.55711,
          0.355691,
          2.67542,
          3.09853,
          2.36238,
          -2.52731,
          4.44836,
          1.94928,
          0.454076,
          -10.2796,
          -1.04505,
          -2.72727,
          0.0242072,
          1.62485,
          -3.39463,
          2.04082,
          3.79122,
          2.43855,
          3.02802,
          -0.140176,
          0.401998,
          -0.788653,
          -0.326435,
          0.513614,
          -3.27004,
          2.87998,
          1.68998,
          1.78658,
          -0.998573,
          2.0447,
          0.603248,
          0.0919963,
          2.35784,
          -0.410023,
          -0.873563,
          -3.78054,
          -3.5334,
          2.36181,
          -3.5225,
          2.80047,
          1.65073,
          -1.98408,
          0.409417,
          4.11705,
          1.35194,
          -2.67443,
          0.31556,
          -1.04774,
          -2.44491,
          2.21558,
          0.768232,
          0.35461,
          -0.497159,
          -0.963597,
          0,
          -1.97842,
          -0.514706,
          -0.85885,
          -2.77257,
          -1.72216,
          -2.70694,
          1.74742,
          -0.701481,
          1.03488,
          1.16044,
          1.45776,
          0.880196,
          2.83645,
          -0.0705302,
          -1.38396,
          -0.86145,
          -2.10767,
          -0.718355,
          2.73063,
          1.87463,
          3.60708,
          1.52976,
          0.177552,
          4.2042,
          -0.754943,
          3.04878,
          0.435448,
          -0.919995,
          -4.33364,
          -1.00404,
          2.13754,
          0.97782,
          2.87026,
          -8.52713,
          3.72861,
          0.354191,
          -0.694847,
          -0.34965,
          -4.35294,
          3.25815,
          -4.8416,
          -4.0201,
          -3.72793,
          3.81731,
          7.16163,
          0.122649,
          -1.42566,
          3.74037,
          5.65488,
          -1.29434,
          -0.353045,
          -1.44928,
          0.574788,
          -3.80463,
          -2.76886,
          1.50561,
          -3.65062,
          3.96137,
          -3.45495,
          -2.55408,
          3.63705,
          5.64811,
          -5.07571,
          -4.0343,
          -1.45461,
          3.25765,
          -4.99013,
          -3.45137,
          -1.01104,
          3.64805,
          8.66347,
          3.76249,
          -3.83964,
          0.35545,
          3.48494,
          0.285551,
          -3.70793,
          -1.72414,
          0.304692,
          -3.49608,
          -5.73566,
          -1.12285,
          -0.0669344,
          6.15797,
          1.0505,
          -3.18936,
          3.03001,
          1.92791,
          -6.0285,
          -0.83293,
          0.529256,
          2.05676,
          -3.45091,
          -1.21903,
          -0.869652,
          -0.9911,
          6.27935,
          -0.18018,
          -1.00992,
          3.00295,
          1.97522,
          -3.17263,
          -3.69494,
          0,
          1.56522,
          -5.43437,
          -1.0338,
          -0.919448,
          4.9697,
          5.05304,
          -2.60492,
          -0.988142,
          0.91047,
          1.53923,
          -3.33333,
          -0.400601,
          -1.15869,
          0.621118,
          -4.36992,
          -2.08445,
          0.983069,
          -2.01745,
          6.66667,
          0.123001,
          -1.10538,
          2.57758,
          -1.68047,
          0.294913,
          -0.931601,
          -10.4975,
          3.87858,
          -3.13841,
          -2.05613,
          -0.370054,
          0.316183,
          5.70613,
          -0.225033,
          1.69481,
          2.21088,
          1.74769,
          -1.8709,
          0.908605,
          0.206113,
          -0.593472,
          -2.01259,
          -0.958971,
          0,
          0.836897,
          5.30952,
          1.1622,
          -1.59442,
          9.88223,
          8.32943,
          0.999131,
          1.21055,
          -0.428816,
          -3.09773,
          -3.20713,
          -1.92661,
          -1.11993,
          0.0471921,
          6.42419,
          0.58265,
          -0.822737,
          2.15358,
          3.514,
          -2.0291,
          0.745016,
          -2.07243,
          1.27858,
          -3.56194,
          0.387254,
          0.702216,
          -0.579742,
          6.13746,
          2.43615,
          -3.13097,
          1.67331,
          1.40845,
          -0.269854,
          -2.9845,
          -1.88301,
          2.27179,
          -4.24679,
          -0.83682,
          1.97562,
          0.537857,
          7.38754,
          -0.992295,
          -1.82353,
          5.44794,
          2.96552,
          -0.910807,
          0.112511,
          -1.08524,
          -0.0925819,
          -4.32184,
          -0.277342,
          1.98987,
          -0.0355619,
          7.28485,
          2.0057,
          -1.93136,
          3.91048,
          1.95851,
          -6.14075,
          -2.578,
          1.68287,
          3.00424,
          -2.52161,
          -1.42098,
          -1.225,
          -2.37762,
          6.67274
         ],
         "yaxis": "y2"
        },
        {
         "name": "Tertiary",
         "type": "box",
         "x": [
          0,
          0,
          1,
          1,
          0,
          0,
          1,
          1,
          0,
          0,
          1,
          1,
          0,
          1,
          1,
          1,
          0,
          0,
          1,
          1,
          0,
          0,
          1,
          1,
          0,
          0,
          1,
          1,
          0,
          0,
          1,
          1,
          0,
          0,
          1,
          1,
          0,
          0,
          1,
          1,
          0,
          0,
          1,
          1,
          0,
          0,
          1,
          1,
          0,
          0,
          1,
          1,
          0,
          0,
          1,
          1,
          0,
          0,
          1,
          1,
          0,
          0,
          1,
          1,
          0,
          0,
          1,
          1,
          0,
          0,
          1,
          1,
          0,
          0,
          1,
          1,
          0,
          0,
          1,
          1,
          0,
          0,
          1,
          1,
          0,
          0,
          1,
          1,
          0,
          0,
          1,
          1,
          0,
          0,
          1,
          1,
          0,
          0,
          1,
          1,
          0,
          0,
          1,
          1,
          0,
          0,
          1,
          1,
          0,
          0,
          1,
          1,
          0,
          0,
          1,
          1,
          0,
          0,
          1,
          1,
          0,
          0,
          1,
          1,
          0,
          0,
          1,
          1,
          0,
          0,
          1,
          1,
          0,
          0,
          1,
          1,
          0,
          0,
          1,
          1,
          0,
          0,
          1,
          1,
          0,
          0,
          0,
          1,
          1,
          0,
          0,
          1,
          1,
          0,
          0,
          0,
          1,
          0,
          0,
          0,
          1,
          1,
          0,
          0,
          1,
          1,
          0,
          0,
          0,
          1,
          0,
          0,
          0,
          1,
          1,
          0,
          0,
          1,
          1,
          0,
          0,
          0,
          1,
          0,
          0,
          0,
          1,
          1,
          0,
          0,
          1,
          1,
          0,
          0,
          0,
          1,
          0,
          0,
          0,
          1,
          1,
          0,
          0,
          1,
          1,
          0,
          0,
          0,
          1,
          0,
          0,
          0,
          1,
          1,
          0,
          0,
          1,
          1,
          0,
          0,
          0,
          1,
          0,
          0,
          0,
          1,
          1,
          0,
          0,
          1,
          1,
          0,
          0,
          0,
          1,
          0,
          0,
          0,
          1,
          1,
          0,
          0,
          1,
          1,
          0,
          0,
          0,
          1,
          0,
          0,
          0,
          1,
          1,
          0,
          0,
          1,
          1,
          0,
          0,
          0,
          1,
          0,
          0,
          0,
          1,
          1,
          0,
          0,
          1,
          1,
          0,
          0,
          0,
          1,
          0,
          0,
          0,
          1,
          1,
          0,
          0,
          1,
          1,
          0,
          0,
          0,
          1,
          0,
          0,
          0,
          1,
          1,
          0,
          0,
          1,
          1,
          0,
          0,
          0,
          1
         ],
         "xaxis": "x3",
         "y": [
          4.63801,
          -0.0651749,
          -4.7557,
          -0.70247,
          6.34668,
          -1.91728,
          -3.13752,
          -0.0228676,
          0.957592,
          0.706794,
          1.87709,
          -0.395257,
          7.62174,
          -5.50398,
          -4.5614,
          4.23049,
          1.79187,
          -0.13541,
          -1.25174,
          -1.05116,
          1.41044,
          -1.54278,
          -6.05634,
          -0.372578,
          0.717765,
          1.71487,
          -1.99294,
          4.27766,
          6.39706,
          0.85668,
          0.280177,
          1.23199,
          -1.37836,
          -3.30675,
          3.64206,
          -0.787219,
          5.0644,
          1.50125,
          0.658256,
          -0.888769,
          1.84783,
          2.69549,
          -5.64885,
          0.188425,
          -0.322061,
          -2.49187,
          3.11381,
          0.266951,
          3.79015,
          0.599733,
          -1.48197,
          0.405314,
          4.06704,
          4.34783,
          -1.10169,
          -2.75582,
          0.263043,
          0.704535,
          -0.907519,
          0.542299,
          1.39114,
          -0.191022,
          -2.73973,
          2.16181,
          -1.66774,
          0.782524,
          3.22266,
          -0.754243,
          0.443599,
          -1.65027,
          1.55945,
          0.829346,
          -0.255892,
          0.482251,
          -1.3064,
          0.338753,
          2.71145,
          0.0788747,
          -1.98815,
          2.03999,
          0.458235,
          -4.08673,
          2.38095,
          0.582396,
          -8.13204,
          -0.498973,
          -2.70668,
          -1.20156,
          0.394657,
          -0.363967,
          -1.70992,
          2.67081,
          -0.818182,
          -1.81538,
          1.49579,
          1.62876,
          0.658617,
          0.0544959,
          -0.981997,
          6.10225,
          -2.28334,
          1.96599,
          -0.105932,
          3.7467,
          -0.86558,
          3.75321,
          0.147638,
          -0.195886,
          1.75466,
          0.39604,
          -2.57967,
          -1.14996,
          1.2197,
          -0.771605,
          -1.39652,
          -1.22611,
          -0.822581,
          -0.720839,
          -0.131234,
          1.6372,
          2.84262,
          0.695716,
          1.21509,
          2.86687,
          2.91347,
          3.53501,
          -1.65016,
          -0.704698,
          -0.641242,
          -0.701214,
          0.924025,
          1.04925,
          2.16216,
          1.12502,
          2.36505,
          -0.744021,
          -0.677724,
          0.217155,
          -3.82828,
          0.618357,
          0.631458,
          -1.58548,
          1.19853,
          -0.344102,
          1.46898,
          -0.237274,
          2.74809,
          4.00509,
          1.68118,
          -1.13863,
          3.58155,
          0.768624,
          -4.10586,
          -2.82923,
          1.12594,
          -0.0206825,
          7.93978,
          0.597015,
          -5.03704,
          -2.22399,
          -0.324675,
          -0.404531,
          -2.85016,
          -2.60723,
          1.91805,
          -4.97051,
          -3.39893,
          -1.92837,
          -0.661001,
          5.41825,
          -2.58922,
          -0.574713,
          3.17305,
          1.79499,
          -0.943179,
          -4.15512,
          0.581677,
          0.899149,
          -6.01432,
          -1.73558,
          -1.52731,
          -0.713342,
          5.58214,
          -0.0533618,
          1.92256,
          0.265252,
          -1.22308,
          -1.20192,
          0.216626,
          0.981194,
          0,
          -4.28413,
          -3.06979,
          3.19785,
          2.30388,
          4.85298,
          1.56114,
          -4.48936,
          0.926135,
          2.19485,
          -1.95908,
          -3.57542,
          0.372353,
          0.919811,
          -3.86216,
          -0.121655,
          -1.18673,
          -2.49383,
          5.53299,
          -0.126143,
          5.13709,
          2.01711,
          0.418535,
          1.42857,
          3.19432,
          1.1194,
          -0.629111,
          -1.98333,
          -0.821837,
          1.65094,
          0.610643,
          2.48483,
          -0.35382,
          1.61523,
          0.0260112,
          1.50356,
          0.382653,
          1.61087,
          2.34958,
          0.110389,
          -1.93596,
          -0.297767,
          2.59853,
          -0.58309,
          5.07913,
          0.989802,
          2.46437,
          -0.467836,
          6.67656,
          -0.137212,
          2.68624,
          0,
          -1.25443,
          -1.56636,
          -0.70028,
          1.02769,
          -2.09691,
          2.89017,
          -0.437956,
          -0.0973236,
          -2.60827,
          5.11278,
          -2.79092,
          1.89966,
          -0.71977,
          2.14739,
          -0.761905,
          -3.41018,
          0.896414,
          -0.049776,
          3.23383,
          -0.434293,
          3.48275,
          -0.628239,
          2.88523,
          0.0459841,
          2.97243,
          1.0501,
          -0.898204,
          -1.35685,
          -1.00979,
          0.0618716,
          -2.97628,
          2.40599,
          -0.417851,
          -0.0835422,
          3.37154,
          3.19635,
          -0.204531,
          -1.42338,
          -0.431862,
          -0.356333,
          -1.24294,
          -3.48818,
          -2.02977,
          -1.54594,
          4.01197,
          0.439686,
          1.92234,
          0.941974,
          2.57463,
          -0.108932,
          1.36438,
          -0.575436,
          -0.364299,
          -2.22303,
          -2.1166,
          -0.1701,
          -0.550285,
          2.27446
         ],
         "yaxis": "y3"
        }
       ],
       "layout": {
        "annotations": [
         {
          "font": {
           "size": 16
          },
          "showarrow": false,
          "text": "Primary Sector",
          "x": 0.14444444444444446,
          "xanchor": "center",
          "xref": "paper",
          "y": 1,
          "yanchor": "bottom",
          "yref": "paper"
         },
         {
          "font": {
           "size": 16
          },
          "showarrow": false,
          "text": "Secondary Sector",
          "x": 0.5,
          "xanchor": "center",
          "xref": "paper",
          "y": 1,
          "yanchor": "bottom",
          "yref": "paper"
         },
         {
          "font": {
           "size": 16
          },
          "showarrow": false,
          "text": "Tertiary Sector",
          "x": 0.8555555555555556,
          "xanchor": "center",
          "xref": "paper",
          "y": 1,
          "yanchor": "bottom",
          "yref": "paper"
         }
        ],
        "template": {
         "data": {
          "bar": [
           {
            "error_x": {
             "color": "#2a3f5f"
            },
            "error_y": {
             "color": "#2a3f5f"
            },
            "marker": {
             "line": {
              "color": "#E5ECF6",
              "width": 0.5
             },
             "pattern": {
              "fillmode": "overlay",
              "size": 10,
              "solidity": 0.2
             }
            },
            "type": "bar"
           }
          ],
          "barpolar": [
           {
            "marker": {
             "line": {
              "color": "#E5ECF6",
              "width": 0.5
             },
             "pattern": {
              "fillmode": "overlay",
              "size": 10,
              "solidity": 0.2
             }
            },
            "type": "barpolar"
           }
          ],
          "carpet": [
           {
            "aaxis": {
             "endlinecolor": "#2a3f5f",
             "gridcolor": "white",
             "linecolor": "white",
             "minorgridcolor": "white",
             "startlinecolor": "#2a3f5f"
            },
            "baxis": {
             "endlinecolor": "#2a3f5f",
             "gridcolor": "white",
             "linecolor": "white",
             "minorgridcolor": "white",
             "startlinecolor": "#2a3f5f"
            },
            "type": "carpet"
           }
          ],
          "choropleth": [
           {
            "colorbar": {
             "outlinewidth": 0,
             "ticks": ""
            },
            "type": "choropleth"
           }
          ],
          "contour": [
           {
            "colorbar": {
             "outlinewidth": 0,
             "ticks": ""
            },
            "colorscale": [
             [
              0,
              "#0d0887"
             ],
             [
              0.1111111111111111,
              "#46039f"
             ],
             [
              0.2222222222222222,
              "#7201a8"
             ],
             [
              0.3333333333333333,
              "#9c179e"
             ],
             [
              0.4444444444444444,
              "#bd3786"
             ],
             [
              0.5555555555555556,
              "#d8576b"
             ],
             [
              0.6666666666666666,
              "#ed7953"
             ],
             [
              0.7777777777777778,
              "#fb9f3a"
             ],
             [
              0.8888888888888888,
              "#fdca26"
             ],
             [
              1,
              "#f0f921"
             ]
            ],
            "type": "contour"
           }
          ],
          "contourcarpet": [
           {
            "colorbar": {
             "outlinewidth": 0,
             "ticks": ""
            },
            "type": "contourcarpet"
           }
          ],
          "heatmap": [
           {
            "colorbar": {
             "outlinewidth": 0,
             "ticks": ""
            },
            "colorscale": [
             [
              0,
              "#0d0887"
             ],
             [
              0.1111111111111111,
              "#46039f"
             ],
             [
              0.2222222222222222,
              "#7201a8"
             ],
             [
              0.3333333333333333,
              "#9c179e"
             ],
             [
              0.4444444444444444,
              "#bd3786"
             ],
             [
              0.5555555555555556,
              "#d8576b"
             ],
             [
              0.6666666666666666,
              "#ed7953"
             ],
             [
              0.7777777777777778,
              "#fb9f3a"
             ],
             [
              0.8888888888888888,
              "#fdca26"
             ],
             [
              1,
              "#f0f921"
             ]
            ],
            "type": "heatmap"
           }
          ],
          "heatmapgl": [
           {
            "colorbar": {
             "outlinewidth": 0,
             "ticks": ""
            },
            "colorscale": [
             [
              0,
              "#0d0887"
             ],
             [
              0.1111111111111111,
              "#46039f"
             ],
             [
              0.2222222222222222,
              "#7201a8"
             ],
             [
              0.3333333333333333,
              "#9c179e"
             ],
             [
              0.4444444444444444,
              "#bd3786"
             ],
             [
              0.5555555555555556,
              "#d8576b"
             ],
             [
              0.6666666666666666,
              "#ed7953"
             ],
             [
              0.7777777777777778,
              "#fb9f3a"
             ],
             [
              0.8888888888888888,
              "#fdca26"
             ],
             [
              1,
              "#f0f921"
             ]
            ],
            "type": "heatmapgl"
           }
          ],
          "histogram": [
           {
            "marker": {
             "pattern": {
              "fillmode": "overlay",
              "size": 10,
              "solidity": 0.2
             }
            },
            "type": "histogram"
           }
          ],
          "histogram2d": [
           {
            "colorbar": {
             "outlinewidth": 0,
             "ticks": ""
            },
            "colorscale": [
             [
              0,
              "#0d0887"
             ],
             [
              0.1111111111111111,
              "#46039f"
             ],
             [
              0.2222222222222222,
              "#7201a8"
             ],
             [
              0.3333333333333333,
              "#9c179e"
             ],
             [
              0.4444444444444444,
              "#bd3786"
             ],
             [
              0.5555555555555556,
              "#d8576b"
             ],
             [
              0.6666666666666666,
              "#ed7953"
             ],
             [
              0.7777777777777778,
              "#fb9f3a"
             ],
             [
              0.8888888888888888,
              "#fdca26"
             ],
             [
              1,
              "#f0f921"
             ]
            ],
            "type": "histogram2d"
           }
          ],
          "histogram2dcontour": [
           {
            "colorbar": {
             "outlinewidth": 0,
             "ticks": ""
            },
            "colorscale": [
             [
              0,
              "#0d0887"
             ],
             [
              0.1111111111111111,
              "#46039f"
             ],
             [
              0.2222222222222222,
              "#7201a8"
             ],
             [
              0.3333333333333333,
              "#9c179e"
             ],
             [
              0.4444444444444444,
              "#bd3786"
             ],
             [
              0.5555555555555556,
              "#d8576b"
             ],
             [
              0.6666666666666666,
              "#ed7953"
             ],
             [
              0.7777777777777778,
              "#fb9f3a"
             ],
             [
              0.8888888888888888,
              "#fdca26"
             ],
             [
              1,
              "#f0f921"
             ]
            ],
            "type": "histogram2dcontour"
           }
          ],
          "mesh3d": [
           {
            "colorbar": {
             "outlinewidth": 0,
             "ticks": ""
            },
            "type": "mesh3d"
           }
          ],
          "parcoords": [
           {
            "line": {
             "colorbar": {
              "outlinewidth": 0,
              "ticks": ""
             }
            },
            "type": "parcoords"
           }
          ],
          "pie": [
           {
            "automargin": true,
            "type": "pie"
           }
          ],
          "scatter": [
           {
            "fillpattern": {
             "fillmode": "overlay",
             "size": 10,
             "solidity": 0.2
            },
            "type": "scatter"
           }
          ],
          "scatter3d": [
           {
            "line": {
             "colorbar": {
              "outlinewidth": 0,
              "ticks": ""
             }
            },
            "marker": {
             "colorbar": {
              "outlinewidth": 0,
              "ticks": ""
             }
            },
            "type": "scatter3d"
           }
          ],
          "scattercarpet": [
           {
            "marker": {
             "colorbar": {
              "outlinewidth": 0,
              "ticks": ""
             }
            },
            "type": "scattercarpet"
           }
          ],
          "scattergeo": [
           {
            "marker": {
             "colorbar": {
              "outlinewidth": 0,
              "ticks": ""
             }
            },
            "type": "scattergeo"
           }
          ],
          "scattergl": [
           {
            "marker": {
             "colorbar": {
              "outlinewidth": 0,
              "ticks": ""
             }
            },
            "type": "scattergl"
           }
          ],
          "scattermapbox": [
           {
            "marker": {
             "colorbar": {
              "outlinewidth": 0,
              "ticks": ""
             }
            },
            "type": "scattermapbox"
           }
          ],
          "scatterpolar": [
           {
            "marker": {
             "colorbar": {
              "outlinewidth": 0,
              "ticks": ""
             }
            },
            "type": "scatterpolar"
           }
          ],
          "scatterpolargl": [
           {
            "marker": {
             "colorbar": {
              "outlinewidth": 0,
              "ticks": ""
             }
            },
            "type": "scatterpolargl"
           }
          ],
          "scatterternary": [
           {
            "marker": {
             "colorbar": {
              "outlinewidth": 0,
              "ticks": ""
             }
            },
            "type": "scatterternary"
           }
          ],
          "surface": [
           {
            "colorbar": {
             "outlinewidth": 0,
             "ticks": ""
            },
            "colorscale": [
             [
              0,
              "#0d0887"
             ],
             [
              0.1111111111111111,
              "#46039f"
             ],
             [
              0.2222222222222222,
              "#7201a8"
             ],
             [
              0.3333333333333333,
              "#9c179e"
             ],
             [
              0.4444444444444444,
              "#bd3786"
             ],
             [
              0.5555555555555556,
              "#d8576b"
             ],
             [
              0.6666666666666666,
              "#ed7953"
             ],
             [
              0.7777777777777778,
              "#fb9f3a"
             ],
             [
              0.8888888888888888,
              "#fdca26"
             ],
             [
              1,
              "#f0f921"
             ]
            ],
            "type": "surface"
           }
          ],
          "table": [
           {
            "cells": {
             "fill": {
              "color": "#EBF0F8"
             },
             "line": {
              "color": "white"
             }
            },
            "header": {
             "fill": {
              "color": "#C8D4E3"
             },
             "line": {
              "color": "white"
             }
            },
            "type": "table"
           }
          ]
         },
         "layout": {
          "annotationdefaults": {
           "arrowcolor": "#2a3f5f",
           "arrowhead": 0,
           "arrowwidth": 1
          },
          "autotypenumbers": "strict",
          "coloraxis": {
           "colorbar": {
            "outlinewidth": 0,
            "ticks": ""
           }
          },
          "colorscale": {
           "diverging": [
            [
             0,
             "#8e0152"
            ],
            [
             0.1,
             "#c51b7d"
            ],
            [
             0.2,
             "#de77ae"
            ],
            [
             0.3,
             "#f1b6da"
            ],
            [
             0.4,
             "#fde0ef"
            ],
            [
             0.5,
             "#f7f7f7"
            ],
            [
             0.6,
             "#e6f5d0"
            ],
            [
             0.7,
             "#b8e186"
            ],
            [
             0.8,
             "#7fbc41"
            ],
            [
             0.9,
             "#4d9221"
            ],
            [
             1,
             "#276419"
            ]
           ],
           "sequential": [
            [
             0,
             "#0d0887"
            ],
            [
             0.1111111111111111,
             "#46039f"
            ],
            [
             0.2222222222222222,
             "#7201a8"
            ],
            [
             0.3333333333333333,
             "#9c179e"
            ],
            [
             0.4444444444444444,
             "#bd3786"
            ],
            [
             0.5555555555555556,
             "#d8576b"
            ],
            [
             0.6666666666666666,
             "#ed7953"
            ],
            [
             0.7777777777777778,
             "#fb9f3a"
            ],
            [
             0.8888888888888888,
             "#fdca26"
            ],
            [
             1,
             "#f0f921"
            ]
           ],
           "sequentialminus": [
            [
             0,
             "#0d0887"
            ],
            [
             0.1111111111111111,
             "#46039f"
            ],
            [
             0.2222222222222222,
             "#7201a8"
            ],
            [
             0.3333333333333333,
             "#9c179e"
            ],
            [
             0.4444444444444444,
             "#bd3786"
            ],
            [
             0.5555555555555556,
             "#d8576b"
            ],
            [
             0.6666666666666666,
             "#ed7953"
            ],
            [
             0.7777777777777778,
             "#fb9f3a"
            ],
            [
             0.8888888888888888,
             "#fdca26"
            ],
            [
             1,
             "#f0f921"
            ]
           ]
          },
          "colorway": [
           "#636efa",
           "#EF553B",
           "#00cc96",
           "#ab63fa",
           "#FFA15A",
           "#19d3f3",
           "#FF6692",
           "#B6E880",
           "#FF97FF",
           "#FECB52"
          ],
          "font": {
           "color": "#2a3f5f"
          },
          "geo": {
           "bgcolor": "white",
           "lakecolor": "white",
           "landcolor": "#E5ECF6",
           "showlakes": true,
           "showland": true,
           "subunitcolor": "white"
          },
          "hoverlabel": {
           "align": "left"
          },
          "hovermode": "closest",
          "mapbox": {
           "style": "light"
          },
          "paper_bgcolor": "white",
          "plot_bgcolor": "#E5ECF6",
          "polar": {
           "angularaxis": {
            "gridcolor": "white",
            "linecolor": "white",
            "ticks": ""
           },
           "bgcolor": "#E5ECF6",
           "radialaxis": {
            "gridcolor": "white",
            "linecolor": "white",
            "ticks": ""
           }
          },
          "scene": {
           "xaxis": {
            "backgroundcolor": "#E5ECF6",
            "gridcolor": "white",
            "gridwidth": 2,
            "linecolor": "white",
            "showbackground": true,
            "ticks": "",
            "zerolinecolor": "white"
           },
           "yaxis": {
            "backgroundcolor": "#E5ECF6",
            "gridcolor": "white",
            "gridwidth": 2,
            "linecolor": "white",
            "showbackground": true,
            "ticks": "",
            "zerolinecolor": "white"
           },
           "zaxis": {
            "backgroundcolor": "#E5ECF6",
            "gridcolor": "white",
            "gridwidth": 2,
            "linecolor": "white",
            "showbackground": true,
            "ticks": "",
            "zerolinecolor": "white"
           }
          },
          "shapedefaults": {
           "line": {
            "color": "#2a3f5f"
           }
          },
          "ternary": {
           "aaxis": {
            "gridcolor": "white",
            "linecolor": "white",
            "ticks": ""
           },
           "baxis": {
            "gridcolor": "white",
            "linecolor": "white",
            "ticks": ""
           },
           "bgcolor": "#E5ECF6",
           "caxis": {
            "gridcolor": "white",
            "linecolor": "white",
            "ticks": ""
           }
          },
          "title": {
           "x": 0.05
          },
          "xaxis": {
           "automargin": true,
           "gridcolor": "white",
           "linecolor": "white",
           "ticks": "",
           "title": {
            "standoff": 15
           },
           "zerolinecolor": "white",
           "zerolinewidth": 2
          },
          "yaxis": {
           "automargin": true,
           "gridcolor": "white",
           "linecolor": "white",
           "ticks": "",
           "title": {
            "standoff": 15
           },
           "zerolinecolor": "white",
           "zerolinewidth": 2
          }
         }
        },
        "title": {
         "text": "Sector Stock Price by Cluster"
        },
        "xaxis": {
         "anchor": "y",
         "domain": [
          0,
          0.2888888888888889
         ],
         "title": {
          "text": "Cluster"
         }
        },
        "xaxis2": {
         "anchor": "y2",
         "domain": [
          0.35555555555555557,
          0.6444444444444445
         ],
         "title": {
          "text": "Cluster"
         }
        },
        "xaxis3": {
         "anchor": "y3",
         "domain": [
          0.7111111111111111,
          1
         ],
         "title": {
          "text": "Cluster"
         }
        },
        "yaxis": {
         "anchor": "x",
         "domain": [
          0,
          1
         ],
         "title": {
          "text": "Percent Change in Stock Price"
         }
        },
        "yaxis2": {
         "anchor": "x2",
         "domain": [
          0,
          1
         ]
        },
        "yaxis3": {
         "anchor": "x3",
         "domain": [
          0,
          1
         ]
        }
       }
      },
      "text/html": [
       "<div>                            <div id=\"4f356aea-0e46-444f-8629-bf4e312bf460\" class=\"plotly-graph-div\" style=\"height:525px; width:100%;\"></div>            <script type=\"text/javascript\">                require([\"plotly\"], function(Plotly) {                    window.PLOTLYENV=window.PLOTLYENV || {};                                    if (document.getElementById(\"4f356aea-0e46-444f-8629-bf4e312bf460\")) {                    Plotly.newPlot(                        \"4f356aea-0e46-444f-8629-bf4e312bf460\",                        [{\"name\":\"Primary\",\"x\":[1,0,0,0,1,0,0,0,1,0,0,0,1,0,0,0,1,0,0,0,1,0,0,0,1,0,0,0,1,0,0,0,1,0,0,0,1,0,0,0,1,0,0,0,1,0,0,0,1,1,0,0,0,1,0,0,0,1,1,0,0,1,1,0,0,0,1,0,0,0,1,1,0,0,1,1,0,0,0,1,0,0,0,1,1,0,0,1,1,0,0,0,1,0,0,0,1,1,0,0],\"y\":[0.417402,0.723356,-4.07609,1.13032,-0.295664,0.692042,-1.71391,1.88553,-2.2917,-1.54648,0.528379,0.8647,0.685805,-0.696092,-1.04979,0.385109,1.43609,1.38213,1.49937,1.62069,-0.780772,-2.54896,3.31063,3.09816,-0.385424,-0.770578,-3.40829,2.00584,1.78763,0.598592,-0.670904,-1.16814,1.82469,-1.34181,0.278067,5.51344,-2.98222,-1.21538,2.15023,1.87991,0.247934,0.853759,-0.745033,0.0554631,-0.774979,0.279799,1.71849,2.75107,-0.0672269,1.71313,5.98842,3.25216,-0.986044,2.31915,-1.08417,2.42368,-1.81251,0.333991,-0.0452352,-1.54358,3.22086,0.0743826,1.13011,0.458783,-0.721118,-1.26919,1.97427,0.293686,-1.59787,-2.10636,-0.183178,0.798771,-0.673092,4.99614,-0.0975927,-0.325203,0.854701,1.46723,-1.07595,0.673077,0.0,0.935484,-2.63659,-0.687398,1.61823,-0.717547,3.36052,-2.10226,0.264901,-1.83511,1.9153,-2.73937,-0.0536481,-0.295223,-0.217687,-3.46789,-1.06832,0.794777,1.83876,5.0],\"type\":\"box\",\"xaxis\":\"x\",\"yaxis\":\"y\"},{\"name\":\"Secondary\",\"x\":[1,1,0,0,1,1,0,0,1,1,0,0,1,1,0,0,1,1,0,0,1,1,0,0,1,1,0,0,1,1,0,0,1,1,0,0,1,1,0,0,1,1,0,0,1,1,0,0,1,1,0,0,1,1,0,0,1,1,0,0,1,1,0,0,1,1,0,0,1,1,0,0,1,1,0,0,1,1,0,0,1,1,0,0,1,1,0,0,1,1,1,0,1,1,0,0,1,1,0,0,1,1,0,0,1,1,0,0,1,1,0,0,1,1,0,0,1,1,0,0,1,1,0,0,1,1,0,0,1,1,0,0,1,1,0,0,1,1,0,0,1,1,0,0,1,1,0,0,1,1,0,0,1,1,0,0,1,1,0,0,1,1,0,0,1,1,0,0,1,1,0,0,0,1,1,0,0,1,1,0,0,1,1,0,0,0,1,1,0,0,1,1,0,0,1,1,0,0,0,1,1,0,0,1,1,0,0,1,1,0,0,0,1,1,0,0,1,1,0,0,1,1,0,0,0,1,1,0,0,1,1,0,0,1,1,0,0,0,1,1,0,0,1,1,0,0,1,1,0,0,0,1,1,0,0,1,1,0,0,1,1,0,0,0,1,1,0,0,1,1,0,0,1,1,0,0,0,1,1,0,0,1,1,0,0,1,1,0,0,0,1,1,0,0,1,1,0,0,1,1,0,0,0,1,1,0,0,1,1,0,0,1,1,0,0,0,1,1,0,0,1,1,0,0,1,1,0,0,0,1,1,0,0,1,1,0,0,1,1,0,0,0,1,1,0,0,1,1,0,0],\"y\":[-4.42849,-2.47066,1.63831,5.93325,0.230814,-0.632547,-1.76678,-1.36823,-3.31725,1.00313,4.33455,1.98482,0.93633,1.15721,-3.2019,3.06093,0.99398,0.467675,-0.0691085,-0.92452,0.0558659,-2.90853,4.33917,0.693878,0.858277,-1.49745,3.20354,3.59929,3.93495,2.22093,-2.72745,0.311526,-3.28757,2.40764,2.04864,3.26821,1.2894,-2.35627,0.431862,5.35117,-15.4229,0.0530786,-0.480513,-1.18153,-2.23312,-3.76193,-0.346021,-1.84332,2.06707,0.903809,-0.55384,3.47363,-0.853207,3.37173,2.89227,1.43723,-4.0242,3.67084,2.81148,1.80451,3.10559,-2.38239,3.81916,4.74576,3.72482,2.8288,-1.60146,-0.645518,-2.21811,-0.357277,0.557621,1.99593,1.12843,4.00421,1.35474,2.13612,2.6962,-0.32543,-0.287356,-2.7685,-0.196078,-3.55711,0.355691,2.67542,3.09853,2.36238,-2.52731,4.44836,1.94928,0.454076,-10.2796,-1.04505,-2.72727,0.0242072,1.62485,-3.39463,2.04082,3.79122,2.43855,3.02802,-0.140176,0.401998,-0.788653,-0.326435,0.513614,-3.27004,2.87998,1.68998,1.78658,-0.998573,2.0447,0.603248,0.0919963,2.35784,-0.410023,-0.873563,-3.78054,-3.5334,2.36181,-3.5225,2.80047,1.65073,-1.98408,0.409417,4.11705,1.35194,-2.67443,0.31556,-1.04774,-2.44491,2.21558,0.768232,0.35461,-0.497159,-0.963597,0.0,-1.97842,-0.514706,-0.85885,-2.77257,-1.72216,-2.70694,1.74742,-0.701481,1.03488,1.16044,1.45776,0.880196,2.83645,-0.0705302,-1.38396,-0.86145,-2.10767,-0.718355,2.73063,1.87463,3.60708,1.52976,0.177552,4.2042,-0.754943,3.04878,0.435448,-0.919995,-4.33364,-1.00404,2.13754,0.97782,2.87026,-8.52713,3.72861,0.354191,-0.694847,-0.34965,-4.35294,3.25815,-4.8416,-4.0201,-3.72793,3.81731,7.16163,0.122649,-1.42566,3.74037,5.65488,-1.29434,-0.353045,-1.44928,0.574788,-3.80463,-2.76886,1.50561,-3.65062,3.96137,-3.45495,-2.55408,3.63705,5.64811,-5.07571,-4.0343,-1.45461,3.25765,-4.99013,-3.45137,-1.01104,3.64805,8.66347,3.76249,-3.83964,0.35545,3.48494,0.285551,-3.70793,-1.72414,0.304692,-3.49608,-5.73566,-1.12285,-0.0669344,6.15797,1.0505,-3.18936,3.03001,1.92791,-6.0285,-0.83293,0.529256,2.05676,-3.45091,-1.21903,-0.869652,-0.9911,6.27935,-0.18018,-1.00992,3.00295,1.97522,-3.17263,-3.69494,0.0,1.56522,-5.43437,-1.0338,-0.919448,4.9697,5.05304,-2.60492,-0.988142,0.91047,1.53923,-3.33333,-0.400601,-1.15869,0.621118,-4.36992,-2.08445,0.983069,-2.01745,6.66667,0.123001,-1.10538,2.57758,-1.68047,0.294913,-0.931601,-10.4975,3.87858,-3.13841,-2.05613,-0.370054,0.316183,5.70613,-0.225033,1.69481,2.21088,1.74769,-1.8709,0.908605,0.206113,-0.593472,-2.01259,-0.958971,0.0,0.836897,5.30952,1.1622,-1.59442,9.88223,8.32943,0.999131,1.21055,-0.428816,-3.09773,-3.20713,-1.92661,-1.11993,0.0471921,6.42419,0.58265,-0.822737,2.15358,3.514,-2.0291,0.745016,-2.07243,1.27858,-3.56194,0.387254,0.702216,-0.579742,6.13746,2.43615,-3.13097,1.67331,1.40845,-0.269854,-2.9845,-1.88301,2.27179,-4.24679,-0.83682,1.97562,0.537857,7.38754,-0.992295,-1.82353,5.44794,2.96552,-0.910807,0.112511,-1.08524,-0.0925819,-4.32184,-0.277342,1.98987,-0.0355619,7.28485,2.0057,-1.93136,3.91048,1.95851,-6.14075,-2.578,1.68287,3.00424,-2.52161,-1.42098,-1.225,-2.37762,6.67274],\"type\":\"box\",\"xaxis\":\"x2\",\"yaxis\":\"y2\"},{\"name\":\"Tertiary\",\"x\":[0,0,1,1,0,0,1,1,0,0,1,1,0,1,1,1,0,0,1,1,0,0,1,1,0,0,1,1,0,0,1,1,0,0,1,1,0,0,1,1,0,0,1,1,0,0,1,1,0,0,1,1,0,0,1,1,0,0,1,1,0,0,1,1,0,0,1,1,0,0,1,1,0,0,1,1,0,0,1,1,0,0,1,1,0,0,1,1,0,0,1,1,0,0,1,1,0,0,1,1,0,0,1,1,0,0,1,1,0,0,1,1,0,0,1,1,0,0,1,1,0,0,1,1,0,0,1,1,0,0,1,1,0,0,1,1,0,0,1,1,0,0,1,1,0,0,0,1,1,0,0,1,1,0,0,0,1,0,0,0,1,1,0,0,1,1,0,0,0,1,0,0,0,1,1,0,0,1,1,0,0,0,1,0,0,0,1,1,0,0,1,1,0,0,0,1,0,0,0,1,1,0,0,1,1,0,0,0,1,0,0,0,1,1,0,0,1,1,0,0,0,1,0,0,0,1,1,0,0,1,1,0,0,0,1,0,0,0,1,1,0,0,1,1,0,0,0,1,0,0,0,1,1,0,0,1,1,0,0,0,1,0,0,0,1,1,0,0,1,1,0,0,0,1,0,0,0,1,1,0,0,1,1,0,0,0,1,0,0,0,1,1,0,0,1,1,0,0,0,1],\"y\":[4.63801,-0.0651749,-4.7557,-0.70247,6.34668,-1.91728,-3.13752,-0.0228676,0.957592,0.706794,1.87709,-0.395257,7.62174,-5.50398,-4.5614,4.23049,1.79187,-0.13541,-1.25174,-1.05116,1.41044,-1.54278,-6.05634,-0.372578,0.717765,1.71487,-1.99294,4.27766,6.39706,0.85668,0.280177,1.23199,-1.37836,-3.30675,3.64206,-0.787219,5.0644,1.50125,0.658256,-0.888769,1.84783,2.69549,-5.64885,0.188425,-0.322061,-2.49187,3.11381,0.266951,3.79015,0.599733,-1.48197,0.405314,4.06704,4.34783,-1.10169,-2.75582,0.263043,0.704535,-0.907519,0.542299,1.39114,-0.191022,-2.73973,2.16181,-1.66774,0.782524,3.22266,-0.754243,0.443599,-1.65027,1.55945,0.829346,-0.255892,0.482251,-1.3064,0.338753,2.71145,0.0788747,-1.98815,2.03999,0.458235,-4.08673,2.38095,0.582396,-8.13204,-0.498973,-2.70668,-1.20156,0.394657,-0.363967,-1.70992,2.67081,-0.818182,-1.81538,1.49579,1.62876,0.658617,0.0544959,-0.981997,6.10225,-2.28334,1.96599,-0.105932,3.7467,-0.86558,3.75321,0.147638,-0.195886,1.75466,0.39604,-2.57967,-1.14996,1.2197,-0.771605,-1.39652,-1.22611,-0.822581,-0.720839,-0.131234,1.6372,2.84262,0.695716,1.21509,2.86687,2.91347,3.53501,-1.65016,-0.704698,-0.641242,-0.701214,0.924025,1.04925,2.16216,1.12502,2.36505,-0.744021,-0.677724,0.217155,-3.82828,0.618357,0.631458,-1.58548,1.19853,-0.344102,1.46898,-0.237274,2.74809,4.00509,1.68118,-1.13863,3.58155,0.768624,-4.10586,-2.82923,1.12594,-0.0206825,7.93978,0.597015,-5.03704,-2.22399,-0.324675,-0.404531,-2.85016,-2.60723,1.91805,-4.97051,-3.39893,-1.92837,-0.661001,5.41825,-2.58922,-0.574713,3.17305,1.79499,-0.943179,-4.15512,0.581677,0.899149,-6.01432,-1.73558,-1.52731,-0.713342,5.58214,-0.0533618,1.92256,0.265252,-1.22308,-1.20192,0.216626,0.981194,0.0,-4.28413,-3.06979,3.19785,2.30388,4.85298,1.56114,-4.48936,0.926135,2.19485,-1.95908,-3.57542,0.372353,0.919811,-3.86216,-0.121655,-1.18673,-2.49383,5.53299,-0.126143,5.13709,2.01711,0.418535,1.42857,3.19432,1.1194,-0.629111,-1.98333,-0.821837,1.65094,0.610643,2.48483,-0.35382,1.61523,0.0260112,1.50356,0.382653,1.61087,2.34958,0.110389,-1.93596,-0.297767,2.59853,-0.58309,5.07913,0.989802,2.46437,-0.467836,6.67656,-0.137212,2.68624,0.0,-1.25443,-1.56636,-0.70028,1.02769,-2.09691,2.89017,-0.437956,-0.0973236,-2.60827,5.11278,-2.79092,1.89966,-0.71977,2.14739,-0.761905,-3.41018,0.896414,-0.049776,3.23383,-0.434293,3.48275,-0.628239,2.88523,0.0459841,2.97243,1.0501,-0.898204,-1.35685,-1.00979,0.0618716,-2.97628,2.40599,-0.417851,-0.0835422,3.37154,3.19635,-0.204531,-1.42338,-0.431862,-0.356333,-1.24294,-3.48818,-2.02977,-1.54594,4.01197,0.439686,1.92234,0.941974,2.57463,-0.108932,1.36438,-0.575436,-0.364299,-2.22303,-2.1166,-0.1701,-0.550285,2.27446],\"type\":\"box\",\"xaxis\":\"x3\",\"yaxis\":\"y3\"}],                        {\"template\":{\"data\":{\"histogram2dcontour\":[{\"type\":\"histogram2dcontour\",\"colorbar\":{\"outlinewidth\":0,\"ticks\":\"\"},\"colorscale\":[[0.0,\"#0d0887\"],[0.1111111111111111,\"#46039f\"],[0.2222222222222222,\"#7201a8\"],[0.3333333333333333,\"#9c179e\"],[0.4444444444444444,\"#bd3786\"],[0.5555555555555556,\"#d8576b\"],[0.6666666666666666,\"#ed7953\"],[0.7777777777777778,\"#fb9f3a\"],[0.8888888888888888,\"#fdca26\"],[1.0,\"#f0f921\"]]}],\"choropleth\":[{\"type\":\"choropleth\",\"colorbar\":{\"outlinewidth\":0,\"ticks\":\"\"}}],\"histogram2d\":[{\"type\":\"histogram2d\",\"colorbar\":{\"outlinewidth\":0,\"ticks\":\"\"},\"colorscale\":[[0.0,\"#0d0887\"],[0.1111111111111111,\"#46039f\"],[0.2222222222222222,\"#7201a8\"],[0.3333333333333333,\"#9c179e\"],[0.4444444444444444,\"#bd3786\"],[0.5555555555555556,\"#d8576b\"],[0.6666666666666666,\"#ed7953\"],[0.7777777777777778,\"#fb9f3a\"],[0.8888888888888888,\"#fdca26\"],[1.0,\"#f0f921\"]]}],\"heatmap\":[{\"type\":\"heatmap\",\"colorbar\":{\"outlinewidth\":0,\"ticks\":\"\"},\"colorscale\":[[0.0,\"#0d0887\"],[0.1111111111111111,\"#46039f\"],[0.2222222222222222,\"#7201a8\"],[0.3333333333333333,\"#9c179e\"],[0.4444444444444444,\"#bd3786\"],[0.5555555555555556,\"#d8576b\"],[0.6666666666666666,\"#ed7953\"],[0.7777777777777778,\"#fb9f3a\"],[0.8888888888888888,\"#fdca26\"],[1.0,\"#f0f921\"]]}],\"heatmapgl\":[{\"type\":\"heatmapgl\",\"colorbar\":{\"outlinewidth\":0,\"ticks\":\"\"},\"colorscale\":[[0.0,\"#0d0887\"],[0.1111111111111111,\"#46039f\"],[0.2222222222222222,\"#7201a8\"],[0.3333333333333333,\"#9c179e\"],[0.4444444444444444,\"#bd3786\"],[0.5555555555555556,\"#d8576b\"],[0.6666666666666666,\"#ed7953\"],[0.7777777777777778,\"#fb9f3a\"],[0.8888888888888888,\"#fdca26\"],[1.0,\"#f0f921\"]]}],\"contourcarpet\":[{\"type\":\"contourcarpet\",\"colorbar\":{\"outlinewidth\":0,\"ticks\":\"\"}}],\"contour\":[{\"type\":\"contour\",\"colorbar\":{\"outlinewidth\":0,\"ticks\":\"\"},\"colorscale\":[[0.0,\"#0d0887\"],[0.1111111111111111,\"#46039f\"],[0.2222222222222222,\"#7201a8\"],[0.3333333333333333,\"#9c179e\"],[0.4444444444444444,\"#bd3786\"],[0.5555555555555556,\"#d8576b\"],[0.6666666666666666,\"#ed7953\"],[0.7777777777777778,\"#fb9f3a\"],[0.8888888888888888,\"#fdca26\"],[1.0,\"#f0f921\"]]}],\"surface\":[{\"type\":\"surface\",\"colorbar\":{\"outlinewidth\":0,\"ticks\":\"\"},\"colorscale\":[[0.0,\"#0d0887\"],[0.1111111111111111,\"#46039f\"],[0.2222222222222222,\"#7201a8\"],[0.3333333333333333,\"#9c179e\"],[0.4444444444444444,\"#bd3786\"],[0.5555555555555556,\"#d8576b\"],[0.6666666666666666,\"#ed7953\"],[0.7777777777777778,\"#fb9f3a\"],[0.8888888888888888,\"#fdca26\"],[1.0,\"#f0f921\"]]}],\"mesh3d\":[{\"type\":\"mesh3d\",\"colorbar\":{\"outlinewidth\":0,\"ticks\":\"\"}}],\"scatter\":[{\"fillpattern\":{\"fillmode\":\"overlay\",\"size\":10,\"solidity\":0.2},\"type\":\"scatter\"}],\"parcoords\":[{\"type\":\"parcoords\",\"line\":{\"colorbar\":{\"outlinewidth\":0,\"ticks\":\"\"}}}],\"scatterpolargl\":[{\"type\":\"scatterpolargl\",\"marker\":{\"colorbar\":{\"outlinewidth\":0,\"ticks\":\"\"}}}],\"bar\":[{\"error_x\":{\"color\":\"#2a3f5f\"},\"error_y\":{\"color\":\"#2a3f5f\"},\"marker\":{\"line\":{\"color\":\"#E5ECF6\",\"width\":0.5},\"pattern\":{\"fillmode\":\"overlay\",\"size\":10,\"solidity\":0.2}},\"type\":\"bar\"}],\"scattergeo\":[{\"type\":\"scattergeo\",\"marker\":{\"colorbar\":{\"outlinewidth\":0,\"ticks\":\"\"}}}],\"scatterpolar\":[{\"type\":\"scatterpolar\",\"marker\":{\"colorbar\":{\"outlinewidth\":0,\"ticks\":\"\"}}}],\"histogram\":[{\"marker\":{\"pattern\":{\"fillmode\":\"overlay\",\"size\":10,\"solidity\":0.2}},\"type\":\"histogram\"}],\"scattergl\":[{\"type\":\"scattergl\",\"marker\":{\"colorbar\":{\"outlinewidth\":0,\"ticks\":\"\"}}}],\"scatter3d\":[{\"type\":\"scatter3d\",\"line\":{\"colorbar\":{\"outlinewidth\":0,\"ticks\":\"\"}},\"marker\":{\"colorbar\":{\"outlinewidth\":0,\"ticks\":\"\"}}}],\"scattermapbox\":[{\"type\":\"scattermapbox\",\"marker\":{\"colorbar\":{\"outlinewidth\":0,\"ticks\":\"\"}}}],\"scatterternary\":[{\"type\":\"scatterternary\",\"marker\":{\"colorbar\":{\"outlinewidth\":0,\"ticks\":\"\"}}}],\"scattercarpet\":[{\"type\":\"scattercarpet\",\"marker\":{\"colorbar\":{\"outlinewidth\":0,\"ticks\":\"\"}}}],\"carpet\":[{\"aaxis\":{\"endlinecolor\":\"#2a3f5f\",\"gridcolor\":\"white\",\"linecolor\":\"white\",\"minorgridcolor\":\"white\",\"startlinecolor\":\"#2a3f5f\"},\"baxis\":{\"endlinecolor\":\"#2a3f5f\",\"gridcolor\":\"white\",\"linecolor\":\"white\",\"minorgridcolor\":\"white\",\"startlinecolor\":\"#2a3f5f\"},\"type\":\"carpet\"}],\"table\":[{\"cells\":{\"fill\":{\"color\":\"#EBF0F8\"},\"line\":{\"color\":\"white\"}},\"header\":{\"fill\":{\"color\":\"#C8D4E3\"},\"line\":{\"color\":\"white\"}},\"type\":\"table\"}],\"barpolar\":[{\"marker\":{\"line\":{\"color\":\"#E5ECF6\",\"width\":0.5},\"pattern\":{\"fillmode\":\"overlay\",\"size\":10,\"solidity\":0.2}},\"type\":\"barpolar\"}],\"pie\":[{\"automargin\":true,\"type\":\"pie\"}]},\"layout\":{\"autotypenumbers\":\"strict\",\"colorway\":[\"#636efa\",\"#EF553B\",\"#00cc96\",\"#ab63fa\",\"#FFA15A\",\"#19d3f3\",\"#FF6692\",\"#B6E880\",\"#FF97FF\",\"#FECB52\"],\"font\":{\"color\":\"#2a3f5f\"},\"hovermode\":\"closest\",\"hoverlabel\":{\"align\":\"left\"},\"paper_bgcolor\":\"white\",\"plot_bgcolor\":\"#E5ECF6\",\"polar\":{\"bgcolor\":\"#E5ECF6\",\"angularaxis\":{\"gridcolor\":\"white\",\"linecolor\":\"white\",\"ticks\":\"\"},\"radialaxis\":{\"gridcolor\":\"white\",\"linecolor\":\"white\",\"ticks\":\"\"}},\"ternary\":{\"bgcolor\":\"#E5ECF6\",\"aaxis\":{\"gridcolor\":\"white\",\"linecolor\":\"white\",\"ticks\":\"\"},\"baxis\":{\"gridcolor\":\"white\",\"linecolor\":\"white\",\"ticks\":\"\"},\"caxis\":{\"gridcolor\":\"white\",\"linecolor\":\"white\",\"ticks\":\"\"}},\"coloraxis\":{\"colorbar\":{\"outlinewidth\":0,\"ticks\":\"\"}},\"colorscale\":{\"sequential\":[[0.0,\"#0d0887\"],[0.1111111111111111,\"#46039f\"],[0.2222222222222222,\"#7201a8\"],[0.3333333333333333,\"#9c179e\"],[0.4444444444444444,\"#bd3786\"],[0.5555555555555556,\"#d8576b\"],[0.6666666666666666,\"#ed7953\"],[0.7777777777777778,\"#fb9f3a\"],[0.8888888888888888,\"#fdca26\"],[1.0,\"#f0f921\"]],\"sequentialminus\":[[0.0,\"#0d0887\"],[0.1111111111111111,\"#46039f\"],[0.2222222222222222,\"#7201a8\"],[0.3333333333333333,\"#9c179e\"],[0.4444444444444444,\"#bd3786\"],[0.5555555555555556,\"#d8576b\"],[0.6666666666666666,\"#ed7953\"],[0.7777777777777778,\"#fb9f3a\"],[0.8888888888888888,\"#fdca26\"],[1.0,\"#f0f921\"]],\"diverging\":[[0,\"#8e0152\"],[0.1,\"#c51b7d\"],[0.2,\"#de77ae\"],[0.3,\"#f1b6da\"],[0.4,\"#fde0ef\"],[0.5,\"#f7f7f7\"],[0.6,\"#e6f5d0\"],[0.7,\"#b8e186\"],[0.8,\"#7fbc41\"],[0.9,\"#4d9221\"],[1,\"#276419\"]]},\"xaxis\":{\"gridcolor\":\"white\",\"linecolor\":\"white\",\"ticks\":\"\",\"title\":{\"standoff\":15},\"zerolinecolor\":\"white\",\"automargin\":true,\"zerolinewidth\":2},\"yaxis\":{\"gridcolor\":\"white\",\"linecolor\":\"white\",\"ticks\":\"\",\"title\":{\"standoff\":15},\"zerolinecolor\":\"white\",\"automargin\":true,\"zerolinewidth\":2},\"scene\":{\"xaxis\":{\"backgroundcolor\":\"#E5ECF6\",\"gridcolor\":\"white\",\"linecolor\":\"white\",\"showbackground\":true,\"ticks\":\"\",\"zerolinecolor\":\"white\",\"gridwidth\":2},\"yaxis\":{\"backgroundcolor\":\"#E5ECF6\",\"gridcolor\":\"white\",\"linecolor\":\"white\",\"showbackground\":true,\"ticks\":\"\",\"zerolinecolor\":\"white\",\"gridwidth\":2},\"zaxis\":{\"backgroundcolor\":\"#E5ECF6\",\"gridcolor\":\"white\",\"linecolor\":\"white\",\"showbackground\":true,\"ticks\":\"\",\"zerolinecolor\":\"white\",\"gridwidth\":2}},\"shapedefaults\":{\"line\":{\"color\":\"#2a3f5f\"}},\"annotationdefaults\":{\"arrowcolor\":\"#2a3f5f\",\"arrowhead\":0,\"arrowwidth\":1},\"geo\":{\"bgcolor\":\"white\",\"landcolor\":\"#E5ECF6\",\"subunitcolor\":\"white\",\"showland\":true,\"showlakes\":true,\"lakecolor\":\"white\"},\"title\":{\"x\":0.05},\"mapbox\":{\"style\":\"light\"}}},\"xaxis\":{\"anchor\":\"y\",\"domain\":[0.0,0.2888888888888889],\"title\":{\"text\":\"Cluster\"}},\"yaxis\":{\"anchor\":\"x\",\"domain\":[0.0,1.0],\"title\":{\"text\":\"Percent Change in Stock Price\"}},\"xaxis2\":{\"anchor\":\"y2\",\"domain\":[0.35555555555555557,0.6444444444444445],\"title\":{\"text\":\"Cluster\"}},\"yaxis2\":{\"anchor\":\"x2\",\"domain\":[0.0,1.0]},\"xaxis3\":{\"anchor\":\"y3\",\"domain\":[0.7111111111111111,1.0],\"title\":{\"text\":\"Cluster\"}},\"yaxis3\":{\"anchor\":\"x3\",\"domain\":[0.0,1.0]},\"annotations\":[{\"font\":{\"size\":16},\"showarrow\":false,\"text\":\"Primary Sector\",\"x\":0.14444444444444446,\"xanchor\":\"center\",\"xref\":\"paper\",\"y\":1.0,\"yanchor\":\"bottom\",\"yref\":\"paper\"},{\"font\":{\"size\":16},\"showarrow\":false,\"text\":\"Secondary Sector\",\"x\":0.5,\"xanchor\":\"center\",\"xref\":\"paper\",\"y\":1.0,\"yanchor\":\"bottom\",\"yref\":\"paper\"},{\"font\":{\"size\":16},\"showarrow\":false,\"text\":\"Tertiary Sector\",\"x\":0.8555555555555556,\"xanchor\":\"center\",\"xref\":\"paper\",\"y\":1.0,\"yanchor\":\"bottom\",\"yref\":\"paper\"}],\"title\":{\"text\":\"Sector Stock Price by Cluster\"}},                        {\"responsive\": true}                    ).then(function(){\n",
       "                            \n",
       "var gd = document.getElementById('4f356aea-0e46-444f-8629-bf4e312bf460');\n",
       "var x = new MutationObserver(function (mutations, observer) {{\n",
       "        var display = window.getComputedStyle(gd).display;\n",
       "        if (!display || display === 'none') {{\n",
       "            console.log([gd, 'removed!']);\n",
       "            Plotly.purge(gd);\n",
       "            observer.disconnect();\n",
       "        }}\n",
       "}});\n",
       "\n",
       "// Listen for the removal of the full notebook cells\n",
       "var notebookContainer = gd.closest('#notebook-container');\n",
       "if (notebookContainer) {{\n",
       "    x.observe(notebookContainer, {childList: true});\n",
       "}}\n",
       "\n",
       "// Listen for the clearing of the current output cell\n",
       "var outputEl = gd.closest('.output');\n",
       "if (outputEl) {{\n",
       "    x.observe(outputEl, {childList: true});\n",
       "}}\n",
       "\n",
       "                        })                };                });            </script>        </div>"
      ]
     },
     "metadata": {},
     "output_type": "display_data"
    }
   ],
   "source": [
    "import plotly.subplots as sp\n",
    "import plotly.graph_objects as go\n",
    "\n",
    "fig = sp.make_subplots(rows=1, cols=3, subplot_titles=(\"Primary Sector\", \"Secondary Sector\", \"Tertiary Sector\"))\n",
    "fig.add_trace(go.Box(x=pri_sector_df_copy['Cluster'], y=pri_sector_df_copy['percent_change_next_weeks_price'], name='Primary'), row=1, col =1)\n",
    "fig.add_trace(go.Box(x=sec_sector_df_copy['Cluster'], y=sec_sector_df_copy['percent_change_next_weeks_price'], name='Secondary'), row=1, col =2)\n",
    "fig.add_trace(go.Box(x=ter_sector_df_copy['Cluster'], y=ter_sector_df_copy['percent_change_next_weeks_price'], name='Tertiary'), row=1, col =3)\n",
    "\n",
    "fig.update_xaxes(title_text='Cluster', row=1, col=1)\n",
    "fig.update_xaxes(title_text='Cluster', row=1, col=2)\n",
    "fig.update_xaxes(title_text='Cluster', row=1, col=3)\n",
    "fig.update_yaxes(title_text='Percent Change in Stock Price', row=1, col=1)\n",
    "fig.update_layout(title_text='Sector Stock Price by Cluster')\n",
    "fig.show()"
   ]
  },
  {
   "cell_type": "markdown",
   "id": "a786c9e7",
   "metadata": {},
   "source": [
    "# ANOVA and Post-hoc tests"
   ]
  },
  {
   "cell_type": "code",
   "execution_count": 505,
   "id": "7d5a0f94",
   "metadata": {},
   "outputs": [
    {
     "name": "stdout",
     "output_type": "stream",
     "text": [
      "Primary Sector: Null hypothesis accepted. No significant differences.\n",
      "0.21135205925053208\n",
      "Secondary Sector: Reject the null hypothesis. There are significant differences.\n",
      "27.516224104792183\n",
      "Tertiary Sector: Null hypothesis accepted. No significant differences.\n",
      "0.005346724905993331\n"
     ]
    }
   ],
   "source": [
    "# ANOVA Test among clusters in each sector\n",
    "from scipy.stats import f_oneway\n",
    "\n",
    "cluster_0_pri = pri_sector_df_copy[pri_sector_df_copy['Cluster'] == 0]['percent_change_next_weeks_price']\n",
    "cluster_1_pri = pri_sector_df_copy[pri_sector_df_copy['Cluster'] == 1]['percent_change_next_weeks_price']\n",
    "\n",
    "cluster_0_sec = sec_sector_df_copy[sec_sector_df_copy['Cluster'] == 0]['percent_change_next_weeks_price']\n",
    "cluster_1_sec = sec_sector_df_copy[sec_sector_df_copy['Cluster'] == 1]['percent_change_next_weeks_price']\n",
    "\n",
    "cluster_0_ter = ter_sector_df_copy[ter_sector_df_copy['Cluster'] == 0]['percent_change_next_weeks_price']\n",
    "cluster_1_ter = ter_sector_df_copy[ter_sector_df_copy['Cluster'] == 1]['percent_change_next_weeks_price']\n",
    "\n",
    "f_statistic, p_value = f_oneway(cluster_0_pri,cluster_1_pri)\n",
    "if p_value < 0.05:\n",
    "    print(\"Primary Sector: Reject the null hypothesis. There are significant differences.\")\n",
    "else:\n",
    "    print(\"Primary Sector: Null hypothesis accepted. No significant differences.\")\n",
    "print(f_statistic)\n",
    "\n",
    "f_statistic, p_value = f_oneway(cluster_0_sec,cluster_1_sec)\n",
    "if p_value < 0.05:\n",
    "    print(\"Secondary Sector: Reject the null hypothesis. There are significant differences.\")\n",
    "else:\n",
    "    print(\"Secondary Sector: Null hypothesis accepted. No significant differences.\")\n",
    "print(f_statistic) \n",
    "\n",
    "f_statistic, p_value = f_oneway(cluster_0_ter,cluster_1_ter)\n",
    "if p_value < 0.05:\n",
    "    print(\"Tertiary Sector: Reject the null hypothesis. There are significant differences.\")\n",
    "else:\n",
    "    print(\"Tertiary Sector: Null hypothesis accepted. No significant differences.\")\n",
    "print(f_statistic)\n"
   ]
  },
  {
   "cell_type": "code",
   "execution_count": 499,
   "id": "9844b2b1",
   "metadata": {},
   "outputs": [
    {
     "name": "stdout",
     "output_type": "stream",
     "text": [
      "Multiple Comparison of Means - Tukey HSD, FWER=0.05\n",
      "==================================================\n",
      "group1 group2 meandiff p-adj  lower  upper  reject\n",
      "--------------------------------------------------\n",
      "     0      1  -1.6463   0.0 -2.2636 -1.029   True\n",
      "--------------------------------------------------\n"
     ]
    }
   ],
   "source": [
    "from statsmodels.stats.multicomp import MultiComparison\n",
    "\n",
    "mc = MultiComparison(sec_sector_df_copy['percent_change_next_weeks_price'], sec_sector_df_copy['Cluster'])\n",
    "result = mc.tukeyhsd()\n",
    "print(result)"
   ]
  },
  {
   "cell_type": "markdown",
   "id": "d295fa74",
   "metadata": {},
   "source": [
    "# Findings\n",
    "\n",
    "Whats the take away from this?\n",
    "\n",
    "In the primary sector, cluster 0 have a higher average percent change than cluster 1 which has one outlier below the bar, suggesting that cluster 0 performs better. Again, this indicates that primary sector is an excellent choice for investors seeking higher returns which suggests the potential for greater short-term gains.\n",
    "\n",
    "In the secondary sector, cluster 0 has higher average percent change and has one outlier above the bar, indicating a potentially significant positive performance. In comparison, cluster 1 has more outliers with lower values, indicating higher volatility and potentially worse performance overall.\n",
    "\n",
    "In the tertiary sector, cluster 1 has slightly higher average percent change and has outliers both above and below the bar. Cluster 0, on the other hand, has more extreme outliers in both directions, indicating it as a more volatile cluster. This, however, aligns with the idea that tertiary sector is a good choice for investors seeking a more stable or safe investment option.\n",
    "\n",
    "\n",
    "ANOVA:\n",
    "    a) Primary Sector: Null hypothesis accepted. No significant differences among clusters.\n",
    "    b) Secondary Sector: Reject the null hypothesis. There are significant differences among clusters, so there might be distinct price change patterns.\n",
    "    c) Tertiary Sector: Null hypothesis accepted. No significant differences among clusters.\n",
    "    \n",
    "   There are significant differences in stock price changes among clusters within the secondary sector, suggesting distinct patterns or variations in stock price changes within said sector compared to the primary and tertiary sectors.\n",
    "   \n",
    "Post-Hoc (Tukey's HSD) Test:\n",
    "    The test revealed that cluster 0 and cluster 1 in the secondary sector have significantly different means in terms of price changes. This confirms that these 2 clusters show distinct price change patterns.\n",
    "    \n",
    "Interpretation: The significant differences identified in the secondary sector suggests that there are subgroups of stocks within this sector that perform differently in terms of price changes. The signficant differences in the means of secondary sector's cluster 0 and cluster 1 suggests that there are subsets of stocks that have varying price change dynamics. This implies that some stocks or companies in the secondary sector may experience more significant price fluctuation than others, resulting in different average returns.\n",
    "\n",
    "Referring back to previous findings, the secondary sector had the lowest average returns of 25.8% among the three sectors, which aligns with its observed highest volatility indicated by its larger standard deviation and range of returns. \n",
    "\n",
    "Moreover, the secondary sector's observed highest volatility aligns with the presence of more outliers with lower outliers below its cluster 1, suggesting potential worse performance, as indicated by barplot. \n",
    "\n",
    "Furthermore, the secondary sector's greater volatility suggests that investments in this sector is riskier, as returns can be more unpredictable. This is a bad choice to invest, as it may lead to lower returns. Thus, investors are likely to avoid making investment in this sector.\n",
    "\n",
    "Given the significant differences within the secondary sector, investors should cautiously assess the specific clusters and their risk-return profiles within this sector. Some stocks or companies in cluster 0 may offer higher returns with a potential for positive performance, but other in cluster 1, while capable of stable returns, come with higher volatility.\n",
    "\n",
    "Therefore, investors with different risk tolerances might choose to invest selectively within the secondary sector based on their objectives. Some may seek stocks or companies with slight potential for higher returns and positive performance, while others may prefer to invest in cluster 1, which, despite its high volatility, offers the possibility of more stable returns."
   ]
  },
  {
   "cell_type": "code",
   "execution_count": null,
   "id": "662f01e5",
   "metadata": {},
   "outputs": [],
   "source": []
  }
 ],
 "metadata": {
  "kernelspec": {
   "display_name": "Python 3 (ipykernel)",
   "language": "python",
   "name": "python3"
  },
  "language_info": {
   "codemirror_mode": {
    "name": "ipython",
    "version": 3
   },
   "file_extension": ".py",
   "mimetype": "text/x-python",
   "name": "python",
   "nbconvert_exporter": "python",
   "pygments_lexer": "ipython3",
   "version": "3.11.4"
  }
 },
 "nbformat": 4,
 "nbformat_minor": 5
}
